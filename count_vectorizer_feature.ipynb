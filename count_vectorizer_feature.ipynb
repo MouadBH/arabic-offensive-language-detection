{
 "cells": [
  {
   "cell_type": "code",
   "execution_count": 1,
   "metadata": {},
   "outputs": [],
   "source": [
    "import string, re, json, pickle, warnings\n",
    "import pandas as pd\n",
    "import numpy as np\n",
    "import matplotlib.pyplot as plt\n",
    "from nltk.corpus import stopwords\n",
    "from sklearn.model_selection import train_test_split, GridSearchCV\n",
    "from sklearn.feature_extraction.text import TfidfTransformer, CountVectorizer\n",
    "from sklearn.pipeline import make_pipeline\n",
    "from sklearn.linear_model import LogisticRegression\n",
    "from sklearn.ensemble import RandomForestClassifier\n",
    "from sklearn.naive_bayes import MultinomialNB\n",
    "from sklearn.svm import SVC\n",
    "from sklearn.metrics import confusion_matrix,accuracy_score, classification_report\n",
    "# importing the wordCloud\n",
    "from wordcloud import WordCloud, STOPWORDS, ImageColorGenerator\n",
    "from bidi.algorithm import get_display\n",
    "import arabic_reshaper\n",
    "from data_preparation import take_a_shower, clean_content_aravec\n",
    "\n",
    "%matplotlib inline\n",
    "warnings.filterwarnings('ignore')"
   ]
  },
  {
   "cell_type": "markdown",
   "metadata": {},
   "source": [
    "## Import data"
   ]
  },
  {
   "cell_type": "code",
   "execution_count": 2,
   "metadata": {},
   "outputs": [
    {
     "data": {
      "text/html": [
       "<div>\n",
       "<style scoped>\n",
       "    .dataframe tbody tr th:only-of-type {\n",
       "        vertical-align: middle;\n",
       "    }\n",
       "\n",
       "    .dataframe tbody tr th {\n",
       "        vertical-align: top;\n",
       "    }\n",
       "\n",
       "    .dataframe thead th {\n",
       "        text-align: right;\n",
       "    }\n",
       "</style>\n",
       "<table border=\"1\" class=\"dataframe\">\n",
       "  <thead>\n",
       "    <tr style=\"text-align: right;\">\n",
       "      <th></th>\n",
       "      <th>Comment</th>\n",
       "      <th>is_off</th>\n",
       "    </tr>\n",
       "  </thead>\n",
       "  <tbody>\n",
       "    <tr>\n",
       "      <th>0</th>\n",
       "      <td>شوف حد ين*** أنت و إيران.</td>\n",
       "      <td>1</td>\n",
       "    </tr>\n",
       "    <tr>\n",
       "      <th>1</th>\n",
       "      <td>شوف تيفي قوداتها مع الجن غي بلاتي يجي من مكة</td>\n",
       "      <td>0</td>\n",
       "    </tr>\n",
       "    <tr>\n",
       "      <th>2</th>\n",
       "      <td>عجب يتفاوظون على شعوب عربية وعليهم وهىلا تعلم</td>\n",
       "      <td>0</td>\n",
       "    </tr>\n",
       "    <tr>\n",
       "      <th>3</th>\n",
       "      <td>ههههههه هاد شوف تيفي اللي حطت عليه مشا فيها</td>\n",
       "      <td>0</td>\n",
       "    </tr>\n",
       "    <tr>\n",
       "      <th>4</th>\n",
       "      <td>الرزق يأتي من حيث لا تدري 🙌🏻❤️</td>\n",
       "      <td>0</td>\n",
       "    </tr>\n",
       "  </tbody>\n",
       "</table>\n",
       "</div>"
      ],
      "text/plain": [
       "                                         Comment  is_off\n",
       "0                      شوف حد ين*** أنت و إيران.       1\n",
       "1   شوف تيفي قوداتها مع الجن غي بلاتي يجي من مكة       0\n",
       "2  عجب يتفاوظون على شعوب عربية وعليهم وهىلا تعلم       0\n",
       "3    ههههههه هاد شوف تيفي اللي حطت عليه مشا فيها       0\n",
       "4                الرزق يأتي من حيث لا تدري 🙌🏻❤️        0"
      ]
     },
     "execution_count": 2,
     "metadata": {},
     "output_type": "execute_result"
    }
   ],
   "source": [
    "data = pd.read_csv('./data/offensive_dataset.csv', encoding=\"utf-16\")\n",
    "data.head()"
   ]
  },
  {
   "cell_type": "code",
   "execution_count": 3,
   "metadata": {},
   "outputs": [
    {
     "data": {
      "text/plain": [
       "<Figure size 576x432 with 0 Axes>"
      ]
     },
     "metadata": {},
     "output_type": "display_data"
    },
    {
     "data": {
      "image/png": "[encoded data removed]",
      "text/plain": [
       "<Figure size 432x288 with 1 Axes>"
      ]
     },
     "metadata": {
      "needs_background": "light"
     },
     "output_type": "display_data"
    }
   ],
   "source": [
    "fig = plt.figure(figsize=(8,6))\n",
    "data.groupby('is_off').count().plot.bar(ylim=0)\n",
    "plt.show()"
   ]
  },
  {
   "cell_type": "markdown",
   "metadata": {},
   "source": [
    "## Clean data"
   ]
  },
  {
   "cell_type": "code",
   "execution_count": 4,
   "metadata": {},
   "outputs": [],
   "source": [
    "data.Comment = data.Comment.apply(take_a_shower)"
   ]
  },
  {
   "cell_type": "code",
   "execution_count": 5,
   "metadata": {},
   "outputs": [
    {
     "data": {
      "text/plain": [
       "(14000, 2)"
      ]
     },
     "execution_count": 5,
     "metadata": {},
     "output_type": "execute_result"
    }
   ],
   "source": [
    "data.shape"
   ]
  },
  {
   "cell_type": "markdown",
   "metadata": {},
   "source": [
    "## Word Cloud"
   ]
  },
  {
   "cell_type": "code",
   "execution_count": 6,
   "metadata": {},
   "outputs": [
    {
     "data": {
      "text/plain": [
       "'شوف حد ايران شوف تيفي قوداتها الجن غي بلاتي يجي مكه عجب يتفاوظون شعوب عربيه وعليهم وهيلا تعلم هه هاد شوف تيفي اللي حطت مشا الرزق ياتي تدري 🙌🏻❤️ دخلو سوق كركم شوفو شكون مكتب عليكم تعيشو عبيد فقراء معا USERIDX لسسه امبارح بحذركو ولاد الجزمه فيفي ولاد شرموطه هه😂 Hadou jouj zeal hachak machi drari الله يعفو مسكينه دغيا طارو سصحاب الحسنات باش يستغلوها حرام عليهو الله يخد الحق شوف تفي عواد متسترها شهراتها لناس تفو شحاال حامضه هاد سعييده معرفت علاه كيجيبوها فين ميكون هاد لموسم ديال طنطان يجيبوها لينا يالطيف حد مكيحملها الطلب السعودي جاء ردا الاتهامات الاسراءيليه للسعوديه بقتل الاطفال باليمن اسوه بقتل اسراءيل للاطفال الفلسطينيين جاء تقرير المتحده بلاش فقره الاهداءات وادا لابد خليها نهايه الفيديو احسن وبالتوفيق ياعمر يااربي يااربي تلطف بينا نجم كندا هه روبيني الخرا هه اللهم اشغلهم بانفسهم واجعل كيدهم نحرهم واجعل تدبيرهم تدميرهم ودمرهم تدميرا ومزقهم شر ممزق قوي متين الله ماشي سيمحمد خصها تسميك سوسو المتوحشه 🤣🤣 Tomas Shelby mzhiha 😂 اين تعليقي ياجزيره اعتقد المنطق الكلام توجد اساء وانما تعقيب كلا'"
      ]
     },
     "execution_count": 6,
     "metadata": {},
     "output_type": "execute_result"
    }
   ],
   "source": [
    "comments = ' '.join(list(data.Comment))\n",
    "comments[0:1000]"
   ]
  },
  {
   "cell_type": "code",
   "execution_count": 7,
   "metadata": {},
   "outputs": [
    {
     "data": {
      "image/png": "[encoded data removed]",
      "text/plain": [
       "<Figure size 432x288 with 1 Axes>"
      ]
     },
     "metadata": {
      "needs_background": "light"
     },
     "output_type": "display_data"
    }
   ],
   "source": [
    "# handling arabic text\n",
    "comments = arabic_reshaper.reshape(comments[0:10000])\n",
    "comments = get_display(comments)\n",
    "\n",
    "wordcloud = WordCloud(font_path='assets/NotoNaskhArabic-Regular.ttf',\n",
    "                      background_color=\"white\",\n",
    "                      max_words=1000,\n",
    "                      mode='RGBA').generate(comments)\n",
    "\n",
    "plt.imshow(wordcloud, interpolation='bilinear')\n",
    "plt.axis(\"off\")\n",
    "plt.show()"
   ]
  },
  {
   "cell_type": "markdown",
   "metadata": {},
   "source": [
    "## splitting the data into target and feature"
   ]
  },
  {
   "cell_type": "code",
   "execution_count": 8,
   "metadata": {},
   "outputs": [],
   "source": [
    "feature = data.Comment\n",
    "target = data.is_off\n",
    "# splitting into train and tests\n",
    "X_train, X_test, Y_train, Y_test = train_test_split(feature, target, test_size =.2, random_state=100)"
   ]
  },
  {
   "cell_type": "code",
   "execution_count": 44,
   "metadata": {},
   "outputs": [
    {
     "name": "stdout",
     "output_type": "stream",
     "text": [
      "(11200, 47531)\n"
     ]
    }
   ],
   "source": [
    "count_vect = CountVectorizer()\n",
    "X_train_counts = count_vect.fit_transform(X_train)\n",
    "print(X_train_counts.shape)"
   ]
  },
  {
   "cell_type": "code",
   "execution_count": 45,
   "metadata": {},
   "outputs": [
    {
     "data": {
      "text/plain": [
       "(11200, 47531)"
      ]
     },
     "execution_count": 45,
     "metadata": {},
     "output_type": "execute_result"
    }
   ],
   "source": [
    "tfidf_transformer = TfidfTransformer()\n",
    "X_train_tfidf = tfidf_transformer.fit_transform(X_train_counts)\n",
    "X_train_tfidf.shape"
   ]
  },
  {
   "cell_type": "markdown",
   "metadata": {},
   "source": [
    "## Logistic Regression Model"
   ]
  },
  {
   "cell_type": "code",
   "execution_count": 46,
   "metadata": {},
   "outputs": [
    {
     "name": "stdout",
     "output_type": "stream",
     "text": [
      "Accuracy score is 0.77\n",
      "              precision    recall  f1-score   support\n",
      "\n",
      "           0       0.79      0.80      0.79      1406\n",
      "           1       0.79      0.78      0.79      1394\n",
      "\n",
      "    accuracy                           0.79      2800\n",
      "   macro avg       0.79      0.79      0.79      2800\n",
      "weighted avg       0.79      0.79      0.79      2800\n",
      "\n"
     ]
    }
   ],
   "source": [
    "lr_clf = LogisticRegression(C=1).fit(X_train_tfidf, Y_train)\n",
    "# make prediction and print accuracy\n",
    "lr_prediction = lr_clf.predict(count_vect.transform(X_test))\n",
    "print(f\"Accuracy score is {accuracy_score(Y_test, lr_prediction):.2f}\")\n",
    "print(classification_report(Y_test, prediction))"
   ]
  },
  {
   "cell_type": "code",
   "execution_count": 51,
   "metadata": {},
   "outputs": [
    {
     "data": {
      "text/plain": [
       "array([1])"
      ]
     },
     "execution_count": 51,
     "metadata": {},
     "output_type": "execute_result"
    }
   ],
   "source": [
    "lr_clf.predict(count_vect.transform([take_a_shower('الزمر فالطوندونس هو باطمة تلاقيتو تواتيتو')]))"
   ]
  },
  {
   "cell_type": "code",
   "execution_count": 48,
   "metadata": {},
   "outputs": [
    {
     "name": "stdout",
     "output_type": "stream",
     "text": [
      "Accuracy score is 0.79\n",
      "              precision    recall  f1-score   support\n",
      "\n",
      "           0       0.79      0.80      0.79      1406\n",
      "           1       0.79      0.78      0.79      1394\n",
      "\n",
      "    accuracy                           0.79      2800\n",
      "   macro avg       0.79      0.79      0.79      2800\n",
      "weighted avg       0.79      0.79      0.79      2800\n",
      "\n"
     ]
    }
   ],
   "source": [
    "# make pipeline\n",
    "pipe = make_pipeline(CountVectorizer(),\n",
    "                     TfidfTransformer(),\n",
    "                     LogisticRegression())\n",
    "# make param grid\n",
    "param_grid = {'logisticregression__C': [0.01, 0.1, 1, 10, 100]}\n",
    "\n",
    "# create and fit the model\n",
    "model = GridSearchCV(pipe, param_grid, cv=5, verbose=10)\n",
    "model.fit(X_train,Y_train)\n",
    "\n",
    "# make prediction and print accuracy\n",
    "prediction = model.predict(X_test)\n",
    "print(f\"Accuracy score is {accuracy_score(Y_test, prediction):.2f}\")\n",
    "print(classification_report(Y_test, prediction))"
   ]
  },
  {
   "cell_type": "code",
   "execution_count": 34,
   "metadata": {},
   "outputs": [
    {
     "data": {
      "text/plain": [
       "{'logisticregression__C': 1}"
      ]
     },
     "execution_count": 34,
     "metadata": {},
     "output_type": "execute_result"
    }
   ],
   "source": [
    "model.best_params_"
   ]
  },
  {
   "cell_type": "code",
   "execution_count": 54,
   "metadata": {},
   "outputs": [
    {
     "data": {
      "text/plain": [
       "array([1])"
      ]
     },
     "execution_count": 54,
     "metadata": {},
     "output_type": "execute_result"
    }
   ],
   "source": [
    "model.predict([take_a_shower('الزمر فالطوندونس هو باطمة تلاقيتو تواتيتو')])"
   ]
  },
  {
   "cell_type": "code",
   "execution_count": 56,
   "metadata": {},
   "outputs": [],
   "source": [
    "pickle.dump(model, open('./models/count_vect/lr_model.model', 'wb'))"
   ]
  },
  {
   "cell_type": "markdown",
   "metadata": {},
   "source": [
    "## SVM Model"
   ]
  },
  {
   "cell_type": "code",
   "execution_count": 70,
   "metadata": {},
   "outputs": [
    {
     "name": "stdout",
     "output_type": "stream",
     "text": [
      "Fitting 5 folds for each of 48 candidates, totalling 240 fits\n",
      "[CV] svc__C=0.1, svc__gamma=0.1, svc__kernel=rbf .....................\n"
     ]
    },
    {
     "name": "stderr",
     "output_type": "stream",
     "text": [
      "[Parallel(n_jobs=1)]: Using backend SequentialBackend with 1 concurrent workers.\n"
     ]
    },
    {
     "name": "stdout",
     "output_type": "stream",
     "text": [
      "[CV]  svc__C=0.1, svc__gamma=0.1, svc__kernel=rbf, score=0.539, total=  10.5s\n",
      "[CV] svc__C=0.1, svc__gamma=0.1, svc__kernel=rbf .....................\n"
     ]
    },
    {
     "name": "stderr",
     "output_type": "stream",
     "text": [
      "[Parallel(n_jobs=1)]: Done   1 out of   1 | elapsed:   10.5s remaining:    0.0s\n"
     ]
    },
    {
     "name": "stdout",
     "output_type": "stream",
     "text": [
      "[CV]  svc__C=0.1, svc__gamma=0.1, svc__kernel=rbf, score=0.533, total=  10.9s\n",
      "[CV] svc__C=0.1, svc__gamma=0.1, svc__kernel=rbf .....................\n"
     ]
    },
    {
     "name": "stderr",
     "output_type": "stream",
     "text": [
      "[Parallel(n_jobs=1)]: Done   2 out of   2 | elapsed:   21.4s remaining:    0.0s\n"
     ]
    },
    {
     "name": "stdout",
     "output_type": "stream",
     "text": [
      "[CV]  svc__C=0.1, svc__gamma=0.1, svc__kernel=rbf, score=0.547, total=  12.8s\n",
      "[CV] svc__C=0.1, svc__gamma=0.1, svc__kernel=rbf .....................\n"
     ]
    },
    {
     "name": "stderr",
     "output_type": "stream",
     "text": [
      "[Parallel(n_jobs=1)]: Done   3 out of   3 | elapsed:   34.2s remaining:    0.0s\n"
     ]
    },
    {
     "name": "stdout",
     "output_type": "stream",
     "text": [
      "[CV]  svc__C=0.1, svc__gamma=0.1, svc__kernel=rbf, score=0.549, total=  14.3s\n",
      "[CV] svc__C=0.1, svc__gamma=0.1, svc__kernel=rbf .....................\n"
     ]
    },
    {
     "name": "stderr",
     "output_type": "stream",
     "text": [
      "[Parallel(n_jobs=1)]: Done   4 out of   4 | elapsed:   48.5s remaining:    0.0s\n"
     ]
    },
    {
     "name": "stdout",
     "output_type": "stream",
     "text": [
      "[CV]  svc__C=0.1, svc__gamma=0.1, svc__kernel=rbf, score=0.553, total=  12.2s\n",
      "[CV] svc__C=0.1, svc__gamma=0.1, svc__kernel=linear ..................\n"
     ]
    },
    {
     "name": "stderr",
     "output_type": "stream",
     "text": [
      "[Parallel(n_jobs=1)]: Done   5 out of   5 | elapsed:  1.0min remaining:    0.0s\n"
     ]
    },
    {
     "name": "stdout",
     "output_type": "stream",
     "text": [
      "[CV]  svc__C=0.1, svc__gamma=0.1, svc__kernel=linear, score=0.719, total=   9.2s\n",
      "[CV] svc__C=0.1, svc__gamma=0.1, svc__kernel=linear ..................\n"
     ]
    },
    {
     "name": "stderr",
     "output_type": "stream",
     "text": [
      "[Parallel(n_jobs=1)]: Done   6 out of   6 | elapsed:  1.2min remaining:    0.0s\n"
     ]
    },
    {
     "name": "stdout",
     "output_type": "stream",
     "text": [
      "[CV]  svc__C=0.1, svc__gamma=0.1, svc__kernel=linear, score=0.725, total=   9.0s\n",
      "[CV] svc__C=0.1, svc__gamma=0.1, svc__kernel=linear ..................\n"
     ]
    },
    {
     "name": "stderr",
     "output_type": "stream",
     "text": [
      "[Parallel(n_jobs=1)]: Done   7 out of   7 | elapsed:  1.3min remaining:    0.0s\n"
     ]
    },
    {
     "name": "stdout",
     "output_type": "stream",
     "text": [
      "[CV]  svc__C=0.1, svc__gamma=0.1, svc__kernel=linear, score=0.729, total=   9.0s\n",
      "[CV] svc__C=0.1, svc__gamma=0.1, svc__kernel=linear ..................\n"
     ]
    },
    {
     "name": "stderr",
     "output_type": "stream",
     "text": [
      "[Parallel(n_jobs=1)]: Done   8 out of   8 | elapsed:  1.5min remaining:    0.0s\n"
     ]
    },
    {
     "name": "stdout",
     "output_type": "stream",
     "text": [
      "[CV]  svc__C=0.1, svc__gamma=0.1, svc__kernel=linear, score=0.723, total=   9.0s\n",
      "[CV] svc__C=0.1, svc__gamma=0.1, svc__kernel=linear ..................\n"
     ]
    },
    {
     "name": "stderr",
     "output_type": "stream",
     "text": [
      "[Parallel(n_jobs=1)]: Done   9 out of   9 | elapsed:  1.6min remaining:    0.0s\n"
     ]
    },
    {
     "name": "stdout",
     "output_type": "stream",
     "text": [
      "[CV]  svc__C=0.1, svc__gamma=0.1, svc__kernel=linear, score=0.718, total=   9.0s\n",
      "[CV] svc__C=0.1, svc__gamma=0.1, svc__kernel=poly ....................\n",
      "[CV]  svc__C=0.1, svc__gamma=0.1, svc__kernel=poly, score=0.500, total=   9.2s\n",
      "[CV] svc__C=0.1, svc__gamma=0.1, svc__kernel=poly ....................\n",
      "[CV]  svc__C=0.1, svc__gamma=0.1, svc__kernel=poly, score=0.500, total=   9.1s\n",
      "[CV] svc__C=0.1, svc__gamma=0.1, svc__kernel=poly ....................\n",
      "[CV]  svc__C=0.1, svc__gamma=0.1, svc__kernel=poly, score=0.500, total=   9.1s\n",
      "[CV] svc__C=0.1, svc__gamma=0.1, svc__kernel=poly ....................\n",
      "[CV]  svc__C=0.1, svc__gamma=0.1, svc__kernel=poly, score=0.500, total=   9.3s\n",
      "[CV] svc__C=0.1, svc__gamma=0.1, svc__kernel=poly ....................\n",
      "[CV]  svc__C=0.1, svc__gamma=0.1, svc__kernel=poly, score=0.501, total=   9.1s\n",
      "[CV] svc__C=0.1, svc__gamma=1, svc__kernel=rbf .......................\n",
      "[CV]  svc__C=0.1, svc__gamma=1, svc__kernel=rbf, score=0.568, total=  10.2s\n",
      "[CV] svc__C=0.1, svc__gamma=1, svc__kernel=rbf .......................\n",
      "[CV]  svc__C=0.1, svc__gamma=1, svc__kernel=rbf, score=0.566, total=  10.3s\n",
      "[CV] svc__C=0.1, svc__gamma=1, svc__kernel=rbf .......................\n",
      "[CV]  svc__C=0.1, svc__gamma=1, svc__kernel=rbf, score=0.574, total=  10.0s\n",
      "[CV] svc__C=0.1, svc__gamma=1, svc__kernel=rbf .......................\n",
      "[CV]  svc__C=0.1, svc__gamma=1, svc__kernel=rbf, score=0.594, total=  10.0s\n",
      "[CV] svc__C=0.1, svc__gamma=1, svc__kernel=rbf .......................\n",
      "[CV]  svc__C=0.1, svc__gamma=1, svc__kernel=rbf, score=0.589, total=  10.1s\n",
      "[CV] svc__C=0.1, svc__gamma=1, svc__kernel=linear ....................\n",
      "[CV]  svc__C=0.1, svc__gamma=1, svc__kernel=linear, score=0.719, total=   9.0s\n",
      "[CV] svc__C=0.1, svc__gamma=1, svc__kernel=linear ....................\n",
      "[CV]  svc__C=0.1, svc__gamma=1, svc__kernel=linear, score=0.725, total=   9.0s\n",
      "[CV] svc__C=0.1, svc__gamma=1, svc__kernel=linear ....................\n",
      "[CV]  svc__C=0.1, svc__gamma=1, svc__kernel=linear, score=0.729, total=   8.9s\n",
      "[CV] svc__C=0.1, svc__gamma=1, svc__kernel=linear ....................\n",
      "[CV]  svc__C=0.1, svc__gamma=1, svc__kernel=linear, score=0.723, total=   9.0s\n",
      "[CV] svc__C=0.1, svc__gamma=1, svc__kernel=linear ....................\n",
      "[CV]  svc__C=0.1, svc__gamma=1, svc__kernel=linear, score=0.718, total=  20.6s\n",
      "[CV] svc__C=0.1, svc__gamma=1, svc__kernel=poly ......................\n",
      "[CV]  svc__C=0.1, svc__gamma=1, svc__kernel=poly, score=0.516, total=  17.4s\n",
      "[CV] svc__C=0.1, svc__gamma=1, svc__kernel=poly ......................\n",
      "[CV]  svc__C=0.1, svc__gamma=1, svc__kernel=poly, score=0.513, total=  11.9s\n",
      "[CV] svc__C=0.1, svc__gamma=1, svc__kernel=poly ......................\n",
      "[CV]  svc__C=0.1, svc__gamma=1, svc__kernel=poly, score=0.519, total=  13.0s\n",
      "[CV] svc__C=0.1, svc__gamma=1, svc__kernel=poly ......................\n",
      "[CV]  svc__C=0.1, svc__gamma=1, svc__kernel=poly, score=0.523, total=  12.6s\n",
      "[CV] svc__C=0.1, svc__gamma=1, svc__kernel=poly ......................\n",
      "[CV]  svc__C=0.1, svc__gamma=1, svc__kernel=poly, score=0.526, total=  13.0s\n",
      "[CV] svc__C=0.1, svc__gamma=10, svc__kernel=rbf ......................\n",
      "[CV]  svc__C=0.1, svc__gamma=10, svc__kernel=rbf, score=0.515, total=  13.0s\n",
      "[CV] svc__C=0.1, svc__gamma=10, svc__kernel=rbf ......................\n",
      "[CV]  svc__C=0.1, svc__gamma=10, svc__kernel=rbf, score=0.520, total=  13.2s\n",
      "[CV] svc__C=0.1, svc__gamma=10, svc__kernel=rbf ......................\n",
      "[CV]  svc__C=0.1, svc__gamma=10, svc__kernel=rbf, score=0.512, total=  11.7s\n",
      "[CV] svc__C=0.1, svc__gamma=10, svc__kernel=rbf ......................\n",
      "[CV]  svc__C=0.1, svc__gamma=10, svc__kernel=rbf, score=0.524, total=  12.4s\n",
      "[CV] svc__C=0.1, svc__gamma=10, svc__kernel=rbf ......................\n",
      "[CV]  svc__C=0.1, svc__gamma=10, svc__kernel=rbf, score=0.524, total=  13.8s\n",
      "[CV] svc__C=0.1, svc__gamma=10, svc__kernel=linear ...................\n",
      "[CV]  svc__C=0.1, svc__gamma=10, svc__kernel=linear, score=0.719, total=  12.5s\n",
      "[CV] svc__C=0.1, svc__gamma=10, svc__kernel=linear ...................\n",
      "[CV]  svc__C=0.1, svc__gamma=10, svc__kernel=linear, score=0.725, total=  13.5s\n",
      "[CV] svc__C=0.1, svc__gamma=10, svc__kernel=linear ...................\n",
      "[CV]  svc__C=0.1, svc__gamma=10, svc__kernel=linear, score=0.729, total=  11.3s\n",
      "[CV] svc__C=0.1, svc__gamma=10, svc__kernel=linear ...................\n",
      "[CV]  svc__C=0.1, svc__gamma=10, svc__kernel=linear, score=0.723, total=  11.6s\n",
      "[CV] svc__C=0.1, svc__gamma=10, svc__kernel=linear ...................\n",
      "[CV]  svc__C=0.1, svc__gamma=10, svc__kernel=linear, score=0.718, total=  14.5s\n",
      "[CV] svc__C=0.1, svc__gamma=10, svc__kernel=poly .....................\n",
      "[CV]  svc__C=0.1, svc__gamma=10, svc__kernel=poly, score=0.550, total=  35.3s\n",
      "[CV] svc__C=0.1, svc__gamma=10, svc__kernel=poly .....................\n",
      "[CV]  svc__C=0.1, svc__gamma=10, svc__kernel=poly, score=0.553, total=  32.3s\n",
      "[CV] svc__C=0.1, svc__gamma=10, svc__kernel=poly .....................\n",
      "[CV]  svc__C=0.1, svc__gamma=10, svc__kernel=poly, score=0.556, total=  33.4s\n",
      "[CV] svc__C=0.1, svc__gamma=10, svc__kernel=poly .....................\n",
      "[CV]  svc__C=0.1, svc__gamma=10, svc__kernel=poly, score=0.553, total=  28.4s\n",
      "[CV] svc__C=0.1, svc__gamma=10, svc__kernel=poly .....................\n",
      "[CV]  svc__C=0.1, svc__gamma=10, svc__kernel=poly, score=0.550, total=  38.7s\n",
      "[CV] svc__C=0.1, svc__gamma=100, svc__kernel=rbf .....................\n",
      "[CV]  svc__C=0.1, svc__gamma=100, svc__kernel=rbf, score=0.515, total=  12.8s\n",
      "[CV] svc__C=0.1, svc__gamma=100, svc__kernel=rbf .....................\n",
      "[CV]  svc__C=0.1, svc__gamma=100, svc__kernel=rbf, score=0.520, total=  11.9s\n",
      "[CV] svc__C=0.1, svc__gamma=100, svc__kernel=rbf .....................\n",
      "[CV]  svc__C=0.1, svc__gamma=100, svc__kernel=rbf, score=0.512, total=  11.4s\n",
      "[CV] svc__C=0.1, svc__gamma=100, svc__kernel=rbf .....................\n",
      "[CV]  svc__C=0.1, svc__gamma=100, svc__kernel=rbf, score=0.524, total=  14.4s\n",
      "[CV] svc__C=0.1, svc__gamma=100, svc__kernel=rbf .....................\n",
      "[CV]  svc__C=0.1, svc__gamma=100, svc__kernel=rbf, score=0.524, total=  14.3s\n",
      "[CV] svc__C=0.1, svc__gamma=100, svc__kernel=linear ..................\n",
      "[CV]  svc__C=0.1, svc__gamma=100, svc__kernel=linear, score=0.719, total=  12.2s\n",
      "[CV] svc__C=0.1, svc__gamma=100, svc__kernel=linear ..................\n",
      "[CV]  svc__C=0.1, svc__gamma=100, svc__kernel=linear, score=0.725, total=  10.7s\n",
      "[CV] svc__C=0.1, svc__gamma=100, svc__kernel=linear ..................\n",
      "[CV]  svc__C=0.1, svc__gamma=100, svc__kernel=linear, score=0.729, total=  11.2s\n",
      "[CV] svc__C=0.1, svc__gamma=100, svc__kernel=linear ..................\n",
      "[CV]  svc__C=0.1, svc__gamma=100, svc__kernel=linear, score=0.723, total=  10.8s\n",
      "[CV] svc__C=0.1, svc__gamma=100, svc__kernel=linear ..................\n",
      "[CV]  svc__C=0.1, svc__gamma=100, svc__kernel=linear, score=0.718, total=  12.1s\n",
      "[CV] svc__C=0.1, svc__gamma=100, svc__kernel=poly ....................\n",
      "[CV]  svc__C=0.1, svc__gamma=100, svc__kernel=poly, score=0.544, total= 1.7min\n",
      "[CV] svc__C=0.1, svc__gamma=100, svc__kernel=poly ....................\n",
      "[CV]  svc__C=0.1, svc__gamma=100, svc__kernel=poly, score=0.547, total= 3.7min\n",
      "[CV] svc__C=0.1, svc__gamma=100, svc__kernel=poly ....................\n",
      "[CV]  svc__C=0.1, svc__gamma=100, svc__kernel=poly, score=0.550, total= 5.3min\n",
      "[CV] svc__C=0.1, svc__gamma=100, svc__kernel=poly ....................\n",
      "[CV]  svc__C=0.1, svc__gamma=100, svc__kernel=poly, score=0.546, total= 3.7min\n",
      "[CV] svc__C=0.1, svc__gamma=100, svc__kernel=poly ....................\n",
      "[CV]  svc__C=0.1, svc__gamma=100, svc__kernel=poly, score=0.544, total= 1.4min\n",
      "[CV] svc__C=1, svc__gamma=0.1, svc__kernel=rbf .......................\n",
      "[CV]  svc__C=1, svc__gamma=0.1, svc__kernel=rbf, score=0.732, total=  11.2s\n",
      "[CV] svc__C=1, svc__gamma=0.1, svc__kernel=rbf .......................\n",
      "[CV]  svc__C=1, svc__gamma=0.1, svc__kernel=rbf, score=0.743, total=  11.1s\n",
      "[CV] svc__C=1, svc__gamma=0.1, svc__kernel=rbf .......................\n",
      "[CV]  svc__C=1, svc__gamma=0.1, svc__kernel=rbf, score=0.742, total=  11.7s\n",
      "[CV] svc__C=1, svc__gamma=0.1, svc__kernel=rbf .......................\n",
      "[CV]  svc__C=1, svc__gamma=0.1, svc__kernel=rbf, score=0.720, total=  10.8s\n",
      "[CV] svc__C=1, svc__gamma=0.1, svc__kernel=rbf .......................\n",
      "[CV]  svc__C=1, svc__gamma=0.1, svc__kernel=rbf, score=0.717, total=  12.3s\n",
      "[CV] svc__C=1, svc__gamma=0.1, svc__kernel=linear ....................\n",
      "[CV]  svc__C=1, svc__gamma=0.1, svc__kernel=linear, score=0.776, total=  10.1s\n",
      "[CV] svc__C=1, svc__gamma=0.1, svc__kernel=linear ....................\n",
      "[CV]  svc__C=1, svc__gamma=0.1, svc__kernel=linear, score=0.780, total=  11.0s\n",
      "[CV] svc__C=1, svc__gamma=0.1, svc__kernel=linear ....................\n",
      "[CV]  svc__C=1, svc__gamma=0.1, svc__kernel=linear, score=0.793, total=  10.9s\n",
      "[CV] svc__C=1, svc__gamma=0.1, svc__kernel=linear ....................\n",
      "[CV]  svc__C=1, svc__gamma=0.1, svc__kernel=linear, score=0.776, total=  10.3s\n",
      "[CV] svc__C=1, svc__gamma=0.1, svc__kernel=linear ....................\n",
      "[CV]  svc__C=1, svc__gamma=0.1, svc__kernel=linear, score=0.775, total=  10.9s\n",
      "[CV] svc__C=1, svc__gamma=0.1, svc__kernel=poly ......................\n",
      "[CV]  svc__C=1, svc__gamma=0.1, svc__kernel=poly, score=0.500, total=  10.3s\n",
      "[CV] svc__C=1, svc__gamma=0.1, svc__kernel=poly ......................\n",
      "[CV]  svc__C=1, svc__gamma=0.1, svc__kernel=poly, score=0.500, total=  10.2s\n",
      "[CV] svc__C=1, svc__gamma=0.1, svc__kernel=poly ......................\n",
      "[CV]  svc__C=1, svc__gamma=0.1, svc__kernel=poly, score=0.500, total=  11.2s\n",
      "[CV] svc__C=1, svc__gamma=0.1, svc__kernel=poly ......................\n",
      "[CV]  svc__C=1, svc__gamma=0.1, svc__kernel=poly, score=0.500, total=  10.5s\n",
      "[CV] svc__C=1, svc__gamma=0.1, svc__kernel=poly ......................\n",
      "[CV]  svc__C=1, svc__gamma=0.1, svc__kernel=poly, score=0.501, total=  10.4s\n",
      "[CV] svc__C=1, svc__gamma=1, svc__kernel=rbf .........................\n",
      "[CV]  svc__C=1, svc__gamma=1, svc__kernel=rbf, score=0.762, total=  14.8s\n",
      "[CV] svc__C=1, svc__gamma=1, svc__kernel=rbf .........................\n",
      "[CV]  svc__C=1, svc__gamma=1, svc__kernel=rbf, score=0.770, total=  15.9s\n",
      "[CV] svc__C=1, svc__gamma=1, svc__kernel=rbf .........................\n",
      "[CV]  svc__C=1, svc__gamma=1, svc__kernel=rbf, score=0.783, total=  16.3s\n",
      "[CV] svc__C=1, svc__gamma=1, svc__kernel=rbf .........................\n",
      "[CV]  svc__C=1, svc__gamma=1, svc__kernel=rbf, score=0.768, total=  15.0s\n",
      "[CV] svc__C=1, svc__gamma=1, svc__kernel=rbf .........................\n",
      "[CV]  svc__C=1, svc__gamma=1, svc__kernel=rbf, score=0.764, total=  14.8s\n",
      "[CV] svc__C=1, svc__gamma=1, svc__kernel=linear ......................\n",
      "[CV]  svc__C=1, svc__gamma=1, svc__kernel=linear, score=0.776, total=   9.5s\n",
      "[CV] svc__C=1, svc__gamma=1, svc__kernel=linear ......................\n",
      "[CV]  svc__C=1, svc__gamma=1, svc__kernel=linear, score=0.780, total=  10.4s\n",
      "[CV] svc__C=1, svc__gamma=1, svc__kernel=linear ......................\n",
      "[CV]  svc__C=1, svc__gamma=1, svc__kernel=linear, score=0.793, total=  11.7s\n",
      "[CV] svc__C=1, svc__gamma=1, svc__kernel=linear ......................\n",
      "[CV]  svc__C=1, svc__gamma=1, svc__kernel=linear, score=0.776, total=  10.3s\n",
      "[CV] svc__C=1, svc__gamma=1, svc__kernel=linear ......................\n",
      "[CV]  svc__C=1, svc__gamma=1, svc__kernel=linear, score=0.775, total=  10.4s\n",
      "[CV] svc__C=1, svc__gamma=1, svc__kernel=poly ........................\n",
      "[CV]  svc__C=1, svc__gamma=1, svc__kernel=poly, score=0.697, total=  15.2s\n",
      "[CV] svc__C=1, svc__gamma=1, svc__kernel=poly ........................\n",
      "[CV]  svc__C=1, svc__gamma=1, svc__kernel=poly, score=0.690, total=  15.9s\n",
      "[CV] svc__C=1, svc__gamma=1, svc__kernel=poly ........................\n",
      "[CV]  svc__C=1, svc__gamma=1, svc__kernel=poly, score=0.710, total=  18.1s\n",
      "[CV] svc__C=1, svc__gamma=1, svc__kernel=poly ........................\n",
      "[CV]  svc__C=1, svc__gamma=1, svc__kernel=poly, score=0.693, total=  15.9s\n",
      "[CV] svc__C=1, svc__gamma=1, svc__kernel=poly ........................\n",
      "[CV]  svc__C=1, svc__gamma=1, svc__kernel=poly, score=0.693, total=  15.2s\n",
      "[CV] svc__C=1, svc__gamma=10, svc__kernel=rbf ........................\n",
      "[CV]  svc__C=1, svc__gamma=10, svc__kernel=rbf, score=0.536, total=  18.1s\n",
      "[CV] svc__C=1, svc__gamma=10, svc__kernel=rbf ........................\n",
      "[CV]  svc__C=1, svc__gamma=10, svc__kernel=rbf, score=0.536, total=  17.1s\n",
      "[CV] svc__C=1, svc__gamma=10, svc__kernel=rbf ........................\n",
      "[CV]  svc__C=1, svc__gamma=10, svc__kernel=rbf, score=0.543, total=  16.8s\n",
      "[CV] svc__C=1, svc__gamma=10, svc__kernel=rbf ........................\n",
      "[CV]  svc__C=1, svc__gamma=10, svc__kernel=rbf, score=0.534, total=  17.3s\n",
      "[CV] svc__C=1, svc__gamma=10, svc__kernel=rbf ........................\n",
      "[CV]  svc__C=1, svc__gamma=10, svc__kernel=rbf, score=0.533, total=  18.3s\n",
      "[CV] svc__C=1, svc__gamma=10, svc__kernel=linear .....................\n",
      "[CV]  svc__C=1, svc__gamma=10, svc__kernel=linear, score=0.776, total=  10.6s\n",
      "[CV] svc__C=1, svc__gamma=10, svc__kernel=linear .....................\n",
      "[CV]  svc__C=1, svc__gamma=10, svc__kernel=linear, score=0.780, total=  10.1s\n",
      "[CV] svc__C=1, svc__gamma=10, svc__kernel=linear .....................\n",
      "[CV]  svc__C=1, svc__gamma=10, svc__kernel=linear, score=0.793, total=  10.2s\n",
      "[CV] svc__C=1, svc__gamma=10, svc__kernel=linear .....................\n",
      "[CV]  svc__C=1, svc__gamma=10, svc__kernel=linear, score=0.776, total=  10.0s\n",
      "[CV] svc__C=1, svc__gamma=10, svc__kernel=linear .....................\n",
      "[CV]  svc__C=1, svc__gamma=10, svc__kernel=linear, score=0.775, total=  10.1s\n",
      "[CV] svc__C=1, svc__gamma=10, svc__kernel=poly .......................\n",
      "[CV]  svc__C=1, svc__gamma=10, svc__kernel=poly, score=0.544, total= 1.3min\n",
      "[CV] svc__C=1, svc__gamma=10, svc__kernel=poly .......................\n",
      "[CV]  svc__C=1, svc__gamma=10, svc__kernel=poly, score=0.547, total= 1.4min\n",
      "[CV] svc__C=1, svc__gamma=10, svc__kernel=poly .......................\n",
      "[CV]  svc__C=1, svc__gamma=10, svc__kernel=poly, score=0.550, total= 1.4min\n",
      "[CV] svc__C=1, svc__gamma=10, svc__kernel=poly .......................\n",
      "[CV]  svc__C=1, svc__gamma=10, svc__kernel=poly, score=0.546, total= 1.4min\n",
      "[CV] svc__C=1, svc__gamma=10, svc__kernel=poly .......................\n",
      "[CV]  svc__C=1, svc__gamma=10, svc__kernel=poly, score=0.544, total= 1.4min\n",
      "[CV] svc__C=1, svc__gamma=100, svc__kernel=rbf .......................\n",
      "[CV]  svc__C=1, svc__gamma=100, svc__kernel=rbf, score=0.528, total=  15.5s\n",
      "[CV] svc__C=1, svc__gamma=100, svc__kernel=rbf .......................\n",
      "[CV]  svc__C=1, svc__gamma=100, svc__kernel=rbf, score=0.531, total=  15.6s\n",
      "[CV] svc__C=1, svc__gamma=100, svc__kernel=rbf .......................\n",
      "[CV]  svc__C=1, svc__gamma=100, svc__kernel=rbf, score=0.537, total=  13.7s\n",
      "[CV] svc__C=1, svc__gamma=100, svc__kernel=rbf .......................\n",
      "[CV]  svc__C=1, svc__gamma=100, svc__kernel=rbf, score=0.527, total=  15.9s\n",
      "[CV] svc__C=1, svc__gamma=100, svc__kernel=rbf .......................\n",
      "[CV]  svc__C=1, svc__gamma=100, svc__kernel=rbf, score=0.528, total=  15.6s\n",
      "[CV] svc__C=1, svc__gamma=100, svc__kernel=linear ....................\n",
      "[CV]  svc__C=1, svc__gamma=100, svc__kernel=linear, score=0.776, total=  10.1s\n",
      "[CV] svc__C=1, svc__gamma=100, svc__kernel=linear ....................\n",
      "[CV]  svc__C=1, svc__gamma=100, svc__kernel=linear, score=0.780, total=  10.2s\n",
      "[CV] svc__C=1, svc__gamma=100, svc__kernel=linear ....................\n",
      "[CV]  svc__C=1, svc__gamma=100, svc__kernel=linear, score=0.793, total=  10.3s\n",
      "[CV] svc__C=1, svc__gamma=100, svc__kernel=linear ....................\n",
      "[CV]  svc__C=1, svc__gamma=100, svc__kernel=linear, score=0.776, total=  10.1s\n",
      "[CV] svc__C=1, svc__gamma=100, svc__kernel=linear ....................\n",
      "[CV]  svc__C=1, svc__gamma=100, svc__kernel=linear, score=0.775, total=  10.2s\n",
      "[CV] svc__C=1, svc__gamma=100, svc__kernel=poly ......................\n",
      "[CV]  svc__C=1, svc__gamma=100, svc__kernel=poly, score=0.544, total= 1.4min\n",
      "[CV] svc__C=1, svc__gamma=100, svc__kernel=poly ......................\n",
      "[CV]  svc__C=1, svc__gamma=100, svc__kernel=poly, score=0.547, total= 1.3min\n",
      "[CV] svc__C=1, svc__gamma=100, svc__kernel=poly ......................\n",
      "[CV]  svc__C=1, svc__gamma=100, svc__kernel=poly, score=0.550, total= 1.4min\n",
      "[CV] svc__C=1, svc__gamma=100, svc__kernel=poly ......................\n",
      "[CV]  svc__C=1, svc__gamma=100, svc__kernel=poly, score=0.546, total= 1.4min\n",
      "[CV] svc__C=1, svc__gamma=100, svc__kernel=poly ......................\n",
      "[CV]  svc__C=1, svc__gamma=100, svc__kernel=poly, score=0.544, total= 1.4min\n",
      "[CV] svc__C=10, svc__gamma=0.1, svc__kernel=rbf ......................\n",
      "[CV]  svc__C=10, svc__gamma=0.1, svc__kernel=rbf, score=0.772, total=  19.2s\n",
      "[CV] svc__C=10, svc__gamma=0.1, svc__kernel=rbf ......................\n",
      "[CV]  svc__C=10, svc__gamma=0.1, svc__kernel=rbf, score=0.771, total=  19.0s\n",
      "[CV] svc__C=10, svc__gamma=0.1, svc__kernel=rbf ......................\n",
      "[CV]  svc__C=10, svc__gamma=0.1, svc__kernel=rbf, score=0.788, total=  20.5s\n",
      "[CV] svc__C=10, svc__gamma=0.1, svc__kernel=rbf ......................\n",
      "[CV]  svc__C=10, svc__gamma=0.1, svc__kernel=rbf, score=0.772, total=  19.6s\n",
      "[CV] svc__C=10, svc__gamma=0.1, svc__kernel=rbf ......................\n",
      "[CV]  svc__C=10, svc__gamma=0.1, svc__kernel=rbf, score=0.771, total=  18.8s\n",
      "[CV] svc__C=10, svc__gamma=0.1, svc__kernel=linear ...................\n",
      "[CV]  svc__C=10, svc__gamma=0.1, svc__kernel=linear, score=0.774, total=  16.1s\n",
      "[CV] svc__C=10, svc__gamma=0.1, svc__kernel=linear ...................\n",
      "[CV]  svc__C=10, svc__gamma=0.1, svc__kernel=linear, score=0.771, total=  17.1s\n",
      "[CV] svc__C=10, svc__gamma=0.1, svc__kernel=linear ...................\n",
      "[CV]  svc__C=10, svc__gamma=0.1, svc__kernel=linear, score=0.787, total=  15.8s\n",
      "[CV] svc__C=10, svc__gamma=0.1, svc__kernel=linear ...................\n",
      "[CV]  svc__C=10, svc__gamma=0.1, svc__kernel=linear, score=0.776, total=  17.2s\n",
      "[CV] svc__C=10, svc__gamma=0.1, svc__kernel=linear ...................\n",
      "[CV]  svc__C=10, svc__gamma=0.1, svc__kernel=linear, score=0.770, total=  17.0s\n",
      "[CV] svc__C=10, svc__gamma=0.1, svc__kernel=poly .....................\n",
      "[CV]  svc__C=10, svc__gamma=0.1, svc__kernel=poly, score=0.500, total=  10.9s\n",
      "[CV] svc__C=10, svc__gamma=0.1, svc__kernel=poly .....................\n",
      "[CV]  svc__C=10, svc__gamma=0.1, svc__kernel=poly, score=0.500, total=  11.0s\n",
      "[CV] svc__C=10, svc__gamma=0.1, svc__kernel=poly .....................\n",
      "[CV]  svc__C=10, svc__gamma=0.1, svc__kernel=poly, score=0.500, total=  10.4s\n",
      "[CV] svc__C=10, svc__gamma=0.1, svc__kernel=poly .....................\n",
      "[CV]  svc__C=10, svc__gamma=0.1, svc__kernel=poly, score=0.500, total=  10.8s\n",
      "[CV] svc__C=10, svc__gamma=0.1, svc__kernel=poly .....................\n",
      "[CV]  svc__C=10, svc__gamma=0.1, svc__kernel=poly, score=0.501, total=  12.7s\n",
      "[CV] svc__C=10, svc__gamma=1, svc__kernel=rbf ........................\n",
      "[CV]  svc__C=10, svc__gamma=1, svc__kernel=rbf, score=0.763, total=  26.5s\n",
      "[CV] svc__C=10, svc__gamma=1, svc__kernel=rbf ........................\n",
      "[CV]  svc__C=10, svc__gamma=1, svc__kernel=rbf, score=0.775, total=  24.1s\n",
      "[CV] svc__C=10, svc__gamma=1, svc__kernel=rbf ........................\n",
      "[CV]  svc__C=10, svc__gamma=1, svc__kernel=rbf, score=0.788, total=  26.1s\n",
      "[CV] svc__C=10, svc__gamma=1, svc__kernel=rbf ........................\n",
      "[CV]  svc__C=10, svc__gamma=1, svc__kernel=rbf, score=0.774, total=  22.9s\n",
      "[CV] svc__C=10, svc__gamma=1, svc__kernel=rbf ........................\n",
      "[CV]  svc__C=10, svc__gamma=1, svc__kernel=rbf, score=0.771, total=  25.3s\n",
      "[CV] svc__C=10, svc__gamma=1, svc__kernel=linear .....................\n",
      "[CV]  svc__C=10, svc__gamma=1, svc__kernel=linear, score=0.774, total=  15.2s\n",
      "[CV] svc__C=10, svc__gamma=1, svc__kernel=linear .....................\n",
      "[CV]  svc__C=10, svc__gamma=1, svc__kernel=linear, score=0.771, total=  17.3s\n",
      "[CV] svc__C=10, svc__gamma=1, svc__kernel=linear .....................\n",
      "[CV]  svc__C=10, svc__gamma=1, svc__kernel=linear, score=0.787, total=  15.0s\n",
      "[CV] svc__C=10, svc__gamma=1, svc__kernel=linear .....................\n",
      "[CV]  svc__C=10, svc__gamma=1, svc__kernel=linear, score=0.776, total=  15.8s\n",
      "[CV] svc__C=10, svc__gamma=1, svc__kernel=linear .....................\n",
      "[CV]  svc__C=10, svc__gamma=1, svc__kernel=linear, score=0.770, total=  16.9s\n",
      "[CV] svc__C=10, svc__gamma=1, svc__kernel=poly .......................\n",
      "[CV]  svc__C=10, svc__gamma=1, svc__kernel=poly, score=0.634, total=  26.2s\n",
      "[CV] svc__C=10, svc__gamma=1, svc__kernel=poly .......................\n",
      "[CV]  svc__C=10, svc__gamma=1, svc__kernel=poly, score=0.659, total=  21.6s\n",
      "[CV] svc__C=10, svc__gamma=1, svc__kernel=poly .......................\n",
      "[CV]  svc__C=10, svc__gamma=1, svc__kernel=poly, score=0.659, total=  28.4s\n",
      "[CV] svc__C=10, svc__gamma=1, svc__kernel=poly .......................\n",
      "[CV]  svc__C=10, svc__gamma=1, svc__kernel=poly, score=0.642, total=  23.6s\n",
      "[CV] svc__C=10, svc__gamma=1, svc__kernel=poly .......................\n",
      "[CV]  svc__C=10, svc__gamma=1, svc__kernel=poly, score=0.645, total=  25.9s\n",
      "[CV] svc__C=10, svc__gamma=10, svc__kernel=rbf .......................\n",
      "[CV]  svc__C=10, svc__gamma=10, svc__kernel=rbf, score=0.538, total=  22.6s\n",
      "[CV] svc__C=10, svc__gamma=10, svc__kernel=rbf .......................\n",
      "[CV]  svc__C=10, svc__gamma=10, svc__kernel=rbf, score=0.539, total=  20.6s\n",
      "[CV] svc__C=10, svc__gamma=10, svc__kernel=rbf .......................\n",
      "[CV]  svc__C=10, svc__gamma=10, svc__kernel=rbf, score=0.545, total=  18.7s\n",
      "[CV] svc__C=10, svc__gamma=10, svc__kernel=rbf .......................\n",
      "[CV]  svc__C=10, svc__gamma=10, svc__kernel=rbf, score=0.535, total=  21.4s\n",
      "[CV] svc__C=10, svc__gamma=10, svc__kernel=rbf .......................\n",
      "[CV]  svc__C=10, svc__gamma=10, svc__kernel=rbf, score=0.533, total=  25.6s\n",
      "[CV] svc__C=10, svc__gamma=10, svc__kernel=linear ....................\n",
      "[CV]  svc__C=10, svc__gamma=10, svc__kernel=linear, score=0.774, total=  14.6s\n",
      "[CV] svc__C=10, svc__gamma=10, svc__kernel=linear ....................\n",
      "[CV]  svc__C=10, svc__gamma=10, svc__kernel=linear, score=0.771, total=  16.3s\n",
      "[CV] svc__C=10, svc__gamma=10, svc__kernel=linear ....................\n",
      "[CV]  svc__C=10, svc__gamma=10, svc__kernel=linear, score=0.787, total=  14.7s\n",
      "[CV] svc__C=10, svc__gamma=10, svc__kernel=linear ....................\n",
      "[CV]  svc__C=10, svc__gamma=10, svc__kernel=linear, score=0.776, total=  15.0s\n",
      "[CV] svc__C=10, svc__gamma=10, svc__kernel=linear ....................\n",
      "[CV]  svc__C=10, svc__gamma=10, svc__kernel=linear, score=0.770, total=  17.4s\n",
      "[CV] svc__C=10, svc__gamma=10, svc__kernel=poly ......................\n",
      "[CV]  svc__C=10, svc__gamma=10, svc__kernel=poly, score=0.544, total= 1.4min\n",
      "[CV] svc__C=10, svc__gamma=10, svc__kernel=poly ......................\n",
      "[CV]  svc__C=10, svc__gamma=10, svc__kernel=poly, score=0.547, total= 1.4min\n",
      "[CV] svc__C=10, svc__gamma=10, svc__kernel=poly ......................\n",
      "[CV]  svc__C=10, svc__gamma=10, svc__kernel=poly, score=0.550, total= 1.3min\n",
      "[CV] svc__C=10, svc__gamma=10, svc__kernel=poly ......................\n",
      "[CV]  svc__C=10, svc__gamma=10, svc__kernel=poly, score=0.546, total= 1.3min\n",
      "[CV] svc__C=10, svc__gamma=10, svc__kernel=poly ......................\n",
      "[CV]  svc__C=10, svc__gamma=10, svc__kernel=poly, score=0.544, total= 1.2min\n",
      "[CV] svc__C=10, svc__gamma=100, svc__kernel=rbf ......................\n",
      "[CV]  svc__C=10, svc__gamma=100, svc__kernel=rbf, score=0.529, total=  19.5s\n",
      "[CV] svc__C=10, svc__gamma=100, svc__kernel=rbf ......................\n",
      "[CV]  svc__C=10, svc__gamma=100, svc__kernel=rbf, score=0.531, total=  20.0s\n",
      "[CV] svc__C=10, svc__gamma=100, svc__kernel=rbf ......................\n",
      "[CV]  svc__C=10, svc__gamma=100, svc__kernel=rbf, score=0.537, total=  13.0s\n",
      "[CV] svc__C=10, svc__gamma=100, svc__kernel=rbf ......................\n",
      "[CV]  svc__C=10, svc__gamma=100, svc__kernel=rbf, score=0.527, total=  21.6s\n",
      "[CV] svc__C=10, svc__gamma=100, svc__kernel=rbf ......................\n",
      "[CV]  svc__C=10, svc__gamma=100, svc__kernel=rbf, score=0.528, total=  19.2s\n",
      "[CV] svc__C=10, svc__gamma=100, svc__kernel=linear ...................\n",
      "[CV]  svc__C=10, svc__gamma=100, svc__kernel=linear, score=0.774, total=  14.4s\n",
      "[CV] svc__C=10, svc__gamma=100, svc__kernel=linear ...................\n",
      "[CV]  svc__C=10, svc__gamma=100, svc__kernel=linear, score=0.771, total=  15.2s\n",
      "[CV] svc__C=10, svc__gamma=100, svc__kernel=linear ...................\n",
      "[CV]  svc__C=10, svc__gamma=100, svc__kernel=linear, score=0.787, total=  13.9s\n",
      "[CV] svc__C=10, svc__gamma=100, svc__kernel=linear ...................\n",
      "[CV]  svc__C=10, svc__gamma=100, svc__kernel=linear, score=0.776, total=  15.0s\n",
      "[CV] svc__C=10, svc__gamma=100, svc__kernel=linear ...................\n",
      "[CV]  svc__C=10, svc__gamma=100, svc__kernel=linear, score=0.770, total=  14.7s\n",
      "[CV] svc__C=10, svc__gamma=100, svc__kernel=poly .....................\n",
      "[CV]  svc__C=10, svc__gamma=100, svc__kernel=poly, score=0.544, total= 1.2min\n",
      "[CV] svc__C=10, svc__gamma=100, svc__kernel=poly .....................\n",
      "[CV]  svc__C=10, svc__gamma=100, svc__kernel=poly, score=0.547, total= 1.2min\n",
      "[CV] svc__C=10, svc__gamma=100, svc__kernel=poly .....................\n",
      "[CV]  svc__C=10, svc__gamma=100, svc__kernel=poly, score=0.550, total= 1.3min\n",
      "[CV] svc__C=10, svc__gamma=100, svc__kernel=poly .....................\n",
      "[CV]  svc__C=10, svc__gamma=100, svc__kernel=poly, score=0.546, total= 1.2min\n",
      "[CV] svc__C=10, svc__gamma=100, svc__kernel=poly .....................\n",
      "[CV]  svc__C=10, svc__gamma=100, svc__kernel=poly, score=0.544, total= 1.2min\n",
      "[CV] svc__C=100, svc__gamma=0.1, svc__kernel=rbf .....................\n",
      "[CV]  svc__C=100, svc__gamma=0.1, svc__kernel=rbf, score=0.769, total=  17.4s\n",
      "[CV] svc__C=100, svc__gamma=0.1, svc__kernel=rbf .....................\n",
      "[CV]  svc__C=100, svc__gamma=0.1, svc__kernel=rbf, score=0.773, total=  17.7s\n",
      "[CV] svc__C=100, svc__gamma=0.1, svc__kernel=rbf .....................\n",
      "[CV]  svc__C=100, svc__gamma=0.1, svc__kernel=rbf, score=0.781, total=  17.7s\n",
      "[CV] svc__C=100, svc__gamma=0.1, svc__kernel=rbf .....................\n",
      "[CV]  svc__C=100, svc__gamma=0.1, svc__kernel=rbf, score=0.767, total=  17.6s\n",
      "[CV] svc__C=100, svc__gamma=0.1, svc__kernel=rbf .....................\n",
      "[CV]  svc__C=100, svc__gamma=0.1, svc__kernel=rbf, score=0.771, total=  17.5s\n",
      "[CV] svc__C=100, svc__gamma=0.1, svc__kernel=linear ..................\n",
      "[CV]  svc__C=100, svc__gamma=0.1, svc__kernel=linear, score=0.782, total=  13.8s\n",
      "[CV] svc__C=100, svc__gamma=0.1, svc__kernel=linear ..................\n",
      "[CV]  svc__C=100, svc__gamma=0.1, svc__kernel=linear, score=0.778, total=  14.4s\n",
      "[CV] svc__C=100, svc__gamma=0.1, svc__kernel=linear ..................\n",
      "[CV]  svc__C=100, svc__gamma=0.1, svc__kernel=linear, score=0.787, total=  14.5s\n",
      "[CV] svc__C=100, svc__gamma=0.1, svc__kernel=linear ..................\n",
      "[CV]  svc__C=100, svc__gamma=0.1, svc__kernel=linear, score=0.783, total=  14.5s\n",
      "[CV] svc__C=100, svc__gamma=0.1, svc__kernel=linear ..................\n",
      "[CV]  svc__C=100, svc__gamma=0.1, svc__kernel=linear, score=0.776, total=  15.0s\n",
      "[CV] svc__C=100, svc__gamma=0.1, svc__kernel=poly ....................\n",
      "[CV]  svc__C=100, svc__gamma=0.1, svc__kernel=poly, score=0.516, total=  10.0s\n",
      "[CV] svc__C=100, svc__gamma=0.1, svc__kernel=poly ....................\n",
      "[CV]  svc__C=100, svc__gamma=0.1, svc__kernel=poly, score=0.513, total=   9.5s\n",
      "[CV] svc__C=100, svc__gamma=0.1, svc__kernel=poly ....................\n",
      "[CV]  svc__C=100, svc__gamma=0.1, svc__kernel=poly, score=0.519, total=   9.3s\n",
      "[CV] svc__C=100, svc__gamma=0.1, svc__kernel=poly ....................\n",
      "[CV]  svc__C=100, svc__gamma=0.1, svc__kernel=poly, score=0.523, total=   9.3s\n",
      "[CV] svc__C=100, svc__gamma=0.1, svc__kernel=poly ....................\n",
      "[CV]  svc__C=100, svc__gamma=0.1, svc__kernel=poly, score=0.526, total=   9.8s\n",
      "[CV] svc__C=100, svc__gamma=1, svc__kernel=rbf .......................\n",
      "[CV]  svc__C=100, svc__gamma=1, svc__kernel=rbf, score=0.763, total=  20.9s\n",
      "[CV] svc__C=100, svc__gamma=1, svc__kernel=rbf .......................\n",
      "[CV]  svc__C=100, svc__gamma=1, svc__kernel=rbf, score=0.775, total=  20.8s\n",
      "[CV] svc__C=100, svc__gamma=1, svc__kernel=rbf .......................\n",
      "[CV]  svc__C=100, svc__gamma=1, svc__kernel=rbf, score=0.789, total=  21.1s\n",
      "[CV] svc__C=100, svc__gamma=1, svc__kernel=rbf .......................\n",
      "[CV]  svc__C=100, svc__gamma=1, svc__kernel=rbf, score=0.774, total=  20.2s\n",
      "[CV] svc__C=100, svc__gamma=1, svc__kernel=rbf .......................\n",
      "[CV]  svc__C=100, svc__gamma=1, svc__kernel=rbf, score=0.771, total=  21.4s\n",
      "[CV] svc__C=100, svc__gamma=1, svc__kernel=linear ....................\n",
      "[CV]  svc__C=100, svc__gamma=1, svc__kernel=linear, score=0.782, total=  14.0s\n",
      "[CV] svc__C=100, svc__gamma=1, svc__kernel=linear ....................\n",
      "[CV]  svc__C=100, svc__gamma=1, svc__kernel=linear, score=0.778, total=  14.6s\n",
      "[CV] svc__C=100, svc__gamma=1, svc__kernel=linear ....................\n",
      "[CV]  svc__C=100, svc__gamma=1, svc__kernel=linear, score=0.787, total=  14.7s\n",
      "[CV] svc__C=100, svc__gamma=1, svc__kernel=linear ....................\n",
      "[CV]  svc__C=100, svc__gamma=1, svc__kernel=linear, score=0.783, total=  14.1s\n",
      "[CV] svc__C=100, svc__gamma=1, svc__kernel=linear ....................\n",
      "[CV]  svc__C=100, svc__gamma=1, svc__kernel=linear, score=0.776, total=  14.2s\n",
      "[CV] svc__C=100, svc__gamma=1, svc__kernel=poly ......................\n",
      "[CV]  svc__C=100, svc__gamma=1, svc__kernel=poly, score=0.550, total=  27.3s\n",
      "[CV] svc__C=100, svc__gamma=1, svc__kernel=poly ......................\n",
      "[CV]  svc__C=100, svc__gamma=1, svc__kernel=poly, score=0.553, total=  24.5s\n",
      "[CV] svc__C=100, svc__gamma=1, svc__kernel=poly ......................\n",
      "[CV]  svc__C=100, svc__gamma=1, svc__kernel=poly, score=0.556, total=  26.2s\n",
      "[CV] svc__C=100, svc__gamma=1, svc__kernel=poly ......................\n",
      "[CV]  svc__C=100, svc__gamma=1, svc__kernel=poly, score=0.553, total=  22.8s\n",
      "[CV] svc__C=100, svc__gamma=1, svc__kernel=poly ......................\n",
      "[CV]  svc__C=100, svc__gamma=1, svc__kernel=poly, score=0.550, total=  31.0s\n",
      "[CV] svc__C=100, svc__gamma=10, svc__kernel=rbf ......................\n",
      "[CV]  svc__C=100, svc__gamma=10, svc__kernel=rbf, score=0.538, total=  19.7s\n",
      "[CV] svc__C=100, svc__gamma=10, svc__kernel=rbf ......................\n",
      "[CV]  svc__C=100, svc__gamma=10, svc__kernel=rbf, score=0.539, total=  18.5s\n",
      "[CV] svc__C=100, svc__gamma=10, svc__kernel=rbf ......................\n",
      "[CV]  svc__C=100, svc__gamma=10, svc__kernel=rbf, score=0.545, total=  17.4s\n",
      "[CV] svc__C=100, svc__gamma=10, svc__kernel=rbf ......................\n",
      "[CV]  svc__C=100, svc__gamma=10, svc__kernel=rbf, score=0.535, total=  18.2s\n",
      "[CV] svc__C=100, svc__gamma=10, svc__kernel=rbf ......................\n",
      "[CV]  svc__C=100, svc__gamma=10, svc__kernel=rbf, score=0.533, total=  23.4s\n",
      "[CV] svc__C=100, svc__gamma=10, svc__kernel=linear ...................\n",
      "[CV]  svc__C=100, svc__gamma=10, svc__kernel=linear, score=0.782, total=  14.0s\n",
      "[CV] svc__C=100, svc__gamma=10, svc__kernel=linear ...................\n",
      "[CV]  svc__C=100, svc__gamma=10, svc__kernel=linear, score=0.778, total=  14.6s\n",
      "[CV] svc__C=100, svc__gamma=10, svc__kernel=linear ...................\n",
      "[CV]  svc__C=100, svc__gamma=10, svc__kernel=linear, score=0.787, total=  14.9s\n",
      "[CV] svc__C=100, svc__gamma=10, svc__kernel=linear ...................\n",
      "[CV]  svc__C=100, svc__gamma=10, svc__kernel=linear, score=0.783, total=  14.9s\n",
      "[CV] svc__C=100, svc__gamma=10, svc__kernel=linear ...................\n",
      "[CV]  svc__C=100, svc__gamma=10, svc__kernel=linear, score=0.776, total=  16.2s\n",
      "[CV] svc__C=100, svc__gamma=10, svc__kernel=poly .....................\n",
      "[CV]  svc__C=100, svc__gamma=10, svc__kernel=poly, score=0.544, total= 1.2min\n",
      "[CV] svc__C=100, svc__gamma=10, svc__kernel=poly .....................\n",
      "[CV]  svc__C=100, svc__gamma=10, svc__kernel=poly, score=0.547, total= 1.2min\n",
      "[CV] svc__C=100, svc__gamma=10, svc__kernel=poly .....................\n",
      "[CV]  svc__C=100, svc__gamma=10, svc__kernel=poly, score=0.550, total= 1.2min\n",
      "[CV] svc__C=100, svc__gamma=10, svc__kernel=poly .....................\n",
      "[CV]  svc__C=100, svc__gamma=10, svc__kernel=poly, score=0.546, total= 1.2min\n",
      "[CV] svc__C=100, svc__gamma=10, svc__kernel=poly .....................\n",
      "[CV]  svc__C=100, svc__gamma=10, svc__kernel=poly, score=0.544, total= 1.2min\n",
      "[CV] svc__C=100, svc__gamma=100, svc__kernel=rbf .....................\n",
      "[CV]  svc__C=100, svc__gamma=100, svc__kernel=rbf, score=0.529, total=  19.6s\n",
      "[CV] svc__C=100, svc__gamma=100, svc__kernel=rbf .....................\n",
      "[CV]  svc__C=100, svc__gamma=100, svc__kernel=rbf, score=0.531, total=  20.1s\n",
      "[CV] svc__C=100, svc__gamma=100, svc__kernel=rbf .....................\n",
      "[CV]  svc__C=100, svc__gamma=100, svc__kernel=rbf, score=0.537, total=  12.2s\n",
      "[CV] svc__C=100, svc__gamma=100, svc__kernel=rbf .....................\n",
      "[CV]  svc__C=100, svc__gamma=100, svc__kernel=rbf, score=0.527, total=  19.7s\n",
      "[CV] svc__C=100, svc__gamma=100, svc__kernel=rbf .....................\n",
      "[CV]  svc__C=100, svc__gamma=100, svc__kernel=rbf, score=0.528, total=  18.7s\n",
      "[CV] svc__C=100, svc__gamma=100, svc__kernel=linear ..................\n",
      "[CV]  svc__C=100, svc__gamma=100, svc__kernel=linear, score=0.782, total=  13.8s\n",
      "[CV] svc__C=100, svc__gamma=100, svc__kernel=linear ..................\n",
      "[CV]  svc__C=100, svc__gamma=100, svc__kernel=linear, score=0.778, total=  14.4s\n",
      "[CV] svc__C=100, svc__gamma=100, svc__kernel=linear ..................\n",
      "[CV]  svc__C=100, svc__gamma=100, svc__kernel=linear, score=0.787, total=  14.5s\n",
      "[CV] svc__C=100, svc__gamma=100, svc__kernel=linear ..................\n",
      "[CV]  svc__C=100, svc__gamma=100, svc__kernel=linear, score=0.783, total=  14.0s\n",
      "[CV] svc__C=100, svc__gamma=100, svc__kernel=linear ..................\n",
      "[CV]  svc__C=100, svc__gamma=100, svc__kernel=linear, score=0.776, total=  14.2s\n",
      "[CV] svc__C=100, svc__gamma=100, svc__kernel=poly ....................\n",
      "[CV]  svc__C=100, svc__gamma=100, svc__kernel=poly, score=0.544, total= 1.2min\n",
      "[CV] svc__C=100, svc__gamma=100, svc__kernel=poly ....................\n",
      "[CV]  svc__C=100, svc__gamma=100, svc__kernel=poly, score=0.547, total= 1.1min\n",
      "[CV] svc__C=100, svc__gamma=100, svc__kernel=poly ....................\n",
      "[CV]  svc__C=100, svc__gamma=100, svc__kernel=poly, score=0.550, total= 1.2min\n",
      "[CV] svc__C=100, svc__gamma=100, svc__kernel=poly ....................\n",
      "[CV]  svc__C=100, svc__gamma=100, svc__kernel=poly, score=0.546, total= 1.2min\n",
      "[CV] svc__C=100, svc__gamma=100, svc__kernel=poly ....................\n",
      "[CV]  svc__C=100, svc__gamma=100, svc__kernel=poly, score=0.544, total= 1.2min\n"
     ]
    },
    {
     "name": "stderr",
     "output_type": "stream",
     "text": [
      "[Parallel(n_jobs=1)]: Done 240 out of 240 | elapsed: 106.6min finished\n"
     ]
    },
    {
     "name": "stdout",
     "output_type": "stream",
     "text": [
      "Accuracy score is 0.79\n",
      "              precision    recall  f1-score   support\n",
      "\n",
      "           0       0.79      0.79      0.79      1406\n",
      "           1       0.79      0.79      0.79      1394\n",
      "\n",
      "    accuracy                           0.79      2800\n",
      "   macro avg       0.79      0.79      0.79      2800\n",
      "weighted avg       0.79      0.79      0.79      2800\n",
      "\n"
     ]
    }
   ],
   "source": [
    "pipe = make_pipeline(CountVectorizer(),\n",
    "                     TfidfTransformer(),\n",
    "                     SVC())\n",
    "param_grid = {'svc__kernel': ['rbf', 'linear', 'poly'],\n",
    "             'svc__gamma': [0.1, 1, 10, 100],\n",
    "             'svc__C': [0.1, 1, 10, 100]}\n",
    "\n",
    "svc_model = GridSearchCV(pipe, param_grid, cv=5, verbose=10)\n",
    "svc_model.fit(X_train, Y_train)\n",
    "\n",
    "prediction = svc_model.predict(X_test)\n",
    "print(f\"Accuracy score is {accuracy_score(Y_test, prediction):.2f}\")\n",
    "print(classification_report(Y_test, prediction))"
   ]
  },
  {
   "cell_type": "code",
   "execution_count": 71,
   "metadata": {},
   "outputs": [
    {
     "data": {
      "text/plain": [
       "{'svc__C': 100, 'svc__gamma': 0.1, 'svc__kernel': 'linear'}"
      ]
     },
     "execution_count": 71,
     "metadata": {},
     "output_type": "execute_result"
    }
   ],
   "source": [
    "svc_model.best_params_"
   ]
  },
  {
   "cell_type": "code",
   "execution_count": 72,
   "metadata": {},
   "outputs": [
    {
     "data": {
      "text/plain": [
       "array([1])"
      ]
     },
     "execution_count": 72,
     "metadata": {},
     "output_type": "execute_result"
    }
   ],
   "source": [
    "svc_model.predict([take_a_shower('الزمر فالطوندونس هو باطمة تلاقيتو تواتيتو')])"
   ]
  },
  {
   "cell_type": "code",
   "execution_count": 73,
   "metadata": {},
   "outputs": [],
   "source": [
    "pickle.dump(svc_model, open('./models/count_vect/svm_model.model', 'wb'))"
   ]
  },
  {
   "cell_type": "markdown",
   "metadata": {},
   "source": [
    "## Random Forest Model"
   ]
  },
  {
   "cell_type": "code",
   "execution_count": 62,
   "metadata": {},
   "outputs": [
    {
     "name": "stdout",
     "output_type": "stream",
     "text": [
      "Accuracy score is 0.81\n",
      "              precision    recall  f1-score   support\n",
      "\n",
      "           0       0.78      0.87      0.82      1406\n",
      "           1       0.85      0.75      0.80      1394\n",
      "\n",
      "    accuracy                           0.81      2800\n",
      "   macro avg       0.82      0.81      0.81      2800\n",
      "weighted avg       0.82      0.81      0.81      2800\n",
      "\n"
     ]
    }
   ],
   "source": [
    "pipe = make_pipeline(CountVectorizer(),\n",
    "                     TfidfTransformer(),\n",
    "                     RandomForestClassifier())\n",
    "\n",
    "param_grid = {'randomforestclassifier__n_estimators':[10, 100, 1000],\n",
    "             'randomforestclassifier__max_features':['sqrt', 'log2']}\n",
    "\n",
    "rf_model = GridSearchCV(pipe, param_grid, cv=5)\n",
    "rf_model.fit(X_train,Y_train)\n",
    "\n",
    "prediction = rf_model.predict(X_test)\n",
    "print(f\"Accuracy score is {accuracy_score(Y_test, prediction):.2f}\")\n",
    "print(classification_report(Y_test, prediction))"
   ]
  },
  {
   "cell_type": "code",
   "execution_count": 64,
   "metadata": {},
   "outputs": [
    {
     "data": {
      "text/plain": [
       "{'randomforestclassifier__max_features': 'sqrt',\n",
       " 'randomforestclassifier__n_estimators': 100}"
      ]
     },
     "execution_count": 64,
     "metadata": {},
     "output_type": "execute_result"
    }
   ],
   "source": [
    "rf_model.best_params_"
   ]
  },
  {
   "cell_type": "code",
   "execution_count": 65,
   "metadata": {},
   "outputs": [
    {
     "data": {
      "text/plain": [
       "array([1])"
      ]
     },
     "execution_count": 65,
     "metadata": {},
     "output_type": "execute_result"
    }
   ],
   "source": [
    "rf_model.predict([take_a_shower('الزمر فالطوندونس هو باطمة تلاقيتو تواتيتو')])"
   ]
  },
  {
   "cell_type": "code",
   "execution_count": 66,
   "metadata": {},
   "outputs": [],
   "source": [
    "pickle.dump(rf_model, open('./models/count_vect/randomforest_model.model', 'wb'))"
   ]
  },
  {
   "cell_type": "markdown",
   "metadata": {},
   "source": [
    "## Naive Bayes Model"
   ]
  },
  {
   "cell_type": "code",
   "execution_count": 10,
   "metadata": {},
   "outputs": [
    {
     "name": "stdout",
     "output_type": "stream",
     "text": [
      "Accuracy score is 0.72\n",
      "              precision    recall  f1-score   support\n",
      "\n",
      "           0       0.84      0.55      0.66      1406\n",
      "           1       0.66      0.89      0.76      1394\n",
      "\n",
      "    accuracy                           0.72      2800\n",
      "   macro avg       0.75      0.72      0.71      2800\n",
      "weighted avg       0.75      0.72      0.71      2800\n",
      "\n"
     ]
    }
   ],
   "source": [
    "pipe = make_pipeline(CountVectorizer(),\n",
    "                     TfidfTransformer(),\n",
    "                     MultinomialNB())\n",
    "pipe.fit(X_train,Y_train)\n",
    "prediction = pipe.predict(X_test)\n",
    "print(f\"Accuracy score is {accuracy_score(Y_test, prediction):.2f}\")\n",
    "print(classification_report(Y_test, prediction))"
   ]
  },
  {
   "cell_type": "code",
   "execution_count": 12,
   "metadata": {},
   "outputs": [
    {
     "data": {
      "text/plain": [
       "array([1])"
      ]
     },
     "execution_count": 12,
     "metadata": {},
     "output_type": "execute_result"
    }
   ],
   "source": [
    "pipe.predict([take_a_shower('الزمر فالطوندونس هو باطمة تلاقيتو تواتيتو')])"
   ]
  }
 ],
 "metadata": {
  "kernelspec": {
   "display_name": "env",
   "language": "python",
   "name": "env"
  },
  "language_info": {
   "codemirror_mode": {
    "name": "ipython",
    "version": 3
   },
   "file_extension": ".py",
   "mimetype": "text/x-python",
   "name": "python",
   "nbconvert_exporter": "python",
   "pygments_lexer": "ipython3",
   "version": "3.8.5"
  }
 },
 "nbformat": 4,
 "nbformat_minor": 4
}
