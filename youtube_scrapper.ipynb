{
 "cells": [
  {
   "cell_type": "code",
   "execution_count": 10,
   "metadata": {},
   "outputs": [],
   "source": [
    "import sys, io, time, csv\n",
    "import pandas as pd\n",
    "from tqdm import tqdm\n",
    "from selenium import webdriver\n",
    "from selenium.common import exceptions"
   ]
  },
  {
   "cell_type": "markdown",
   "metadata": {},
   "source": [
    "Extracts the comments from the Youtube video given by the URL."
   ]
  },
  {
   "cell_type": "code",
   "execution_count": 13,
   "metadata": {},
   "outputs": [],
   "source": [
    "def scrape(url):\n",
    "    \"\"\"\n",
    "    Extracts the comments from the Youtube video given by the URL.\n",
    "    Args:\n",
    "        url (str): The URL to the Youtube video\n",
    "    Raises:\n",
    "        selenium.common.exceptions.NoSuchElementException:\n",
    "        When certain elements to look for cannot be found\n",
    "    \"\"\"\n",
    "\n",
    "    # Note: Download and replace argument with path to the driver executable.\n",
    "    # Simply download the executable and move it into the webdrivers folder.\n",
    "    driver = webdriver.Chrome('./chromedriver.exe')\n",
    "\n",
    "    # Navigates to the URL, maximizes the current window, and\n",
    "    # then suspends execution for (at least) 5 seconds (this\n",
    "    # gives time for the page to load).\n",
    "    driver.get(url)\n",
    "    driver.maximize_window()\n",
    "    time.sleep(10)\n",
    "\n",
    "    try:\n",
    "        # Extract the elements storing the video title and\n",
    "        # comment section.\n",
    "        title = driver.find_element_by_xpath('//*[@id=\"container\"]/h1/yt-formatted-string').text\n",
    "        comment_section = driver.find_element_by_xpath('//*[@id=\"comments\"]')\n",
    "    except exceptions.NoSuchElementException:\n",
    "        # Note: Youtube may have changed their HTML layouts for\n",
    "        # videos, so raise an error for sanity sake in case the\n",
    "        # elements provided cannot be found anymore.\n",
    "        error = \"Error: Double check selector OR \"\n",
    "        error += \"element may not yet be on the screen at the time of the find operation\"\n",
    "        print(error)\n",
    "\n",
    "    # Scroll into view the comment section, then allow some time\n",
    "    # for everything to be loaded as necessary.\n",
    "    driver.execute_script(\"arguments[0].scrollIntoView();\", comment_section)\n",
    "    time.sleep(12)\n",
    "\n",
    "    # Scroll all the way down to the bottom in order to get all the\n",
    "    # elements loaded (since Youtube dynamically loads them).\n",
    "    last_height = driver.execute_script(\"return document.documentElement.scrollHeight\")\n",
    "\n",
    "    while True:\n",
    "        # Scroll down 'til \"next load\".\n",
    "        driver.execute_script(\"window.scrollTo(0, document.documentElement.scrollHeight);\")\n",
    "\n",
    "        # Wait to load everything thus far.\n",
    "        time.sleep(5)\n",
    "\n",
    "        # Calculate new scroll height and compare with last scroll height.\n",
    "        new_height = driver.execute_script(\"return document.documentElement.scrollHeight\")\n",
    "        if new_height == last_height:\n",
    "            break\n",
    "        last_height = new_height\n",
    "\n",
    "    # One last scroll just in case.\n",
    "    driver.execute_script(\"window.scrollTo(0, document.documentElement.scrollHeight);\")\n",
    "\n",
    "    try:\n",
    "        # Extract the elements storing the usernames and comments.\n",
    "        username_elems = driver.find_elements_by_xpath('//*[@id=\"author-text\"]')\n",
    "        comment_elems = driver.find_elements_by_xpath('//*[@id=\"content-text\"]')\n",
    "    except exceptions.NoSuchElementException:\n",
    "        error = \"Error: Double check selector OR \"\n",
    "        error += \"element may not yet be on the screen at the time of the find operation\"\n",
    "        print(error)\n",
    "\n",
    "#     print(\"> VIDEO TITLE: \" + title + \"\\n\" + \"====> \" + str(len(username_elems)) + \" Comments found. \\n\")\n",
    "\n",
    "    with io.open('./data/results.csv', 'a', newline='', encoding=\"utf-16\") as file:\n",
    "        writer = csv.writer(file, delimiter =\",\", quoting=csv.QUOTE_ALL)\n",
    "#         writer.writerow([\"Username\", \"Comment\"])\n",
    "        for username, comment in zip(username_elems, comment_elems):\n",
    "            writer.writerow([username.text, comment.text])\n",
    "\n",
    "    driver.close()"
   ]
  },
  {
   "cell_type": "code",
   "execution_count": 14,
   "metadata": {},
   "outputs": [
    {
     "name": "stdout",
     "output_type": "stream",
     "text": [
      "> VIDEO TITLE: حلقة بعنوان : بزاااف ديال البرد\n",
      "====> 38 Comments found. \n",
      "\n"
     ]
    }
   ],
   "source": [
    "scrape(\"https://www.youtube.com/watch?v=WuisRYDpQQg\")"
   ]
  },
  {
   "cell_type": "code",
   "execution_count": 26,
   "metadata": {},
   "outputs": [
    {
     "data": {
      "text/html": [
       "<div>\n",
       "<style scoped>\n",
       "    .dataframe tbody tr th:only-of-type {\n",
       "        vertical-align: middle;\n",
       "    }\n",
       "\n",
       "    .dataframe tbody tr th {\n",
       "        vertical-align: top;\n",
       "    }\n",
       "\n",
       "    .dataframe thead th {\n",
       "        text-align: right;\n",
       "    }\n",
       "</style>\n",
       "<table border=\"1\" class=\"dataframe\">\n",
       "  <thead>\n",
       "    <tr style=\"text-align: right;\">\n",
       "      <th></th>\n",
       "      <th>url</th>\n",
       "    </tr>\n",
       "  </thead>\n",
       "  <tbody>\n",
       "    <tr>\n",
       "      <th>0</th>\n",
       "      <td>https://www.youtube.com/watch?v=zpAxJfKxucw</td>\n",
       "    </tr>\n",
       "    <tr>\n",
       "      <th>1</th>\n",
       "      <td>https://www.youtube.com/watch?v=C5z27AuXRck</td>\n",
       "    </tr>\n",
       "    <tr>\n",
       "      <th>2</th>\n",
       "      <td>https://www.youtube.com/watch?v=61FilFpMVJ8</td>\n",
       "    </tr>\n",
       "    <tr>\n",
       "      <th>3</th>\n",
       "      <td>https://www.youtube.com/watch?v=Kxq1id9Be0o</td>\n",
       "    </tr>\n",
       "    <tr>\n",
       "      <th>4</th>\n",
       "      <td>https://www.youtube.com/watch?v=AEOFY1E499o</td>\n",
       "    </tr>\n",
       "  </tbody>\n",
       "</table>\n",
       "</div>"
      ],
      "text/plain": [
       "                                           url\n",
       "0  https://www.youtube.com/watch?v=zpAxJfKxucw\n",
       "1  https://www.youtube.com/watch?v=C5z27AuXRck\n",
       "2  https://www.youtube.com/watch?v=61FilFpMVJ8\n",
       "3  https://www.youtube.com/watch?v=Kxq1id9Be0o\n",
       "4  https://www.youtube.com/watch?v=AEOFY1E499o"
      ]
     },
     "execution_count": 26,
     "metadata": {},
     "output_type": "execute_result"
    }
   ],
   "source": [
    "yt_urls = pd.read_csv('./data/youtube_videos.csv')\n",
    "yt_urls.head()"
   ]
  },
  {
   "cell_type": "code",
   "execution_count": 27,
   "metadata": {},
   "outputs": [
    {
     "name": "stderr",
     "output_type": "stream",
     "text": [
      "  0%|                                                                                           | 0/51 [00:00<?, ?it/s]"
     ]
    },
    {
     "name": "stdout",
     "output_type": "stream",
     "text": [
      "> VIDEO TITLE: من طنجة..نايضة بالمحكمة وقاتل الطفل عدنان يعترف للقاضي بتفاصيل خطيرة..شوفو كيفاش قتل الضحية\n",
      "====> 20 Comments found. \n",
      "\n"
     ]
    },
    {
     "name": "stderr",
     "output_type": "stream",
     "text": [
      "  4%|███▎                                                                               | 2/51 [01:07<28:58, 35.48s/it]"
     ]
    },
    {
     "name": "stdout",
     "output_type": "stream",
     "text": [
      "> VIDEO TITLE: الفنان ولد الحوات فركع الرمانة وفضح المنادجر ديالو والقضية فيها الاعتداء على الشيخات والفلوس\n",
      "====> 0 Comments found. \n",
      "\n",
      "> VIDEO TITLE: من الدارالبيضاء..فضيحة كبرى للفنان سعيد ولد الحوات يكشفها مدير أعماله: هاشنو دار ليا أسرار خطيرة\n",
      "====> 60 Comments found. \n",
      "\n"
     ]
    },
    {
     "name": "stderr",
     "output_type": "stream",
     "text": [
      "  6%|████▉                                                                              | 3/51 [01:51<30:24, 38.02s/it]"
     ]
    },
    {
     "name": "stdout",
     "output_type": "stream",
     "text": [
      "> VIDEO TITLE: مباشرة من برشيد ..الشيخة الناشطة تفجرها وتدخل على خط قضية سعيد ولد الحوات والمنادجر\n",
      "====> 490 Comments found. \n",
      "\n"
     ]
    },
    {
     "name": "stderr",
     "output_type": "stream",
     "text": [
      "  8%|██████▌                                                                            | 4/51 [04:34<59:15, 75.64s/it]"
     ]
    },
    {
     "name": "stdout",
     "output_type": "stream",
     "text": [
      "> VIDEO TITLE: Chikha Trax, ACH GALOU 3LIK ? l DailyBuzz\n",
      "====> 450 Comments found. \n",
      "\n"
     ]
    },
    {
     "name": "stderr",
     "output_type": "stream",
     "text": [
      " 10%|███████▉                                                                         | 5/51 [07:04<1:15:02, 97.89s/it]"
     ]
    },
    {
     "name": "stdout",
     "output_type": "stream",
     "text": [
      "> VIDEO TITLE: حصري..فيديو كليب \" حلوفة \" عادل الميلودي ـ الشيخة طراكس - adil el miloudi Chikha trax 7aloufa\n",
      "====> 1560 Comments found. \n",
      "\n"
     ]
    },
    {
     "name": "stderr",
     "output_type": "stream",
     "text": [
      " 12%|█████████▍                                                                      | 6/51 [23:28<4:32:43, 363.63s/it]"
     ]
    },
    {
     "name": "stdout",
     "output_type": "stream",
     "text": [
      "> VIDEO TITLE: فيصل إثري قلب الأسم وولات سميتو \"تسكت شو\"..شوفو كيفاش لابس ملابس النساء وكيفاش كيهدر\n",
      "====> 1560 Comments found. \n",
      "\n"
     ]
    },
    {
     "name": "stderr",
     "output_type": "stream",
     "text": [
      " 14%|██████████▉                                                                     | 7/51 [38:04<6:19:23, 517.36s/it]"
     ]
    },
    {
     "name": "stdout",
     "output_type": "stream",
     "text": [
      "> VIDEO TITLE: 💥فيصل إثريFaysal Itri يجيب بصراحة على أسئلة عمو الباريزيAmou Albarizi🔥😁\n",
      "====> 20 Comments found. \n",
      "\n"
     ]
    },
    {
     "name": "stderr",
     "output_type": "stream",
     "text": [
      " 16%|████████████▌                                                                   | 8/51 [38:39<4:27:04, 372.66s/it]"
     ]
    },
    {
     "name": "stdout",
     "output_type": "stream",
     "text": [
      "> VIDEO TITLE: التحيار.. الشطيح والرديح في تيميتار\n",
      "====> 810 Comments found. \n",
      "\n"
     ]
    },
    {
     "name": "stderr",
     "output_type": "stream",
     "text": [
      " 18%|██████████████                                                                  | 9/51 [43:08<3:59:09, 341.64s/it]"
     ]
    },
    {
     "name": "stdout",
     "output_type": "stream",
     "text": [
      "> VIDEO TITLE: فديو كليب فيصل اتري اغنية الله سيدنا حصريا 2020faysal itri\n",
      "====> 1471 Comments found. \n",
      "\n"
     ]
    },
    {
     "name": "stderr",
     "output_type": "stream",
     "text": [
      " 20%|███████████████▍                                                               | 10/51 [52:34<4:39:27, 408.95s/it]"
     ]
    },
    {
     "name": "stdout",
     "output_type": "stream",
     "text": [
      "> VIDEO TITLE: فيصل إثري يدافع على بطمة: دنيا ماكتستهزأش مني... وهذا سر الروبيني وقيمة هوليود سمايل\n",
      "====> 364 Comments found. \n",
      "\n"
     ]
    },
    {
     "name": "stderr",
     "output_type": "stream",
     "text": [
      " 22%|█████████████████                                                              | 11/51 [54:32<3:34:20, 321.52s/it]"
     ]
    },
    {
     "name": "stdout",
     "output_type": "stream",
     "text": [
      "> VIDEO TITLE: بعد ضجة رقصتهما الغريبة بمهرجان تميتار الشابان المثيران للجدل بأكادير يردان\n",
      "====> 60 Comments found. \n",
      "\n"
     ]
    },
    {
     "name": "stderr",
     "output_type": "stream",
     "text": [
      " 24%|██████████████████▌                                                            | 12/51 [55:09<2:33:39, 236.40s/it]"
     ]
    },
    {
     "name": "stdout",
     "output_type": "stream",
     "text": [
      "> VIDEO TITLE: Adam lhlou live ادوما يتحلون متل البناة 2020\n",
      "====> 4 Comments found. \n",
      "\n"
     ]
    },
    {
     "name": "stderr",
     "output_type": "stream",
     "text": [
      " 25%|████████████████████▏                                                          | 13/51 [55:41<1:50:45, 174.89s/it]"
     ]
    },
    {
     "name": "stdout",
     "output_type": "stream",
     "text": [
      "> VIDEO TITLE: ساري كوول طلعات مع صوفيا طالوني نري شد فكرشك بالضحك 🔥🔥🔥\n",
      "====> 1300 Comments found. \n",
      "\n"
     ]
    },
    {
     "name": "stderr",
     "output_type": "stream",
     "text": [
      " 27%|█████████████████████▏                                                       | 14/51 [1:04:30<2:53:26, 281.27s/it]"
     ]
    },
    {
     "name": "stdout",
     "output_type": "stream",
     "text": [
      "> VIDEO TITLE: المثير للجدل جواد قنانة يفضح الفنانة باعزية:كلات اللوبيا وتفركعات عليا وشميت الريحة خايبة\n",
      "====> 386 Comments found. \n",
      "\n"
     ]
    },
    {
     "name": "stderr",
     "output_type": "stream",
     "text": [
      " 29%|██████████████████████▋                                                      | 15/51 [1:06:34<2:20:28, 234.11s/it]"
     ]
    },
    {
     "name": "stdout",
     "output_type": "stream",
     "text": [
      "> VIDEO TITLE: Malhama : Abtal Al Watan l ملحمة : أبطال الوطن\n",
      "====> 1019 Comments found. \n",
      "\n"
     ]
    },
    {
     "name": "stderr",
     "output_type": "stream",
     "text": [
      " 31%|████████████████████████▏                                                    | 16/51 [1:13:03<2:43:38, 280.52s/it]"
     ]
    },
    {
     "name": "stdout",
     "output_type": "stream",
     "text": [
      "> VIDEO TITLE: ساري كوول حصللت واحد تيكفت فلايف نري الهربة ديال الضحك🤣🤣\n",
      "====> 20 Comments found. \n",
      "\n"
     ]
    },
    {
     "name": "stderr",
     "output_type": "stream",
     "text": [
      " 33%|█████████████████████████▋                                                   | 17/51 [1:13:42<1:57:51, 208.00s/it]"
     ]
    },
    {
     "name": "stdout",
     "output_type": "stream",
     "text": [
      "> VIDEO TITLE: ⛔صوفيا طالوني خطفات الرجل ديال ساري كوول 😝نري خو.راتها على المباشر 😆\n",
      "====> 361 Comments found. \n",
      "\n"
     ]
    },
    {
     "name": "stderr",
     "output_type": "stream",
     "text": [
      " 35%|███████████████████████████▏                                                 | 18/51 [1:15:41<1:39:46, 181.42s/it]"
     ]
    },
    {
     "name": "stdout",
     "output_type": "stream",
     "text": [
      "> VIDEO TITLE: 💥صوفيا طالوني وسينا فالفراش 😯نري كيديرو الكلام😆\n",
      "====> 20 Comments found. \n",
      "\n"
     ]
    },
    {
     "name": "stderr",
     "output_type": "stream",
     "text": [
      " 37%|████████████████████████████▋                                                | 19/51 [1:16:20<1:13:56, 138.63s/it]"
     ]
    },
    {
     "name": "stdout",
     "output_type": "stream",
     "text": [
      "> VIDEO TITLE: نسولو الناس : علاش الدعارة انتشرات بكثرة فكازا؟ | شوف تيفي\n",
      "====> 1540 Comments found. \n",
      "\n"
     ]
    },
    {
     "name": "stderr",
     "output_type": "stream",
     "text": [
      " 39%|██████████████████████████████▏                                              | 20/51 [1:31:19<3:09:32, 366.84s/it]"
     ]
    },
    {
     "name": "stdout",
     "output_type": "stream",
     "text": [
      "> VIDEO TITLE: فوضى..عربدة و حوادث في ليل الدارالبيضاء\n",
      "====> 260 Comments found. \n",
      "\n"
     ]
    },
    {
     "name": "stderr",
     "output_type": "stream",
     "text": [
      " 41%|███████████████████████████████▋                                             | 21/51 [1:32:45<2:21:10, 282.35s/it]"
     ]
    },
    {
     "name": "stdout",
     "output_type": "stream",
     "text": [
      "> VIDEO TITLE: مؤثر .. عاهرة تحكي لشوف تيفي عن عالمها الليلي و تطلب المساعدة من المحسنين | شوف تيفي\n",
      "====> 60 Comments found. \n",
      "\n"
     ]
    },
    {
     "name": "stderr",
     "output_type": "stream",
     "text": [
      " 43%|█████████████████████████████████▏                                           | 22/51 [1:33:17<1:40:15, 207.43s/it]"
     ]
    },
    {
     "name": "stdout",
     "output_type": "stream",
     "text": [
      "> VIDEO TITLE: صاحب عبارة إكشوان يكشف لأول مرة قصته المؤثرة وهاكيفاش تعرف على مراتو اليتيمة و نقذها من الزنقة\n",
      "====> 1540 Comments found. \n",
      "\n"
     ]
    },
    {
     "name": "stderr",
     "output_type": "stream",
     "text": [
      " 45%|██████████████████████████████████▋                                          | 23/51 [1:47:55<3:10:40, 408.60s/it]"
     ]
    },
    {
     "name": "stdout",
     "output_type": "stream",
     "text": [
      "> VIDEO TITLE: بعيدا عن بذلة الرقص..أول خروج إعلامي للراقصة مايا الشهيرة.. الراقصة نور هي اللي دخلاتني لهاذ الميدان\n",
      "====> 80 Comments found. \n",
      "\n"
     ]
    },
    {
     "name": "stderr",
     "output_type": "stream",
     "text": [
      " 47%|████████████████████████████████████▏                                        | 24/51 [1:48:37<2:14:23, 298.65s/it]"
     ]
    },
    {
     "name": "stdout",
     "output_type": "stream",
     "text": [
      "> VIDEO TITLE: أسرة الشابة مولات الخمار بطلة الفيديو الفاضح بتطوان تفجر قنبلة من العيار الثقيل والقضية كبيرة\n",
      "====> 998 Comments found. \n",
      "\n"
     ]
    },
    {
     "name": "stderr",
     "output_type": "stream",
     "text": [
      " 49%|█████████████████████████████████████▋                                       | 25/51 [1:54:50<2:19:02, 320.86s/it]"
     ]
    },
    {
     "name": "stdout",
     "output_type": "stream",
     "text": [
      "> VIDEO TITLE: الصديقة المقربة من مولات الخمار بطلة الفيديو الفاضح لي هز المغاربة تكشف حقائق خطيرة\n",
      "====> 200 Comments found. \n",
      "\n"
     ]
    },
    {
     "name": "stderr",
     "output_type": "stream",
     "text": [
      " 51%|███████████████████████████████████████▎                                     | 26/51 [1:56:02<1:42:34, 246.16s/it]"
     ]
    },
    {
     "name": "stdout",
     "output_type": "stream",
     "text": [
      "> VIDEO TITLE: ولد فنانة مغربية شهيرة يفجرها بوجه مكشوف:\"أنا مثلي وخالي غتاصبني وكنمشي مع الرجال بالفلوس\n",
      "====> 180 Comments found. \n",
      "\n"
     ]
    },
    {
     "name": "stderr",
     "output_type": "stream",
     "text": [
      " 53%|████████████████████████████████████████▊                                    | 27/51 [1:57:11<1:17:13, 193.06s/it]"
     ]
    },
    {
     "name": "stdout",
     "output_type": "stream",
     "text": [
      "> VIDEO TITLE: من كازا: أول خروج إعلامي للشابة لي قالت بأنها كتفسد على راجلها وكتمارس الجنس مع أي واحد تلاقات به\n",
      "====> 40 Comments found. \n",
      "\n"
     ]
    },
    {
     "name": "stderr",
     "output_type": "stream",
     "text": [
      " 55%|███████████████████████████████████████████▎                                   | 28/51 [1:57:54<56:41, 147.91s/it]"
     ]
    },
    {
     "name": "stdout",
     "output_type": "stream",
     "text": [
      "> VIDEO TITLE: قضية أخطر فضيحة زنا محارم كبرات والشابة المتزوجة تفجرها مرة أخرى بوجه مكشوف:بابا وخويا تناوبو عليا\n",
      "====> 813 Comments found. \n",
      "\n"
     ]
    },
    {
     "name": "stderr",
     "output_type": "stream",
     "text": [
      " 57%|███████████████████████████████████████████▊                                 | 29/51 [2:02:35<1:08:56, 188.04s/it]"
     ]
    },
    {
     "name": "stdout",
     "output_type": "stream",
     "text": [
      "> VIDEO TITLE: أول روتيني يومي على المباشروهاكيفاش كدير البطلة ديالو هي وراجلها:عاجبني راسي وخشا ليا جنوية فالمؤخرة\n",
      "====> 1540 Comments found. \n",
      "\n"
     ]
    },
    {
     "name": "stderr",
     "output_type": "stream",
     "text": [
      " 59%|█████████████████████████████████████████████▎                               | 30/51 [2:16:57<2:16:32, 390.13s/it]"
     ]
    },
    {
     "name": "stdout",
     "output_type": "stream",
     "text": [
      "> VIDEO TITLE: ابنة نوال المتوكل تثير الجدل بسبب صورها المثيرة\n",
      "====> 952 Comments found. \n",
      "\n"
     ]
    },
    {
     "name": "stderr",
     "output_type": "stream",
     "text": [
      " 61%|██████████████████████████████████████████████▊                              | 31/51 [2:22:37<2:05:04, 375.23s/it]"
     ]
    },
    {
     "name": "stdout",
     "output_type": "stream",
     "text": [
      "> VIDEO TITLE: فيديو الفضيحة:أول رد من ليلى بعد تسريب صورها الخاصة:هاذوك التصاور ديالي وسيفطتهم ليه ولختو وهاالدليل\n",
      "====> 1458 Comments found. \n",
      "\n"
     ]
    },
    {
     "name": "stderr",
     "output_type": "stream",
     "text": [
      " 63%|████████████████████████████████████████████████▎                            | 32/51 [2:32:59<2:22:11, 449.01s/it]"
     ]
    },
    {
     "name": "stdout",
     "output_type": "stream",
     "text": [
      "> VIDEO TITLE: الراقصة هيام تعود إليكم برقصة جريئة ولباس جديد وتقول لمنتقديها:\"موتو بالسم\"\n",
      "====> 1540 Comments found. \n",
      "\n"
     ]
    },
    {
     "name": "stderr",
     "output_type": "stream",
     "text": [
      " 65%|█████████████████████████████████████████████████▊                           | 33/51 [2:48:02<2:55:35, 585.30s/it]"
     ]
    },
    {
     "name": "stdout",
     "output_type": "stream",
     "text": [
      "> VIDEO TITLE: شاب عندو الشكل ديال البنات :\"أنا شاذ جنسي ومعنديش الخصيتين والأب ديالي جرا عليا وكندير الماكياج\"\n",
      "====> 80 Comments found. \n",
      "\n"
     ]
    },
    {
     "name": "stderr",
     "output_type": "stream",
     "text": [
      " 67%|███████████████████████████████████████████████████▎                         | 34/51 [2:48:43<1:59:35, 422.10s/it]"
     ]
    },
    {
     "name": "stdout",
     "output_type": "stream",
     "text": [
      "> VIDEO TITLE: المحامي الشهير بطل فضيحة الشابة التي أنجب منها طفلة وأنكرها \"ما مرتاحش\" مسكين\n",
      "====> 882 Comments found. \n",
      "\n"
     ]
    },
    {
     "name": "stderr",
     "output_type": "stream",
     "text": [
      " 69%|████████████████████████████████████████████████████▊                        | 35/51 [2:53:38<1:42:22, 383.89s/it]"
     ]
    },
    {
     "name": "stdout",
     "output_type": "stream",
     "text": [
      "> VIDEO TITLE: على المباشر..فضيحة زيان الأخلاقية تهز الرأي العام المغربي..حصل عريان مع امرأة متزوجة..ما تعليقكم؟\n",
      "====> 60 Comments found. \n",
      "\n"
     ]
    },
    {
     "name": "stderr",
     "output_type": "stream",
     "text": [
      " 71%|██████████████████████████████████████████████████████▎                      | 36/51 [2:54:15<1:09:56, 279.78s/it]"
     ]
    },
    {
     "name": "stdout",
     "output_type": "stream",
     "text": [
      "> VIDEO TITLE: أميمة باعزية تكشف المستور وترد على المثير للجدل قنانة:\"هداك راه مهتوك ومشروك وكذاب\"\n",
      "====> 456 Comments found. \n",
      "\n"
     ]
    },
    {
     "name": "stderr",
     "output_type": "stream",
     "text": [
      " 73%|█████████████████████████████████████████████████████████▎                     | 37/51 [2:56:38<55:41, 238.69s/it]"
     ]
    },
    {
     "name": "stdout",
     "output_type": "stream",
     "text": [
      "> VIDEO TITLE: أسرار فضيحة محامي كازا الشهير وليلى الضحية ومقلب زوجته المحامية\n",
      "====> 1296 Comments found. \n",
      "\n"
     ]
    },
    {
     "name": "stderr",
     "output_type": "stream",
     "text": [
      " 75%|█████████████████████████████████████████████████████████▎                   | 38/51 [3:05:05<1:09:12, 319.40s/it]"
     ]
    },
    {
     "name": "stdout",
     "output_type": "stream",
     "text": [
      "> VIDEO TITLE: بعد ظهورها فروتيني اليومي زوج طعن مراتو فالمؤخرة ديالها وفمناطقها الحساسة بسبب الفيديوهات ديالها\n",
      "====> 1540 Comments found. \n",
      "\n"
     ]
    },
    {
     "name": "stderr",
     "output_type": "stream",
     "text": [
      " 76%|██████████████████████████████████████████████████████████▉                  | 39/51 [3:20:12<1:39:07, 495.65s/it]"
     ]
    },
    {
     "name": "stdout",
     "output_type": "stream",
     "text": [
      "> VIDEO TITLE: قنبلة:رشيد رفيق مشى فيها..شابة تفجرها:مشيت معاه لوطيل خذا ليا شرفي ولدو عندو 10 أشهر ومامعترفش بيه\n",
      "====> 1540 Comments found. \n",
      "\n"
     ]
    },
    {
     "name": "stderr",
     "output_type": "stream",
     "text": [
      " 78%|████████████████████████████████████████████████████████████▍                | 40/51 [3:34:46<1:51:39, 609.06s/it]"
     ]
    },
    {
     "name": "stdout",
     "output_type": "stream",
     "text": [
      "> VIDEO TITLE: ميمة معر ية فلايف وكلام سا خن نسخة روتيني اليومي | Fa diha Rotini Alyawmi V2\n",
      "====> 20 Comments found. \n",
      "\n"
     ]
    },
    {
     "name": "stderr",
     "output_type": "stream",
     "text": [
      " 80%|█████████████████████████████████████████████████████████████▉               | 41/51 [3:35:19<1:12:43, 436.39s/it]"
     ]
    },
    {
     "name": "stdout",
     "output_type": "stream",
     "text": [
      "> VIDEO TITLE: أول روتيني يومي على المباشروهاكيفاش كدير البطلة ديالو هي وراجلها:عاجبني راسي وخشا ليا جنوية فالمؤخرة\n",
      "====> 1540 Comments found. \n",
      "\n"
     ]
    },
    {
     "name": "stderr",
     "output_type": "stream",
     "text": [
      " 82%|███████████████████████████████████████████████████████████████▍             | 42/51 [3:49:53<1:25:07, 567.54s/it]"
     ]
    },
    {
     "name": "stdout",
     "output_type": "stream",
     "text": [
      "> VIDEO TITLE: لـمــوت ديال ضـحــك لـمـغـاربـة و لــجـنـس\n",
      "====> 1273 Comments found. \n",
      "\n"
     ]
    },
    {
     "name": "stderr",
     "output_type": "stream",
     "text": [
      " 86%|████████████████████████████████████████████████████████████████████▏          | 44/51 [3:59:13<46:35, 399.30s/it]"
     ]
    },
    {
     "name": "stdout",
     "output_type": "stream",
     "text": [
      "> VIDEO TITLE: مباشرة من إقليم الصويرة: تصريحات صادمة من اسرة الأم للقاوها مقتولة فدار راجلها ج2\n",
      "====> 0 Comments found. \n",
      "\n",
      "> VIDEO TITLE: أغرب وأخطر قصة فزمن كورونا..مغربية تعيش في جسد رجل:أنا راجل وكنتعذب حيت عندي جهاز تناسلي بحال البنات\n",
      "====> 1480 Comments found. \n",
      "\n"
     ]
    },
    {
     "name": "stderr",
     "output_type": "stream",
     "text": [
      " 88%|█████████████████████████████████████████████████████████████████████▋         | 45/51 [4:10:07<47:33, 475.53s/it]"
     ]
    },
    {
     "name": "stdout",
     "output_type": "stream",
     "text": [
      "> VIDEO TITLE: قضية أخطر فضيحة زنا محارم كبرات والشابة المتزوجة تفجرها مرة أخرى بوجه مكشوف:بابا وخويا تناوبو عليا\n",
      "====> 812 Comments found. \n",
      "\n"
     ]
    },
    {
     "name": "stderr",
     "output_type": "stream",
     "text": [
      " 90%|███████████████████████████████████████████████████████████████████████▎       | 46/51 [4:14:39<34:32, 414.45s/it]"
     ]
    },
    {
     "name": "stdout",
     "output_type": "stream",
     "text": [
      "> VIDEO TITLE: شابة جميلة مزوجة بجن ولي كيجي يتزوجها كيتسطا:والدة معاه ولد وقاليا بقاي ديالي ولي بغيتها كيديرها ليا\n",
      "====> 1540 Comments found. \n",
      "\n"
     ]
    },
    {
     "name": "stderr",
     "output_type": "stream",
     "text": [
      " 92%|████████████████████████████████████████████████████████████████████████▊      | 47/51 [4:29:19<36:56, 554.12s/it]"
     ]
    },
    {
     "name": "stdout",
     "output_type": "stream",
     "text": [
      "> VIDEO TITLE: المايكب أرتيست عماد الدين يصرح بحقائق مثيرة: أنا ماشي بنت وعائلتني متقبلونيش بالماكياج\n",
      "====> 1540 Comments found. \n",
      "\n"
     ]
    },
    {
     "name": "stderr",
     "output_type": "stream",
     "text": [
      " 94%|██████████████████████████████████████████████████████████████████████████▎    | 48/51 [4:43:37<32:15, 645.33s/it]"
     ]
    },
    {
     "name": "stdout",
     "output_type": "stream",
     "text": [
      "> VIDEO TITLE: جد صادم:شاب يرتدي ملابس نسائية يعترف بممارسة الجــــــــنس مقابل 100 درهم\n",
      "====> 60 Comments found. \n",
      "\n"
     ]
    },
    {
     "name": "stderr",
     "output_type": "stream",
     "text": [
      " 96%|███████████████████████████████████████████████████████████████████████████▉   | 49/51 [4:44:13<15:24, 462.49s/it]"
     ]
    },
    {
     "name": "stdout",
     "output_type": "stream",
     "text": [
      "> VIDEO TITLE: الفيديو القنبلة..رقص مثير للشيخة الطراكس في حفل زفاف بنت الستاتي وهاشنو دارت سعيدة شرف\n",
      "====> 721 Comments found. \n",
      "\n"
     ]
    },
    {
     "name": "stderr",
     "output_type": "stream",
     "text": [
      " 98%|█████████████████████████████████████████████████████████████████████████████▍ | 50/51 [4:48:10<06:34, 394.82s/it]"
     ]
    },
    {
     "name": "stdout",
     "output_type": "stream",
     "text": [
      "> VIDEO TITLE: MANAL - NIYA (official parody by matrixmen )\n",
      "====> 1540 Comments found. \n",
      "\n"
     ]
    },
    {
     "name": "stderr",
     "output_type": "stream",
     "text": [
      "100%|███████████████████████████████████████████████████████████████████████████████| 51/51 [5:03:41<00:00, 357.28s/it]\n"
     ]
    }
   ],
   "source": [
    "for url in tqdm(yt_urls[\"url\"]):\n",
    "    scrape(url)"
   ]
  },
  {
   "cell_type": "code",
   "execution_count": 24,
   "metadata": {},
   "outputs": [],
   "source": [
    "with io.open('./data/results.csv', 'a', newline='', encoding=\"utf-16\") as file:\n",
    "        writer = csv.writer(file, delimiter =\",\", quoting=csv.QUOTE_ALL)\n",
    "        writer.writerow([\"Username\", \"Comment\"])"
   ]
  }
 ],
 "metadata": {
  "kernelspec": {
   "display_name": "Python 3",
   "language": "python",
   "name": "python3"
  },
  "language_info": {
   "codemirror_mode": {
    "name": "ipython",
    "version": 3
   },
   "file_extension": ".py",
   "mimetype": "text/x-python",
   "name": "python",
   "nbconvert_exporter": "python",
   "pygments_lexer": "ipython3",
   "version": "3.7.0"
  }
 },
 "nbformat": 4,
 "nbformat_minor": 4
}
