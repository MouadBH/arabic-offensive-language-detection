{
 "cells": [
  {
   "cell_type": "code",
   "execution_count": 1,
   "metadata": {},
   "outputs": [],
   "source": [
    "import string, re, json, pickle, warnings, random\n",
    "import pandas as pd\n",
    "import numpy as np\n",
    "import matplotlib.pyplot as plt\n",
    "import seaborn as sns\n",
    "import tensorflow as tf\n",
    "from sklearn.metrics import confusion_matrix, accuracy_score, classification_report\n",
    "from data_preparation import take_a_shower, clean_content_aravec\n",
    "from utils import *\n",
    "\n",
    "%matplotlib inline\n",
    "warnings.filterwarnings('ignore')"
   ]
  },
  {
   "cell_type": "code",
   "execution_count": 2,
   "metadata": {},
   "outputs": [],
   "source": [
    "np.random.seed(42)"
   ]
  },
  {
   "cell_type": "code",
   "execution_count": 3,
   "metadata": {},
   "outputs": [
    {
     "data": {
      "text/html": [
       "<div>\n",
       "<style scoped>\n",
       "    .dataframe tbody tr th:only-of-type {\n",
       "        vertical-align: middle;\n",
       "    }\n",
       "\n",
       "    .dataframe tbody tr th {\n",
       "        vertical-align: top;\n",
       "    }\n",
       "\n",
       "    .dataframe thead th {\n",
       "        text-align: right;\n",
       "    }\n",
       "</style>\n",
       "<table border=\"1\" class=\"dataframe\">\n",
       "  <thead>\n",
       "    <tr style=\"text-align: right;\">\n",
       "      <th></th>\n",
       "      <th>Comment</th>\n",
       "      <th>is_off</th>\n",
       "    </tr>\n",
       "  </thead>\n",
       "  <tbody>\n",
       "    <tr>\n",
       "      <th>0</th>\n",
       "      <td>شوف حد ين*** أنت و إيران.</td>\n",
       "      <td>1</td>\n",
       "    </tr>\n",
       "    <tr>\n",
       "      <th>1</th>\n",
       "      <td>شوف تيفي قوداتها مع الجن غي بلاتي يجي من مكة</td>\n",
       "      <td>0</td>\n",
       "    </tr>\n",
       "    <tr>\n",
       "      <th>2</th>\n",
       "      <td>عجب يتفاوظون على شعوب عربية وعليهم وهىلا تعلم</td>\n",
       "      <td>0</td>\n",
       "    </tr>\n",
       "    <tr>\n",
       "      <th>3</th>\n",
       "      <td>ههههههه هاد شوف تيفي اللي حطت عليه مشا فيها</td>\n",
       "      <td>0</td>\n",
       "    </tr>\n",
       "    <tr>\n",
       "      <th>4</th>\n",
       "      <td>الرزق يأتي من حيث لا تدري 🙌🏻❤️</td>\n",
       "      <td>0</td>\n",
       "    </tr>\n",
       "  </tbody>\n",
       "</table>\n",
       "</div>"
      ],
      "text/plain": [
       "                                         Comment  is_off\n",
       "0                      شوف حد ين*** أنت و إيران.       1\n",
       "1   شوف تيفي قوداتها مع الجن غي بلاتي يجي من مكة       0\n",
       "2  عجب يتفاوظون على شعوب عربية وعليهم وهىلا تعلم       0\n",
       "3    ههههههه هاد شوف تيفي اللي حطت عليه مشا فيها       0\n",
       "4                الرزق يأتي من حيث لا تدري 🙌🏻❤️        0"
      ]
     },
     "execution_count": 3,
     "metadata": {},
     "output_type": "execute_result"
    }
   ],
   "source": [
    "data = pd.read_csv('./data/offensive_dataset.csv', encoding=\"utf-16\")\n",
    "data.head()"
   ]
  },
  {
   "cell_type": "code",
   "execution_count": 4,
   "metadata": {},
   "outputs": [
    {
     "data": {
      "text/plain": [
       "<AxesSubplot:xlabel='is_off', ylabel='count'>"
      ]
     },
     "execution_count": 4,
     "metadata": {},
     "output_type": "execute_result"
    },
    {
     "data": {
      "image/png": "[encoded data removed]",
      "text/plain": [
       "<Figure size 432x288 with 1 Axes>"
      ]
     },
     "metadata": {
      "needs_background": "light"
     },
     "output_type": "display_data"
    }
   ],
   "source": [
    "sns.countplot(x='is_off', data=data)"
   ]
  },
  {
   "cell_type": "code",
   "execution_count": 5,
   "metadata": {},
   "outputs": [
    {
     "data": {
      "text/plain": [
       "(14000, 2)"
      ]
     },
     "execution_count": 5,
     "metadata": {},
     "output_type": "execute_result"
    }
   ],
   "source": [
    "data.Comment = data.Comment.apply(take_a_shower)\n",
    "data.shape"
   ]
  },
  {
   "cell_type": "code",
   "execution_count": 6,
   "metadata": {},
   "outputs": [
    {
     "name": "stdout",
     "output_type": "stream",
     "text": [
      "<class 'pandas.core.frame.DataFrame'>\n",
      "RangeIndex: 14000 entries, 0 to 13999\n",
      "Data columns (total 2 columns):\n",
      " #   Column   Non-Null Count  Dtype \n",
      "---  ------   --------------  ----- \n",
      " 0   Comment  14000 non-null  object\n",
      " 1   is_off   14000 non-null  int64 \n",
      "dtypes: int64(1), object(1)\n",
      "memory usage: 218.9+ KB\n"
     ]
    }
   ],
   "source": [
    "data.info()"
   ]
  },
  {
   "cell_type": "code",
   "execution_count": null,
   "metadata": {},
   "outputs": [],
   "source": []
  },
  {
   "cell_type": "code",
   "execution_count": 7,
   "metadata": {},
   "outputs": [
    {
     "data": {
      "text/html": [
       "<div>\n",
       "<style scoped>\n",
       "    .dataframe tbody tr th:only-of-type {\n",
       "        vertical-align: middle;\n",
       "    }\n",
       "\n",
       "    .dataframe tbody tr th {\n",
       "        vertical-align: top;\n",
       "    }\n",
       "\n",
       "    .dataframe thead th {\n",
       "        text-align: right;\n",
       "    }\n",
       "</style>\n",
       "<table border=\"1\" class=\"dataframe\">\n",
       "  <thead>\n",
       "    <tr style=\"text-align: right;\">\n",
       "      <th></th>\n",
       "      <th>Comment</th>\n",
       "      <th>is_off</th>\n",
       "    </tr>\n",
       "  </thead>\n",
       "  <tbody>\n",
       "    <tr>\n",
       "      <th>0</th>\n",
       "      <td>شوف حد ايران</td>\n",
       "      <td>1</td>\n",
       "    </tr>\n",
       "    <tr>\n",
       "      <th>1</th>\n",
       "      <td>شوف تيفي قوداتها الجن غي بلاتي يجي مكه</td>\n",
       "      <td>0</td>\n",
       "    </tr>\n",
       "    <tr>\n",
       "      <th>2</th>\n",
       "      <td>عجب يتفاوظون شعوب عربيه وعليهم وهيلا تعلم</td>\n",
       "      <td>0</td>\n",
       "    </tr>\n",
       "    <tr>\n",
       "      <th>3</th>\n",
       "      <td>هه هاد شوف تيفي اللي حطت مشا</td>\n",
       "      <td>0</td>\n",
       "    </tr>\n",
       "    <tr>\n",
       "      <th>4</th>\n",
       "      <td>الرزق ياتي تدري 🙌🏻❤️</td>\n",
       "      <td>0</td>\n",
       "    </tr>\n",
       "  </tbody>\n",
       "</table>\n",
       "</div>"
      ],
      "text/plain": [
       "                                     Comment  is_off\n",
       "0                               شوف حد ايران       1\n",
       "1     شوف تيفي قوداتها الجن غي بلاتي يجي مكه       0\n",
       "2  عجب يتفاوظون شعوب عربيه وعليهم وهيلا تعلم       0\n",
       "3               هه هاد شوف تيفي اللي حطت مشا       0\n",
       "4                       الرزق ياتي تدري 🙌🏻❤️       0"
      ]
     },
     "execution_count": 7,
     "metadata": {},
     "output_type": "execute_result"
    }
   ],
   "source": [
    "data.head()"
   ]
  },
  {
   "cell_type": "markdown",
   "metadata": {},
   "source": [
    "# AraVec Embedding"
   ]
  },
  {
   "cell_type": "code",
   "execution_count": 8,
   "metadata": {},
   "outputs": [],
   "source": [
    "from keras.models import Model, Sequential\n",
    "from keras.layers import Dense, Input, Dropout, LSTM, Activation, Flatten\n",
    "from keras.layers import Bidirectional, GlobalMaxPool1D\n",
    "from keras.layers.embeddings import Embedding\n",
    "from keras.preprocessing import sequence\n",
    "from keras.preprocessing.text import Tokenizer, text_to_word_sequence\n",
    "from keras.initializers import glorot_uniform\n",
    "from sklearn.preprocessing import LabelEncoder\n",
    "from keras.layers.merge import concatenate\n",
    "from keras.layers.normalization import BatchNormalization\n",
    "from keras.callbacks import Callback\n",
    "from keras.utils import np_utils\n",
    "import gensim"
   ]
  },
  {
   "cell_type": "code",
   "execution_count": 63,
   "metadata": {},
   "outputs": [],
   "source": [
    "MAX_NB_WORDS = 10000\n",
    "MAX_SEQUENCE_LENGTH = 100 #176 # based on our inputs; TODO: remove outliers? dynamically calculate!\n",
    "EMBEDDING_DIM = 100 # w2v, fastText; GloVe=50"
   ]
  },
  {
   "cell_type": "code",
   "execution_count": 65,
   "metadata": {},
   "outputs": [],
   "source": [
    "path = './bin/aravec/tweets_sg_100'\n",
    "WORD_MODEL, _, MAX_FEATURES, EMBED_SIZE = get_init_parameters(path)"
   ]
  },
  {
   "cell_type": "code",
   "execution_count": 132,
   "metadata": {},
   "outputs": [
    {
     "name": "stdout",
     "output_type": "stream",
     "text": [
      "331679\n",
      "100\n"
     ]
    }
   ],
   "source": [
    "print(MAX_FEATURES)\n",
    "print(EMBED_SIZE)"
   ]
  },
  {
   "cell_type": "code",
   "execution_count": 67,
   "metadata": {},
   "outputs": [
    {
     "name": "stdout",
     "output_type": "stream",
     "text": [
      "Dataset splited.\n",
      "Label categories: [0 1]\n",
      "Max Length: 461\n"
     ]
    }
   ],
   "source": [
    "# load data\n",
    "x = data.Comment.values\n",
    "y = data.is_off.values\n",
    "MAX_TEXT_LENGTH = get_max_length(x)\n",
    "X_train, X_test, Y_train, Y_test = train_test_split(x, y, test_size=0.2, random_state=42)\n",
    "print('Dataset splited.')\n",
    "CLASSES_LIST = np.unique(y)\n",
    "print('Label categories: ' + str(CLASSES_LIST))\n",
    "print(\"Max Length: \" + str(MAX_TEXT_LENGTH))"
   ]
  },
  {
   "cell_type": "code",
   "execution_count": 68,
   "metadata": {},
   "outputs": [
    {
     "name": "stdout",
     "output_type": "stream",
     "text": [
      "Original sequence length : 461\n"
     ]
    }
   ],
   "source": [
    "# Sequence length\n",
    "print(\"Original sequence length : \"+str(MAX_TEXT_LENGTH))\n",
    "\n",
    "# CHANGE MAX LENGTH (timesteps)\n",
    "MAX_TEXT_LENGTH = 100\n",
    "# MAX_FEATURES = 10000"
   ]
  },
  {
   "cell_type": "code",
   "execution_count": 69,
   "metadata": {},
   "outputs": [
    {
     "name": "stdout",
     "output_type": "stream",
     "text": [
      "Converting data to trainable form...\n",
      "Number of training examples: 11200\n",
      "Number of testing examples: 2800\n"
     ]
    }
   ],
   "source": [
    "x_train, x_test, y_train, y_test, train_y_cat, word_index = class_str_2_ind(X_train, X_test, \n",
    "                                                                            Y_train, Y_test,\n",
    "                                                                            CLASSES_LIST, MAX_FEATURES,\n",
    "                                                                            MAX_TEXT_LENGTH)\n",
    "test_cat_y = np_utils.to_categorical(y_test, len(CLASSES_LIST))"
   ]
  },
  {
   "cell_type": "code",
   "execution_count": 70,
   "metadata": {},
   "outputs": [
    {
     "data": {
      "image/png": "[encoded data removed]",
      "text/plain": [
       "<Figure size 720x720 with 1 Axes>"
      ]
     },
     "metadata": {},
     "output_type": "display_data"
    }
   ],
   "source": [
    "LABELS = (\n",
    "    'Not-Offensive', 'Offensive'\n",
    ")\n",
    "\n",
    "tmp = np.concatenate((y_train, y_test))\n",
    "unique, counts = np.unique(tmp, return_counts=True)\n",
    "del tmp\n",
    "plt.figure(\"Target Pie\", figsize=(10, 10))\n",
    "plt.title(\"Pie plot of the class frequencies\")\n",
    "plt.pie(counts, labels=LABELS, autopct='%1.1f%%')\n",
    "plt.legend(unique)\n",
    "# plt.savefig(\"./img/stats_classes.png\")\n",
    "plt.show();"
   ]
  },
  {
   "cell_type": "code",
   "execution_count": 124,
   "metadata": {},
   "outputs": [],
   "source": [
    "def get_lstm_model(embedding_weights, word_index, vocab_dim, max_length, print_summary=True):\n",
    "    \"\"\"\n",
    "    DOC\n",
    "    \"\"\"\n",
    "#     inp = Input(shape=(max_length,))\n",
    "#     model = Embedding(input_dim=len(word_index)+1,\n",
    "#                       output_dim=vocab_dim,\n",
    "#                       trainable=False,\n",
    "#                       weights=[embedding_weights])(inp)\n",
    "#     model = LSTM(units=32, return_sequences=True, return_state=False)(model)\n",
    "#     model = Dropout(0.1)(model)\n",
    "    \n",
    "#     model = LSTM(units=16, return_sequences=True, return_state=False)(model)\n",
    "#     model = Dropout(0.1)(model)\n",
    "        \n",
    "#     model = Flatten()(model)\n",
    "        \n",
    "#     model = Dense(200, activation='relu')(model)\n",
    "#     model = Dropout(0.1)(model)\n",
    "    \n",
    "#     model = Dense(1, activation='sigmoid')(model)\n",
    "#     model = Model(inputs=inp, outputs=model)\n",
    "\n",
    "    \"\"\"\n",
    "    MAX_FEATURES: 331679\n",
    "    MAX_TEXT_LENGTH: 100\n",
    "    =========================\n",
    "    Training Accuracy: 0.8969\n",
    "    Training Loss: 0.2534\n",
    "    =========================\n",
    "    Testing Accuracy:  0.7900\n",
    "    Testing Loss:  0.5070\n",
    "    \"\"\"    \n",
    "    model = Sequential()\n",
    "    model.add(Input(shape=(max_length,)))\n",
    "    model.add(Embedding(input_dim=len(word_index)+1, \n",
    "                        output_dim=vocab_dim, \n",
    "                        trainable=False,\n",
    "                        weights=[embedding_weights]))\n",
    "    model.add(LSTM(64, dropout=0.5, recurrent_dropout=0.5, return_sequences=True))\n",
    "    model.add(GlobalMaxPool1D())\n",
    "    model.add(Dense(128, activation='relu'))\n",
    "    model.add(Dropout(0.5))\n",
    "    model.add(Dense(64, activation='relu'))\n",
    "    model.add(Dropout(0.5))\n",
    "    model.add(Dense(32, activation='relu'))\n",
    "    model.add(Dropout(0.5))\n",
    "    model.add(Dense(1, activation='sigmoid'))\n",
    "    \n",
    "    model.compile(loss='binary_crossentropy', optimizer='adam', metrics=['accuracy'])\n",
    "    if print_summary:\n",
    "        model.summary()\n",
    "    return model"
   ]
  },
  {
   "cell_type": "code",
   "execution_count": 125,
   "metadata": {},
   "outputs": [
    {
     "name": "stdout",
     "output_type": "stream",
     "text": [
      "Parameters Values:\n",
      "word_index: \n",
      "44530\n",
      "WORD_MODEL: \n",
      "<gensim.models.keyedvectors.Word2VecKeyedVectors object at 0x7f24d3791280>\n",
      "EMBED_SIZE: \n",
      "100\n",
      "MAX_TEXT_LENGTH: \n",
      "100\n",
      "\n",
      "\n",
      "Building embedding matrix...\n",
      "Embedding matrix built.\n",
      "\n",
      "Build LSTM Model ...\n",
      "Model: \"model\"\n",
      "_________________________________________________________________\n",
      "Layer (type)                 Output Shape              Param #   \n",
      "=================================================================\n",
      "input_12 (InputLayer)        [(None, 100)]             0         \n",
      "_________________________________________________________________\n",
      "embedding_11 (Embedding)     (None, 100, 100)          4453100   \n",
      "_________________________________________________________________\n",
      "lstm_11 (LSTM)               (None, 100, 32)           17024     \n",
      "_________________________________________________________________\n",
      "dropout_33 (Dropout)         (None, 100, 32)           0         \n",
      "_________________________________________________________________\n",
      "lstm_12 (LSTM)               (None, 100, 16)           3136      \n",
      "_________________________________________________________________\n",
      "dropout_34 (Dropout)         (None, 100, 16)           0         \n",
      "_________________________________________________________________\n",
      "flatten (Flatten)            (None, 1600)              0         \n",
      "_________________________________________________________________\n",
      "dense_44 (Dense)             (None, 200)               320200    \n",
      "_________________________________________________________________\n",
      "dropout_35 (Dropout)         (None, 200)               0         \n",
      "_________________________________________________________________\n",
      "dense_45 (Dense)             (None, 1)                 201       \n",
      "=================================================================\n",
      "Total params: 4,793,661\n",
      "Trainable params: 340,561\n",
      "Non-trainable params: 4,453,100\n",
      "_________________________________________________________________\n"
     ]
    }
   ],
   "source": [
    "print(\"Parameters Values:\")\n",
    "print(\"word_index: \")\n",
    "print(len(word_index))\n",
    "print(\"WORD_MODEL: \")\n",
    "print(WORD_MODEL)\n",
    "print(\"EMBED_SIZE: \")\n",
    "print(EMBED_SIZE)\n",
    "print(\"MAX_TEXT_LENGTH: \")\n",
    "print(MAX_TEXT_LENGTH)\n",
    "print(\"\\n\")\n",
    "\n",
    "embedding_matrix, words_not_found = get_embedding_matrix(word_index, WORD_MODEL, EMBED_SIZE)\n",
    "print(\"\\nBuild LSTM Model ...\")\n",
    "model = get_lstm_model(embedding_matrix, word_index, EMBED_SIZE, MAX_TEXT_LENGTH, print_summary=True)\n"
   ]
  },
  {
   "cell_type": "code",
   "execution_count": 126,
   "metadata": {},
   "outputs": [
    {
     "name": "stdout",
     "output_type": "stream",
     "text": [
      "number of null word embeddings: 14818\n"
     ]
    }
   ],
   "source": [
    "print('number of null word embeddings: %d' % np.sum(np.sum(embedding_matrix, axis=1) == 0))"
   ]
  },
  {
   "cell_type": "code",
   "execution_count": 84,
   "metadata": {},
   "outputs": [
    {
     "name": "stdout",
     "output_type": "stream",
     "text": [
      "sample words not found:  ['محشمش' 'خاصر' 'وكتخرجي' 'طابونا' 'النصوصه' 'ادوزوا' 'وتتوبو' 'وكيلسقو'\n",
      " 'وكيستر' 'حزيره']\n"
     ]
    }
   ],
   "source": [
    "print(\"sample words not found: \", np.random.choice(words_not_found, 10))"
   ]
  },
  {
   "cell_type": "code",
   "execution_count": 76,
   "metadata": {},
   "outputs": [],
   "source": [
    "def train_fit_predict(model, x_train, x_test, y_train, y_test, batch_size, epochs):\n",
    "    \"\"\"\n",
    "    DOC \n",
    "    \"\"\"\n",
    "    history = model.fit(x_train, y_train, batch_size=batch_size, epochs=epochs, verbose=1, validation_split=0.2)\n",
    "    return history, model"
   ]
  },
  {
   "cell_type": "code",
   "execution_count": 127,
   "metadata": {},
   "outputs": [
    {
     "name": "stdout",
     "output_type": "stream",
     "text": [
      "Epoch 1/50\n",
      "140/140 [==============================] - 5s 36ms/step - loss: 0.5871 - accuracy: 0.6884 - val_loss: 0.5592 - val_accuracy: 0.7201\n",
      "Epoch 2/50\n",
      "140/140 [==============================] - 5s 33ms/step - loss: 0.5245 - accuracy: 0.7358 - val_loss: 0.5390 - val_accuracy: 0.7366\n",
      "Epoch 3/50\n",
      "140/140 [==============================] - 5s 33ms/step - loss: 0.4940 - accuracy: 0.7571 - val_loss: 0.5406 - val_accuracy: 0.7326\n",
      "Epoch 4/50\n",
      "140/140 [==============================] - 5s 33ms/step - loss: 0.4769 - accuracy: 0.7650 - val_loss: 0.5234 - val_accuracy: 0.7469\n",
      "Epoch 5/50\n",
      "140/140 [==============================] - 5s 33ms/step - loss: 0.4559 - accuracy: 0.7820 - val_loss: 0.5152 - val_accuracy: 0.7366\n",
      "Epoch 6/50\n",
      "140/140 [==============================] - 5s 33ms/step - loss: 0.4374 - accuracy: 0.7876 - val_loss: 0.5118 - val_accuracy: 0.7558\n",
      "Epoch 7/50\n",
      "140/140 [==============================] - 5s 33ms/step - loss: 0.4135 - accuracy: 0.7955 - val_loss: 0.5317 - val_accuracy: 0.7496\n",
      "Epoch 8/50\n",
      "140/140 [==============================] - 5s 33ms/step - loss: 0.3988 - accuracy: 0.8061 - val_loss: 0.5070 - val_accuracy: 0.7540\n",
      "Epoch 9/50\n",
      "140/140 [==============================] - 5s 33ms/step - loss: 0.3821 - accuracy: 0.8162 - val_loss: 0.5451 - val_accuracy: 0.7616\n",
      "Epoch 10/50\n",
      "140/140 [==============================] - 5s 33ms/step - loss: 0.3616 - accuracy: 0.8253 - val_loss: 0.5392 - val_accuracy: 0.7540\n",
      "Epoch 11/50\n",
      "140/140 [==============================] - 5s 33ms/step - loss: 0.3412 - accuracy: 0.8379 - val_loss: 0.5937 - val_accuracy: 0.7402\n",
      "Epoch 12/50\n",
      "140/140 [==============================] - 5s 33ms/step - loss: 0.3252 - accuracy: 0.8472 - val_loss: 0.5882 - val_accuracy: 0.7621\n",
      "Epoch 13/50\n",
      "140/140 [==============================] - 5s 33ms/step - loss: 0.3095 - accuracy: 0.8548 - val_loss: 0.5988 - val_accuracy: 0.7625\n",
      "Epoch 14/50\n",
      "140/140 [==============================] - 5s 33ms/step - loss: 0.2887 - accuracy: 0.8693 - val_loss: 0.6313 - val_accuracy: 0.7598\n",
      "Epoch 15/50\n",
      "140/140 [==============================] - 5s 33ms/step - loss: 0.2753 - accuracy: 0.8709 - val_loss: 0.6502 - val_accuracy: 0.7580\n",
      "Epoch 16/50\n",
      "140/140 [==============================] - 5s 33ms/step - loss: 0.2541 - accuracy: 0.8858 - val_loss: 0.6998 - val_accuracy: 0.7598\n",
      "Epoch 17/50\n",
      "140/140 [==============================] - 5s 33ms/step - loss: 0.2472 - accuracy: 0.8895 - val_loss: 0.8425 - val_accuracy: 0.7527\n",
      "Epoch 18/50\n",
      "140/140 [==============================] - 5s 32ms/step - loss: 0.2321 - accuracy: 0.8975 - val_loss: 0.7362 - val_accuracy: 0.7536\n",
      "Epoch 19/50\n",
      "140/140 [==============================] - 5s 33ms/step - loss: 0.2149 - accuracy: 0.9049 - val_loss: 0.9144 - val_accuracy: 0.7522\n",
      "Epoch 20/50\n",
      "140/140 [==============================] - 5s 33ms/step - loss: 0.1969 - accuracy: 0.9146 - val_loss: 0.8848 - val_accuracy: 0.7616\n",
      "Epoch 21/50\n",
      "140/140 [==============================] - 5s 33ms/step - loss: 0.1881 - accuracy: 0.9195 - val_loss: 0.9003 - val_accuracy: 0.7388\n",
      "Epoch 22/50\n",
      "140/140 [==============================] - 5s 33ms/step - loss: 0.1754 - accuracy: 0.9214 - val_loss: 0.9123 - val_accuracy: 0.7455\n",
      "Epoch 23/50\n",
      "140/140 [==============================] - 5s 33ms/step - loss: 0.1691 - accuracy: 0.9260 - val_loss: 1.0705 - val_accuracy: 0.7527\n",
      "Epoch 24/50\n",
      "140/140 [==============================] - 5s 33ms/step - loss: 0.1588 - accuracy: 0.9315 - val_loss: 1.1774 - val_accuracy: 0.7473\n",
      "Epoch 25/50\n",
      "140/140 [==============================] - 5s 33ms/step - loss: 0.1459 - accuracy: 0.9377 - val_loss: 1.0696 - val_accuracy: 0.7357\n",
      "Epoch 26/50\n",
      "140/140 [==============================] - 5s 32ms/step - loss: 0.1464 - accuracy: 0.9400 - val_loss: 1.2167 - val_accuracy: 0.7487\n",
      "Epoch 27/50\n",
      "140/140 [==============================] - 5s 32ms/step - loss: 0.1325 - accuracy: 0.9450 - val_loss: 1.3034 - val_accuracy: 0.7589\n",
      "Epoch 28/50\n",
      "140/140 [==============================] - 5s 33ms/step - loss: 0.1448 - accuracy: 0.9396 - val_loss: 1.1523 - val_accuracy: 0.7536\n",
      "Epoch 29/50\n",
      "140/140 [==============================] - 5s 33ms/step - loss: 0.1154 - accuracy: 0.9531 - val_loss: 1.5159 - val_accuracy: 0.7482\n",
      "Epoch 30/50\n",
      "140/140 [==============================] - 5s 32ms/step - loss: 0.1215 - accuracy: 0.9502 - val_loss: 1.4394 - val_accuracy: 0.7522\n",
      "Epoch 31/50\n",
      "140/140 [==============================] - 5s 33ms/step - loss: 0.1095 - accuracy: 0.9584 - val_loss: 1.3316 - val_accuracy: 0.7504\n",
      "Epoch 32/50\n",
      "140/140 [==============================] - 5s 33ms/step - loss: 0.0939 - accuracy: 0.9634 - val_loss: 1.5606 - val_accuracy: 0.7437\n",
      "Epoch 33/50\n",
      "140/140 [==============================] - 5s 33ms/step - loss: 0.0960 - accuracy: 0.9622 - val_loss: 1.5588 - val_accuracy: 0.7437\n",
      "Epoch 34/50\n",
      "140/140 [==============================] - 5s 33ms/step - loss: 0.0828 - accuracy: 0.9689 - val_loss: 1.7602 - val_accuracy: 0.7420\n",
      "Epoch 35/50\n",
      "140/140 [==============================] - 5s 33ms/step - loss: 0.0846 - accuracy: 0.9685 - val_loss: 1.5423 - val_accuracy: 0.7464\n",
      "Epoch 36/50\n",
      "140/140 [==============================] - 5s 33ms/step - loss: 0.0830 - accuracy: 0.9688 - val_loss: 1.8365 - val_accuracy: 0.7371\n",
      "Epoch 37/50\n",
      "140/140 [==============================] - 5s 33ms/step - loss: 0.0905 - accuracy: 0.9665 - val_loss: 1.5899 - val_accuracy: 0.7464\n",
      "Epoch 38/50\n",
      "140/140 [==============================] - 5s 33ms/step - loss: 0.0924 - accuracy: 0.9646 - val_loss: 1.7030 - val_accuracy: 0.7393\n",
      "Epoch 39/50\n",
      "140/140 [==============================] - 5s 33ms/step - loss: 0.0826 - accuracy: 0.9702 - val_loss: 1.7075 - val_accuracy: 0.7393\n",
      "Epoch 40/50\n",
      "140/140 [==============================] - 5s 33ms/step - loss: 0.0704 - accuracy: 0.9732 - val_loss: 1.6842 - val_accuracy: 0.7451\n",
      "Epoch 41/50\n",
      "140/140 [==============================] - 5s 33ms/step - loss: 0.0706 - accuracy: 0.9746 - val_loss: 1.8144 - val_accuracy: 0.7496\n",
      "Epoch 42/50\n",
      "140/140 [==============================] - 5s 32ms/step - loss: 0.0562 - accuracy: 0.9809 - val_loss: 2.1086 - val_accuracy: 0.7375\n",
      "Epoch 43/50\n",
      "140/140 [==============================] - 5s 34ms/step - loss: 0.0683 - accuracy: 0.9758 - val_loss: 1.7727 - val_accuracy: 0.7406\n",
      "Epoch 44/50\n",
      "140/140 [==============================] - 5s 33ms/step - loss: 0.0722 - accuracy: 0.9754 - val_loss: 2.0479 - val_accuracy: 0.7513\n",
      "Epoch 45/50\n",
      "140/140 [==============================] - 5s 33ms/step - loss: 0.0506 - accuracy: 0.9816 - val_loss: 2.0296 - val_accuracy: 0.7379\n",
      "Epoch 46/50\n",
      "140/140 [==============================] - 5s 32ms/step - loss: 0.0434 - accuracy: 0.9846 - val_loss: 2.2286 - val_accuracy: 0.7371\n",
      "Epoch 47/50\n",
      "140/140 [==============================] - 5s 32ms/step - loss: 0.0455 - accuracy: 0.9843 - val_loss: 2.2011 - val_accuracy: 0.7504\n",
      "Epoch 48/50\n",
      "140/140 [==============================] - 5s 33ms/step - loss: 0.0591 - accuracy: 0.9798 - val_loss: 2.0248 - val_accuracy: 0.7487\n",
      "Epoch 49/50\n",
      "140/140 [==============================] - 5s 33ms/step - loss: 0.0482 - accuracy: 0.9830 - val_loss: 2.3158 - val_accuracy: 0.7411\n",
      "Epoch 50/50\n",
      "140/140 [==============================] - 5s 32ms/step - loss: 0.0447 - accuracy: 0.9855 - val_loss: 2.2796 - val_accuracy: 0.7487\n"
     ]
    }
   ],
   "source": [
    "history, model = train_fit_predict(model,\n",
    "                               x_train,\n",
    "                               x_test,\n",
    "                               y_train, y_test,\n",
    "                               batch_size=64, epochs=50)"
   ]
  },
  {
   "cell_type": "code",
   "execution_count": 128,
   "metadata": {},
   "outputs": [
    {
     "name": "stdout",
     "output_type": "stream",
     "text": [
      "350/350 [==============================] - 4s 10ms/step - loss: 0.4775 - accuracy: 0.9436\n",
      "Training Accuracy: 0.9436\n",
      "Training Loss: 0.4775\n",
      "88/88 [==============================] - 1s 10ms/step - loss: 2.1430 - accuracy: 0.7543\n",
      "Testing Accuracy:  0.7543\n",
      "Testing Loss:  2.1430\n"
     ]
    }
   ],
   "source": [
    "loss, accuracy = model.evaluate(x_train, y_train)\n",
    "print(\"Training Accuracy: {:.4f}\".format(accuracy))\n",
    "print(\"Training Loss: {:.4f}\".format(loss))\n",
    "loss_val, accuracy_val = model.evaluate(x_test, y_test, verbose=True)\n",
    "print(\"Testing Accuracy:  {:.4f}\".format(accuracy_val))\n",
    "print(\"Testing Loss:  {:.4f}\".format(loss_val))"
   ]
  },
  {
   "cell_type": "code",
   "execution_count": null,
   "metadata": {},
   "outputs": [],
   "source": []
  },
  {
   "cell_type": "code",
   "execution_count": 129,
   "metadata": {},
   "outputs": [
    {
     "name": "stdout",
     "output_type": "stream",
     "text": [
      "88/88 [==============================] - 1s 10ms/step\n",
      "              precision    recall  f1-score   support\n",
      "\n",
      "           0       0.75      0.76      0.75      1384\n",
      "           1       0.76      0.75      0.76      1416\n",
      "\n",
      "    accuracy                           0.75      2800\n",
      "   macro avg       0.75      0.75      0.75      2800\n",
      "weighted avg       0.75      0.75      0.75      2800\n",
      "\n"
     ]
    }
   ],
   "source": [
    "y_pred = model.predict(x_test, verbose=1)\n",
    "y_pred_bool = np.argmax(y_pred, axis=1)\n",
    "y_pred = (y_pred > 0.5)\n",
    "\n",
    "print(classification_report(y_test, y_pred))"
   ]
  },
  {
   "cell_type": "code",
   "execution_count": 130,
   "metadata": {},
   "outputs": [
    {
     "name": "stdout",
     "output_type": "stream",
     "text": [
      "Optimal epoch : 7\n",
      "Accuracy on train : 80.61 %\n",
      "Accuracy on test : 75.4 %\n",
      "Loss on train : 39.88\n",
      "Loss on test : 50.7\n"
     ]
    }
   ],
   "source": [
    "n = np.argmin(history.history['val_loss'])\n",
    "\n",
    "print(\"Optimal epoch : {}\".format(n))\n",
    "print(\"Accuracy on train : {} %\".format(np.round(history.history['accuracy'][n]*100, 2)))\n",
    "print(\"Accuracy on test : {} %\".format(np.round(history.history['val_accuracy'][n]*100, 2)))\n",
    "print(\"Loss on train : {}\".format(np.round(history.history['loss'][n]*100, 2)))\n",
    "print(\"Loss on test : {}\".format(np.round(history.history['val_loss'][n]*100, 2)))"
   ]
  },
  {
   "cell_type": "code",
   "execution_count": 131,
   "metadata": {},
   "outputs": [
    {
     "data": {
      "image/png": "[encoded data removed]",
      "text/plain": [
       "<Figure size 1152x576 with 1 Axes>"
      ]
     },
     "metadata": {
      "needs_background": "light"
     },
     "output_type": "display_data"
    },
    {
     "data": {
      "image/png": "[encoded data removed]",
      "text/plain": [
       "<Figure size 1152x576 with 1 Axes>"
      ]
     },
     "metadata": {
      "needs_background": "light"
     },
     "output_type": "display_data"
    }
   ],
   "source": [
    "#train loss vs validation loss\n",
    "show_train_history(history,'loss','val_loss', n)\n",
    "\n",
    "show_train_history(history,'accuracy','val_accuracy', n)"
   ]
  },
  {
   "cell_type": "code",
   "execution_count": 115,
   "metadata": {},
   "outputs": [
    {
     "name": "stdout",
     "output_type": "stream",
     "text": [
      "88/88 [==============================] - 2s 21ms/step\n"
     ]
    }
   ],
   "source": [
    "pred_test = model.predict(x_test, verbose=True)"
   ]
  },
  {
   "cell_type": "code",
   "execution_count": 116,
   "metadata": {},
   "outputs": [],
   "source": [
    "pred_test.shape[0]\n",
    "df_blind = pd.DataFrame({'REAL': y_test, \n",
    "                         'PRED': pred_test.reshape(pred_test.shape[0],), \n",
    "                         'TEXT': X_test})\n",
    "df_blind = df_blind.reset_index()[['REAL', 'PRED', 'TEXT']]\n",
    "df_blind.PRED = df_blind.PRED.round()\n",
    "error_records = df_blind[df_blind.REAL != df_blind.PRED]"
   ]
  },
  {
   "cell_type": "code",
   "execution_count": 117,
   "metadata": {},
   "outputs": [
    {
     "name": "stdout",
     "output_type": "stream",
     "text": [
      "Number of misclassified reviews: 588 out of 2800\n",
      "Blind Test Accuracy:  0.7900\n"
     ]
    }
   ],
   "source": [
    "print(\"Number of misclassified reviews: {} out of {}\".format(error_records.shape[0], df_blind.shape[0]))\n",
    "print(\"Blind Test Accuracy:  {:.4f}\".format(accuracy_score(df_blind.REAL, df_blind.PRED)))"
   ]
  },
  {
   "cell_type": "code",
   "execution_count": 105,
   "metadata": {},
   "outputs": [
    {
     "data": {
      "text/html": [
       "<div>\n",
       "<style scoped>\n",
       "    .dataframe tbody tr th:only-of-type {\n",
       "        vertical-align: middle;\n",
       "    }\n",
       "\n",
       "    .dataframe tbody tr th {\n",
       "        vertical-align: top;\n",
       "    }\n",
       "\n",
       "    .dataframe thead th {\n",
       "        text-align: right;\n",
       "    }\n",
       "</style>\n",
       "<table border=\"1\" class=\"dataframe\">\n",
       "  <thead>\n",
       "    <tr style=\"text-align: right;\">\n",
       "      <th></th>\n",
       "      <th>REAL</th>\n",
       "      <th>PRED</th>\n",
       "      <th>TEXT</th>\n",
       "    </tr>\n",
       "  </thead>\n",
       "  <tbody>\n",
       "    <tr>\n",
       "      <th>0</th>\n",
       "      <td>1</td>\n",
       "      <td>1.0</td>\n",
       "      <td>خسات نجس المملكه العربيه السعوديه الاسلاميه قو...</td>\n",
       "    </tr>\n",
       "    <tr>\n",
       "      <th>1</th>\n",
       "      <td>1</td>\n",
       "      <td>1.0</td>\n",
       "      <td>اسمع ياصحافي نيك يماك ناكت صليبي اكيد وجابتك م...</td>\n",
       "    </tr>\n",
       "    <tr>\n",
       "      <th>2</th>\n",
       "      <td>1</td>\n",
       "      <td>0.0</td>\n",
       "      <td>هه عيد ميلاد باللحم البرقوق والله شوف تيفي معن...</td>\n",
       "    </tr>\n",
       "    <tr>\n",
       "      <th>3</th>\n",
       "      <td>0</td>\n",
       "      <td>0.0</td>\n",
       "      <td>حياه انسان لحظه لاتعود الحياه بعدها قبلها</td>\n",
       "    </tr>\n",
       "    <tr>\n",
       "      <th>4</th>\n",
       "      <td>1</td>\n",
       "      <td>1.0</td>\n",
       "      <td>هاد القناه خاصكم الاعدام طلعت غي بالفضاءح ديال...</td>\n",
       "    </tr>\n",
       "    <tr>\n",
       "      <th>...</th>\n",
       "      <td>...</td>\n",
       "      <td>...</td>\n",
       "      <td>...</td>\n",
       "    </tr>\n",
       "    <tr>\n",
       "      <th>2795</th>\n",
       "      <td>1</td>\n",
       "      <td>1.0</td>\n",
       "      <td>الاحسن تستبدل اسمك مصراوي يهودي المصريون اناس ...</td>\n",
       "    </tr>\n",
       "    <tr>\n",
       "      <th>2796</th>\n",
       "      <td>1</td>\n",
       "      <td>1.0</td>\n",
       "      <td>كيتلوا بحال لفعه الله يعطك دقه جدي طاح ناد</td>\n",
       "    </tr>\n",
       "    <tr>\n",
       "      <th>2797</th>\n",
       "      <td>1</td>\n",
       "      <td>1.0</td>\n",
       "      <td>بنت لحرام ولات كتحطو بوجهو ميقول حد مفراسوش هه</td>\n",
       "    </tr>\n",
       "    <tr>\n",
       "      <th>2798</th>\n",
       "      <td>1</td>\n",
       "      <td>0.0</td>\n",
       "      <td>مقدم برنامج اكبرا قود لله حرقك انشاء لله</td>\n",
       "    </tr>\n",
       "    <tr>\n",
       "      <th>2799</th>\n",
       "      <td>1</td>\n",
       "      <td>1.0</td>\n",
       "      <td>شكرا اعترافك بانكم اذيال ايران بالمنطقه للفتك ...</td>\n",
       "    </tr>\n",
       "  </tbody>\n",
       "</table>\n",
       "<p>2800 rows × 3 columns</p>\n",
       "</div>"
      ],
      "text/plain": [
       "      REAL  PRED                                               TEXT\n",
       "0        1   1.0  خسات نجس المملكه العربيه السعوديه الاسلاميه قو...\n",
       "1        1   1.0  اسمع ياصحافي نيك يماك ناكت صليبي اكيد وجابتك م...\n",
       "2        1   0.0  هه عيد ميلاد باللحم البرقوق والله شوف تيفي معن...\n",
       "3        0   0.0          حياه انسان لحظه لاتعود الحياه بعدها قبلها\n",
       "4        1   1.0  هاد القناه خاصكم الاعدام طلعت غي بالفضاءح ديال...\n",
       "...    ...   ...                                                ...\n",
       "2795     1   1.0  الاحسن تستبدل اسمك مصراوي يهودي المصريون اناس ...\n",
       "2796     1   1.0         كيتلوا بحال لفعه الله يعطك دقه جدي طاح ناد\n",
       "2797     1   1.0     بنت لحرام ولات كتحطو بوجهو ميقول حد مفراسوش هه\n",
       "2798     1   0.0           مقدم برنامج اكبرا قود لله حرقك انشاء لله\n",
       "2799     1   1.0  شكرا اعترافك بانكم اذيال ايران بالمنطقه للفتك ...\n",
       "\n",
       "[2800 rows x 3 columns]"
      ]
     },
     "execution_count": 105,
     "metadata": {},
     "output_type": "execute_result"
    }
   ],
   "source": [
    "df_blind"
   ]
  },
  {
   "cell_type": "code",
   "execution_count": 119,
   "metadata": {},
   "outputs": [
    {
     "name": "stdout",
     "output_type": "stream",
     "text": [
      "./models/aravec/lstm_acc_0.79.json\n"
     ]
    }
   ],
   "source": [
    "print('./models/aravec/lstm_acc_{}.json'.format(round(accuracy_val, 4)))"
   ]
  },
  {
   "cell_type": "code",
   "execution_count": 123,
   "metadata": {},
   "outputs": [],
   "source": [
    "save_model('aravec', 'lstm', round(accuracy_val, 4))"
   ]
  },
  {
   "cell_type": "code",
   "execution_count": 122,
   "metadata": {},
   "outputs": [],
   "source": [
    "def save_model(folder, name, acc):\n",
    "    with open('./models/' + folder + '/' + name + '_acc_' + str(acc) + '.json', 'w') as f:\n",
    "        f.write(model.to_json())\n",
    "        f.close()\n",
    "\n",
    "    model.save_weights('./models/' + folder + '/' + name + '_weights_acc_' + str(acc) + '.h5')\n",
    "\n",
    "    model.save('./models/' + folder + '/' + name + '_acc_' + str(acc) + '.h5')"
   ]
  },
  {
   "cell_type": "code",
   "execution_count": 44,
   "metadata": {},
   "outputs": [],
   "source": [
    "def show_train_history(history,train,validation, n):\n",
    "    plt.figure(figsize=(16, 8))\n",
    "    plt.plot(range(1, len(history.history[train])+1), history.history[train], label=\"train\")\n",
    "    plt.plot(range(1, len(history.history[validation])+1), history.history[validation], label=\"validation\")\n",
    "    plt.plot(n+1,history.history[validation][n],\"r*\", label=\"Opt.\")\n",
    "    plt.legend()\n",
    "    plt.title(str(train) + \" Curve\")\n",
    "    plt.ylabel(train)\n",
    "    plt.xlabel(\"epochs\")\n",
    "    plt.show()"
   ]
  }
 ],
 "metadata": {
  "kernelspec": {
   "display_name": "env",
   "language": "python",
   "name": "env"
  },
  "language_info": {
   "codemirror_mode": {
    "name": "ipython",
    "version": 3
   },
   "file_extension": ".py",
   "mimetype": "text/x-python",
   "name": "python",
   "nbconvert_exporter": "python",
   "pygments_lexer": "ipython3",
   "version": "3.8.5"
  }
 },
 "nbformat": 4,
 "nbformat_minor": 4
}
