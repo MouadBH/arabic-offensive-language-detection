{
 "cells": [
  {
   "cell_type": "code",
   "execution_count": 146,
   "metadata": {},
   "outputs": [],
   "source": [
    "import string, re, json, pickle, warnings, random\n",
    "import pandas as pd\n",
    "import numpy as np\n",
    "import matplotlib.pyplot as plt\n",
    "import seaborn as sns\n",
    "import tensorflow as tf\n",
    "from sklearn.metrics import confusion_matrix, accuracy_score, classification_report\n",
    "from data_preparation import take_a_shower, clean_content_aravec\n",
    "from utils import *\n",
    "\n",
    "%matplotlib inline\n",
    "warnings.filterwarnings('ignore')"
   ]
  },
  {
   "cell_type": "code",
   "execution_count": 147,
   "metadata": {},
   "outputs": [],
   "source": [
    "np.random.seed(42)"
   ]
  },
  {
   "cell_type": "code",
   "execution_count": 148,
   "metadata": {},
   "outputs": [
    {
     "data": {
      "text/html": [
       "<div>\n",
       "<style scoped>\n",
       "    .dataframe tbody tr th:only-of-type {\n",
       "        vertical-align: middle;\n",
       "    }\n",
       "\n",
       "    .dataframe tbody tr th {\n",
       "        vertical-align: top;\n",
       "    }\n",
       "\n",
       "    .dataframe thead th {\n",
       "        text-align: right;\n",
       "    }\n",
       "</style>\n",
       "<table border=\"1\" class=\"dataframe\">\n",
       "  <thead>\n",
       "    <tr style=\"text-align: right;\">\n",
       "      <th></th>\n",
       "      <th>Comment</th>\n",
       "      <th>is_off</th>\n",
       "    </tr>\n",
       "  </thead>\n",
       "  <tbody>\n",
       "    <tr>\n",
       "      <th>0</th>\n",
       "      <td>شوف حد ين*** أنت و إيران.</td>\n",
       "      <td>1</td>\n",
       "    </tr>\n",
       "    <tr>\n",
       "      <th>1</th>\n",
       "      <td>شوف تيفي قوداتها مع الجن غي بلاتي يجي من مكة</td>\n",
       "      <td>0</td>\n",
       "    </tr>\n",
       "    <tr>\n",
       "      <th>2</th>\n",
       "      <td>عجب يتفاوظون على شعوب عربية وعليهم وهىلا تعلم</td>\n",
       "      <td>0</td>\n",
       "    </tr>\n",
       "    <tr>\n",
       "      <th>3</th>\n",
       "      <td>ههههههه هاد شوف تيفي اللي حطت عليه مشا فيها</td>\n",
       "      <td>0</td>\n",
       "    </tr>\n",
       "    <tr>\n",
       "      <th>4</th>\n",
       "      <td>الرزق يأتي من حيث لا تدري 🙌🏻❤️</td>\n",
       "      <td>0</td>\n",
       "    </tr>\n",
       "  </tbody>\n",
       "</table>\n",
       "</div>"
      ],
      "text/plain": [
       "                                         Comment  is_off\n",
       "0                      شوف حد ين*** أنت و إيران.       1\n",
       "1   شوف تيفي قوداتها مع الجن غي بلاتي يجي من مكة       0\n",
       "2  عجب يتفاوظون على شعوب عربية وعليهم وهىلا تعلم       0\n",
       "3    ههههههه هاد شوف تيفي اللي حطت عليه مشا فيها       0\n",
       "4                الرزق يأتي من حيث لا تدري 🙌🏻❤️        0"
      ]
     },
     "execution_count": 148,
     "metadata": {},
     "output_type": "execute_result"
    }
   ],
   "source": [
    "data = pd.read_csv('./data/offensive_dataset.csv', encoding=\"utf-16\")\n",
    "data.head()"
   ]
  },
  {
   "cell_type": "code",
   "execution_count": 149,
   "metadata": {},
   "outputs": [
    {
     "data": {
      "text/plain": [
       "<AxesSubplot:xlabel='is_off', ylabel='count'>"
      ]
     },
     "execution_count": 149,
     "metadata": {},
     "output_type": "execute_result"
    },
    {
     "data": {
      "image/png": "[encoded data removed]",
      "text/plain": [
       "<Figure size 432x288 with 1 Axes>"
      ]
     },
     "metadata": {
      "needs_background": "light"
     },
     "output_type": "display_data"
    }
   ],
   "source": [
    "sns.countplot(x='is_off', data=data)"
   ]
  },
  {
   "cell_type": "code",
   "execution_count": 150,
   "metadata": {},
   "outputs": [
    {
     "data": {
      "text/plain": [
       "(14000, 2)"
      ]
     },
     "execution_count": 150,
     "metadata": {},
     "output_type": "execute_result"
    }
   ],
   "source": [
    "data.Comment = data.Comment.apply(take_a_shower)\n",
    "data.shape"
   ]
  },
  {
   "cell_type": "code",
   "execution_count": 151,
   "metadata": {},
   "outputs": [
    {
     "name": "stdout",
     "output_type": "stream",
     "text": [
      "<class 'pandas.core.frame.DataFrame'>\n",
      "RangeIndex: 14000 entries, 0 to 13999\n",
      "Data columns (total 2 columns):\n",
      " #   Column   Non-Null Count  Dtype \n",
      "---  ------   --------------  ----- \n",
      " 0   Comment  14000 non-null  object\n",
      " 1   is_off   14000 non-null  int64 \n",
      "dtypes: int64(1), object(1)\n",
      "memory usage: 218.9+ KB\n"
     ]
    }
   ],
   "source": [
    "data.info()"
   ]
  },
  {
   "cell_type": "code",
   "execution_count": null,
   "metadata": {},
   "outputs": [],
   "source": []
  },
  {
   "cell_type": "code",
   "execution_count": 152,
   "metadata": {},
   "outputs": [
    {
     "data": {
      "text/html": [
       "<div>\n",
       "<style scoped>\n",
       "    .dataframe tbody tr th:only-of-type {\n",
       "        vertical-align: middle;\n",
       "    }\n",
       "\n",
       "    .dataframe tbody tr th {\n",
       "        vertical-align: top;\n",
       "    }\n",
       "\n",
       "    .dataframe thead th {\n",
       "        text-align: right;\n",
       "    }\n",
       "</style>\n",
       "<table border=\"1\" class=\"dataframe\">\n",
       "  <thead>\n",
       "    <tr style=\"text-align: right;\">\n",
       "      <th></th>\n",
       "      <th>Comment</th>\n",
       "      <th>is_off</th>\n",
       "    </tr>\n",
       "  </thead>\n",
       "  <tbody>\n",
       "    <tr>\n",
       "      <th>0</th>\n",
       "      <td>شوف حد ايران</td>\n",
       "      <td>1</td>\n",
       "    </tr>\n",
       "    <tr>\n",
       "      <th>1</th>\n",
       "      <td>شوف تيفي قوداتها الجن غي بلاتي يجي مكه</td>\n",
       "      <td>0</td>\n",
       "    </tr>\n",
       "    <tr>\n",
       "      <th>2</th>\n",
       "      <td>عجب يتفاوظون شعوب عربيه وعليهم وهيلا تعلم</td>\n",
       "      <td>0</td>\n",
       "    </tr>\n",
       "    <tr>\n",
       "      <th>3</th>\n",
       "      <td>هه هاد شوف تيفي اللي حطت مشا</td>\n",
       "      <td>0</td>\n",
       "    </tr>\n",
       "    <tr>\n",
       "      <th>4</th>\n",
       "      <td>الرزق ياتي تدري 🙌🏻❤️</td>\n",
       "      <td>0</td>\n",
       "    </tr>\n",
       "  </tbody>\n",
       "</table>\n",
       "</div>"
      ],
      "text/plain": [
       "                                     Comment  is_off\n",
       "0                               شوف حد ايران       1\n",
       "1     شوف تيفي قوداتها الجن غي بلاتي يجي مكه       0\n",
       "2  عجب يتفاوظون شعوب عربيه وعليهم وهيلا تعلم       0\n",
       "3               هه هاد شوف تيفي اللي حطت مشا       0\n",
       "4                       الرزق ياتي تدري 🙌🏻❤️       0"
      ]
     },
     "execution_count": 152,
     "metadata": {},
     "output_type": "execute_result"
    }
   ],
   "source": [
    "data.head()"
   ]
  },
  {
   "cell_type": "markdown",
   "metadata": {},
   "source": [
    "# AraVec Embedding"
   ]
  },
  {
   "cell_type": "code",
   "execution_count": 237,
   "metadata": {},
   "outputs": [],
   "source": [
    "from keras.models import Model, Sequential\n",
    "from keras.layers import Dense, Input, Dropout, LSTM, Activation, Flatten\n",
    "from keras.layers import Bidirectional, GlobalMaxPool1D\n",
    "from keras.layers.embeddings import Embedding\n",
    "from keras.preprocessing import sequence\n",
    "from keras.preprocessing.text import Tokenizer, text_to_word_sequence\n",
    "from keras.initializers import glorot_uniform\n",
    "from sklearn.preprocessing import LabelEncoder\n",
    "from keras.layers.merge import concatenate\n",
    "from keras.layers.normalization import BatchNormalization\n",
    "from keras.callbacks import Callback\n",
    "from keras.utils import np_utils\n",
    "from keras.regularizers import l1,l2\n",
    "import gensim"
   ]
  },
  {
   "cell_type": "code",
   "execution_count": 154,
   "metadata": {},
   "outputs": [],
   "source": [
    "MAX_NB_WORDS = 10000\n",
    "MAX_SEQUENCE_LENGTH = 100 #176 # based on our inputs; TODO: remove outliers? dynamically calculate!\n",
    "EMBEDDING_DIM = 100 # w2v, fastText; GloVe=50"
   ]
  },
  {
   "cell_type": "code",
   "execution_count": null,
   "metadata": {},
   "outputs": [],
   "source": [
    "# path = './bin/aravec/tweets_sg_100'\n",
    "path = './bin/aravec/full_grams_sg_300_twitter.mdl'\n",
    "WORD_MODEL, _, MAX_FEATURES, EMBED_SIZE = get_init_parameters(path)"
   ]
  },
  {
   "cell_type": "code",
   "execution_count": 316,
   "metadata": {},
   "outputs": [
    {
     "name": "stdout",
     "output_type": "stream",
     "text": [
      "20000\n",
      "300\n"
     ]
    }
   ],
   "source": [
    "print(MAX_FEATURES)\n",
    "print(EMBED_SIZE)"
   ]
  },
  {
   "cell_type": "code",
   "execution_count": 298,
   "metadata": {},
   "outputs": [
    {
     "name": "stdout",
     "output_type": "stream",
     "text": [
      "Dataset splited.\n",
      "Label categories: [0 1]\n",
      "Max Length: 461\n"
     ]
    }
   ],
   "source": [
    "# load data\n",
    "x = data.Comment.values\n",
    "y = data.is_off.values\n",
    "MAX_TEXT_LENGTH = get_max_length(x)\n",
    "X_train, X_test, Y_train, Y_test = train_test_split(x, y, test_size=0.2, random_state=42)\n",
    "print('Dataset splited.')\n",
    "CLASSES_LIST = np.unique(y)\n",
    "print('Label categories: ' + str(CLASSES_LIST))\n",
    "print(\"Max Length: \" + str(MAX_TEXT_LENGTH))"
   ]
  },
  {
   "cell_type": "code",
   "execution_count": 299,
   "metadata": {},
   "outputs": [
    {
     "name": "stdout",
     "output_type": "stream",
     "text": [
      "Original sequence length : 461\n"
     ]
    }
   ],
   "source": [
    "# Sequence length\n",
    "print(\"Original sequence length : \"+str(MAX_TEXT_LENGTH))\n",
    "\n",
    "# CHANGE MAX LENGTH (timesteps)\n",
    "MAX_TEXT_LENGTH = 200\n",
    "MAX_FEATURES = 20000"
   ]
  },
  {
   "cell_type": "code",
   "execution_count": 300,
   "metadata": {},
   "outputs": [
    {
     "name": "stdout",
     "output_type": "stream",
     "text": [
      "Converting data to trainable form...\n",
      "Number of training examples: 11200\n",
      "Number of testing examples: 2800\n",
      "Found 44530 unique words.\n"
     ]
    }
   ],
   "source": [
    "x_train, x_test, y_train, y_test, train_y_cat, word_index = class_str_2_ind(X_train, X_test, \n",
    "                                                                            Y_train, Y_test,\n",
    "                                                                            CLASSES_LIST, MAX_FEATURES,\n",
    "                                                                            MAX_TEXT_LENGTH)\n",
    "print('Found %d unique words.' % len(word_index))\n",
    "test_cat_y = np_utils.to_categorical(y_test, len(CLASSES_LIST))"
   ]
  },
  {
   "cell_type": "code",
   "execution_count": 301,
   "metadata": {},
   "outputs": [
    {
     "data": {
      "image/png": "[encoded data removed]",
      "text/plain": [
       "<Figure size 432x288 with 1 Axes>"
      ]
     },
     "metadata": {},
     "output_type": "display_data"
    }
   ],
   "source": [
    "LABELS = ('Not-Offensive', 'Offensive')\n",
    "tmp = np.concatenate((y_train, y_test))\n",
    "unique, counts = np.unique(tmp, return_counts=True)\n",
    "del tmp\n",
    "plt.figure(\"Target Pie\")\n",
    "plt.title(\"Pie plot of the class frequencies\")\n",
    "plt.pie(counts, labels=LABELS, autopct='%1.1f%%')\n",
    "plt.legend(unique)\n",
    "# plt.savefig(\"./img/stats_classes.png\")\n",
    "plt.show();"
   ]
  },
  {
   "cell_type": "code",
   "execution_count": 302,
   "metadata": {},
   "outputs": [],
   "source": [
    "def get_lstm_model(embedding_weights, word_index, vocab_dim, max_length, print_summary=True):\n",
    "    print(\"Build LSTM Model ...\")\n",
    "\n",
    "    \"\"\"\n",
    "    MAX_FEATURES: 331679\n",
    "    MAX_TEXT_LENGTH: 100\n",
    "    =========================\n",
    "    Training Accuracy: 0.8969\n",
    "    Training Loss: 0.2534\n",
    "    =========================\n",
    "    Testing Accuracy:  0.7900\n",
    "    Testing Loss:  0.5070\n",
    "    \n",
    "    MAX_FEATURES: 20000\n",
    "    MAX_TEXT_LENGTH: 200\n",
    "    =========================\n",
    "    Training Accuracy: 0.9485\n",
    "    Training Loss: 0.1688\n",
    "    =========================\n",
    "    Testing Accuracy:  0.8186\n",
    "    Testing Loss:  0.6079\n",
    "    \n",
    "    MAX_FEATURES: 10000\n",
    "    MAX_TEXT_LENGTH: 200\n",
    "    =========================\n",
    "    Training Accuracy: 0.9145\n",
    "    Training Loss: 0.2280\n",
    "    =========================\n",
    "    Testing Accuracy:  0.8071\n",
    "    Testing Loss:  0.4580\n",
    "    \"\"\"    \n",
    "    model = Sequential()\n",
    "    model.add(Input(shape=(max_length,)))\n",
    "    model.add(Embedding(input_dim=len(word_index)+1, \n",
    "                        output_dim=vocab_dim, \n",
    "                        trainable=False,\n",
    "                        weights=[embedding_weights]))\n",
    "    model.add(LSTM(32, dropout=0.5, recurrent_dropout=0.5, return_sequences=True))\n",
    "    model.add(GlobalMaxPool1D())\n",
    "    model.add(Dense(128, activation='relu'))\n",
    "    model.add(Dropout(0.5))\n",
    "    model.add(Dense(64, activation='relu'))\n",
    "    model.add(Dropout(0.5))\n",
    "    model.add(Dense(32, activation='relu'))\n",
    "    model.add(Dropout(0.5))\n",
    "    model.add(Dense(1, activation='sigmoid'))\n",
    "    \n",
    "    model.compile(loss='binary_crossentropy', optimizer='adam', metrics=['accuracy'])\n",
    "    if print_summary:\n",
    "        model.summary()\n",
    "    return model"
   ]
  },
  {
   "cell_type": "code",
   "execution_count": 303,
   "metadata": {},
   "outputs": [
    {
     "name": "stdout",
     "output_type": "stream",
     "text": [
      "Parameters Values:\n",
      "word_index: \n",
      "44530\n",
      "WORD_MODEL: \n",
      "<gensim.models.keyedvectors.Word2VecKeyedVectors object at 0x7f239dc99340>\n",
      "EMBED_SIZE: \n",
      "300\n",
      "MAX_TEXT_LENGTH: \n",
      "200\n",
      "MAX_FEATURES:\n",
      "20000\n",
      "Building embedding matrix...\n",
      "Embedding matrix built.\n"
     ]
    }
   ],
   "source": [
    "print(\"Parameters Values:\")\n",
    "print(\"word_index: \")\n",
    "print(len(word_index))\n",
    "print(\"WORD_MODEL: \")\n",
    "print(WORD_MODEL)\n",
    "print(\"EMBED_SIZE: \")\n",
    "print(EMBED_SIZE)\n",
    "print(\"MAX_TEXT_LENGTH: \")\n",
    "print(MAX_TEXT_LENGTH)\n",
    "print(\"MAX_FEATURES:\")\n",
    "print(MAX_FEATURES)\n",
    "\n",
    "embedding_matrix, words_not_found = get_embedding_matrix(word_index, WORD_MODEL, EMBED_SIZE)"
   ]
  },
  {
   "cell_type": "code",
   "execution_count": 304,
   "metadata": {},
   "outputs": [
    {
     "name": "stdout",
     "output_type": "stream",
     "text": [
      "number of null word embeddings: 8829\n"
     ]
    }
   ],
   "source": [
    "print('number of null word embeddings: %d' % np.sum(np.sum(embedding_matrix, axis=1) == 0))"
   ]
  },
  {
   "cell_type": "code",
   "execution_count": 206,
   "metadata": {},
   "outputs": [
    {
     "name": "stdout",
     "output_type": "stream",
     "text": [
      "sample words not found:  ['ديرهو' 'صدوراوامرتنفيذ' 'هييهيامقاومه' 'راعيتان' 'وضلالتكم' 'واليهودايش'\n",
      " 'الزومل' 'بالاديانوالدليل' 'وانظلمو' 'لاحوها']\n"
     ]
    }
   ],
   "source": [
    "print(\"sample words not found: \", np.random.choice(words_not_found, 10))"
   ]
  },
  {
   "cell_type": "code",
   "execution_count": 305,
   "metadata": {},
   "outputs": [
    {
     "name": "stdout",
     "output_type": "stream",
     "text": [
      "Build LSTM Model ...\n",
      "WARNING:tensorflow:Layer lstm_30 will not use cuDNN kernel since it doesn't meet the cuDNN kernel criteria. It will use generic GPU kernel as fallback when running on GPU\n",
      "Model: \"sequential_21\"\n",
      "_________________________________________________________________\n",
      "Layer (type)                 Output Shape              Param #   \n",
      "=================================================================\n",
      "embedding_26 (Embedding)     (None, 200, 300)          13359300  \n",
      "_________________________________________________________________\n",
      "lstm_30 (LSTM)               (None, 200, 32)           42624     \n",
      "_________________________________________________________________\n",
      "global_max_pooling1d_18 (Glo (None, 32)                0         \n",
      "_________________________________________________________________\n",
      "dense_84 (Dense)             (None, 128)               4224      \n",
      "_________________________________________________________________\n",
      "dropout_73 (Dropout)         (None, 128)               0         \n",
      "_________________________________________________________________\n",
      "dense_85 (Dense)             (None, 64)                8256      \n",
      "_________________________________________________________________\n",
      "dropout_74 (Dropout)         (None, 64)                0         \n",
      "_________________________________________________________________\n",
      "dense_86 (Dense)             (None, 32)                2080      \n",
      "_________________________________________________________________\n",
      "dropout_75 (Dropout)         (None, 32)                0         \n",
      "_________________________________________________________________\n",
      "dense_87 (Dense)             (None, 1)                 33        \n",
      "=================================================================\n",
      "Total params: 13,416,517\n",
      "Trainable params: 57,217\n",
      "Non-trainable params: 13,359,300\n",
      "_________________________________________________________________\n"
     ]
    }
   ],
   "source": [
    "model = get_lstm_model(embedding_matrix, \n",
    "                       word_index, \n",
    "                       EMBED_SIZE, \n",
    "                       MAX_TEXT_LENGTH, \n",
    "                       print_summary=True)"
   ]
  },
  {
   "cell_type": "code",
   "execution_count": 164,
   "metadata": {},
   "outputs": [],
   "source": [
    "def train_fit_predict(model, x_train, x_test, y_train, y_test, batch_size, epochs):\n",
    "    \"\"\"\n",
    "    DOC \n",
    "    \"\"\"\n",
    "    history = model.fit(x_train, y_train, batch_size=batch_size, epochs=epochs, verbose=1, validation_split=0.2)\n",
    "    return history, model"
   ]
  },
  {
   "cell_type": "code",
   "execution_count": 306,
   "metadata": {},
   "outputs": [
    {
     "name": "stdout",
     "output_type": "stream",
     "text": [
      "Epoch 1/25\n",
      "140/140 [==============================] - 33s 233ms/step - loss: 0.6684 - accuracy: 0.5900 - val_loss: 0.6002 - val_accuracy: 0.6942\n",
      "Epoch 2/25\n",
      "140/140 [==============================] - 32s 231ms/step - loss: 0.5653 - accuracy: 0.7253 - val_loss: 0.5164 - val_accuracy: 0.7545\n",
      "Epoch 3/25\n",
      "140/140 [==============================] - 31s 221ms/step - loss: 0.5165 - accuracy: 0.7578 - val_loss: 0.4821 - val_accuracy: 0.7790\n",
      "Epoch 4/25\n",
      "140/140 [==============================] - 33s 235ms/step - loss: 0.4875 - accuracy: 0.7699 - val_loss: 0.4748 - val_accuracy: 0.7705\n",
      "Epoch 5/25\n",
      "140/140 [==============================] - 32s 231ms/step - loss: 0.4656 - accuracy: 0.7789 - val_loss: 0.4699 - val_accuracy: 0.7719\n",
      "Epoch 6/25\n",
      "140/140 [==============================] - 30s 214ms/step - loss: 0.4498 - accuracy: 0.7952 - val_loss: 0.4611 - val_accuracy: 0.7812\n",
      "Epoch 7/25\n",
      "140/140 [==============================] - 32s 226ms/step - loss: 0.4355 - accuracy: 0.7962 - val_loss: 0.4562 - val_accuracy: 0.7866\n",
      "Epoch 8/25\n",
      "140/140 [==============================] - 31s 224ms/step - loss: 0.4239 - accuracy: 0.8078 - val_loss: 0.4321 - val_accuracy: 0.7987\n",
      "Epoch 9/25\n",
      "140/140 [==============================] - 34s 246ms/step - loss: 0.4206 - accuracy: 0.8029 - val_loss: 0.4199 - val_accuracy: 0.8040\n",
      "Epoch 10/25\n",
      "140/140 [==============================] - 33s 232ms/step - loss: 0.4081 - accuracy: 0.8138 - val_loss: 0.4206 - val_accuracy: 0.7987\n",
      "Epoch 11/25\n",
      "140/140 [==============================] - 31s 220ms/step - loss: 0.3913 - accuracy: 0.8224 - val_loss: 0.4177 - val_accuracy: 0.7996\n",
      "Epoch 12/25\n",
      "140/140 [==============================] - 31s 219ms/step - loss: 0.3933 - accuracy: 0.8217 - val_loss: 0.4233 - val_accuracy: 0.7978\n",
      "Epoch 13/25\n",
      "140/140 [==============================] - 31s 219ms/step - loss: 0.3837 - accuracy: 0.8275 - val_loss: 0.4159 - val_accuracy: 0.8116\n",
      "Epoch 14/25\n",
      "140/140 [==============================] - 31s 219ms/step - loss: 0.3815 - accuracy: 0.8327 - val_loss: 0.4012 - val_accuracy: 0.8125\n",
      "Epoch 15/25\n",
      "140/140 [==============================] - 31s 220ms/step - loss: 0.3711 - accuracy: 0.8350 - val_loss: 0.3979 - val_accuracy: 0.8165\n",
      "Epoch 16/25\n",
      "140/140 [==============================] - 31s 219ms/step - loss: 0.3564 - accuracy: 0.8405 - val_loss: 0.3980 - val_accuracy: 0.8188\n",
      "Epoch 17/25\n",
      "140/140 [==============================] - 31s 220ms/step - loss: 0.3579 - accuracy: 0.8391 - val_loss: 0.3984 - val_accuracy: 0.8165\n",
      "Epoch 18/25\n",
      "140/140 [==============================] - 31s 219ms/step - loss: 0.3534 - accuracy: 0.8451 - val_loss: 0.4037 - val_accuracy: 0.8205\n",
      "Epoch 19/25\n",
      "140/140 [==============================] - 31s 219ms/step - loss: 0.3498 - accuracy: 0.8477 - val_loss: 0.3925 - val_accuracy: 0.8241\n",
      "Epoch 20/25\n",
      "140/140 [==============================] - 31s 220ms/step - loss: 0.3458 - accuracy: 0.8497 - val_loss: 0.3894 - val_accuracy: 0.8192\n",
      "Epoch 21/25\n",
      "140/140 [==============================] - 31s 221ms/step - loss: 0.3368 - accuracy: 0.8531 - val_loss: 0.3963 - val_accuracy: 0.8223\n",
      "Epoch 22/25\n",
      "140/140 [==============================] - 31s 219ms/step - loss: 0.3382 - accuracy: 0.8517 - val_loss: 0.3925 - val_accuracy: 0.8232\n",
      "Epoch 23/25\n",
      "140/140 [==============================] - 32s 225ms/step - loss: 0.3282 - accuracy: 0.8551 - val_loss: 0.4072 - val_accuracy: 0.8192\n",
      "Epoch 24/25\n",
      "140/140 [==============================] - 31s 220ms/step - loss: 0.3230 - accuracy: 0.8580 - val_loss: 0.4058 - val_accuracy: 0.8188\n",
      "Epoch 25/25\n",
      "140/140 [==============================] - 31s 219ms/step - loss: 0.3257 - accuracy: 0.8560 - val_loss: 0.3952 - val_accuracy: 0.8174\n"
     ]
    }
   ],
   "source": [
    "history, model = train_fit_predict(model,\n",
    "                               x_train,\n",
    "                               x_test,\n",
    "                               y_train, y_test,\n",
    "                               batch_size=64, epochs=25)"
   ]
  },
  {
   "cell_type": "code",
   "execution_count": 307,
   "metadata": {},
   "outputs": [
    {
     "name": "stdout",
     "output_type": "stream",
     "text": [
      "350/350 [==============================] - 16s 46ms/step - loss: 0.2679 - accuracy: 0.8836\n",
      "Training Accuracy: 0.8836\n",
      "Training Loss: 0.2679\n",
      "88/88 [==============================] - 4s 47ms/step - loss: 0.4261 - accuracy: 0.8186\n",
      "Testing Accuracy:  0.8186\n",
      "Testing Loss:  0.4261\n"
     ]
    }
   ],
   "source": [
    "loss, accuracy = model.evaluate(x_train, y_train)\n",
    "print(\"Training Accuracy: {:.4f}\".format(accuracy))\n",
    "print(\"Training Loss: {:.4f}\".format(loss))\n",
    "loss_val, accuracy_val = model.evaluate(x_test, y_test, verbose=True)\n",
    "print(\"Testing Accuracy:  {:.4f}\".format(accuracy_val))\n",
    "print(\"Testing Loss:  {:.4f}\".format(loss_val))"
   ]
  },
  {
   "cell_type": "code",
   "execution_count": null,
   "metadata": {},
   "outputs": [],
   "source": []
  },
  {
   "cell_type": "code",
   "execution_count": 308,
   "metadata": {},
   "outputs": [
    {
     "name": "stdout",
     "output_type": "stream",
     "text": [
      "88/88 [==============================] - 4s 46ms/step\n",
      "              precision    recall  f1-score   support\n",
      "\n",
      "           0       0.78      0.88      0.83      1384\n",
      "           1       0.87      0.76      0.81      1416\n",
      "\n",
      "    accuracy                           0.82      2800\n",
      "   macro avg       0.82      0.82      0.82      2800\n",
      "weighted avg       0.82      0.82      0.82      2800\n",
      "\n"
     ]
    }
   ],
   "source": [
    "y_pred = model.predict(x_test, verbose=1)\n",
    "y_pred_bool = np.argmax(y_pred, axis=1)\n",
    "y_pred = (y_pred > 0.5)\n",
    "\n",
    "print(classification_report(y_test, y_pred))"
   ]
  },
  {
   "cell_type": "code",
   "execution_count": 309,
   "metadata": {},
   "outputs": [
    {
     "name": "stdout",
     "output_type": "stream",
     "text": [
      "Optimal epoch : 19\n",
      "Accuracy on train : 84.97 %\n",
      "Accuracy on test : 81.92 %\n",
      "Loss on train : 34.58\n",
      "Loss on test : 38.94\n"
     ]
    }
   ],
   "source": [
    "n = np.argmin(history.history['val_loss'])\n",
    "\n",
    "print(\"Optimal epoch : {}\".format(n))\n",
    "print(\"Accuracy on train : {} %\".format(np.round(history.history['accuracy'][n]*100, 2)))\n",
    "print(\"Accuracy on test : {} %\".format(np.round(history.history['val_accuracy'][n]*100, 2)))\n",
    "print(\"Loss on train : {}\".format(np.round(history.history['loss'][n]*100, 2)))\n",
    "print(\"Loss on test : {}\".format(np.round(history.history['val_loss'][n]*100, 2)))"
   ]
  },
  {
   "cell_type": "code",
   "execution_count": 310,
   "metadata": {},
   "outputs": [
    {
     "data": {
      "image/png": "[encoded data removed]",
      "text/plain": [
       "<Figure size 1152x576 with 1 Axes>"
      ]
     },
     "metadata": {
      "needs_background": "light"
     },
     "output_type": "display_data"
    },
    {
     "data": {
      "image/png": "[encoded data removed]",
      "text/plain": [
       "<Figure size 1152x576 with 1 Axes>"
      ]
     },
     "metadata": {
      "needs_background": "light"
     },
     "output_type": "display_data"
    }
   ],
   "source": [
    "#train loss vs validation loss\n",
    "show_train_history(history,'loss','val_loss', n)\n",
    "\n",
    "show_train_history(history,'accuracy','val_accuracy', n)"
   ]
  },
  {
   "cell_type": "code",
   "execution_count": 311,
   "metadata": {},
   "outputs": [
    {
     "name": "stdout",
     "output_type": "stream",
     "text": [
      "88/88 [==============================] - 4s 46ms/step\n"
     ]
    }
   ],
   "source": [
    "pred_test = model.predict(x_test, verbose=True)\n",
    "df_blind = pd.DataFrame({'REAL': y_test, \n",
    "                         'PRED': pred_test.reshape(pred_test.shape[0],), \n",
    "                         'TEXT': X_test})\n",
    "df_blind = df_blind.reset_index()[['REAL', 'PRED', 'TEXT']]\n",
    "df_blind.PRED = df_blind.PRED.round()\n",
    "error_records = df_blind[df_blind.REAL != df_blind.PRED]"
   ]
  },
  {
   "cell_type": "code",
   "execution_count": 312,
   "metadata": {},
   "outputs": [
    {
     "name": "stdout",
     "output_type": "stream",
     "text": [
      "Number of misclassified reviews: 508 out of 2800\n",
      "Blind Test Accuracy:  0.8186\n"
     ]
    }
   ],
   "source": [
    "print(\"Number of misclassified reviews: {} out of {}\".format(error_records.shape[0], df_blind.shape[0]))\n",
    "print(\"Blind Test Accuracy:  {:.4f}\".format(accuracy_score(df_blind.REAL, df_blind.PRED)))"
   ]
  },
  {
   "cell_type": "code",
   "execution_count": 185,
   "metadata": {},
   "outputs": [
    {
     "data": {
      "text/plain": [
       "'انا شايف انو رغم عدوانيه هالقرار مازلنا مصرين تمجيد امريكا والتركيز ايجابياتها وانسانيه شعبها بينما المفروض نركز فكره انو اكتر <NUM> الاميركان موافقين قرار ترامب الحبواني وهدول ال <NUM> هنن اخطر الارهابيين بالعالم'"
      ]
     },
     "execution_count": 185,
     "metadata": {},
     "output_type": "execute_result"
    }
   ],
   "source": [
    "print(len(df_blind[df_blind.REAL != df_blind.PRED]))"
   ]
  },
  {
   "cell_type": "code",
   "execution_count": 314,
   "metadata": {},
   "outputs": [
    {
     "data": {
      "text/html": [
       "<div>\n",
       "<style scoped>\n",
       "    .dataframe tbody tr th:only-of-type {\n",
       "        vertical-align: middle;\n",
       "    }\n",
       "\n",
       "    .dataframe tbody tr th {\n",
       "        vertical-align: top;\n",
       "    }\n",
       "\n",
       "    .dataframe thead th {\n",
       "        text-align: right;\n",
       "    }\n",
       "</style>\n",
       "<table border=\"1\" class=\"dataframe\">\n",
       "  <thead>\n",
       "    <tr style=\"text-align: right;\">\n",
       "      <th></th>\n",
       "      <th>REAL</th>\n",
       "      <th>PRED</th>\n",
       "      <th>TEXT</th>\n",
       "    </tr>\n",
       "  </thead>\n",
       "  <tbody>\n",
       "    <tr>\n",
       "      <th>3</th>\n",
       "      <td>0</td>\n",
       "      <td>0.0</td>\n",
       "      <td>حياه انسان لحظه لاتعود الحياه بعدها قبلها</td>\n",
       "    </tr>\n",
       "    <tr>\n",
       "      <th>5</th>\n",
       "      <td>0</td>\n",
       "      <td>0.0</td>\n",
       "      <td>سيري الله يمسخك صبات سحات بغيتي يديها فسوق راس...</td>\n",
       "    </tr>\n",
       "    <tr>\n",
       "      <th>6</th>\n",
       "      <td>1</td>\n",
       "      <td>0.0</td>\n",
       "      <td>جبهه النصره تعرف القاعده مربط الجمل</td>\n",
       "    </tr>\n",
       "    <tr>\n",
       "      <th>7</th>\n",
       "      <td>0</td>\n",
       "      <td>0.0</td>\n",
       "      <td>اتحدي النظام يفعل اللحظه &lt;NUM&gt; الامام</td>\n",
       "    </tr>\n",
       "    <tr>\n",
       "      <th>8</th>\n",
       "      <td>0</td>\n",
       "      <td>0.0</td>\n",
       "      <td>&lt;NUM&gt; &lt;NUM&gt;</td>\n",
       "    </tr>\n",
       "    <tr>\n",
       "      <th>...</th>\n",
       "      <td>...</td>\n",
       "      <td>...</td>\n",
       "      <td>...</td>\n",
       "    </tr>\n",
       "    <tr>\n",
       "      <th>2791</th>\n",
       "      <td>1</td>\n",
       "      <td>0.0</td>\n",
       "      <td>وبعديين 😔 اثق بشخص انو قلبو عالقضيه وشريف بنفض...</td>\n",
       "    </tr>\n",
       "    <tr>\n",
       "      <th>2793</th>\n",
       "      <td>1</td>\n",
       "      <td>0.0</td>\n",
       "      <td>كيانك نتيجه استفتاء لتبارك للاسبانيا فتحها الع...</td>\n",
       "    </tr>\n",
       "    <tr>\n",
       "      <th>2794</th>\n",
       "      <td>0</td>\n",
       "      <td>0.0</td>\n",
       "      <td>انا شايف انو رغم عدوانيه هالقرار مازلنا مصرين ...</td>\n",
       "    </tr>\n",
       "    <tr>\n",
       "      <th>2796</th>\n",
       "      <td>1</td>\n",
       "      <td>0.0</td>\n",
       "      <td>كيتلوا بحال لفعه الله يعطك دقه جدي طاح ناد</td>\n",
       "    </tr>\n",
       "    <tr>\n",
       "      <th>2798</th>\n",
       "      <td>1</td>\n",
       "      <td>0.0</td>\n",
       "      <td>مقدم برنامج اكبرا قود لله حرقك انشاء لله</td>\n",
       "    </tr>\n",
       "  </tbody>\n",
       "</table>\n",
       "<p>1558 rows × 3 columns</p>\n",
       "</div>"
      ],
      "text/plain": [
       "      REAL  PRED                                               TEXT\n",
       "3        0   0.0          حياه انسان لحظه لاتعود الحياه بعدها قبلها\n",
       "5        0   0.0  سيري الله يمسخك صبات سحات بغيتي يديها فسوق راس...\n",
       "6        1   0.0                جبهه النصره تعرف القاعده مربط الجمل\n",
       "7        0   0.0              اتحدي النظام يفعل اللحظه <NUM> الامام\n",
       "8        0   0.0                                        <NUM> <NUM>\n",
       "...    ...   ...                                                ...\n",
       "2791     1   0.0  وبعديين 😔 اثق بشخص انو قلبو عالقضيه وشريف بنفض...\n",
       "2793     1   0.0  كيانك نتيجه استفتاء لتبارك للاسبانيا فتحها الع...\n",
       "2794     0   0.0  انا شايف انو رغم عدوانيه هالقرار مازلنا مصرين ...\n",
       "2796     1   0.0         كيتلوا بحال لفعه الله يعطك دقه جدي طاح ناد\n",
       "2798     1   0.0           مقدم برنامج اكبرا قود لله حرقك انشاء لله\n",
       "\n",
       "[1558 rows x 3 columns]"
      ]
     },
     "execution_count": 314,
     "metadata": {},
     "output_type": "execute_result"
    }
   ],
   "source": [
    "df_blind[df_blind.PRED == 0]"
   ]
  },
  {
   "cell_type": "code",
   "execution_count": 315,
   "metadata": {},
   "outputs": [
    {
     "name": "stdout",
     "output_type": "stream",
     "text": [
      "Model Saved Successfully in ./models/aravec/\n"
     ]
    }
   ],
   "source": [
    "save_model('aravec', 'lstm', round(accuracy_val, 4))"
   ]
  },
  {
   "cell_type": "code",
   "execution_count": 279,
   "metadata": {},
   "outputs": [],
   "source": [
    "def save_model(folder, name, acc):\n",
    "    with open('./models/' + folder + '/' + name + '_acc_' + str(acc) + '.json', 'w') as f:\n",
    "        f.write(model.to_json())\n",
    "        f.close()\n",
    "\n",
    "    model.save_weights('./models/' + folder + '/' + name + '_weights_acc_' + str(acc) + '.h5')\n",
    "\n",
    "    model.save('./models/' + folder + '/' + name + '_acc_' + str(acc) + '.h5')\n",
    "    \n",
    "    print(\"Model Saved Successfully in ./models/\" + folder + \"/\")"
   ]
  },
  {
   "cell_type": "code",
   "execution_count": 44,
   "metadata": {},
   "outputs": [],
   "source": [
    "def show_train_history(history,train,validation, n):\n",
    "    plt.figure(figsize=(16, 8))\n",
    "    plt.plot(range(1, len(history.history[train])+1), history.history[train], label=\"train\")\n",
    "    plt.plot(range(1, len(history.history[validation])+1), history.history[validation], label=\"validation\")\n",
    "    plt.plot(n+1,history.history[validation][n],\"r*\", label=\"Opt.\")\n",
    "    plt.legend()\n",
    "    plt.title(str(train) + \" Curve\")\n",
    "    plt.ylabel(train)\n",
    "    plt.xlabel(\"epochs\")\n",
    "    plt.show()"
   ]
  }
 ],
 "metadata": {
  "kernelspec": {
   "display_name": "env",
   "language": "python",
   "name": "env"
  },
  "language_info": {
   "codemirror_mode": {
    "name": "ipython",
    "version": 3
   },
   "file_extension": ".py",
   "mimetype": "text/x-python",
   "name": "python",
   "nbconvert_exporter": "python",
   "pygments_lexer": "ipython3",
   "version": "3.8.5"
  }
 },
 "nbformat": 4,
 "nbformat_minor": 4
}
