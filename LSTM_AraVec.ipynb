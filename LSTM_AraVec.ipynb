{
 "cells": [
  {
   "cell_type": "code",
   "execution_count": 1,
   "metadata": {},
   "outputs": [],
   "source": [
    "import string, re, json, pickle, warnings, random\n",
    "import pandas as pd\n",
    "import numpy as np\n",
    "import matplotlib.pyplot as plt\n",
    "import seaborn as sns\n",
    "import tensorflow as tf\n",
    "from sklearn.metrics import confusion_matrix, accuracy_score, classification_report\n",
    "from data_preparation import take_a_shower, clean_content_aravec\n",
    "from utils import *\n",
    "\n",
    "%matplotlib inline\n",
    "warnings.filterwarnings('ignore')"
   ]
  },
  {
   "cell_type": "code",
   "execution_count": 2,
   "metadata": {},
   "outputs": [],
   "source": [
    "np.random.seed(42)"
   ]
  },
  {
   "cell_type": "code",
   "execution_count": 3,
   "metadata": {},
   "outputs": [
    {
     "data": {
      "text/html": [
       "<div>\n",
       "<style scoped>\n",
       "    .dataframe tbody tr th:only-of-type {\n",
       "        vertical-align: middle;\n",
       "    }\n",
       "\n",
       "    .dataframe tbody tr th {\n",
       "        vertical-align: top;\n",
       "    }\n",
       "\n",
       "    .dataframe thead th {\n",
       "        text-align: right;\n",
       "    }\n",
       "</style>\n",
       "<table border=\"1\" class=\"dataframe\">\n",
       "  <thead>\n",
       "    <tr style=\"text-align: right;\">\n",
       "      <th></th>\n",
       "      <th>Comment</th>\n",
       "      <th>is_off</th>\n",
       "    </tr>\n",
       "  </thead>\n",
       "  <tbody>\n",
       "    <tr>\n",
       "      <th>0</th>\n",
       "      <td>شوف حد ين*** أنت و إيران.</td>\n",
       "      <td>1</td>\n",
       "    </tr>\n",
       "    <tr>\n",
       "      <th>1</th>\n",
       "      <td>شوف تيفي قوداتها مع الجن غي بلاتي يجي من مكة</td>\n",
       "      <td>0</td>\n",
       "    </tr>\n",
       "    <tr>\n",
       "      <th>2</th>\n",
       "      <td>عجب يتفاوظون على شعوب عربية وعليهم وهىلا تعلم</td>\n",
       "      <td>0</td>\n",
       "    </tr>\n",
       "    <tr>\n",
       "      <th>3</th>\n",
       "      <td>ههههههه هاد شوف تيفي اللي حطت عليه مشا فيها</td>\n",
       "      <td>0</td>\n",
       "    </tr>\n",
       "    <tr>\n",
       "      <th>4</th>\n",
       "      <td>الرزق يأتي من حيث لا تدري 🙌🏻❤️</td>\n",
       "      <td>0</td>\n",
       "    </tr>\n",
       "  </tbody>\n",
       "</table>\n",
       "</div>"
      ],
      "text/plain": [
       "                                         Comment  is_off\n",
       "0                      شوف حد ين*** أنت و إيران.       1\n",
       "1   شوف تيفي قوداتها مع الجن غي بلاتي يجي من مكة       0\n",
       "2  عجب يتفاوظون على شعوب عربية وعليهم وهىلا تعلم       0\n",
       "3    ههههههه هاد شوف تيفي اللي حطت عليه مشا فيها       0\n",
       "4                الرزق يأتي من حيث لا تدري 🙌🏻❤️        0"
      ]
     },
     "execution_count": 3,
     "metadata": {},
     "output_type": "execute_result"
    }
   ],
   "source": [
    "data = pd.read_csv('./data/offensive_dataset.csv', encoding=\"utf-16\")\n",
    "data.head()"
   ]
  },
  {
   "cell_type": "code",
   "execution_count": 4,
   "metadata": {},
   "outputs": [
    {
     "data": {
      "text/plain": [
       "<AxesSubplot:xlabel='is_off', ylabel='count'>"
      ]
     },
     "execution_count": 4,
     "metadata": {},
     "output_type": "execute_result"
    },
    {
     "data": {
      "image/png": "[encoded data removed]",
      "text/plain": [
       "<Figure size 432x288 with 1 Axes>"
      ]
     },
     "metadata": {
      "needs_background": "light"
     },
     "output_type": "display_data"
    }
   ],
   "source": [
    "sns.countplot(x='is_off', data=data)"
   ]
  },
  {
   "cell_type": "code",
   "execution_count": 5,
   "metadata": {},
   "outputs": [
    {
     "data": {
      "text/plain": [
       "(14000, 2)"
      ]
     },
     "execution_count": 5,
     "metadata": {},
     "output_type": "execute_result"
    }
   ],
   "source": [
    "data.Comment = data.Comment.apply(take_a_shower)\n",
    "data.shape"
   ]
  },
  {
   "cell_type": "code",
   "execution_count": 6,
   "metadata": {},
   "outputs": [
    {
     "name": "stdout",
     "output_type": "stream",
     "text": [
      "<class 'pandas.core.frame.DataFrame'>\n",
      "RangeIndex: 14000 entries, 0 to 13999\n",
      "Data columns (total 2 columns):\n",
      " #   Column   Non-Null Count  Dtype \n",
      "---  ------   --------------  ----- \n",
      " 0   Comment  14000 non-null  object\n",
      " 1   is_off   14000 non-null  int64 \n",
      "dtypes: int64(1), object(1)\n",
      "memory usage: 218.9+ KB\n"
     ]
    }
   ],
   "source": [
    "data.info()"
   ]
  },
  {
   "cell_type": "code",
   "execution_count": 7,
   "metadata": {},
   "outputs": [
    {
     "data": {
      "text/html": [
       "<div>\n",
       "<style scoped>\n",
       "    .dataframe tbody tr th:only-of-type {\n",
       "        vertical-align: middle;\n",
       "    }\n",
       "\n",
       "    .dataframe tbody tr th {\n",
       "        vertical-align: top;\n",
       "    }\n",
       "\n",
       "    .dataframe thead th {\n",
       "        text-align: right;\n",
       "    }\n",
       "</style>\n",
       "<table border=\"1\" class=\"dataframe\">\n",
       "  <thead>\n",
       "    <tr style=\"text-align: right;\">\n",
       "      <th></th>\n",
       "      <th>Comment</th>\n",
       "      <th>is_off</th>\n",
       "    </tr>\n",
       "  </thead>\n",
       "  <tbody>\n",
       "    <tr>\n",
       "      <th>0</th>\n",
       "      <td>شوف حد ايران</td>\n",
       "      <td>1</td>\n",
       "    </tr>\n",
       "    <tr>\n",
       "      <th>1</th>\n",
       "      <td>شوف تيفي قوداتها الجن غي بلاتي يجي مكه</td>\n",
       "      <td>0</td>\n",
       "    </tr>\n",
       "    <tr>\n",
       "      <th>2</th>\n",
       "      <td>عجب يتفاوظون شعوب عربيه وعليهم وهيلا تعلم</td>\n",
       "      <td>0</td>\n",
       "    </tr>\n",
       "    <tr>\n",
       "      <th>3</th>\n",
       "      <td>هه هاد شوف تيفي اللي حطت مشا</td>\n",
       "      <td>0</td>\n",
       "    </tr>\n",
       "    <tr>\n",
       "      <th>4</th>\n",
       "      <td>الرزق ياتي تدري 🙌🏻❤️</td>\n",
       "      <td>0</td>\n",
       "    </tr>\n",
       "  </tbody>\n",
       "</table>\n",
       "</div>"
      ],
      "text/plain": [
       "                                     Comment  is_off\n",
       "0                               شوف حد ايران       1\n",
       "1     شوف تيفي قوداتها الجن غي بلاتي يجي مكه       0\n",
       "2  عجب يتفاوظون شعوب عربيه وعليهم وهيلا تعلم       0\n",
       "3               هه هاد شوف تيفي اللي حطت مشا       0\n",
       "4                       الرزق ياتي تدري 🙌🏻❤️       0"
      ]
     },
     "execution_count": 7,
     "metadata": {},
     "output_type": "execute_result"
    }
   ],
   "source": [
    "data.head()"
   ]
  },
  {
   "cell_type": "markdown",
   "metadata": {},
   "source": [
    "# AraVec Embedding"
   ]
  },
  {
   "cell_type": "code",
   "execution_count": 8,
   "metadata": {},
   "outputs": [],
   "source": [
    "from keras.models import Model, Sequential\n",
    "from keras.layers import Dense, Input, Dropout, LSTM, Activation, Flatten\n",
    "from keras.layers import Bidirectional, GlobalMaxPool1D\n",
    "from keras.layers.embeddings import Embedding\n",
    "from keras.preprocessing import sequence\n",
    "from keras.preprocessing.text import Tokenizer, text_to_word_sequence\n",
    "from keras.initializers import glorot_uniform\n",
    "from sklearn.preprocessing import LabelEncoder\n",
    "from keras.layers.merge import concatenate\n",
    "from keras.layers.normalization import BatchNormalization\n",
    "from keras.callbacks import Callback\n",
    "from keras.utils import np_utils\n",
    "from keras.regularizers import l1,l2\n",
    "import gensim"
   ]
  },
  {
   "cell_type": "code",
   "execution_count": 9,
   "metadata": {},
   "outputs": [],
   "source": [
    "MAX_NB_WORDS = 10000\n",
    "MAX_SEQUENCE_LENGTH = 100 #176 # based on our inputs; TODO: remove outliers? dynamically calculate!\n",
    "EMBEDDING_DIM = 100 # w2v, fastText; GloVe=50"
   ]
  },
  {
   "cell_type": "code",
   "execution_count": 10,
   "metadata": {},
   "outputs": [],
   "source": [
    "# path = './bin/aravec/tweets_sg_100'\n",
    "path = './bin/aravec/full_grams_sg_300_twitter.mdl'\n",
    "WORD_MODEL, _, MAX_FEATURES, EMBED_SIZE = get_init_parameters(path)"
   ]
  },
  {
   "cell_type": "code",
   "execution_count": 11,
   "metadata": {},
   "outputs": [
    {
     "name": "stdout",
     "output_type": "stream",
     "text": [
      "1476715\n",
      "300\n"
     ]
    }
   ],
   "source": [
    "print(MAX_FEATURES)\n",
    "print(EMBED_SIZE)"
   ]
  },
  {
   "cell_type": "code",
   "execution_count": 12,
   "metadata": {},
   "outputs": [
    {
     "name": "stdout",
     "output_type": "stream",
     "text": [
      "Dataset splited.\n",
      "Label categories: [0 1]\n",
      "Max Length: 461\n"
     ]
    }
   ],
   "source": [
    "# load data\n",
    "x = data.Comment.values\n",
    "y = data.is_off.values\n",
    "MAX_TEXT_LENGTH = get_max_length(x)\n",
    "X_train, X_test, Y_train, Y_test = train_test_split(x, y, test_size=0.2, random_state=42)\n",
    "print('Dataset splited.')\n",
    "CLASSES_LIST = np.unique(y)\n",
    "print('Label categories: ' + str(CLASSES_LIST))\n",
    "print(\"Max Length: \" + str(MAX_TEXT_LENGTH))"
   ]
  },
  {
   "cell_type": "code",
   "execution_count": 13,
   "metadata": {},
   "outputs": [
    {
     "name": "stdout",
     "output_type": "stream",
     "text": [
      "Original sequence length : 461\n"
     ]
    }
   ],
   "source": [
    "# Sequence length\n",
    "print(\"Original sequence length : \"+str(MAX_TEXT_LENGTH))\n",
    "\n",
    "# CHANGE MAX LENGTH (timesteps)\n",
    "MAX_TEXT_LENGTH = 200\n",
    "MAX_FEATURES = 20000"
   ]
  },
  {
   "cell_type": "code",
   "execution_count": 14,
   "metadata": {},
   "outputs": [
    {
     "name": "stdout",
     "output_type": "stream",
     "text": [
      "Converting data to trainable form...\n",
      "Number of training examples: 11200\n",
      "Number of testing examples: 2800\n",
      "Found 44530 unique words.\n"
     ]
    }
   ],
   "source": [
    "x_train, x_test, y_train, y_test, word_index = class_str_2_ind(X_train, X_test, \n",
    "                                                                            Y_train, Y_test,\n",
    "                                                                            CLASSES_LIST, MAX_FEATURES,\n",
    "                                                                            MAX_TEXT_LENGTH)\n",
    "print('Found %d unique words.' % len(word_index))"
   ]
  },
  {
   "cell_type": "code",
   "execution_count": 15,
   "metadata": {},
   "outputs": [
    {
     "data": {
      "image/png": "[encoded data removed]",
      "text/plain": [
       "<Figure size 432x288 with 1 Axes>"
      ]
     },
     "metadata": {},
     "output_type": "display_data"
    }
   ],
   "source": [
    "LABELS = ('Not-Offensive', 'Offensive')\n",
    "tmp = np.concatenate((y_train, y_test))\n",
    "unique, counts = np.unique(tmp, return_counts=True)\n",
    "del tmp\n",
    "plt.figure(\"Target Pie\")\n",
    "plt.title(\"Pie plot of the class frequencies\")\n",
    "plt.pie(counts, labels=LABELS, autopct='%1.1f%%')\n",
    "plt.legend(unique)\n",
    "# plt.savefig(\"./img/stats_classes.png\")\n",
    "plt.show();"
   ]
  },
  {
   "cell_type": "code",
   "execution_count": 16,
   "metadata": {},
   "outputs": [
    {
     "name": "stdout",
     "output_type": "stream",
     "text": [
      "Parameters Values:\n",
      "word_index: \n",
      "44530\n",
      "WORD_MODEL: \n",
      "<gensim.models.keyedvectors.Word2VecKeyedVectors object at 0x7fbd20b21ee0>\n",
      "EMBED_SIZE: \n",
      "300\n",
      "MAX_TEXT_LENGTH: \n",
      "200\n",
      "MAX_FEATURES:\n",
      "20000\n",
      "Building embedding matrix...\n",
      "Embedding matrix built.\n"
     ]
    }
   ],
   "source": [
    "print(\"Parameters Values:\")\n",
    "print(\"word_index: \")\n",
    "print(len(word_index))\n",
    "print(\"WORD_MODEL: \")\n",
    "print(WORD_MODEL)\n",
    "print(\"EMBED_SIZE: \")\n",
    "print(EMBED_SIZE)\n",
    "print(\"MAX_TEXT_LENGTH: \")\n",
    "print(MAX_TEXT_LENGTH)\n",
    "print(\"MAX_FEATURES:\")\n",
    "print(MAX_FEATURES)\n",
    "\n",
    "embedding_matrix, words_not_found = get_embedding_matrix(word_index, WORD_MODEL, EMBED_SIZE)"
   ]
  },
  {
   "cell_type": "code",
   "execution_count": 17,
   "metadata": {},
   "outputs": [
    {
     "name": "stdout",
     "output_type": "stream",
     "text": [
      "number of null word embeddings: 8829\n"
     ]
    }
   ],
   "source": [
    "print('number of null word embeddings: %d' % np.sum(np.sum(embedding_matrix, axis=1) == 0))"
   ]
  },
  {
   "cell_type": "code",
   "execution_count": 18,
   "metadata": {},
   "outputs": [
    {
     "name": "stdout",
     "output_type": "stream",
     "text": [
      "sample words not found:  ['درابكم' 'خامنیی' 'وبورقيبه' 'الضو🤲' 'غلشي' 'مءلفه' 'طواءف' 'كنكول'\n",
      " 'الاصنين' 'كنحلمو']\n"
     ]
    }
   ],
   "source": [
    "print(\"sample words not found: \", np.random.choice(words_not_found, 10))"
   ]
  },
  {
   "cell_type": "markdown",
   "metadata": {},
   "source": [
    "## LSTM"
   ]
  },
  {
   "cell_type": "code",
   "execution_count": 36,
   "metadata": {},
   "outputs": [],
   "source": [
    "def get_lstm_model(embedding_weights, word_index, vocab_dim, max_length, print_summary=True):\n",
    "    print(\"Build LSTM Model ...\")\n",
    "\n",
    "    \"\"\"\n",
    "    MAX_FEATURES: 331679\n",
    "    MAX_TEXT_LENGTH: 100\n",
    "    =========================\n",
    "    Training Accuracy: 0.8969\n",
    "    Training Loss: 0.2534\n",
    "    =========================\n",
    "    Testing Accuracy:  0.7900\n",
    "    Testing Loss:  0.5070\n",
    "    \n",
    "    MAX_FEATURES: 20000\n",
    "    MAX_TEXT_LENGTH: 200\n",
    "    =========================\n",
    "    Training Accuracy: 0.9485\n",
    "    Training Loss: 0.1688\n",
    "    =========================\n",
    "    Testing Accuracy:  0.8186\n",
    "    Testing Loss:  0.6079\n",
    "    \n",
    "    MAX_FEATURES: 10000\n",
    "    MAX_TEXT_LENGTH: 200\n",
    "    =========================\n",
    "    Training Accuracy: 0.9145\n",
    "    Training Loss: 0.2280\n",
    "    =========================\n",
    "    Testing Accuracy:  0.8071\n",
    "    Testing Loss:  0.4580\n",
    "    \"\"\"    \n",
    "    model = Sequential()\n",
    "    model.add(Input(shape=(max_length,)))\n",
    "    model.add(Embedding(input_dim=len(word_index)+1, \n",
    "                        output_dim=vocab_dim, \n",
    "                        trainable=False,\n",
    "                        weights=[embedding_weights]))\n",
    "    model.add(LSTM(32, dropout=0.5, recurrent_dropout=0.5, return_sequences=True))\n",
    "    model.add(GlobalMaxPool1D())\n",
    "    model.add(Dense(128, activation='relu'))\n",
    "    model.add(Dropout(0.5))\n",
    "    model.add(Dense(64, activation='relu'))\n",
    "    model.add(Dropout(0.5))\n",
    "    model.add(Dense(32, activation='relu'))\n",
    "    model.add(Dropout(0.5))\n",
    "    model.add(Dense(1, activation='sigmoid'))\n",
    "    \n",
    "    model.compile(loss='binary_crossentropy', optimizer='adam', metrics=['accuracy'])\n",
    "    if print_summary:\n",
    "        model.summary()\n",
    "    return model"
   ]
  },
  {
   "cell_type": "code",
   "execution_count": 39,
   "metadata": {},
   "outputs": [
    {
     "name": "stdout",
     "output_type": "stream",
     "text": [
      "Build LSTM Model ...\n",
      "WARNING:tensorflow:Layer lstm_1 will not use cuDNN kernel since it doesn't meet the cuDNN kernel criteria. It will use generic GPU kernel as fallback when running on GPU\n",
      "Model: \"sequential_1\"\n",
      "_________________________________________________________________\n",
      "Layer (type)                 Output Shape              Param #   \n",
      "=================================================================\n",
      "embedding_1 (Embedding)      (None, 200, 300)          13359300  \n",
      "_________________________________________________________________\n",
      "lstm_1 (LSTM)                (None, 200, 32)           42624     \n",
      "_________________________________________________________________\n",
      "global_max_pooling1d_1 (Glob (None, 32)                0         \n",
      "_________________________________________________________________\n",
      "dense_4 (Dense)              (None, 128)               4224      \n",
      "_________________________________________________________________\n",
      "dropout_3 (Dropout)          (None, 128)               0         \n",
      "_________________________________________________________________\n",
      "dense_5 (Dense)              (None, 64)                8256      \n",
      "_________________________________________________________________\n",
      "dropout_4 (Dropout)          (None, 64)                0         \n",
      "_________________________________________________________________\n",
      "dense_6 (Dense)              (None, 32)                2080      \n",
      "_________________________________________________________________\n",
      "dropout_5 (Dropout)          (None, 32)                0         \n",
      "_________________________________________________________________\n",
      "dense_7 (Dense)              (None, 1)                 33        \n",
      "=================================================================\n",
      "Total params: 13,416,517\n",
      "Trainable params: 57,217\n",
      "Non-trainable params: 13,359,300\n",
      "_________________________________________________________________\n"
     ]
    }
   ],
   "source": [
    "model = get_lstm_model(embedding_matrix, \n",
    "                       word_index, \n",
    "                       EMBED_SIZE, \n",
    "                       MAX_TEXT_LENGTH, \n",
    "                       print_summary=True)"
   ]
  },
  {
   "cell_type": "code",
   "execution_count": 40,
   "metadata": {},
   "outputs": [
    {
     "name": "stdout",
     "output_type": "stream",
     "text": [
      "Epoch 1/25\n",
      "140/140 [==============================] - 29s 206ms/step - loss: 0.6664 - accuracy: 0.5939 - val_loss: 0.5850 - val_accuracy: 0.6848\n",
      "Epoch 2/25\n",
      "140/140 [==============================] - 28s 202ms/step - loss: 0.5620 - accuracy: 0.7266 - val_loss: 0.5202 - val_accuracy: 0.7406\n",
      "Epoch 3/25\n",
      "140/140 [==============================] - 28s 203ms/step - loss: 0.5221 - accuracy: 0.7477 - val_loss: 0.5031 - val_accuracy: 0.7598\n",
      "Epoch 4/25\n",
      "140/140 [==============================] - 29s 208ms/step - loss: 0.5042 - accuracy: 0.7627 - val_loss: 0.4787 - val_accuracy: 0.7728\n",
      "Epoch 5/25\n",
      "140/140 [==============================] - 29s 210ms/step - loss: 0.4752 - accuracy: 0.7765 - val_loss: 0.4740 - val_accuracy: 0.7777\n",
      "Epoch 6/25\n",
      "140/140 [==============================] - 30s 214ms/step - loss: 0.4620 - accuracy: 0.7883 - val_loss: 0.4586 - val_accuracy: 0.7812\n",
      "Epoch 7/25\n",
      "140/140 [==============================] - 28s 204ms/step - loss: 0.4465 - accuracy: 0.7916 - val_loss: 0.4438 - val_accuracy: 0.7933\n",
      "Epoch 8/25\n",
      "140/140 [==============================] - 29s 208ms/step - loss: 0.4317 - accuracy: 0.8003 - val_loss: 0.4620 - val_accuracy: 0.7612\n",
      "Epoch 9/25\n",
      "140/140 [==============================] - 29s 204ms/step - loss: 0.4245 - accuracy: 0.8061 - val_loss: 0.4374 - val_accuracy: 0.7848\n",
      "Epoch 10/25\n",
      "140/140 [==============================] - 29s 210ms/step - loss: 0.4166 - accuracy: 0.8090 - val_loss: 0.4371 - val_accuracy: 0.7978\n",
      "Epoch 11/25\n",
      "140/140 [==============================] - 29s 209ms/step - loss: 0.4024 - accuracy: 0.8184 - val_loss: 0.4209 - val_accuracy: 0.8036\n",
      "Epoch 12/25\n",
      "140/140 [==============================] - 29s 211ms/step - loss: 0.4020 - accuracy: 0.8203 - val_loss: 0.4198 - val_accuracy: 0.8067\n",
      "Epoch 13/25\n",
      "140/140 [==============================] - 28s 200ms/step - loss: 0.3899 - accuracy: 0.8225 - val_loss: 0.4177 - val_accuracy: 0.8049\n",
      "Epoch 14/25\n",
      "140/140 [==============================] - 28s 201ms/step - loss: 0.3782 - accuracy: 0.8288 - val_loss: 0.4183 - val_accuracy: 0.7978\n",
      "Epoch 15/25\n",
      "140/140 [==============================] - 28s 203ms/step - loss: 0.3769 - accuracy: 0.8294 - val_loss: 0.4235 - val_accuracy: 0.8031\n",
      "Epoch 16/25\n",
      "140/140 [==============================] - 28s 202ms/step - loss: 0.3706 - accuracy: 0.8329 - val_loss: 0.4119 - val_accuracy: 0.8098\n",
      "Epoch 17/25\n",
      "140/140 [==============================] - 28s 204ms/step - loss: 0.3597 - accuracy: 0.8388 - val_loss: 0.4102 - val_accuracy: 0.8062\n",
      "Epoch 18/25\n",
      "140/140 [==============================] - 29s 206ms/step - loss: 0.3582 - accuracy: 0.8400 - val_loss: 0.4314 - val_accuracy: 0.8045\n",
      "Epoch 19/25\n",
      "140/140 [==============================] - 29s 208ms/step - loss: 0.3542 - accuracy: 0.8424 - val_loss: 0.4412 - val_accuracy: 0.7978\n",
      "Epoch 20/25\n",
      "140/140 [==============================] - 28s 201ms/step - loss: 0.3553 - accuracy: 0.8464 - val_loss: 0.4414 - val_accuracy: 0.8054\n",
      "Epoch 21/25\n",
      "140/140 [==============================] - 28s 201ms/step - loss: 0.3417 - accuracy: 0.8469 - val_loss: 0.4038 - val_accuracy: 0.8098\n",
      "Epoch 22/25\n",
      "140/140 [==============================] - 28s 201ms/step - loss: 0.3295 - accuracy: 0.8525 - val_loss: 0.4334 - val_accuracy: 0.8027\n",
      "Epoch 23/25\n",
      "140/140 [==============================] - 28s 202ms/step - loss: 0.3309 - accuracy: 0.8573 - val_loss: 0.4295 - val_accuracy: 0.7996\n",
      "Epoch 24/25\n",
      "140/140 [==============================] - 28s 202ms/step - loss: 0.3255 - accuracy: 0.8539 - val_loss: 0.4253 - val_accuracy: 0.8085\n",
      "Epoch 25/25\n",
      "140/140 [==============================] - 28s 201ms/step - loss: 0.3252 - accuracy: 0.8562 - val_loss: 0.4359 - val_accuracy: 0.8062\n"
     ]
    }
   ],
   "source": [
    "history, model = train_fit_predict(model,\n",
    "                               x_train,\n",
    "                               x_test,\n",
    "                               y_train, y_test,\n",
    "                               batch_size=64, epochs=25)"
   ]
  },
  {
   "cell_type": "code",
   "execution_count": 41,
   "metadata": {},
   "outputs": [
    {
     "name": "stdout",
     "output_type": "stream",
     "text": [
      "350/350 [==============================] - 15s 43ms/step - loss: 0.2678 - accuracy: 0.8838\n",
      "Training Accuracy: 0.8838\n",
      "Training Loss: 0.2678\n",
      "88/88 [==============================] - 4s 44ms/step - loss: 0.4556 - accuracy: 0.8096\n",
      "Testing Accuracy:  0.8096\n",
      "Testing Loss:  0.4556\n"
     ]
    }
   ],
   "source": [
    "loss, accuracy = model.evaluate(x_train, y_train)\n",
    "print(\"Training Accuracy: {:.4f}\".format(accuracy))\n",
    "print(\"Training Loss: {:.4f}\".format(loss))\n",
    "loss_val, accuracy_val = model.evaluate(x_test, y_test, verbose=True)\n",
    "print(\"Testing Accuracy:  {:.4f}\".format(accuracy_val))\n",
    "print(\"Testing Loss:  {:.4f}\".format(loss_val))"
   ]
  },
  {
   "cell_type": "code",
   "execution_count": 42,
   "metadata": {},
   "outputs": [
    {
     "name": "stdout",
     "output_type": "stream",
     "text": [
      "88/88 [==============================] - 4s 44ms/step\n",
      "              precision    recall  f1-score   support\n",
      "\n",
      "           0       0.77      0.88      0.82      1384\n",
      "           1       0.86      0.75      0.80      1416\n",
      "\n",
      "    accuracy                           0.81      2800\n",
      "   macro avg       0.82      0.81      0.81      2800\n",
      "weighted avg       0.82      0.81      0.81      2800\n",
      "\n"
     ]
    }
   ],
   "source": [
    "y_pred = model.predict(x_test, verbose=1)\n",
    "y_pred_bool = np.argmax(y_pred, axis=1)\n",
    "y_pred = (y_pred > 0.5)\n",
    "\n",
    "print(classification_report(y_test, y_pred))"
   ]
  },
  {
   "cell_type": "code",
   "execution_count": 43,
   "metadata": {},
   "outputs": [
    {
     "name": "stdout",
     "output_type": "stream",
     "text": [
      "Optimal epoch : 20\n",
      "Accuracy on train : 84.69 %\n",
      "Accuracy on test : 80.98 %\n",
      "Loss on train : 34.17\n",
      "Loss on test : 40.38\n"
     ]
    }
   ],
   "source": [
    "n = np.argmin(history.history['val_loss'])\n",
    "\n",
    "print(\"Optimal epoch : {}\".format(n))\n",
    "print(\"Accuracy on train : {} %\".format(np.round(history.history['accuracy'][n]*100, 2)))\n",
    "print(\"Accuracy on test : {} %\".format(np.round(history.history['val_accuracy'][n]*100, 2)))\n",
    "print(\"Loss on train : {}\".format(np.round(history.history['loss'][n]*100, 2)))\n",
    "print(\"Loss on test : {}\".format(np.round(history.history['val_loss'][n]*100, 2)))"
   ]
  },
  {
   "cell_type": "code",
   "execution_count": 44,
   "metadata": {},
   "outputs": [
    {
     "data": {
      "image/png": "[encoded data removed]",
      "text/plain": [
       "<Figure size 1152x576 with 1 Axes>"
      ]
     },
     "metadata": {
      "needs_background": "light"
     },
     "output_type": "display_data"
    },
    {
     "data": {
      "image/png": "[encoded data removed]",
      "text/plain": [
       "<Figure size 1152x576 with 1 Axes>"
      ]
     },
     "metadata": {
      "needs_background": "light"
     },
     "output_type": "display_data"
    }
   ],
   "source": [
    "#train loss vs validation loss\n",
    "show_train_history(history,'loss','val_loss', n)\n",
    "\n",
    "show_train_history(history,'accuracy','val_accuracy', n)"
   ]
  },
  {
   "cell_type": "code",
   "execution_count": 45,
   "metadata": {},
   "outputs": [
    {
     "name": "stdout",
     "output_type": "stream",
     "text": [
      "88/88 [==============================] - 4s 43ms/step\n"
     ]
    }
   ],
   "source": [
    "pred_test = model.predict(x_test, verbose=True)\n",
    "df_blind = pd.DataFrame({'REAL': y_test, \n",
    "                         'PRED': pred_test.reshape(pred_test.shape[0],), \n",
    "                         'TEXT': X_test})\n",
    "df_blind = df_blind.reset_index()[['REAL', 'PRED', 'TEXT']]\n",
    "df_blind.PRED = df_blind.PRED.round()\n",
    "error_records = df_blind[df_blind.REAL != df_blind.PRED]"
   ]
  },
  {
   "cell_type": "code",
   "execution_count": 46,
   "metadata": {},
   "outputs": [
    {
     "name": "stdout",
     "output_type": "stream",
     "text": [
      "Number of misclassified reviews: 533 out of 2800\n",
      "Blind Test Accuracy:  0.8096\n"
     ]
    }
   ],
   "source": [
    "print(\"Number of misclassified reviews: {} out of {}\".format(error_records.shape[0], df_blind.shape[0]))\n",
    "print(\"Blind Test Accuracy:  {:.4f}\".format(accuracy_score(df_blind.REAL, df_blind.PRED)))"
   ]
  },
  {
   "cell_type": "code",
   "execution_count": 47,
   "metadata": {},
   "outputs": [
    {
     "name": "stdout",
     "output_type": "stream",
     "text": [
      "533\n"
     ]
    }
   ],
   "source": [
    "print(len(df_blind[df_blind.REAL != df_blind.PRED]))"
   ]
  },
  {
   "cell_type": "code",
   "execution_count": 48,
   "metadata": {},
   "outputs": [
    {
     "data": {
      "text/html": [
       "<div>\n",
       "<style scoped>\n",
       "    .dataframe tbody tr th:only-of-type {\n",
       "        vertical-align: middle;\n",
       "    }\n",
       "\n",
       "    .dataframe tbody tr th {\n",
       "        vertical-align: top;\n",
       "    }\n",
       "\n",
       "    .dataframe thead th {\n",
       "        text-align: right;\n",
       "    }\n",
       "</style>\n",
       "<table border=\"1\" class=\"dataframe\">\n",
       "  <thead>\n",
       "    <tr style=\"text-align: right;\">\n",
       "      <th></th>\n",
       "      <th>REAL</th>\n",
       "      <th>PRED</th>\n",
       "      <th>TEXT</th>\n",
       "    </tr>\n",
       "  </thead>\n",
       "  <tbody>\n",
       "    <tr>\n",
       "      <th>3</th>\n",
       "      <td>0</td>\n",
       "      <td>0.0</td>\n",
       "      <td>حياه انسان لحظه لاتعود الحياه بعدها قبلها</td>\n",
       "    </tr>\n",
       "    <tr>\n",
       "      <th>5</th>\n",
       "      <td>0</td>\n",
       "      <td>0.0</td>\n",
       "      <td>سيري الله يمسخك صبات سحات بغيتي يديها فسوق راس...</td>\n",
       "    </tr>\n",
       "    <tr>\n",
       "      <th>6</th>\n",
       "      <td>1</td>\n",
       "      <td>0.0</td>\n",
       "      <td>جبهه النصره تعرف القاعده مربط الجمل</td>\n",
       "    </tr>\n",
       "    <tr>\n",
       "      <th>7</th>\n",
       "      <td>0</td>\n",
       "      <td>0.0</td>\n",
       "      <td>اتحدي النظام يفعل اللحظه &lt;NUM&gt; الامام</td>\n",
       "    </tr>\n",
       "    <tr>\n",
       "      <th>8</th>\n",
       "      <td>0</td>\n",
       "      <td>0.0</td>\n",
       "      <td>&lt;NUM&gt; &lt;NUM&gt;</td>\n",
       "    </tr>\n",
       "    <tr>\n",
       "      <th>...</th>\n",
       "      <td>...</td>\n",
       "      <td>...</td>\n",
       "      <td>...</td>\n",
       "    </tr>\n",
       "    <tr>\n",
       "      <th>2791</th>\n",
       "      <td>1</td>\n",
       "      <td>0.0</td>\n",
       "      <td>وبعديين 😔 اثق بشخص انو قلبو عالقضيه وشريف بنفض...</td>\n",
       "    </tr>\n",
       "    <tr>\n",
       "      <th>2792</th>\n",
       "      <td>1</td>\n",
       "      <td>0.0</td>\n",
       "      <td>وقتل &lt;NUM&gt; سعوديا الحدود برصاص القبايل &lt;NUM&gt; م...</td>\n",
       "    </tr>\n",
       "    <tr>\n",
       "      <th>2793</th>\n",
       "      <td>1</td>\n",
       "      <td>0.0</td>\n",
       "      <td>كيانك نتيجه استفتاء لتبارك للاسبانيا فتحها الع...</td>\n",
       "    </tr>\n",
       "    <tr>\n",
       "      <th>2796</th>\n",
       "      <td>1</td>\n",
       "      <td>0.0</td>\n",
       "      <td>كيتلوا بحال لفعه الله يعطك دقه جدي طاح ناد</td>\n",
       "    </tr>\n",
       "    <tr>\n",
       "      <th>2798</th>\n",
       "      <td>1</td>\n",
       "      <td>0.0</td>\n",
       "      <td>مقدم برنامج اكبرا قود لله حرقك انشاء لله</td>\n",
       "    </tr>\n",
       "  </tbody>\n",
       "</table>\n",
       "<p>1571 rows × 3 columns</p>\n",
       "</div>"
      ],
      "text/plain": [
       "      REAL  PRED                                               TEXT\n",
       "3        0   0.0          حياه انسان لحظه لاتعود الحياه بعدها قبلها\n",
       "5        0   0.0  سيري الله يمسخك صبات سحات بغيتي يديها فسوق راس...\n",
       "6        1   0.0                جبهه النصره تعرف القاعده مربط الجمل\n",
       "7        0   0.0              اتحدي النظام يفعل اللحظه <NUM> الامام\n",
       "8        0   0.0                                        <NUM> <NUM>\n",
       "...    ...   ...                                                ...\n",
       "2791     1   0.0  وبعديين 😔 اثق بشخص انو قلبو عالقضيه وشريف بنفض...\n",
       "2792     1   0.0  وقتل <NUM> سعوديا الحدود برصاص القبايل <NUM> م...\n",
       "2793     1   0.0  كيانك نتيجه استفتاء لتبارك للاسبانيا فتحها الع...\n",
       "2796     1   0.0         كيتلوا بحال لفعه الله يعطك دقه جدي طاح ناد\n",
       "2798     1   0.0           مقدم برنامج اكبرا قود لله حرقك انشاء لله\n",
       "\n",
       "[1571 rows x 3 columns]"
      ]
     },
     "execution_count": 48,
     "metadata": {},
     "output_type": "execute_result"
    }
   ],
   "source": [
    "df_blind[df_blind.PRED == 0]"
   ]
  },
  {
   "cell_type": "code",
   "execution_count": 315,
   "metadata": {},
   "outputs": [
    {
     "name": "stdout",
     "output_type": "stream",
     "text": [
      "Model Saved Successfully in ./models/aravec/\n"
     ]
    }
   ],
   "source": [
    "save_model('aravec', 'lstm', round(accuracy_val, 4))"
   ]
  },
  {
   "cell_type": "markdown",
   "metadata": {},
   "source": [
    "## BiLSTM"
   ]
  },
  {
   "cell_type": "code",
   "execution_count": 19,
   "metadata": {},
   "outputs": [],
   "source": [
    "def get_bilstm_model(embedding_weights, word_index, vocab_dim, max_length, print_summary=True):\n",
    "    print(\"Build BiLSTM Model ...\")\n",
    "    \n",
    "    model = Sequential()\n",
    "    model.add(Input(shape=(max_length,)))\n",
    "    model.add(Embedding(input_dim=len(word_index)+1, \n",
    "                        output_dim=vocab_dim, \n",
    "                        trainable=False,\n",
    "                        weights=[embedding_weights]))\n",
    "    model.add(Bidirectional(LSTM(32, dropout=0.5, recurrent_dropout=0.5, return_sequences=True)))\n",
    "    model.add(GlobalMaxPool1D())\n",
    "    model.add(Dense(128, activation='relu'))\n",
    "    model.add(Dropout(0.5))\n",
    "    model.add(Dense(64, activation='relu'))\n",
    "    model.add(Dropout(0.5))\n",
    "    model.add(Dense(32, activation='relu'))\n",
    "    model.add(Dropout(0.5))\n",
    "    model.add(Dense(1, activation='sigmoid'))\n",
    "    \n",
    "    model.compile(loss='binary_crossentropy', optimizer='adam', metrics=['accuracy'])\n",
    "    if print_summary:\n",
    "        model.summary()\n",
    "    return model"
   ]
  },
  {
   "cell_type": "code",
   "execution_count": 20,
   "metadata": {},
   "outputs": [
    {
     "name": "stdout",
     "output_type": "stream",
     "text": [
      "Build BiLSTM Model ...\n",
      "WARNING:tensorflow:Layer lstm will not use cuDNN kernel since it doesn't meet the cuDNN kernel criteria. It will use generic GPU kernel as fallback when running on GPU\n",
      "WARNING:tensorflow:Layer lstm will not use cuDNN kernel since it doesn't meet the cuDNN kernel criteria. It will use generic GPU kernel as fallback when running on GPU\n",
      "WARNING:tensorflow:Layer lstm will not use cuDNN kernel since it doesn't meet the cuDNN kernel criteria. It will use generic GPU kernel as fallback when running on GPU\n",
      "Model: \"sequential\"\n",
      "_________________________________________________________________\n",
      "Layer (type)                 Output Shape              Param #   \n",
      "=================================================================\n",
      "embedding (Embedding)        (None, 200, 300)          13359300  \n",
      "_________________________________________________________________\n",
      "bidirectional (Bidirectional (None, 200, 64)           85248     \n",
      "_________________________________________________________________\n",
      "global_max_pooling1d (Global (None, 64)                0         \n",
      "_________________________________________________________________\n",
      "dense (Dense)                (None, 128)               8320      \n",
      "_________________________________________________________________\n",
      "dropout (Dropout)            (None, 128)               0         \n",
      "_________________________________________________________________\n",
      "dense_1 (Dense)              (None, 64)                8256      \n",
      "_________________________________________________________________\n",
      "dropout_1 (Dropout)          (None, 64)                0         \n",
      "_________________________________________________________________\n",
      "dense_2 (Dense)              (None, 32)                2080      \n",
      "_________________________________________________________________\n",
      "dropout_2 (Dropout)          (None, 32)                0         \n",
      "_________________________________________________________________\n",
      "dense_3 (Dense)              (None, 1)                 33        \n",
      "=================================================================\n",
      "Total params: 13,463,237\n",
      "Trainable params: 103,937\n",
      "Non-trainable params: 13,359,300\n",
      "_________________________________________________________________\n"
     ]
    }
   ],
   "source": [
    "bi_model = get_bilstm_model(embedding_matrix, \n",
    "                       word_index, \n",
    "                       EMBED_SIZE, \n",
    "                       MAX_TEXT_LENGTH, \n",
    "                       print_summary=True)"
   ]
  },
  {
   "cell_type": "code",
   "execution_count": 22,
   "metadata": {},
   "outputs": [
    {
     "name": "stdout",
     "output_type": "stream",
     "text": [
      "Epoch 1/25\n",
      "140/140 [==============================] - 56s 403ms/step - loss: 0.6773 - accuracy: 0.5869 - val_loss: 0.6242 - val_accuracy: 0.6737\n",
      "Epoch 2/25\n",
      "140/140 [==============================] - 56s 400ms/step - loss: 0.5792 - accuracy: 0.7152 - val_loss: 0.5407 - val_accuracy: 0.7460\n",
      "Epoch 3/25\n",
      "140/140 [==============================] - 57s 405ms/step - loss: 0.5178 - accuracy: 0.7568 - val_loss: 0.5033 - val_accuracy: 0.7531\n",
      "Epoch 4/25\n",
      "140/140 [==============================] - 56s 403ms/step - loss: 0.4960 - accuracy: 0.7664 - val_loss: 0.4835 - val_accuracy: 0.7643\n",
      "Epoch 5/25\n",
      "140/140 [==============================] - 56s 399ms/step - loss: 0.4653 - accuracy: 0.7817 - val_loss: 0.4763 - val_accuracy: 0.7661\n",
      "Epoch 6/25\n",
      "140/140 [==============================] - 56s 399ms/step - loss: 0.4502 - accuracy: 0.7862 - val_loss: 0.4655 - val_accuracy: 0.7701\n",
      "Epoch 7/25\n",
      "140/140 [==============================] - 56s 400ms/step - loss: 0.4318 - accuracy: 0.7993 - val_loss: 0.4455 - val_accuracy: 0.7911\n",
      "Epoch 8/25\n",
      "140/140 [==============================] - 56s 399ms/step - loss: 0.4207 - accuracy: 0.8041 - val_loss: 0.4556 - val_accuracy: 0.7781\n",
      "Epoch 9/25\n",
      "140/140 [==============================] - 58s 411ms/step - loss: 0.4067 - accuracy: 0.8113 - val_loss: 0.4486 - val_accuracy: 0.7893\n",
      "Epoch 10/25\n",
      "140/140 [==============================] - 56s 400ms/step - loss: 0.3970 - accuracy: 0.8153 - val_loss: 0.4616 - val_accuracy: 0.7554\n",
      "Epoch 11/25\n",
      "140/140 [==============================] - 56s 400ms/step - loss: 0.3839 - accuracy: 0.8237 - val_loss: 0.4345 - val_accuracy: 0.8009\n",
      "Epoch 12/25\n",
      "140/140 [==============================] - 56s 400ms/step - loss: 0.3747 - accuracy: 0.8269 - val_loss: 0.4215 - val_accuracy: 0.8076\n",
      "Epoch 13/25\n",
      "140/140 [==============================] - 56s 399ms/step - loss: 0.3677 - accuracy: 0.8356 - val_loss: 0.4186 - val_accuracy: 0.8071\n",
      "Epoch 14/25\n",
      "140/140 [==============================] - 56s 399ms/step - loss: 0.3564 - accuracy: 0.8382 - val_loss: 0.4211 - val_accuracy: 0.8116\n",
      "Epoch 15/25\n",
      "140/140 [==============================] - 56s 400ms/step - loss: 0.3506 - accuracy: 0.8398 - val_loss: 0.4274 - val_accuracy: 0.8089\n",
      "Epoch 16/25\n",
      "140/140 [==============================] - 56s 401ms/step - loss: 0.3413 - accuracy: 0.8468 - val_loss: 0.4522 - val_accuracy: 0.7982\n",
      "Epoch 17/25\n",
      "140/140 [==============================] - 56s 400ms/step - loss: 0.3258 - accuracy: 0.8542 - val_loss: 0.4478 - val_accuracy: 0.7991\n",
      "Epoch 18/25\n",
      "140/140 [==============================] - 56s 400ms/step - loss: 0.3174 - accuracy: 0.8552 - val_loss: 0.4420 - val_accuracy: 0.8076\n",
      "Epoch 19/25\n",
      "140/140 [==============================] - 56s 400ms/step - loss: 0.3207 - accuracy: 0.8578 - val_loss: 0.4316 - val_accuracy: 0.8058\n",
      "Epoch 20/25\n",
      "140/140 [==============================] - 56s 400ms/step - loss: 0.3066 - accuracy: 0.8642 - val_loss: 0.4196 - val_accuracy: 0.8076\n",
      "Epoch 21/25\n",
      "140/140 [==============================] - 56s 400ms/step - loss: 0.3042 - accuracy: 0.8703 - val_loss: 0.4318 - val_accuracy: 0.8129\n",
      "Epoch 22/25\n",
      "140/140 [==============================] - 56s 400ms/step - loss: 0.2997 - accuracy: 0.8695 - val_loss: 0.4639 - val_accuracy: 0.8094\n",
      "Epoch 23/25\n",
      "140/140 [==============================] - 56s 400ms/step - loss: 0.2892 - accuracy: 0.8768 - val_loss: 0.4402 - val_accuracy: 0.8094\n",
      "Epoch 24/25\n",
      "140/140 [==============================] - 56s 400ms/step - loss: 0.2798 - accuracy: 0.8781 - val_loss: 0.4562 - val_accuracy: 0.8112\n",
      "Epoch 25/25\n",
      "140/140 [==============================] - 56s 400ms/step - loss: 0.2789 - accuracy: 0.8809 - val_loss: 0.4568 - val_accuracy: 0.8125\n"
     ]
    }
   ],
   "source": [
    "history, bi_model = train_fit(bi_model,\n",
    "                               x_train,\n",
    "                               y_train,\n",
    "                               batch_size=64, epochs=25)"
   ]
  },
  {
   "cell_type": "code",
   "execution_count": 24,
   "metadata": {},
   "outputs": [
    {
     "name": "stdout",
     "output_type": "stream",
     "text": [
      "350/350 [==============================] - 29s 84ms/step - loss: 0.2289 - accuracy: 0.9084\n",
      "Training Accuracy: 0.9084\n",
      "Training Loss: 0.2289\n",
      "88/88 [==============================] - 7s 83ms/step - loss: 0.4859 - accuracy: 0.8189\n",
      "Testing Accuracy:  0.8189\n",
      "Testing Loss:  0.4859\n"
     ]
    }
   ],
   "source": [
    "accuracy, accuracy_val = evaluate_model(bi_model, x_train, y_train, x_test, y_test)"
   ]
  },
  {
   "cell_type": "code",
   "execution_count": 25,
   "metadata": {},
   "outputs": [
    {
     "name": "stdout",
     "output_type": "stream",
     "text": [
      "88/88 [==============================] - 7s 82ms/step\n",
      "              precision    recall  f1-score   support\n",
      "\n",
      "           0       0.79      0.86      0.82      1384\n",
      "           1       0.85      0.78      0.81      1416\n",
      "\n",
      "    accuracy                           0.82      2800\n",
      "   macro avg       0.82      0.82      0.82      2800\n",
      "weighted avg       0.82      0.82      0.82      2800\n",
      "\n"
     ]
    }
   ],
   "source": [
    "print(classification_report(y_test, get_prediction(bi_model, x_test)))"
   ]
  },
  {
   "cell_type": "code",
   "execution_count": 26,
   "metadata": {},
   "outputs": [
    {
     "name": "stdout",
     "output_type": "stream",
     "text": [
      "Optimal epoch : 12\n",
      "Accuracy on train : 83.56 %\n",
      "Accuracy on test : 80.71 %\n",
      "Loss on train : 36.77\n",
      "Loss on test : 41.86\n"
     ]
    },
    {
     "data": {
      "image/png": "[encoded data removed]",
      "text/plain": [
       "<Figure size 1152x576 with 1 Axes>"
      ]
     },
     "metadata": {
      "needs_background": "light"
     },
     "output_type": "display_data"
    },
    {
     "data": {
      "image/png": "[encoded data removed]",
      "text/plain": [
       "<Figure size 1152x576 with 1 Axes>"
      ]
     },
     "metadata": {
      "needs_background": "light"
     },
     "output_type": "display_data"
    }
   ],
   "source": [
    "n = get_optimal_epoch(history)\n",
    "#train loss vs validation loss\n",
    "show_train_history(history,'loss','val_loss', n)\n",
    "show_train_history(history,'accuracy','val_accuracy', n)"
   ]
  },
  {
   "cell_type": "code",
   "execution_count": 28,
   "metadata": {},
   "outputs": [
    {
     "name": "stdout",
     "output_type": "stream",
     "text": [
      "88/88 [==============================] - 7s 82ms/step\n",
      "Number of misclassified reviews: 507 out of 2800\n",
      "Blind Test Accuracy:  0.8189\n"
     ]
    },
    {
     "data": {
      "text/html": [
       "<div>\n",
       "<style scoped>\n",
       "    .dataframe tbody tr th:only-of-type {\n",
       "        vertical-align: middle;\n",
       "    }\n",
       "\n",
       "    .dataframe tbody tr th {\n",
       "        vertical-align: top;\n",
       "    }\n",
       "\n",
       "    .dataframe thead th {\n",
       "        text-align: right;\n",
       "    }\n",
       "</style>\n",
       "<table border=\"1\" class=\"dataframe\">\n",
       "  <thead>\n",
       "    <tr style=\"text-align: right;\">\n",
       "      <th></th>\n",
       "      <th>REAL</th>\n",
       "      <th>PRED</th>\n",
       "      <th>TEXT</th>\n",
       "    </tr>\n",
       "  </thead>\n",
       "  <tbody>\n",
       "    <tr>\n",
       "      <th>2</th>\n",
       "      <td>1</td>\n",
       "      <td>0.0</td>\n",
       "      <td>هه عيد ميلاد باللحم البرقوق والله شوف تيفي معن...</td>\n",
       "    </tr>\n",
       "    <tr>\n",
       "      <th>6</th>\n",
       "      <td>1</td>\n",
       "      <td>0.0</td>\n",
       "      <td>جبهه النصره تعرف القاعده مربط الجمل</td>\n",
       "    </tr>\n",
       "    <tr>\n",
       "      <th>12</th>\n",
       "      <td>1</td>\n",
       "      <td>0.0</td>\n",
       "      <td>الزعماء العرب قل كلهم استثنيت فربما لانك تخاف ...</td>\n",
       "    </tr>\n",
       "    <tr>\n",
       "      <th>20</th>\n",
       "      <td>0</td>\n",
       "      <td>1.0</td>\n",
       "      <td>نجح الطواغيت خداع شباب المسلمين فجعلوا جهادهم ...</td>\n",
       "    </tr>\n",
       "    <tr>\n",
       "      <th>21</th>\n",
       "      <td>1</td>\n",
       "      <td>0.0</td>\n",
       "      <td>بسم الله الرحمن الرحيم الشيخ غازي طير انت</td>\n",
       "    </tr>\n",
       "    <tr>\n",
       "      <th>...</th>\n",
       "      <td>...</td>\n",
       "      <td>...</td>\n",
       "      <td>...</td>\n",
       "    </tr>\n",
       "    <tr>\n",
       "      <th>2790</th>\n",
       "      <td>0</td>\n",
       "      <td>1.0</td>\n",
       "      <td>اغبا اعلام مغربي اتفوو جزاءري وافتخر</td>\n",
       "    </tr>\n",
       "    <tr>\n",
       "      <th>2791</th>\n",
       "      <td>1</td>\n",
       "      <td>0.0</td>\n",
       "      <td>وبعديين 😔 اثق بشخص انو قلبو عالقضيه وشريف بنفض...</td>\n",
       "    </tr>\n",
       "    <tr>\n",
       "      <th>2793</th>\n",
       "      <td>1</td>\n",
       "      <td>0.0</td>\n",
       "      <td>كيانك نتيجه استفتاء لتبارك للاسبانيا فتحها الع...</td>\n",
       "    </tr>\n",
       "    <tr>\n",
       "      <th>2794</th>\n",
       "      <td>0</td>\n",
       "      <td>1.0</td>\n",
       "      <td>انا شايف انو رغم عدوانيه هالقرار مازلنا مصرين ...</td>\n",
       "    </tr>\n",
       "    <tr>\n",
       "      <th>2798</th>\n",
       "      <td>1</td>\n",
       "      <td>0.0</td>\n",
       "      <td>مقدم برنامج اكبرا قود لله حرقك انشاء لله</td>\n",
       "    </tr>\n",
       "  </tbody>\n",
       "</table>\n",
       "<p>507 rows × 3 columns</p>\n",
       "</div>"
      ],
      "text/plain": [
       "      REAL  PRED                                               TEXT\n",
       "2        1   0.0  هه عيد ميلاد باللحم البرقوق والله شوف تيفي معن...\n",
       "6        1   0.0                جبهه النصره تعرف القاعده مربط الجمل\n",
       "12       1   0.0  الزعماء العرب قل كلهم استثنيت فربما لانك تخاف ...\n",
       "20       0   1.0  نجح الطواغيت خداع شباب المسلمين فجعلوا جهادهم ...\n",
       "21       1   0.0          بسم الله الرحمن الرحيم الشيخ غازي طير انت\n",
       "...    ...   ...                                                ...\n",
       "2790     0   1.0               اغبا اعلام مغربي اتفوو جزاءري وافتخر\n",
       "2791     1   0.0  وبعديين 😔 اثق بشخص انو قلبو عالقضيه وشريف بنفض...\n",
       "2793     1   0.0  كيانك نتيجه استفتاء لتبارك للاسبانيا فتحها الع...\n",
       "2794     0   1.0  انا شايف انو رغم عدوانيه هالقرار مازلنا مصرين ...\n",
       "2798     1   0.0           مقدم برنامج اكبرا قود لله حرقك انشاء لله\n",
       "\n",
       "[507 rows x 3 columns]"
      ]
     },
     "execution_count": 28,
     "metadata": {},
     "output_type": "execute_result"
    }
   ],
   "source": [
    "df_test = model_analyse(bi_model, x_test, X_test, y_test)\n",
    "df_test[df_test.REAL != df_test.PRED]"
   ]
  },
  {
   "cell_type": "code",
   "execution_count": 29,
   "metadata": {},
   "outputs": [
    {
     "name": "stdout",
     "output_type": "stream",
     "text": [
      "Model Saved Successfully in ./models/aravec/ as bilstm_acc_0.8189\n"
     ]
    }
   ],
   "source": [
    "save_model(bi_model, 'aravec', 'bilstm', round(accuracy_val, 4))"
   ]
  },
  {
   "cell_type": "code",
   "execution_count": null,
   "metadata": {},
   "outputs": [],
   "source": []
  },
  {
   "cell_type": "code",
   "execution_count": null,
   "metadata": {},
   "outputs": [],
   "source": []
  }
 ],
 "metadata": {
  "kernelspec": {
   "display_name": "env",
   "language": "python",
   "name": "env"
  },
  "language_info": {
   "codemirror_mode": {
    "name": "ipython",
    "version": 3
   },
   "file_extension": ".py",
   "mimetype": "text/x-python",
   "name": "python",
   "nbconvert_exporter": "python",
   "pygments_lexer": "ipython3",
   "version": "3.8.5"
  }
 },
 "nbformat": 4,
 "nbformat_minor": 4
}
