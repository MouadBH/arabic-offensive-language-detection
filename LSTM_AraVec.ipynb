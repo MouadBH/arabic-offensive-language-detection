{
 "cells": [
  {
   "cell_type": "code",
   "execution_count": 1,
   "metadata": {},
   "outputs": [],
   "source": [
    "import string, re, json, pickle, warnings, random\n",
    "import pandas as pd\n",
    "import numpy as np\n",
    "import matplotlib.pyplot as plt\n",
    "import seaborn as sns\n",
    "import tensorflow as tf\n",
    "from sklearn.metrics import confusion_matrix, accuracy_score, classification_report\n",
    "from data_preparation import take_a_shower, clean_content_aravec\n",
    "from utils import *\n",
    "\n",
    "%matplotlib inline\n",
    "warnings.filterwarnings('ignore')"
   ]
  },
  {
   "cell_type": "code",
   "execution_count": 126,
   "metadata": {},
   "outputs": [
    {
     "data": {
      "text/html": [
       "<div>\n",
       "<style scoped>\n",
       "    .dataframe tbody tr th:only-of-type {\n",
       "        vertical-align: middle;\n",
       "    }\n",
       "\n",
       "    .dataframe tbody tr th {\n",
       "        vertical-align: top;\n",
       "    }\n",
       "\n",
       "    .dataframe thead th {\n",
       "        text-align: right;\n",
       "    }\n",
       "</style>\n",
       "<table border=\"1\" class=\"dataframe\">\n",
       "  <thead>\n",
       "    <tr style=\"text-align: right;\">\n",
       "      <th></th>\n",
       "      <th>Comment</th>\n",
       "      <th>is_off</th>\n",
       "    </tr>\n",
       "  </thead>\n",
       "  <tbody>\n",
       "    <tr>\n",
       "      <th>0</th>\n",
       "      <td>شوف حد ين*** أنت و إيران.</td>\n",
       "      <td>1</td>\n",
       "    </tr>\n",
       "    <tr>\n",
       "      <th>1</th>\n",
       "      <td>شوف تيفي قوداتها مع الجن غي بلاتي يجي من مكة</td>\n",
       "      <td>0</td>\n",
       "    </tr>\n",
       "    <tr>\n",
       "      <th>2</th>\n",
       "      <td>عجب يتفاوظون على شعوب عربية وعليهم وهىلا تعلم</td>\n",
       "      <td>0</td>\n",
       "    </tr>\n",
       "    <tr>\n",
       "      <th>3</th>\n",
       "      <td>ههههههه هاد شوف تيفي اللي حطت عليه مشا فيها</td>\n",
       "      <td>0</td>\n",
       "    </tr>\n",
       "    <tr>\n",
       "      <th>4</th>\n",
       "      <td>الرزق يأتي من حيث لا تدري 🙌🏻❤️</td>\n",
       "      <td>0</td>\n",
       "    </tr>\n",
       "  </tbody>\n",
       "</table>\n",
       "</div>"
      ],
      "text/plain": [
       "                                         Comment  is_off\n",
       "0                      شوف حد ين*** أنت و إيران.       1\n",
       "1   شوف تيفي قوداتها مع الجن غي بلاتي يجي من مكة       0\n",
       "2  عجب يتفاوظون على شعوب عربية وعليهم وهىلا تعلم       0\n",
       "3    ههههههه هاد شوف تيفي اللي حطت عليه مشا فيها       0\n",
       "4                الرزق يأتي من حيث لا تدري 🙌🏻❤️        0"
      ]
     },
     "execution_count": 126,
     "metadata": {},
     "output_type": "execute_result"
    }
   ],
   "source": [
    "data = pd.read_csv('./data/offensive_dataset.csv', encoding=\"utf-16\")\n",
    "data.head()"
   ]
  },
  {
   "cell_type": "code",
   "execution_count": 127,
   "metadata": {},
   "outputs": [
    {
     "data": {
      "text/plain": [
       "<AxesSubplot:xlabel='is_off', ylabel='count'>"
      ]
     },
     "execution_count": 127,
     "metadata": {},
     "output_type": "execute_result"
    },
    {
     "data": {
      "image/png": "[encoded data removed]",
      "text/plain": [
       "<Figure size 432x288 with 1 Axes>"
      ]
     },
     "metadata": {
      "needs_background": "light"
     },
     "output_type": "display_data"
    }
   ],
   "source": [
    "sns.countplot(x='is_off', data=data)"
   ]
  },
  {
   "cell_type": "code",
   "execution_count": 128,
   "metadata": {},
   "outputs": [
    {
     "data": {
      "text/plain": [
       "(14000, 2)"
      ]
     },
     "execution_count": 128,
     "metadata": {},
     "output_type": "execute_result"
    }
   ],
   "source": [
    "data.Comment = data.Comment.apply(take_a_shower)\n",
    "data.shape"
   ]
  },
  {
   "cell_type": "code",
   "execution_count": 129,
   "metadata": {},
   "outputs": [
    {
     "data": {
      "text/html": [
       "<div>\n",
       "<style scoped>\n",
       "    .dataframe tbody tr th:only-of-type {\n",
       "        vertical-align: middle;\n",
       "    }\n",
       "\n",
       "    .dataframe tbody tr th {\n",
       "        vertical-align: top;\n",
       "    }\n",
       "\n",
       "    .dataframe thead th {\n",
       "        text-align: right;\n",
       "    }\n",
       "</style>\n",
       "<table border=\"1\" class=\"dataframe\">\n",
       "  <thead>\n",
       "    <tr style=\"text-align: right;\">\n",
       "      <th></th>\n",
       "      <th>Comment</th>\n",
       "      <th>is_off</th>\n",
       "    </tr>\n",
       "  </thead>\n",
       "  <tbody>\n",
       "    <tr>\n",
       "      <th>0</th>\n",
       "      <td>شوف حد ايران</td>\n",
       "      <td>1</td>\n",
       "    </tr>\n",
       "    <tr>\n",
       "      <th>1</th>\n",
       "      <td>شوف تيفي قوداتها الجن غي بلاتي يجي مكه</td>\n",
       "      <td>0</td>\n",
       "    </tr>\n",
       "    <tr>\n",
       "      <th>2</th>\n",
       "      <td>عجب يتفاوظون شعوب عربيه وعليهم وهيلا تعلم</td>\n",
       "      <td>0</td>\n",
       "    </tr>\n",
       "    <tr>\n",
       "      <th>3</th>\n",
       "      <td>هه هاد شوف تيفي اللي حطت مشا</td>\n",
       "      <td>0</td>\n",
       "    </tr>\n",
       "    <tr>\n",
       "      <th>4</th>\n",
       "      <td>الرزق ياتي تدري 🙌🏻❤️</td>\n",
       "      <td>0</td>\n",
       "    </tr>\n",
       "  </tbody>\n",
       "</table>\n",
       "</div>"
      ],
      "text/plain": [
       "                                     Comment  is_off\n",
       "0                               شوف حد ايران       1\n",
       "1     شوف تيفي قوداتها الجن غي بلاتي يجي مكه       0\n",
       "2  عجب يتفاوظون شعوب عربيه وعليهم وهيلا تعلم       0\n",
       "3               هه هاد شوف تيفي اللي حطت مشا       0\n",
       "4                       الرزق ياتي تدري 🙌🏻❤️       0"
      ]
     },
     "execution_count": 129,
     "metadata": {},
     "output_type": "execute_result"
    }
   ],
   "source": [
    "data.head()"
   ]
  },
  {
   "cell_type": "markdown",
   "metadata": {},
   "source": [
    "# AraVec Embedding"
   ]
  },
  {
   "cell_type": "code",
   "execution_count": 130,
   "metadata": {},
   "outputs": [],
   "source": [
    "from keras.models import Model, Sequential\n",
    "from keras.layers import Dense, Input, Dropout, LSTM, Activation, Flatten\n",
    "from keras.layers import Bidirectional, GlobalMaxPool1D\n",
    "from keras.layers.embeddings import Embedding\n",
    "from keras.preprocessing import sequence\n",
    "from keras.preprocessing.text import Tokenizer, text_to_word_sequence\n",
    "from keras.initializers import glorot_uniform\n",
    "from sklearn.preprocessing import LabelEncoder\n",
    "from keras.layers.merge import concatenate\n",
    "from keras.layers.normalization import BatchNormalization\n",
    "from keras.callbacks import Callback\n",
    "from keras.utils import np_utils\n",
    "import gensim"
   ]
  },
  {
   "cell_type": "code",
   "execution_count": 131,
   "metadata": {},
   "outputs": [],
   "source": [
    "MAX_NB_WORDS = 10000\n",
    "MAX_SEQUENCE_LENGTH = 100 #176 # based on our inputs; TODO: remove outliers? dynamically calculate!\n",
    "EMBEDDING_DIM = 100 # w2v, fastText; GloVe=50"
   ]
  },
  {
   "cell_type": "code",
   "execution_count": 132,
   "metadata": {},
   "outputs": [],
   "source": [
    "path = './bin/aravec/tweets_sg_100'\n",
    "WORD_MODEL, _, MAX_FEATURES, EMBED_SIZE = get_init_parameters(path)"
   ]
  },
  {
   "cell_type": "code",
   "execution_count": 133,
   "metadata": {},
   "outputs": [
    {
     "name": "stdout",
     "output_type": "stream",
     "text": [
      "331679\n",
      "100\n"
     ]
    }
   ],
   "source": [
    "print(MAX_FEATURES)\n",
    "print(EMBED_SIZE)"
   ]
  },
  {
   "cell_type": "code",
   "execution_count": 134,
   "metadata": {},
   "outputs": [
    {
     "name": "stdout",
     "output_type": "stream",
     "text": [
      "Dataset splited.\n",
      "Label categories: [0 1]\n",
      "Max Length: 461\n"
     ]
    }
   ],
   "source": [
    "# load data\n",
    "# x_train, x_test, y_train, y_test, MAX_TEXT_LENGTH = split_datasets(data, test_size=0.2, seed=42)\n",
    "\n",
    "x = data.Comment.values\n",
    "y = data.is_off.values\n",
    "MAX_TEXT_LENGTH = get_max_length(x)\n",
    "x_train, x_test, y_train, y_test = train_test_split(x, y, test_size=0.2, random_state=42)\n",
    "print('Dataset splited.')\n",
    "CLASSES_LIST = np.unique(y_train)\n",
    "print('Label categories: ' + str(CLASSES_LIST))\n",
    "print(\"Max Length: \" + str(MAX_TEXT_LENGTH))"
   ]
  },
  {
   "cell_type": "code",
   "execution_count": 156,
   "metadata": {},
   "outputs": [
    {
     "data": {
      "text/plain": [
       "array([0, 1])"
      ]
     },
     "execution_count": 156,
     "metadata": {},
     "output_type": "execute_result"
    }
   ],
   "source": [
    "CLASSES_LIST"
   ]
  },
  {
   "cell_type": "code",
   "execution_count": 135,
   "metadata": {},
   "outputs": [
    {
     "name": "stdout",
     "output_type": "stream",
     "text": [
      "Converting data to trainable form...\n",
      "Number of training examples: 11200\n",
      "Number of testing examples: 2800\n"
     ]
    }
   ],
   "source": [
    "x_train, x_test, y_train, y_test, train_y_cat, word_index = class_str_2_ind(x_train, x_test, \n",
    "                                                                            y_train, y_test,\n",
    "                                                                            CLASSES_LIST, MAX_FEATURES,\n",
    "                                                                            MAX_TEXT_LENGTH)\n",
    "test_cat_y = np_utils.to_categorical(y_test, len(CLASSES_LIST))"
   ]
  },
  {
   "cell_type": "code",
   "execution_count": 136,
   "metadata": {},
   "outputs": [
    {
     "data": {
      "text/plain": [
       "array([1., 0.], dtype=float32)"
      ]
     },
     "execution_count": 136,
     "metadata": {},
     "output_type": "execute_result"
    }
   ],
   "source": [
    "train_y_cat[142]"
   ]
  },
  {
   "cell_type": "code",
   "execution_count": 137,
   "metadata": {},
   "outputs": [
    {
     "data": {
      "image/png": "[encoded data removed]",
      "text/plain": [
       "<Figure size 720x720 with 1 Axes>"
      ]
     },
     "metadata": {},
     "output_type": "display_data"
    }
   ],
   "source": [
    "LABELS = (\n",
    "    'Not-Offensive', 'Offensive'\n",
    ")\n",
    "\n",
    "tmp = np.concatenate((y_train, y_test))\n",
    "unique, counts = np.unique(tmp, return_counts=True)\n",
    "del tmp\n",
    "plt.figure(\"Target Pie\", figsize=(10, 10))\n",
    "plt.title(\"Pie plot of the class frequencies\")\n",
    "plt.pie(counts, labels=LABELS, autopct='%1.1f%%')\n",
    "plt.legend(unique)\n",
    "# plt.savefig(\"./img/stats_classes.png\")\n",
    "plt.show();"
   ]
  },
  {
   "cell_type": "code",
   "execution_count": 138,
   "metadata": {},
   "outputs": [
    {
     "name": "stdout",
     "output_type": "stream",
     "text": [
      "Original sequence length : 461\n"
     ]
    }
   ],
   "source": [
    "# Sequence length\n",
    "print(\"Original sequence length : \"+str(MAX_TEXT_LENGTH))\n",
    "\n",
    "# CHANGE MAX LENGTH (timesteps)\n",
    "# MAX_TEXT_LENGTH = 100"
   ]
  },
  {
   "cell_type": "code",
   "execution_count": 139,
   "metadata": {},
   "outputs": [],
   "source": [
    "def get_model(embedding_weights, word_index, vocab_dim, max_length, print_summary=True):\n",
    "    \"\"\"\n",
    "    DOC\n",
    "    \"\"\"\n",
    "    inp = Input(shape=(max_length,))\n",
    "    model = Embedding(input_dim=len(word_index)+1,\n",
    "                      output_dim=vocab_dim,\n",
    "                      trainable=False,\n",
    "                      weights=[embedding_weights])(inp)\n",
    "    model = LSTM(units=32, return_sequences=True, return_state=False)(model)\n",
    "    model = Dropout(0.1)(model)\n",
    "    \n",
    "    model = LSTM(units=16, return_sequences=True, return_state=False)(model)\n",
    "    model = Dropout(0.1)(model)\n",
    "        \n",
    "    model = Flatten()(model)\n",
    "        \n",
    "    model = Dense(200, activation='relu')(model)\n",
    "    model = Dropout(0.1)(model)\n",
    "    \n",
    "    model = Dense(1, activation='sigmoid')(model)\n",
    "    model = Model(inputs=inp, outputs=model)\n",
    "\n",
    "#     model = Sequential()\n",
    "#     model.add(Input(shape=(max_length,)))\n",
    "#     model.add(Embedding(input_dim=len(word_index)+1,\n",
    "#                         output_dim=vocab_dim,\n",
    "#                         trainable=False,\n",
    "#                        weights=[embedding_weights]))\n",
    "    \n",
    "#     model.add(LSTM(32, return_sequences=True, return_state=False))\n",
    "#     model.add(Dropout(0.1))\n",
    "    \n",
    "#     model.add(LSTM(16, return_sequences=True, return_state=False))\n",
    "#     model.add(Dropout(0.1))\n",
    "    \n",
    "#     model.add(Flatten())\n",
    "    \n",
    "#     model.add(Dense(200, activation='relu'))\n",
    "#     model.add(Dropout(0.1))\n",
    "    \n",
    "#     model.add(Dense(1, activation='sigmoid'))\n",
    "    \n",
    "    model.compile(loss='categorical_crossentropy', optimizer='sgd', metrics=['accuracy'])\n",
    "    if print_summary:\n",
    "        model.summary()\n",
    "    return model\n",
    "\n",
    "\n",
    "def get_main_model(word_index, WORD_MODEL, EMBED_SIZE, MAX_TEXT_LENGTH):\n",
    "    \"\"\"\n",
    "    DOC\n",
    "    \"\"\"\n",
    "    tmp = get_embedding_matrix(word_index, WORD_MODEL, EMBED_SIZE)\n",
    "    model = get_model(tmp, word_index, EMBED_SIZE, MAX_TEXT_LENGTH, print_summary=True)\n",
    "    return model"
   ]
  },
  {
   "cell_type": "code",
   "execution_count": 140,
   "metadata": {},
   "outputs": [
    {
     "name": "stdout",
     "output_type": "stream",
     "text": [
      "Building embedding matrix...\n",
      "Embedding matrix built.\n",
      "Model: \"model_5\"\n",
      "_________________________________________________________________\n",
      "Layer (type)                 Output Shape              Param #   \n",
      "=================================================================\n",
      "input_7 (InputLayer)         [(None, 461)]             0         \n",
      "_________________________________________________________________\n",
      "embedding_6 (Embedding)      (None, 461, 100)          4453100   \n",
      "_________________________________________________________________\n",
      "lstm_12 (LSTM)               (None, 461, 32)           17024     \n",
      "_________________________________________________________________\n",
      "dropout_17 (Dropout)         (None, 461, 32)           0         \n",
      "_________________________________________________________________\n",
      "lstm_13 (LSTM)               (None, 461, 16)           3136      \n",
      "_________________________________________________________________\n",
      "dropout_18 (Dropout)         (None, 461, 16)           0         \n",
      "_________________________________________________________________\n",
      "flatten_5 (Flatten)          (None, 7376)              0         \n",
      "_________________________________________________________________\n",
      "dense_10 (Dense)             (None, 200)               1475400   \n",
      "_________________________________________________________________\n",
      "dropout_19 (Dropout)         (None, 200)               0         \n",
      "_________________________________________________________________\n",
      "dense_11 (Dense)             (None, 1)                 201       \n",
      "=================================================================\n",
      "Total params: 5,948,861\n",
      "Trainable params: 1,495,761\n",
      "Non-trainable params: 4,453,100\n",
      "_________________________________________________________________\n"
     ]
    }
   ],
   "source": [
    "model = get_main_model(word_index, WORD_MODEL, EMBED_SIZE, MAX_TEXT_LENGTH)"
   ]
  },
  {
   "cell_type": "code",
   "execution_count": 141,
   "metadata": {},
   "outputs": [],
   "source": [
    "\n",
    "def train_fit_predict(model, x_train, x_test, y_train, y_test, batch_size, epochs):\n",
    "    \"\"\"\n",
    "    DOC \n",
    "    \"\"\"\n",
    "    history = model.fit(x_train, y_train, batch_size=batch_size, epochs=epochs, verbose=1, validation_split=0.2)\n",
    "    return history, model"
   ]
  },
  {
   "cell_type": "code",
   "execution_count": 153,
   "metadata": {},
   "outputs": [
    {
     "name": "stdout",
     "output_type": "stream",
     "text": [
      "Epoch 1/150\n",
      "18/18 [==============================] - 5s 253ms/step - loss: 5.9498e-08 - accuracy: 0.5109 - val_loss: 5.9179e-08 - val_accuracy: 0.5018\n",
      "Epoch 2/150\n",
      "18/18 [==============================] - 4s 240ms/step - loss: 5.9498e-08 - accuracy: 0.5081 - val_loss: 5.9179e-08 - val_accuracy: 0.5018\n",
      "Epoch 3/150\n",
      "18/18 [==============================] - 4s 246ms/step - loss: 5.9498e-08 - accuracy: 0.5115 - val_loss: 5.9179e-08 - val_accuracy: 0.5018\n",
      "Epoch 4/150\n",
      "18/18 [==============================] - 5s 253ms/step - loss: 5.9498e-08 - accuracy: 0.5071 - val_loss: 5.9179e-08 - val_accuracy: 0.5018\n",
      "Epoch 5/150\n",
      "18/18 [==============================] - 5s 260ms/step - loss: 5.9498e-08 - accuracy: 0.5080 - val_loss: 5.9179e-08 - val_accuracy: 0.5018\n",
      "Epoch 6/150\n",
      "18/18 [==============================] - 4s 248ms/step - loss: 5.9498e-08 - accuracy: 0.5073 - val_loss: 5.9179e-08 - val_accuracy: 0.5018\n",
      "Epoch 7/150\n",
      "18/18 [==============================] - 5s 263ms/step - loss: 5.9498e-08 - accuracy: 0.5054 - val_loss: 5.9179e-08 - val_accuracy: 0.5018\n",
      "Epoch 8/150\n",
      "18/18 [==============================] - 4s 239ms/step - loss: 5.9498e-08 - accuracy: 0.5077 - val_loss: 5.9179e-08 - val_accuracy: 0.5018\n",
      "Epoch 9/150\n",
      "18/18 [==============================] - 5s 251ms/step - loss: 5.9498e-08 - accuracy: 0.5107 - val_loss: 5.9179e-08 - val_accuracy: 0.5018\n",
      "Epoch 10/150\n",
      "18/18 [==============================] - 5s 262ms/step - loss: 5.9498e-08 - accuracy: 0.5100 - val_loss: 5.9179e-08 - val_accuracy: 0.5018\n",
      "Epoch 11/150\n",
      "18/18 [==============================] - 5s 268ms/step - loss: 5.9498e-08 - accuracy: 0.5071 - val_loss: 5.9179e-08 - val_accuracy: 0.5018\n",
      "Epoch 12/150\n",
      "18/18 [==============================] - 5s 253ms/step - loss: 5.9498e-08 - accuracy: 0.5058 - val_loss: 5.9179e-08 - val_accuracy: 0.5018\n",
      "Epoch 13/150\n",
      "18/18 [==============================] - 5s 264ms/step - loss: 5.9498e-08 - accuracy: 0.5080 - val_loss: 5.9179e-08 - val_accuracy: 0.5018\n",
      "Epoch 14/150\n",
      "18/18 [==============================] - 5s 258ms/step - loss: 5.9498e-08 - accuracy: 0.5076 - val_loss: 5.9179e-08 - val_accuracy: 0.5018\n",
      "Epoch 15/150\n",
      "18/18 [==============================] - 4s 241ms/step - loss: 5.9498e-08 - accuracy: 0.5070 - val_loss: 5.9179e-08 - val_accuracy: 0.5018\n",
      "Epoch 16/150\n",
      "18/18 [==============================] - 4s 240ms/step - loss: 5.9498e-08 - accuracy: 0.5103 - val_loss: 5.9179e-08 - val_accuracy: 0.5018\n",
      "Epoch 17/150\n",
      "18/18 [==============================] - 4s 240ms/step - loss: 5.9498e-08 - accuracy: 0.5075 - val_loss: 5.9179e-08 - val_accuracy: 0.5018\n",
      "Epoch 18/150\n",
      "18/18 [==============================] - 4s 241ms/step - loss: 5.9498e-08 - accuracy: 0.5059 - val_loss: 5.9179e-08 - val_accuracy: 0.5018\n",
      "Epoch 19/150\n",
      "18/18 [==============================] - 4s 240ms/step - loss: 5.9498e-08 - accuracy: 0.5102 - val_loss: 5.9179e-08 - val_accuracy: 0.5018\n",
      "Epoch 20/150\n",
      "18/18 [==============================] - 4s 240ms/step - loss: 5.9498e-08 - accuracy: 0.5055 - val_loss: 5.9179e-08 - val_accuracy: 0.5018\n",
      "Epoch 21/150\n",
      "18/18 [==============================] - 4s 239ms/step - loss: 5.9498e-08 - accuracy: 0.5123 - val_loss: 5.9179e-08 - val_accuracy: 0.5018\n",
      "Epoch 22/150\n",
      "18/18 [==============================] - 4s 240ms/step - loss: 5.9498e-08 - accuracy: 0.5079 - val_loss: 5.9179e-08 - val_accuracy: 0.5018\n",
      "Epoch 23/150\n",
      "18/18 [==============================] - 4s 239ms/step - loss: 5.9498e-08 - accuracy: 0.5046 - val_loss: 5.9179e-08 - val_accuracy: 0.5018\n",
      "Epoch 24/150\n",
      "18/18 [==============================] - 4s 240ms/step - loss: 5.9498e-08 - accuracy: 0.5061 - val_loss: 5.9179e-08 - val_accuracy: 0.5018\n",
      "Epoch 25/150\n",
      "18/18 [==============================] - 4s 243ms/step - loss: 5.9498e-08 - accuracy: 0.5092 - val_loss: 5.9179e-08 - val_accuracy: 0.5018\n",
      "Epoch 26/150\n",
      "18/18 [==============================] - 4s 243ms/step - loss: 5.9498e-08 - accuracy: 0.5060 - val_loss: 5.9179e-08 - val_accuracy: 0.5018\n",
      "Epoch 27/150\n",
      "18/18 [==============================] - 4s 240ms/step - loss: 5.9498e-08 - accuracy: 0.5048 - val_loss: 5.9179e-08 - val_accuracy: 0.5018\n",
      "Epoch 28/150\n",
      "18/18 [==============================] - 4s 240ms/step - loss: 5.9498e-08 - accuracy: 0.5089 - val_loss: 5.9179e-08 - val_accuracy: 0.5018\n",
      "Epoch 29/150\n",
      "18/18 [==============================] - 4s 240ms/step - loss: 5.9498e-08 - accuracy: 0.5083 - val_loss: 5.9179e-08 - val_accuracy: 0.5018\n",
      "Epoch 30/150\n",
      "18/18 [==============================] - 4s 241ms/step - loss: 5.9498e-08 - accuracy: 0.5090 - val_loss: 5.9179e-08 - val_accuracy: 0.5018\n",
      "Epoch 31/150\n",
      "18/18 [==============================] - 4s 242ms/step - loss: 5.9498e-08 - accuracy: 0.5089 - val_loss: 5.9179e-08 - val_accuracy: 0.5018\n",
      "Epoch 32/150\n",
      "18/18 [==============================] - 4s 239ms/step - loss: 5.9498e-08 - accuracy: 0.5094 - val_loss: 5.9179e-08 - val_accuracy: 0.5018\n",
      "Epoch 33/150\n",
      "18/18 [==============================] - 4s 239ms/step - loss: 5.9498e-08 - accuracy: 0.5075 - val_loss: 5.9179e-08 - val_accuracy: 0.5018\n",
      "Epoch 34/150\n",
      "18/18 [==============================] - 4s 239ms/step - loss: 5.9498e-08 - accuracy: 0.5085 - val_loss: 5.9179e-08 - val_accuracy: 0.5018\n",
      "Epoch 35/150\n",
      "18/18 [==============================] - 4s 240ms/step - loss: 5.9498e-08 - accuracy: 0.5046 - val_loss: 5.9179e-08 - val_accuracy: 0.5018\n",
      "Epoch 36/150\n",
      "18/18 [==============================] - 4s 243ms/step - loss: 5.9498e-08 - accuracy: 0.5086 - val_loss: 5.9179e-08 - val_accuracy: 0.5018\n",
      "Epoch 37/150\n",
      "18/18 [==============================] - 4s 240ms/step - loss: 5.9498e-08 - accuracy: 0.5087 - val_loss: 5.9179e-08 - val_accuracy: 0.5018\n",
      "Epoch 38/150\n",
      "18/18 [==============================] - 4s 239ms/step - loss: 5.9498e-08 - accuracy: 0.5012 - val_loss: 5.9179e-08 - val_accuracy: 0.5018\n",
      "Epoch 39/150\n",
      "18/18 [==============================] - 4s 239ms/step - loss: 5.9498e-08 - accuracy: 0.5086 - val_loss: 5.9179e-08 - val_accuracy: 0.5018\n",
      "Epoch 40/150\n",
      "18/18 [==============================] - 4s 240ms/step - loss: 5.9498e-08 - accuracy: 0.5055 - val_loss: 5.9179e-08 - val_accuracy: 0.5018\n",
      "Epoch 41/150\n",
      "18/18 [==============================] - 4s 240ms/step - loss: 5.9498e-08 - accuracy: 0.5054 - val_loss: 5.9179e-08 - val_accuracy: 0.5018\n",
      "Epoch 42/150\n",
      "18/18 [==============================] - 4s 240ms/step - loss: 5.9498e-08 - accuracy: 0.5089 - val_loss: 5.9179e-08 - val_accuracy: 0.5018\n",
      "Epoch 43/150\n",
      "18/18 [==============================] - 4s 240ms/step - loss: 5.9498e-08 - accuracy: 0.5074 - val_loss: 5.9179e-08 - val_accuracy: 0.5018\n",
      "Epoch 44/150\n",
      "18/18 [==============================] - 4s 241ms/step - loss: 5.9498e-08 - accuracy: 0.5096 - val_loss: 5.9179e-08 - val_accuracy: 0.5018\n",
      "Epoch 45/150\n",
      "18/18 [==============================] - 5s 253ms/step - loss: 5.9498e-08 - accuracy: 0.5056 - val_loss: 5.9179e-08 - val_accuracy: 0.5018\n",
      "Epoch 46/150\n",
      "18/18 [==============================] - 4s 247ms/step - loss: 5.9498e-08 - accuracy: 0.5042 - val_loss: 5.9179e-08 - val_accuracy: 0.5018\n",
      "Epoch 47/150\n",
      "18/18 [==============================] - 4s 239ms/step - loss: 5.9498e-08 - accuracy: 0.5063 - val_loss: 5.9179e-08 - val_accuracy: 0.5018\n",
      "Epoch 48/150\n",
      "18/18 [==============================] - 4s 239ms/step - loss: 5.9498e-08 - accuracy: 0.5071 - val_loss: 5.9179e-08 - val_accuracy: 0.5018\n",
      "Epoch 49/150\n",
      "18/18 [==============================] - 4s 241ms/step - loss: 5.9498e-08 - accuracy: 0.5079 - val_loss: 5.9179e-08 - val_accuracy: 0.5018\n",
      "Epoch 50/150\n",
      "18/18 [==============================] - 4s 240ms/step - loss: 5.9498e-08 - accuracy: 0.5086 - val_loss: 5.9179e-08 - val_accuracy: 0.5018\n",
      "Epoch 51/150\n",
      "18/18 [==============================] - 4s 241ms/step - loss: 5.9498e-08 - accuracy: 0.5075 - val_loss: 5.9179e-08 - val_accuracy: 0.5018\n",
      "Epoch 52/150\n",
      "18/18 [==============================] - 4s 239ms/step - loss: 5.9498e-08 - accuracy: 0.5098 - val_loss: 5.9179e-08 - val_accuracy: 0.5018\n",
      "Epoch 53/150\n",
      "18/18 [==============================] - 4s 239ms/step - loss: 5.9498e-08 - accuracy: 0.5061 - val_loss: 5.9179e-08 - val_accuracy: 0.5018\n",
      "Epoch 54/150\n",
      "18/18 [==============================] - 4s 239ms/step - loss: 5.9498e-08 - accuracy: 0.5039 - val_loss: 5.9179e-08 - val_accuracy: 0.5018\n",
      "Epoch 55/150\n",
      "18/18 [==============================] - 4s 242ms/step - loss: 5.9498e-08 - accuracy: 0.5098 - val_loss: 5.9179e-08 - val_accuracy: 0.5018\n",
      "Epoch 56/150\n",
      "18/18 [==============================] - 4s 239ms/step - loss: 5.9498e-08 - accuracy: 0.5092 - val_loss: 5.9179e-08 - val_accuracy: 0.5018\n",
      "Epoch 57/150\n",
      "18/18 [==============================] - 4s 239ms/step - loss: 5.9498e-08 - accuracy: 0.5069 - val_loss: 5.9179e-08 - val_accuracy: 0.5018\n",
      "Epoch 58/150\n",
      "18/18 [==============================] - 4s 239ms/step - loss: 5.9498e-08 - accuracy: 0.5063 - val_loss: 5.9179e-08 - val_accuracy: 0.5018\n",
      "Epoch 59/150\n",
      "18/18 [==============================] - 4s 239ms/step - loss: 5.9498e-08 - accuracy: 0.5054 - val_loss: 5.9179e-08 - val_accuracy: 0.5018\n",
      "Epoch 60/150\n",
      "18/18 [==============================] - 4s 240ms/step - loss: 5.9498e-08 - accuracy: 0.5080 - val_loss: 5.9179e-08 - val_accuracy: 0.5018\n",
      "Epoch 61/150\n",
      "18/18 [==============================] - 4s 239ms/step - loss: 5.9498e-08 - accuracy: 0.5033 - val_loss: 5.9179e-08 - val_accuracy: 0.5018\n",
      "Epoch 62/150\n",
      "18/18 [==============================] - 4s 240ms/step - loss: 5.9498e-08 - accuracy: 0.5079 - val_loss: 5.9179e-08 - val_accuracy: 0.5018\n",
      "Epoch 63/150\n",
      "18/18 [==============================] - 4s 239ms/step - loss: 5.9498e-08 - accuracy: 0.5065 - val_loss: 5.9179e-08 - val_accuracy: 0.5018\n",
      "Epoch 64/150\n",
      "18/18 [==============================] - 4s 241ms/step - loss: 5.9498e-08 - accuracy: 0.5055 - val_loss: 5.9179e-08 - val_accuracy: 0.5018\n",
      "Epoch 65/150\n",
      "18/18 [==============================] - 4s 240ms/step - loss: 5.9498e-08 - accuracy: 0.5088 - val_loss: 5.9179e-08 - val_accuracy: 0.5018\n",
      "Epoch 66/150\n",
      "18/18 [==============================] - 4s 239ms/step - loss: 5.9498e-08 - accuracy: 0.5077 - val_loss: 5.9179e-08 - val_accuracy: 0.5018\n",
      "Epoch 67/150\n",
      "18/18 [==============================] - 4s 239ms/step - loss: 5.9498e-08 - accuracy: 0.5035 - val_loss: 5.9179e-08 - val_accuracy: 0.5018\n",
      "Epoch 68/150\n",
      "18/18 [==============================] - 4s 240ms/step - loss: 5.9498e-08 - accuracy: 0.5083 - val_loss: 5.9179e-08 - val_accuracy: 0.5018\n",
      "Epoch 69/150\n",
      "18/18 [==============================] - 4s 239ms/step - loss: 5.9498e-08 - accuracy: 0.5121 - val_loss: 5.9179e-08 - val_accuracy: 0.5018\n",
      "Epoch 70/150\n",
      "18/18 [==============================] - 4s 239ms/step - loss: 5.9498e-08 - accuracy: 0.5086 - val_loss: 5.9179e-08 - val_accuracy: 0.5018\n",
      "Epoch 71/150\n",
      "18/18 [==============================] - 4s 240ms/step - loss: 5.9498e-08 - accuracy: 0.5100 - val_loss: 5.9179e-08 - val_accuracy: 0.5018\n",
      "Epoch 72/150\n",
      "18/18 [==============================] - 4s 239ms/step - loss: 5.9498e-08 - accuracy: 0.5065 - val_loss: 5.9179e-08 - val_accuracy: 0.5018\n",
      "Epoch 73/150\n",
      "18/18 [==============================] - 4s 240ms/step - loss: 5.9498e-08 - accuracy: 0.5109 - val_loss: 5.9179e-08 - val_accuracy: 0.5018\n",
      "Epoch 74/150\n",
      "18/18 [==============================] - 4s 239ms/step - loss: 5.9498e-08 - accuracy: 0.5078 - val_loss: 5.9179e-08 - val_accuracy: 0.5018\n",
      "Epoch 75/150\n",
      "18/18 [==============================] - 4s 239ms/step - loss: 5.9498e-08 - accuracy: 0.5040 - val_loss: 5.9179e-08 - val_accuracy: 0.5018\n",
      "Epoch 76/150\n",
      "18/18 [==============================] - 4s 240ms/step - loss: 5.9498e-08 - accuracy: 0.5070 - val_loss: 5.9179e-08 - val_accuracy: 0.5018\n",
      "Epoch 77/150\n",
      "18/18 [==============================] - 4s 239ms/step - loss: 5.9498e-08 - accuracy: 0.5105 - val_loss: 5.9179e-08 - val_accuracy: 0.5018\n",
      "Epoch 78/150\n",
      "18/18 [==============================] - 4s 239ms/step - loss: 5.9498e-08 - accuracy: 0.5076 - val_loss: 5.9179e-08 - val_accuracy: 0.5018\n",
      "Epoch 79/150\n",
      "18/18 [==============================] - 4s 240ms/step - loss: 5.9498e-08 - accuracy: 0.5069 - val_loss: 5.9179e-08 - val_accuracy: 0.5018\n",
      "Epoch 80/150\n",
      "18/18 [==============================] - 4s 240ms/step - loss: 5.9498e-08 - accuracy: 0.5090 - val_loss: 5.9179e-08 - val_accuracy: 0.5018\n",
      "Epoch 81/150\n",
      "18/18 [==============================] - 4s 240ms/step - loss: 5.9498e-08 - accuracy: 0.5032 - val_loss: 5.9179e-08 - val_accuracy: 0.5018\n",
      "Epoch 82/150\n",
      "18/18 [==============================] - 4s 239ms/step - loss: 5.9498e-08 - accuracy: 0.5070 - val_loss: 5.9179e-08 - val_accuracy: 0.5018\n",
      "Epoch 83/150\n",
      "18/18 [==============================] - 4s 239ms/step - loss: 5.9498e-08 - accuracy: 0.5039 - val_loss: 5.9179e-08 - val_accuracy: 0.5018\n",
      "Epoch 84/150\n",
      "18/18 [==============================] - 4s 239ms/step - loss: 5.9498e-08 - accuracy: 0.5057 - val_loss: 5.9179e-08 - val_accuracy: 0.5018\n",
      "Epoch 85/150\n",
      "18/18 [==============================] - 4s 240ms/step - loss: 5.9498e-08 - accuracy: 0.5088 - val_loss: 5.9179e-08 - val_accuracy: 0.5018\n",
      "Epoch 86/150\n",
      "18/18 [==============================] - 4s 239ms/step - loss: 5.9498e-08 - accuracy: 0.5115 - val_loss: 5.9179e-08 - val_accuracy: 0.5018\n",
      "Epoch 87/150\n",
      "18/18 [==============================] - 4s 239ms/step - loss: 5.9498e-08 - accuracy: 0.5044 - val_loss: 5.9179e-08 - val_accuracy: 0.5018\n",
      "Epoch 88/150\n",
      "18/18 [==============================] - 4s 239ms/step - loss: 5.9498e-08 - accuracy: 0.5102 - val_loss: 5.9179e-08 - val_accuracy: 0.5018\n",
      "Epoch 89/150\n",
      "18/18 [==============================] - 4s 240ms/step - loss: 5.9498e-08 - accuracy: 0.5038 - val_loss: 5.9179e-08 - val_accuracy: 0.5018\n",
      "Epoch 90/150\n",
      "18/18 [==============================] - 4s 240ms/step - loss: 5.9498e-08 - accuracy: 0.5096 - val_loss: 5.9179e-08 - val_accuracy: 0.5018\n",
      "Epoch 91/150\n",
      "18/18 [==============================] - 4s 241ms/step - loss: 5.9498e-08 - accuracy: 0.5049 - val_loss: 5.9179e-08 - val_accuracy: 0.5018\n",
      "Epoch 92/150\n",
      "18/18 [==============================] - 4s 239ms/step - loss: 5.9498e-08 - accuracy: 0.5081 - val_loss: 5.9179e-08 - val_accuracy: 0.5018\n",
      "Epoch 93/150\n",
      "18/18 [==============================] - 4s 239ms/step - loss: 5.9498e-08 - accuracy: 0.5077 - val_loss: 5.9179e-08 - val_accuracy: 0.5018\n",
      "Epoch 94/150\n",
      "18/18 [==============================] - 4s 240ms/step - loss: 5.9498e-08 - accuracy: 0.5100 - val_loss: 5.9179e-08 - val_accuracy: 0.5018\n",
      "Epoch 95/150\n",
      "18/18 [==============================] - 4s 240ms/step - loss: 5.9498e-08 - accuracy: 0.5075 - val_loss: 5.9179e-08 - val_accuracy: 0.5018\n",
      "Epoch 96/150\n",
      "18/18 [==============================] - 4s 239ms/step - loss: 5.9498e-08 - accuracy: 0.5112 - val_loss: 5.9179e-08 - val_accuracy: 0.5018\n",
      "Epoch 97/150\n",
      "18/18 [==============================] - 4s 240ms/step - loss: 5.9498e-08 - accuracy: 0.5095 - val_loss: 5.9179e-08 - val_accuracy: 0.5018\n",
      "Epoch 98/150\n",
      "18/18 [==============================] - 4s 240ms/step - loss: 5.9498e-08 - accuracy: 0.5106 - val_loss: 5.9179e-08 - val_accuracy: 0.5018\n",
      "Epoch 99/150\n",
      "18/18 [==============================] - 4s 239ms/step - loss: 5.9498e-08 - accuracy: 0.5106 - val_loss: 5.9179e-08 - val_accuracy: 0.5018\n",
      "Epoch 100/150\n",
      "18/18 [==============================] - 4s 242ms/step - loss: 5.9498e-08 - accuracy: 0.5041 - val_loss: 5.9179e-08 - val_accuracy: 0.5018\n",
      "Epoch 101/150\n",
      "18/18 [==============================] - 4s 240ms/step - loss: 5.9498e-08 - accuracy: 0.5064 - val_loss: 5.9179e-08 - val_accuracy: 0.5018\n",
      "Epoch 102/150\n",
      "18/18 [==============================] - 4s 240ms/step - loss: 5.9498e-08 - accuracy: 0.5110 - val_loss: 5.9179e-08 - val_accuracy: 0.5018\n",
      "Epoch 103/150\n",
      "18/18 [==============================] - 4s 239ms/step - loss: 5.9498e-08 - accuracy: 0.5060 - val_loss: 5.9179e-08 - val_accuracy: 0.5018\n",
      "Epoch 104/150\n",
      "18/18 [==============================] - 4s 239ms/step - loss: 5.9498e-08 - accuracy: 0.5046 - val_loss: 5.9179e-08 - val_accuracy: 0.5018\n",
      "Epoch 105/150\n",
      "18/18 [==============================] - 4s 240ms/step - loss: 5.9498e-08 - accuracy: 0.5040 - val_loss: 5.9179e-08 - val_accuracy: 0.5018\n",
      "Epoch 106/150\n",
      "18/18 [==============================] - 4s 239ms/step - loss: 5.9498e-08 - accuracy: 0.5076 - val_loss: 5.9179e-08 - val_accuracy: 0.5018\n",
      "Epoch 107/150\n",
      "18/18 [==============================] - 4s 241ms/step - loss: 5.9498e-08 - accuracy: 0.5060 - val_loss: 5.9179e-08 - val_accuracy: 0.5018\n",
      "Epoch 108/150\n",
      "18/18 [==============================] - 4s 239ms/step - loss: 5.9498e-08 - accuracy: 0.5104 - val_loss: 5.9179e-08 - val_accuracy: 0.5018\n",
      "Epoch 109/150\n",
      "18/18 [==============================] - 4s 240ms/step - loss: 5.9498e-08 - accuracy: 0.5074 - val_loss: 5.9179e-08 - val_accuracy: 0.5018\n",
      "Epoch 110/150\n",
      "18/18 [==============================] - 4s 240ms/step - loss: 5.9498e-08 - accuracy: 0.5095 - val_loss: 5.9179e-08 - val_accuracy: 0.5018\n",
      "Epoch 111/150\n",
      "18/18 [==============================] - 4s 240ms/step - loss: 5.9498e-08 - accuracy: 0.5084 - val_loss: 5.9179e-08 - val_accuracy: 0.5018\n",
      "Epoch 112/150\n",
      "18/18 [==============================] - 4s 240ms/step - loss: 5.9498e-08 - accuracy: 0.5064 - val_loss: 5.9179e-08 - val_accuracy: 0.5018\n",
      "Epoch 113/150\n",
      "18/18 [==============================] - 4s 240ms/step - loss: 5.9498e-08 - accuracy: 0.5060 - val_loss: 5.9179e-08 - val_accuracy: 0.5018\n",
      "Epoch 114/150\n",
      "18/18 [==============================] - 4s 241ms/step - loss: 5.9498e-08 - accuracy: 0.5089 - val_loss: 5.9179e-08 - val_accuracy: 0.5018\n",
      "Epoch 115/150\n",
      "18/18 [==============================] - 4s 240ms/step - loss: 5.9498e-08 - accuracy: 0.5094 - val_loss: 5.9179e-08 - val_accuracy: 0.5018\n",
      "Epoch 116/150\n",
      "18/18 [==============================] - 4s 239ms/step - loss: 5.9498e-08 - accuracy: 0.5087 - val_loss: 5.9179e-08 - val_accuracy: 0.5018\n",
      "Epoch 117/150\n",
      "18/18 [==============================] - 4s 240ms/step - loss: 5.9498e-08 - accuracy: 0.5089 - val_loss: 5.9179e-08 - val_accuracy: 0.5018\n",
      "Epoch 118/150\n",
      "18/18 [==============================] - 4s 239ms/step - loss: 5.9498e-08 - accuracy: 0.5094 - val_loss: 5.9179e-08 - val_accuracy: 0.5018\n",
      "Epoch 119/150\n",
      "18/18 [==============================] - 4s 241ms/step - loss: 5.9498e-08 - accuracy: 0.5075 - val_loss: 5.9179e-08 - val_accuracy: 0.5018\n",
      "Epoch 120/150\n",
      "18/18 [==============================] - 4s 241ms/step - loss: 5.9498e-08 - accuracy: 0.5098 - val_loss: 5.9179e-08 - val_accuracy: 0.5018\n",
      "Epoch 121/150\n",
      "18/18 [==============================] - 4s 242ms/step - loss: 5.9498e-08 - accuracy: 0.5051 - val_loss: 5.9179e-08 - val_accuracy: 0.5018\n",
      "Epoch 122/150\n",
      "18/18 [==============================] - 4s 240ms/step - loss: 5.9498e-08 - accuracy: 0.5054 - val_loss: 5.9179e-08 - val_accuracy: 0.5018\n",
      "Epoch 123/150\n",
      "18/18 [==============================] - 4s 239ms/step - loss: 5.9498e-08 - accuracy: 0.5103 - val_loss: 5.9179e-08 - val_accuracy: 0.5018\n",
      "Epoch 124/150\n",
      "18/18 [==============================] - 4s 240ms/step - loss: 5.9498e-08 - accuracy: 0.5089 - val_loss: 5.9179e-08 - val_accuracy: 0.5018\n",
      "Epoch 125/150\n",
      "18/18 [==============================] - 4s 240ms/step - loss: 5.9498e-08 - accuracy: 0.5071 - val_loss: 5.9179e-08 - val_accuracy: 0.5018\n",
      "Epoch 126/150\n",
      "18/18 [==============================] - 4s 239ms/step - loss: 5.9498e-08 - accuracy: 0.5079 - val_loss: 5.9179e-08 - val_accuracy: 0.5018\n",
      "Epoch 127/150\n",
      "18/18 [==============================] - 4s 239ms/step - loss: 5.9498e-08 - accuracy: 0.5103 - val_loss: 5.9179e-08 - val_accuracy: 0.5018\n",
      "Epoch 128/150\n",
      "18/18 [==============================] - 4s 240ms/step - loss: 5.9498e-08 - accuracy: 0.5041 - val_loss: 5.9179e-08 - val_accuracy: 0.5018\n",
      "Epoch 129/150\n",
      "18/18 [==============================] - 4s 240ms/step - loss: 5.9498e-08 - accuracy: 0.5114 - val_loss: 5.9179e-08 - val_accuracy: 0.5018\n",
      "Epoch 130/150\n",
      "18/18 [==============================] - 4s 240ms/step - loss: 5.9498e-08 - accuracy: 0.5054 - val_loss: 5.9179e-08 - val_accuracy: 0.5018\n",
      "Epoch 131/150\n",
      "18/18 [==============================] - 4s 240ms/step - loss: 5.9498e-08 - accuracy: 0.5075 - val_loss: 5.9179e-08 - val_accuracy: 0.5018\n",
      "Epoch 132/150\n",
      "18/18 [==============================] - 4s 242ms/step - loss: 5.9498e-08 - accuracy: 0.5045 - val_loss: 5.9179e-08 - val_accuracy: 0.5018\n",
      "Epoch 133/150\n",
      "18/18 [==============================] - 5s 259ms/step - loss: 5.9498e-08 - accuracy: 0.5077 - val_loss: 5.9179e-08 - val_accuracy: 0.5018\n",
      "Epoch 134/150\n",
      "18/18 [==============================] - 5s 262ms/step - loss: 5.9498e-08 - accuracy: 0.5026 - val_loss: 5.9179e-08 - val_accuracy: 0.5018\n",
      "Epoch 135/150\n",
      "18/18 [==============================] - 4s 241ms/step - loss: 5.9498e-08 - accuracy: 0.5108 - val_loss: 5.9179e-08 - val_accuracy: 0.5018\n",
      "Epoch 136/150\n",
      "18/18 [==============================] - 4s 241ms/step - loss: 5.9498e-08 - accuracy: 0.5081 - val_loss: 5.9179e-08 - val_accuracy: 0.5018\n",
      "Epoch 137/150\n",
      "18/18 [==============================] - 4s 241ms/step - loss: 5.9498e-08 - accuracy: 0.5066 - val_loss: 5.9179e-08 - val_accuracy: 0.5018\n",
      "Epoch 138/150\n",
      "18/18 [==============================] - 4s 240ms/step - loss: 5.9498e-08 - accuracy: 0.5066 - val_loss: 5.9179e-08 - val_accuracy: 0.5018\n",
      "Epoch 139/150\n",
      "18/18 [==============================] - 4s 241ms/step - loss: 5.9498e-08 - accuracy: 0.5084 - val_loss: 5.9179e-08 - val_accuracy: 0.5018\n",
      "Epoch 140/150\n",
      "18/18 [==============================] - 4s 247ms/step - loss: 5.9498e-08 - accuracy: 0.5084 - val_loss: 5.9179e-08 - val_accuracy: 0.5018\n",
      "Epoch 141/150\n",
      "18/18 [==============================] - 5s 255ms/step - loss: 5.9498e-08 - accuracy: 0.5078 - val_loss: 5.9179e-08 - val_accuracy: 0.5018\n",
      "Epoch 142/150\n",
      "18/18 [==============================] - 4s 247ms/step - loss: 5.9498e-08 - accuracy: 0.5089 - val_loss: 5.9179e-08 - val_accuracy: 0.5018\n",
      "Epoch 143/150\n",
      "18/18 [==============================] - 4s 249ms/step - loss: 5.9498e-08 - accuracy: 0.5081 - val_loss: 5.9179e-08 - val_accuracy: 0.5018\n",
      "Epoch 144/150\n",
      "18/18 [==============================] - 4s 241ms/step - loss: 5.9498e-08 - accuracy: 0.5020 - val_loss: 5.9179e-08 - val_accuracy: 0.5018\n",
      "Epoch 145/150\n",
      "18/18 [==============================] - 4s 240ms/step - loss: 5.9498e-08 - accuracy: 0.5054 - val_loss: 5.9179e-08 - val_accuracy: 0.5018\n",
      "Epoch 146/150\n",
      "18/18 [==============================] - 4s 241ms/step - loss: 5.9498e-08 - accuracy: 0.5085 - val_loss: 5.9179e-08 - val_accuracy: 0.5018\n",
      "Epoch 147/150\n",
      "18/18 [==============================] - 4s 240ms/step - loss: 5.9498e-08 - accuracy: 0.5077 - val_loss: 5.9179e-08 - val_accuracy: 0.5018\n",
      "Epoch 148/150\n",
      "18/18 [==============================] - 5s 251ms/step - loss: 5.9498e-08 - accuracy: 0.5054 - val_loss: 5.9179e-08 - val_accuracy: 0.5018\n",
      "Epoch 149/150\n",
      "18/18 [==============================] - 4s 239ms/step - loss: 5.9498e-08 - accuracy: 0.5017 - val_loss: 5.9179e-08 - val_accuracy: 0.5018\n",
      "Epoch 150/150\n",
      "18/18 [==============================] - 5s 257ms/step - loss: 5.9498e-08 - accuracy: 0.5084 - val_loss: 5.9179e-08 - val_accuracy: 0.5018\n"
     ]
    }
   ],
   "source": [
    "history, model = train_fit_predict(model,\n",
    "                               x_train[:, :MAX_TEXT_LENGTH],\n",
    "                               x_test[:, :MAX_TEXT_LENGTH],\n",
    "                               y_train, y_test,\n",
    "                               batch_size=500, epochs=150)"
   ]
  },
  {
   "cell_type": "code",
   "execution_count": 143,
   "metadata": {},
   "outputs": [
    {
     "name": "stdout",
     "output_type": "stream",
     "text": [
      "350/350 [==============================] - 14s 40ms/step - loss: 5.9434e-08 - accuracy: 0.5060\n",
      "Training Accuracy: 0.5060\n",
      "Training Loss: 0.0000\n",
      "88/88 [==============================] - 3s 39ms/step - loss: 6.0286e-08 - accuracy: 0.5007\n",
      "Testing Accuracy:  0.5007\n",
      "Testing Loss:  0.0000\n"
     ]
    }
   ],
   "source": [
    "loss, accuracy = model.evaluate(x_train, y_train, verbose=True)\n",
    "print(\"Training Accuracy: {:.4f}\".format(accuracy))\n",
    "print(\"Training Loss: {:.4f}\".format(loss))\n",
    "loss_val, accuracy_val = model.evaluate(x_test, y_test, verbose=True)\n",
    "print(\"Testing Accuracy:  {:.4f}\".format(accuracy_val))\n",
    "print(\"Testing Loss:  {:.4f}\".format(loss_val))"
   ]
  },
  {
   "cell_type": "code",
   "execution_count": null,
   "metadata": {},
   "outputs": [],
   "source": []
  },
  {
   "cell_type": "code",
   "execution_count": null,
   "metadata": {},
   "outputs": [],
   "source": []
  },
  {
   "cell_type": "code",
   "execution_count": 145,
   "metadata": {},
   "outputs": [
    {
     "name": "stdout",
     "output_type": "stream",
     "text": [
      "88/88 [==============================] - 3s 39ms/step\n"
     ]
    }
   ],
   "source": [
    "y_pred = model.predict(x_test, verbose=1)\n",
    "y_pred_bool = np.argmax(y_pred, axis=1)\n",
    "y_pred = (y_pred > 0.5)"
   ]
  },
  {
   "cell_type": "code",
   "execution_count": 146,
   "metadata": {},
   "outputs": [
    {
     "name": "stdout",
     "output_type": "stream",
     "text": [
      "              precision    recall  f1-score   support\n",
      "\n",
      "           0       0.49      1.00      0.66      1384\n",
      "           1       0.00      0.00      0.00      1416\n",
      "\n",
      "    accuracy                           0.49      2800\n",
      "   macro avg       0.25      0.50      0.33      2800\n",
      "weighted avg       0.24      0.49      0.33      2800\n",
      "\n"
     ]
    }
   ],
   "source": [
    "print(classification_report(y_test, y_pred_bool))"
   ]
  },
  {
   "cell_type": "code",
   "execution_count": 151,
   "metadata": {},
   "outputs": [],
   "source": [
    "def show_train_history(train_history,train,validation):\n",
    "    plt.plot(train_history.history[train])\n",
    "    plt.plot(train_history.history[validation])\n",
    "    plt.title('Train History')\n",
    "    plt.ylabel(train)\n",
    "    plt.xlabel('Epoch')\n",
    "    plt.legend(['train', 'validation'], loc='upper left')\n",
    "    plt.show()"
   ]
  },
  {
   "cell_type": "code",
   "execution_count": 154,
   "metadata": {},
   "outputs": [
    {
     "data": {
      "image/png": "[encoded data removed]",
      "text/plain": [
       "<Figure size 432x288 with 1 Axes>"
      ]
     },
     "metadata": {
      "needs_background": "light"
     },
     "output_type": "display_data"
    },
    {
     "data": {
      "image/png": "[encoded data removed]",
      "text/plain": [
       "<Figure size 432x288 with 1 Axes>"
      ]
     },
     "metadata": {
      "needs_background": "light"
     },
     "output_type": "display_data"
    }
   ],
   "source": [
    "#train loss vs validation loss\n",
    "show_train_history(history,'loss','val_loss')\n",
    "\n",
    "show_train_history(history,'accuracy','val_accuracy')"
   ]
  }
 ],
 "metadata": {
  "kernelspec": {
   "display_name": "env",
   "language": "python",
   "name": "env"
  },
  "language_info": {
   "codemirror_mode": {
    "name": "ipython",
    "version": 3
   },
   "file_extension": ".py",
   "mimetype": "text/x-python",
   "name": "python",
   "nbconvert_exporter": "python",
   "pygments_lexer": "ipython3",
   "version": "3.8.5"
  }
 },
 "nbformat": 4,
 "nbformat_minor": 4
}
