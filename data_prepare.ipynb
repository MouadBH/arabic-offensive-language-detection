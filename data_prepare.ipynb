{
 "cells": [
  {
   "cell_type": "code",
   "execution_count": 1,
   "metadata": {},
   "outputs": [],
   "source": [
    "import os, sys, re, string\n",
    "import numpy as np\n",
    "import pandas as pd\n",
    "import matplotlib.pyplot as plt\n",
    "import nltk\n",
    "from data_preparation import take_a_shower, clean_content_aravec"
   ]
  },
  {
   "cell_type": "code",
   "execution_count": 2,
   "metadata": {},
   "outputs": [
    {
     "data": {
      "text/html": [
       "<div>\n",
       "<style scoped>\n",
       "    .dataframe tbody tr th:only-of-type {\n",
       "        vertical-align: middle;\n",
       "    }\n",
       "\n",
       "    .dataframe tbody tr th {\n",
       "        vertical-align: top;\n",
       "    }\n",
       "\n",
       "    .dataframe thead th {\n",
       "        text-align: right;\n",
       "    }\n",
       "</style>\n",
       "<table border=\"1\" class=\"dataframe\">\n",
       "  <thead>\n",
       "    <tr style=\"text-align: right;\">\n",
       "      <th></th>\n",
       "      <th>Username</th>\n",
       "      <th>Comment</th>\n",
       "      <th>is_off</th>\n",
       "      <th>off_word</th>\n",
       "    </tr>\n",
       "  </thead>\n",
       "  <tbody>\n",
       "    <tr>\n",
       "      <th>19603</th>\n",
       "      <td>Amal El Yaquine</td>\n",
       "      <td>نعم للزوجة ولا للعشيقة</td>\n",
       "      <td>0</td>\n",
       "      <td>0</td>\n",
       "    </tr>\n",
       "    <tr>\n",
       "      <th>36477</th>\n",
       "      <td>Relaxation And a variety of other contents.</td>\n",
       "      <td>هادي ماشي البارودي قدف الجبها هدي</td>\n",
       "      <td>0</td>\n",
       "      <td>0</td>\n",
       "    </tr>\n",
       "    <tr>\n",
       "      <th>23690</th>\n",
       "      <td>rabab en ligne</td>\n",
       "      <td>عجبتنی دیك تجمعهما صور لاتجمع الی من فی الحلال...</td>\n",
       "      <td>1</td>\n",
       "      <td>0, لحرام</td>\n",
       "    </tr>\n",
       "    <tr>\n",
       "      <th>22271</th>\n",
       "      <td>Om Reda reda</td>\n",
       "      <td>khasna nchofok f blog jdid 🤣🤣🤣🤣</td>\n",
       "      <td>0</td>\n",
       "      <td>0</td>\n",
       "    </tr>\n",
       "    <tr>\n",
       "      <th>24364</th>\n",
       "      <td>barakat. tv</td>\n",
       "      <td>مواضيع تافهة متبقاش تجيبوهم لينا اشوف تفي</td>\n",
       "      <td>0</td>\n",
       "      <td>0</td>\n",
       "    </tr>\n",
       "    <tr>\n",
       "      <th>4500</th>\n",
       "      <td>Maryam L3atmani</td>\n",
       "      <td>هاويلي 😂😂😂😂</td>\n",
       "      <td>0</td>\n",
       "      <td>0</td>\n",
       "    </tr>\n",
       "    <tr>\n",
       "      <th>34044</th>\n",
       "      <td>Desert eagle</td>\n",
       "      <td>Allah y sterna</td>\n",
       "      <td>0</td>\n",
       "      <td>0</td>\n",
       "    </tr>\n",
       "    <tr>\n",
       "      <th>11831</th>\n",
       "      <td>Mareym Malaki</td>\n",
       "      <td>لله يسهل على جميع ويبعدو على هد طريق</td>\n",
       "      <td>0</td>\n",
       "      <td>0</td>\n",
       "    </tr>\n",
       "    <tr>\n",
       "      <th>24689</th>\n",
       "      <td>Fadoua Mhila</td>\n",
       "      <td>مزيان ليك</td>\n",
       "      <td>0</td>\n",
       "      <td>0</td>\n",
       "    </tr>\n",
       "    <tr>\n",
       "      <th>20973</th>\n",
       "      <td>Ilham Cazal</td>\n",
       "      <td>اويلي فيناهيا لفورما ديال الرقص ويلي على شوهه ...</td>\n",
       "      <td>0</td>\n",
       "      <td>0</td>\n",
       "    </tr>\n",
       "  </tbody>\n",
       "</table>\n",
       "</div>"
      ],
      "text/plain": [
       "                                          Username  \\\n",
       "19603                              Amal El Yaquine   \n",
       "36477  Relaxation And a variety of other contents.   \n",
       "23690                               rabab en ligne   \n",
       "22271                                 Om Reda reda   \n",
       "24364                                  barakat. tv   \n",
       "4500                               Maryam L3atmani   \n",
       "34044                                 Desert eagle   \n",
       "11831                                Mareym Malaki   \n",
       "24689                                 Fadoua Mhila   \n",
       "20973                                  Ilham Cazal   \n",
       "\n",
       "                                                 Comment  is_off  off_word  \n",
       "19603                             نعم للزوجة ولا للعشيقة       0         0  \n",
       "36477                  هادي ماشي البارودي قدف الجبها هدي       0         0  \n",
       "23690  عجبتنی دیك تجمعهما صور لاتجمع الی من فی الحلال...       1  0, لحرام  \n",
       "22271                    khasna nchofok f blog jdid 🤣🤣🤣🤣       0         0  \n",
       "24364          مواضيع تافهة متبقاش تجيبوهم لينا اشوف تفي       0         0  \n",
       "4500                                         هاويلي 😂😂😂😂       0         0  \n",
       "34044                                     Allah y sterna       0         0  \n",
       "11831               لله يسهل على جميع ويبعدو على هد طريق       0         0  \n",
       "24689                                          مزيان ليك       0         0  \n",
       "20973  اويلي فيناهيا لفورما ديال الرقص ويلي على شوهه ...       0         0  "
      ]
     },
     "execution_count": 2,
     "metadata": {},
     "output_type": "execute_result"
    }
   ],
   "source": [
    "data = pd.read_csv('./data/data_v1.csv', encoding=\"utf-16\")\n",
    "data.sample(10)"
   ]
  },
  {
   "cell_type": "code",
   "execution_count": 3,
   "metadata": {},
   "outputs": [],
   "source": [
    "data_off = data.loc[data['is_off'] == 1, ['Comment', 'is_off']]\n",
    "data_not_off = data.loc[data['is_off'] == 0, ['Comment', 'is_off']]"
   ]
  },
  {
   "cell_type": "code",
   "execution_count": 4,
   "metadata": {},
   "outputs": [],
   "source": [
    "data_not_off = data_not_off.sample(n=3701)"
   ]
  },
  {
   "cell_type": "code",
   "execution_count": null,
   "metadata": {},
   "outputs": [],
   "source": []
  },
  {
   "cell_type": "code",
   "execution_count": 18,
   "metadata": {},
   "outputs": [],
   "source": [
    "data2 = pd.read_excel('./data/data_4000_selected.xlsx', engine='openpyxl')"
   ]
  },
  {
   "cell_type": "code",
   "execution_count": 19,
   "metadata": {},
   "outputs": [
    {
     "data": {
      "text/html": [
       "<div>\n",
       "<style scoped>\n",
       "    .dataframe tbody tr th:only-of-type {\n",
       "        vertical-align: middle;\n",
       "    }\n",
       "\n",
       "    .dataframe tbody tr th {\n",
       "        vertical-align: top;\n",
       "    }\n",
       "\n",
       "    .dataframe thead th {\n",
       "        text-align: right;\n",
       "    }\n",
       "</style>\n",
       "<table border=\"1\" class=\"dataframe\">\n",
       "  <thead>\n",
       "    <tr style=\"text-align: right;\">\n",
       "      <th></th>\n",
       "      <th>Id</th>\n",
       "      <th>Platform</th>\n",
       "      <th>Comment</th>\n",
       "      <th>Majority_Label</th>\n",
       "      <th>Agreement</th>\n",
       "      <th>NumOfJudgementUsed</th>\n",
       "      <th>Total_Judgement</th>\n",
       "      <th>Vulgar:V/HateSpeech:HS/None:-</th>\n",
       "    </tr>\n",
       "  </thead>\n",
       "  <tbody>\n",
       "    <tr>\n",
       "      <th>431</th>\n",
       "      <td>432</td>\n",
       "      <td>Twitter</td>\n",
       "      <td>@User.IDX أغرب خطأ لغوي قابلته هو: الجزيرة ؟!!...</td>\n",
       "      <td>Offensive</td>\n",
       "      <td>100.000000</td>\n",
       "      <td>3</td>\n",
       "      <td>3</td>\n",
       "      <td>-</td>\n",
       "    </tr>\n",
       "    <tr>\n",
       "      <th>3127</th>\n",
       "      <td>3128</td>\n",
       "      <td>Twitter</td>\n",
       "      <td>@User.IDX 😂😂😂😂😂😂😂🤣🤣🤣🤪🤦🏼‍♀️انتو لسه واقفين هنا ...</td>\n",
       "      <td>Non-Offensive</td>\n",
       "      <td>66.666667</td>\n",
       "      <td>3</td>\n",
       "      <td>3</td>\n",
       "      <td>-</td>\n",
       "    </tr>\n",
       "    <tr>\n",
       "      <th>3132</th>\n",
       "      <td>3133</td>\n",
       "      <td>YouTube</td>\n",
       "      <td>انا من الاردن يلي من الاردت يعطيني لايك يلا يا...</td>\n",
       "      <td>Non-Offensive</td>\n",
       "      <td>100.000000</td>\n",
       "      <td>3</td>\n",
       "      <td>4</td>\n",
       "      <td>-</td>\n",
       "    </tr>\n",
       "    <tr>\n",
       "      <th>3852</th>\n",
       "      <td>3853</td>\n",
       "      <td>Twitter</td>\n",
       "      <td>@User.IDX ك س ام ايران على قطر على سوريا على ل...</td>\n",
       "      <td>Offensive</td>\n",
       "      <td>100.000000</td>\n",
       "      <td>3</td>\n",
       "      <td>3</td>\n",
       "      <td>V</td>\n",
       "    </tr>\n",
       "    <tr>\n",
       "      <th>1849</th>\n",
       "      <td>1850</td>\n",
       "      <td>Facebook</td>\n",
       "      <td>أين صحفي سكاي نيوز عربي إسحاق المختفي في سوريا...</td>\n",
       "      <td>Non-Offensive</td>\n",
       "      <td>100.000000</td>\n",
       "      <td>3</td>\n",
       "      <td>3</td>\n",
       "      <td>-</td>\n",
       "    </tr>\n",
       "    <tr>\n",
       "      <th>2981</th>\n",
       "      <td>2982</td>\n",
       "      <td>Facebook</td>\n",
       "      <td>هي هاكدا ماتحتاج حد احسسها .انها طبيعتها .لانه...</td>\n",
       "      <td>Non-Offensive</td>\n",
       "      <td>100.000000</td>\n",
       "      <td>3</td>\n",
       "      <td>3</td>\n",
       "      <td>-</td>\n",
       "    </tr>\n",
       "    <tr>\n",
       "      <th>3147</th>\n",
       "      <td>3148</td>\n",
       "      <td>YouTube</td>\n",
       "      <td>ليش ما تتكلمون عن العراق ابدآ؟معقولة العراق ما...</td>\n",
       "      <td>Non-Offensive</td>\n",
       "      <td>100.000000</td>\n",
       "      <td>3</td>\n",
       "      <td>3</td>\n",
       "      <td>-</td>\n",
       "    </tr>\n",
       "    <tr>\n",
       "      <th>2293</th>\n",
       "      <td>2294</td>\n",
       "      <td>Twitter</td>\n",
       "      <td>@User.IDX 😂 😂 كلكم اخص والعن من بعض يا الشريفة...</td>\n",
       "      <td>Offensive</td>\n",
       "      <td>100.000000</td>\n",
       "      <td>3</td>\n",
       "      <td>3</td>\n",
       "      <td>-</td>\n",
       "    </tr>\n",
       "    <tr>\n",
       "      <th>2598</th>\n",
       "      <td>2599</td>\n",
       "      <td>YouTube</td>\n",
       "      <td>بتمنى تعمل حلقة عن السيسي وهو يحكي عن موضوع اع...</td>\n",
       "      <td>Non-Offensive</td>\n",
       "      <td>100.000000</td>\n",
       "      <td>3</td>\n",
       "      <td>3</td>\n",
       "      <td>-</td>\n",
       "    </tr>\n",
       "    <tr>\n",
       "      <th>2253</th>\n",
       "      <td>2254</td>\n",
       "      <td>Twitter</td>\n",
       "      <td>@User.IDX الميت لازم ياخذ أوسكار أفضل ممثل كوم...</td>\n",
       "      <td>Non-Offensive</td>\n",
       "      <td>100.000000</td>\n",
       "      <td>3</td>\n",
       "      <td>3</td>\n",
       "      <td>-</td>\n",
       "    </tr>\n",
       "  </tbody>\n",
       "</table>\n",
       "</div>"
      ],
      "text/plain": [
       "        Id  Platform                                            Comment  \\\n",
       "431    432   Twitter  @User.IDX أغرب خطأ لغوي قابلته هو: الجزيرة ؟!!...   \n",
       "3127  3128   Twitter  @User.IDX 😂😂😂😂😂😂😂🤣🤣🤣🤪🤦🏼‍♀️انتو لسه واقفين هنا ...   \n",
       "3132  3133   YouTube  انا من الاردن يلي من الاردت يعطيني لايك يلا يا...   \n",
       "3852  3853   Twitter  @User.IDX ك س ام ايران على قطر على سوريا على ل...   \n",
       "1849  1850  Facebook  أين صحفي سكاي نيوز عربي إسحاق المختفي في سوريا...   \n",
       "2981  2982  Facebook  هي هاكدا ماتحتاج حد احسسها .انها طبيعتها .لانه...   \n",
       "3147  3148   YouTube  ليش ما تتكلمون عن العراق ابدآ؟معقولة العراق ما...   \n",
       "2293  2294   Twitter  @User.IDX 😂 😂 كلكم اخص والعن من بعض يا الشريفة...   \n",
       "2598  2599   YouTube  بتمنى تعمل حلقة عن السيسي وهو يحكي عن موضوع اع...   \n",
       "2253  2254   Twitter  @User.IDX الميت لازم ياخذ أوسكار أفضل ممثل كوم...   \n",
       "\n",
       "     Majority_Label   Agreement  NumOfJudgementUsed  Total_Judgement  \\\n",
       "431       Offensive  100.000000                   3                3   \n",
       "3127  Non-Offensive   66.666667                   3                3   \n",
       "3132  Non-Offensive  100.000000                   3                4   \n",
       "3852      Offensive  100.000000                   3                3   \n",
       "1849  Non-Offensive  100.000000                   3                3   \n",
       "2981  Non-Offensive  100.000000                   3                3   \n",
       "3147  Non-Offensive  100.000000                   3                3   \n",
       "2293      Offensive  100.000000                   3                3   \n",
       "2598  Non-Offensive  100.000000                   3                3   \n",
       "2253  Non-Offensive  100.000000                   3                3   \n",
       "\n",
       "     Vulgar:V/HateSpeech:HS/None:-  \n",
       "431                              -  \n",
       "3127                             -  \n",
       "3132                             -  \n",
       "3852                             V  \n",
       "1849                             -  \n",
       "2981                             -  \n",
       "3147                             -  \n",
       "2293                             -  \n",
       "2598                             -  \n",
       "2253                             -  "
      ]
     },
     "execution_count": 19,
     "metadata": {},
     "output_type": "execute_result"
    }
   ],
   "source": [
    "data2.sample(10)"
   ]
  },
  {
   "cell_type": "code",
   "execution_count": 22,
   "metadata": {},
   "outputs": [
    {
     "data": {
      "text/plain": [
       "4000"
      ]
     },
     "execution_count": 22,
     "metadata": {},
     "output_type": "execute_result"
    }
   ],
   "source": [
    "len(data2)"
   ]
  },
  {
   "cell_type": "code",
   "execution_count": 23,
   "metadata": {},
   "outputs": [],
   "source": [
    "data2_off = data2.loc[data2['Majority_Label'] == 'Offensive', ['Comment', 'Majority_Label']]\n",
    "data2_not_off = data2.loc[data2['Majority_Label'] == 'Non-Offensive', ['Comment', 'Majority_Label']]"
   ]
  },
  {
   "cell_type": "code",
   "execution_count": 24,
   "metadata": {},
   "outputs": [
    {
     "name": "stdout",
     "output_type": "stream",
     "text": [
      "675\n",
      "3325\n"
     ]
    }
   ],
   "source": [
    "print(len(data2_off))\n",
    "print(len(data2_not_off))"
   ]
  },
  {
   "cell_type": "code",
   "execution_count": 25,
   "metadata": {},
   "outputs": [],
   "source": [
    "data2_off.columns = ['Comment', 'is_off']\n",
    "data2_not_off.columns = ['Comment', 'is_off']"
   ]
  },
  {
   "cell_type": "code",
   "execution_count": 27,
   "metadata": {},
   "outputs": [],
   "source": [
    "data2_off['is_off'] = 1\n",
    "data2_not_off['is_off'] = 0"
   ]
  },
  {
   "cell_type": "code",
   "execution_count": 29,
   "metadata": {},
   "outputs": [],
   "source": [
    "data2_not_off = data2_not_off.sample(n=675)"
   ]
  },
  {
   "cell_type": "code",
   "execution_count": 30,
   "metadata": {},
   "outputs": [
    {
     "name": "stdout",
     "output_type": "stream",
     "text": [
      "675\n",
      "675\n"
     ]
    }
   ],
   "source": [
    "print(len(data2_off))\n",
    "print(len(data2_not_off))"
   ]
  },
  {
   "cell_type": "code",
   "execution_count": null,
   "metadata": {},
   "outputs": [],
   "source": []
  },
  {
   "cell_type": "code",
   "execution_count": 51,
   "metadata": {},
   "outputs": [],
   "source": [
    "data_aj = pd.read_excel('./data/data_AJ_comments.xlsx', engine='openpyxl')"
   ]
  },
  {
   "cell_type": "code",
   "execution_count": 52,
   "metadata": {},
   "outputs": [
    {
     "data": {
      "text/html": [
       "<div>\n",
       "<style scoped>\n",
       "    .dataframe tbody tr th:only-of-type {\n",
       "        vertical-align: middle;\n",
       "    }\n",
       "\n",
       "    .dataframe tbody tr th {\n",
       "        vertical-align: top;\n",
       "    }\n",
       "\n",
       "    .dataframe thead th {\n",
       "        text-align: right;\n",
       "    }\n",
       "</style>\n",
       "<table border=\"1\" class=\"dataframe\">\n",
       "  <thead>\n",
       "    <tr style=\"text-align: right;\">\n",
       "      <th></th>\n",
       "      <th>_unit_id</th>\n",
       "      <th>_golden</th>\n",
       "      <th>_unit_state</th>\n",
       "      <th>_trusted_judgments</th>\n",
       "      <th>_last_judgment_at</th>\n",
       "      <th>languagecomment</th>\n",
       "      <th>languagecomment:confidence</th>\n",
       "      <th>articletitle</th>\n",
       "      <th>body</th>\n",
       "      <th>bodylen</th>\n",
       "      <th>insdt</th>\n",
       "      <th>languagecomment_gold</th>\n",
       "      <th>link</th>\n",
       "      <th>serial</th>\n",
       "      <th>words</th>\n",
       "    </tr>\n",
       "  </thead>\n",
       "  <tbody>\n",
       "    <tr>\n",
       "      <th>18788</th>\n",
       "      <td>1222302629</td>\n",
       "      <td>False</td>\n",
       "      <td>finalized</td>\n",
       "      <td>3</td>\n",
       "      <td>4/30/2017 14:26:58</td>\n",
       "      <td>-1</td>\n",
       "      <td>1.0000</td>\n",
       "      <td>تسجيل لتعذيب النظام جنوده الفارين من مواجهة ال...</td>\n",
       "      <td>بدل هؤلاء الجنود يفتحون النار علىقادة حماة الص...</td>\n",
       "      <td>70</td>\n",
       "      <td>2015-06-01 02:19:08.573</td>\n",
       "      <td>NaN</td>\n",
       "      <td>www.aljazeera.net/home/getpage/f6451603-4dff-4...</td>\n",
       "      <td>49013</td>\n",
       "      <td>10</td>\n",
       "    </tr>\n",
       "    <tr>\n",
       "      <th>16838</th>\n",
       "      <td>1222309071</td>\n",
       "      <td>False</td>\n",
       "      <td>finalized</td>\n",
       "      <td>3</td>\n",
       "      <td>5/2/2017 14:36:34</td>\n",
       "      <td>-1</td>\n",
       "      <td>1.0000</td>\n",
       "      <td>مجندات بلا خبرة يواجهن ثوار سوريا</td>\n",
       "      <td>تركوا جر الذيول وخلوها للعرعور اللي يجر بشته و...</td>\n",
       "      <td>87</td>\n",
       "      <td>2015-04-20 04:59:12.483</td>\n",
       "      <td>NaN</td>\n",
       "      <td>www.aljazeera.net/home/getpage/f6451603-4dff-4...</td>\n",
       "      <td>62522</td>\n",
       "      <td>13</td>\n",
       "    </tr>\n",
       "    <tr>\n",
       "      <th>27828</th>\n",
       "      <td>1222282735</td>\n",
       "      <td>False</td>\n",
       "      <td>finalized</td>\n",
       "      <td>3</td>\n",
       "      <td>4/28/2017 11:41:20</td>\n",
       "      <td>-1</td>\n",
       "      <td>1.0000</td>\n",
       "      <td>قتيلان بهجوم على حسينية في إيران</td>\n",
       "      <td>أيران خوزستان المجوسيه‏!‏‏!‏ الدوله الاسلاميه ...</td>\n",
       "      <td>75</td>\n",
       "      <td>2015-10-17 11:34:23.343</td>\n",
       "      <td>NaN</td>\n",
       "      <td>www.aljazeera.net/home/getpage/f6451603-4dff-4...</td>\n",
       "      <td>8708</td>\n",
       "      <td>11</td>\n",
       "    </tr>\n",
       "    <tr>\n",
       "      <th>21165</th>\n",
       "      <td>1222294887</td>\n",
       "      <td>False</td>\n",
       "      <td>finalized</td>\n",
       "      <td>3</td>\n",
       "      <td>4/29/2017 12:06:57</td>\n",
       "      <td>-1</td>\n",
       "      <td>0.6851</td>\n",
       "      <td>نيويورك تايمز: تنظيم الدولة يؤسس لدولة ناجحة</td>\n",
       "      <td>و لا الساحل مقر بنو صهيون</td>\n",
       "      <td>25</td>\n",
       "      <td>2015-07-23 08:06:05.130</td>\n",
       "      <td>NaN</td>\n",
       "      <td>www.aljazeera.net/home/getpage/f6451603-4dff-4...</td>\n",
       "      <td>33695</td>\n",
       "      <td>6</td>\n",
       "    </tr>\n",
       "    <tr>\n",
       "      <th>12552</th>\n",
       "      <td>1222280614</td>\n",
       "      <td>False</td>\n",
       "      <td>finalized</td>\n",
       "      <td>3</td>\n",
       "      <td>4/28/2017 09:34:00</td>\n",
       "      <td>-1</td>\n",
       "      <td>1.0000</td>\n",
       "      <td>مطالب برفع يد الكنيسة عن مسجد قرطبة</td>\n",
       "      <td>ليفجروه بعملية انتحارية ..خلوه كما هو احسن .</td>\n",
       "      <td>44</td>\n",
       "      <td>2015-11-04 08:47:54.330</td>\n",
       "      <td>NaN</td>\n",
       "      <td>www.aljazeera.net/home/getpage/f6451603-4dff-4...</td>\n",
       "      <td>4638</td>\n",
       "      <td>8</td>\n",
       "    </tr>\n",
       "  </tbody>\n",
       "</table>\n",
       "</div>"
      ],
      "text/plain": [
       "         _unit_id  _golden _unit_state  _trusted_judgments  \\\n",
       "18788  1222302629    False   finalized                   3   \n",
       "16838  1222309071    False   finalized                   3   \n",
       "27828  1222282735    False   finalized                   3   \n",
       "21165  1222294887    False   finalized                   3   \n",
       "12552  1222280614    False   finalized                   3   \n",
       "\n",
       "        _last_judgment_at  languagecomment  languagecomment:confidence  \\\n",
       "18788  4/30/2017 14:26:58               -1                      1.0000   \n",
       "16838   5/2/2017 14:36:34               -1                      1.0000   \n",
       "27828  4/28/2017 11:41:20               -1                      1.0000   \n",
       "21165  4/29/2017 12:06:57               -1                      0.6851   \n",
       "12552  4/28/2017 09:34:00               -1                      1.0000   \n",
       "\n",
       "                                            articletitle  \\\n",
       "18788  تسجيل لتعذيب النظام جنوده الفارين من مواجهة ال...   \n",
       "16838                  مجندات بلا خبرة يواجهن ثوار سوريا   \n",
       "27828                   قتيلان بهجوم على حسينية في إيران   \n",
       "21165       نيويورك تايمز: تنظيم الدولة يؤسس لدولة ناجحة   \n",
       "12552                مطالب برفع يد الكنيسة عن مسجد قرطبة   \n",
       "\n",
       "                                                    body  bodylen  \\\n",
       "18788  بدل هؤلاء الجنود يفتحون النار علىقادة حماة الص...       70   \n",
       "16838  تركوا جر الذيول وخلوها للعرعور اللي يجر بشته و...       87   \n",
       "27828  أيران خوزستان المجوسيه‏!‏‏!‏ الدوله الاسلاميه ...       75   \n",
       "21165                          و لا الساحل مقر بنو صهيون       25   \n",
       "12552       ليفجروه بعملية انتحارية ..خلوه كما هو احسن .       44   \n",
       "\n",
       "                         insdt  languagecomment_gold  \\\n",
       "18788  2015-06-01 02:19:08.573                   NaN   \n",
       "16838  2015-04-20 04:59:12.483                   NaN   \n",
       "27828  2015-10-17 11:34:23.343                   NaN   \n",
       "21165  2015-07-23 08:06:05.130                   NaN   \n",
       "12552  2015-11-04 08:47:54.330                   NaN   \n",
       "\n",
       "                                                    link  serial  words  \n",
       "18788  www.aljazeera.net/home/getpage/f6451603-4dff-4...   49013     10  \n",
       "16838  www.aljazeera.net/home/getpage/f6451603-4dff-4...   62522     13  \n",
       "27828  www.aljazeera.net/home/getpage/f6451603-4dff-4...    8708     11  \n",
       "21165  www.aljazeera.net/home/getpage/f6451603-4dff-4...   33695      6  \n",
       "12552  www.aljazeera.net/home/getpage/f6451603-4dff-4...    4638      8  "
      ]
     },
     "execution_count": 52,
     "metadata": {},
     "output_type": "execute_result"
    }
   ],
   "source": [
    "data_aj.sample(5)"
   ]
  },
  {
   "cell_type": "code",
   "execution_count": 53,
   "metadata": {},
   "outputs": [
    {
     "data": {
      "text/plain": [
       "31692"
      ]
     },
     "execution_count": 53,
     "metadata": {},
     "output_type": "execute_result"
    }
   ],
   "source": [
    "len(data_aj)"
   ]
  },
  {
   "cell_type": "code",
   "execution_count": 54,
   "metadata": {},
   "outputs": [],
   "source": [
    "data_aj_off = data_aj.loc[data_aj['languagecomment'] != 0, ['body', 'languagecomment']]\n",
    "data_aj_not_off = data_aj.loc[data_aj['languagecomment'] == 0, ['body', 'languagecomment']]"
   ]
  },
  {
   "cell_type": "code",
   "execution_count": 55,
   "metadata": {},
   "outputs": [
    {
     "name": "stdout",
     "output_type": "stream",
     "text": [
      "26039\n",
      "5653\n"
     ]
    }
   ],
   "source": [
    "print(len(data_aj_off))\n",
    "print(len(data_aj_not_off))"
   ]
  },
  {
   "cell_type": "code",
   "execution_count": 56,
   "metadata": {},
   "outputs": [],
   "source": [
    "data_aj_off.columns = ['Comment', 'is_off']\n",
    "data_aj_not_off.columns = ['Comment', 'is_off']"
   ]
  },
  {
   "cell_type": "code",
   "execution_count": 57,
   "metadata": {},
   "outputs": [],
   "source": [
    "data_aj_off['is_off'] = 1\n",
    "data_aj_not_off['is_off'] = 0"
   ]
  },
  {
   "cell_type": "code",
   "execution_count": 58,
   "metadata": {},
   "outputs": [],
   "source": [
    "data_aj_off = data_aj_off.sample(n=3624)\n",
    "data_aj_not_off = data_aj_not_off.sample(n=3624)"
   ]
  },
  {
   "cell_type": "code",
   "execution_count": null,
   "metadata": {},
   "outputs": [],
   "source": []
  },
  {
   "cell_type": "code",
   "execution_count": 59,
   "metadata": {},
   "outputs": [
    {
     "name": "stdout",
     "output_type": "stream",
     "text": [
      "MA  : 3701\n",
      "EGY : 675\n",
      "Golf: 3624\n",
      "Total Offensive Data :  8000\n"
     ]
    }
   ],
   "source": [
    "print(\"MA  : \" + str(len(data_off)) + \"\\nEGY : \" + str(len(data2_off)) + \"\\nGolf: \" + str(len(data_aj_off)))\n",
    "print(\"Total Offensive Data : % 2d\" %(len(data_off) + len(data2_off) + len(data_aj_off)))"
   ]
  },
  {
   "cell_type": "code",
   "execution_count": 60,
   "metadata": {},
   "outputs": [],
   "source": [
    "dataset_offensive = pd.concat([data_off, data2_off, data_aj_off])"
   ]
  },
  {
   "cell_type": "code",
   "execution_count": 61,
   "metadata": {},
   "outputs": [
    {
     "data": {
      "text/plain": [
       "(8000, 2)"
      ]
     },
     "execution_count": 61,
     "metadata": {},
     "output_type": "execute_result"
    }
   ],
   "source": [
    "dataset_offensive.shape"
   ]
  },
  {
   "cell_type": "code",
   "execution_count": null,
   "metadata": {},
   "outputs": [],
   "source": []
  },
  {
   "cell_type": "code",
   "execution_count": null,
   "metadata": {},
   "outputs": [],
   "source": []
  },
  {
   "cell_type": "code",
   "execution_count": 62,
   "metadata": {},
   "outputs": [
    {
     "name": "stdout",
     "output_type": "stream",
     "text": [
      "MA  : 3701\n",
      "Golf: 675\n",
      "Golf: 3624\n",
      "Total Non-Offensive Data :  8000\n"
     ]
    }
   ],
   "source": [
    "print(\"MA  : \" + str(len(data_not_off)) + \"\\nGolf: \" + str(len(data2_not_off)) + \"\\nGolf: \" + str(len(data_aj_not_off)))\n",
    "print(\"Total Non-Offensive Data : % 2d\" %(len(data_not_off) + len(data2_not_off) + len(data_aj_not_off)))"
   ]
  },
  {
   "cell_type": "code",
   "execution_count": 63,
   "metadata": {},
   "outputs": [],
   "source": [
    "dataset_not_offensive_all = pd.concat([data_not_off, data2_not_off, data_aj_not_off])"
   ]
  },
  {
   "cell_type": "code",
   "execution_count": 72,
   "metadata": {},
   "outputs": [
    {
     "data": {
      "text/html": [
       "<div>\n",
       "<style scoped>\n",
       "    .dataframe tbody tr th:only-of-type {\n",
       "        vertical-align: middle;\n",
       "    }\n",
       "\n",
       "    .dataframe tbody tr th {\n",
       "        vertical-align: top;\n",
       "    }\n",
       "\n",
       "    .dataframe thead th {\n",
       "        text-align: right;\n",
       "    }\n",
       "</style>\n",
       "<table border=\"1\" class=\"dataframe\">\n",
       "  <thead>\n",
       "    <tr style=\"text-align: right;\">\n",
       "      <th></th>\n",
       "      <th>Comment</th>\n",
       "      <th>is_off</th>\n",
       "    </tr>\n",
       "  </thead>\n",
       "  <tbody>\n",
       "    <tr>\n",
       "      <th>19266</th>\n",
       "      <td>Una kamlin mzowjin Samui lia</td>\n",
       "      <td>0</td>\n",
       "    </tr>\n",
       "    <tr>\n",
       "      <th>23822</th>\n",
       "      <td>مراتو زعمة مطورة ههههههه راه خاصك تربيه هو ماش...</td>\n",
       "      <td>0</td>\n",
       "    </tr>\n",
       "    <tr>\n",
       "      <th>15628</th>\n",
       "      <td>5oiya mdloma Bear .bhalk a5oia mkainch</td>\n",
       "      <td>0</td>\n",
       "    </tr>\n",
       "    <tr>\n",
       "      <th>738</th>\n",
       "      <td>كنحس بيها محروقة من الداخل ديالها اومتوثرة غي ...</td>\n",
       "      <td>0</td>\n",
       "    </tr>\n",
       "    <tr>\n",
       "      <th>12488</th>\n",
       "      <td>عقلو عليهم... 08.02.2019 غادي يدرو لبااس و يسر...</td>\n",
       "      <td>0</td>\n",
       "    </tr>\n",
       "    <tr>\n",
       "      <th>...</th>\n",
       "      <td>...</td>\n",
       "      <td>...</td>\n",
       "    </tr>\n",
       "    <tr>\n",
       "      <th>27836</th>\n",
       "      <td>ماهو العراده من الجوف.وهي محافظه كبيره وفيها م...</td>\n",
       "      <td>0</td>\n",
       "    </tr>\n",
       "    <tr>\n",
       "      <th>8975</th>\n",
       "      <td>هل يفيد المشمش في علاج أعراض الشيخوخة ،  شكرا ...</td>\n",
       "      <td>0</td>\n",
       "    </tr>\n",
       "    <tr>\n",
       "      <th>1252</th>\n",
       "      <td>معلش يا ابن عمتي ارجو تصحيح اسمي في التعليق ال...</td>\n",
       "      <td>0</td>\n",
       "    </tr>\n",
       "    <tr>\n",
       "      <th>12487</th>\n",
       "      <td>كيف القتل لتكفير ملة إينما كانو والقتل كردة فع...</td>\n",
       "      <td>0</td>\n",
       "    </tr>\n",
       "    <tr>\n",
       "      <th>10012</th>\n",
       "      <td>140 قتيلا بهجمات بباريس وإعلان الطوارئ بفرنسا</td>\n",
       "      <td>0</td>\n",
       "    </tr>\n",
       "  </tbody>\n",
       "</table>\n",
       "<p>8000 rows × 2 columns</p>\n",
       "</div>"
      ],
      "text/plain": [
       "                                                 Comment  is_off\n",
       "19266                       Una kamlin mzowjin Samui lia       0\n",
       "23822  مراتو زعمة مطورة ههههههه راه خاصك تربيه هو ماش...       0\n",
       "15628             5oiya mdloma Bear .bhalk a5oia mkainch       0\n",
       "738    كنحس بيها محروقة من الداخل ديالها اومتوثرة غي ...       0\n",
       "12488  عقلو عليهم... 08.02.2019 غادي يدرو لبااس و يسر...       0\n",
       "...                                                  ...     ...\n",
       "27836  ماهو العراده من الجوف.وهي محافظه كبيره وفيها م...       0\n",
       "8975   هل يفيد المشمش في علاج أعراض الشيخوخة ،  شكرا ...       0\n",
       "1252   معلش يا ابن عمتي ارجو تصحيح اسمي في التعليق ال...       0\n",
       "12487  كيف القتل لتكفير ملة إينما كانو والقتل كردة فع...       0\n",
       "10012      140 قتيلا بهجمات بباريس وإعلان الطوارئ بفرنسا       0\n",
       "\n",
       "[8000 rows x 2 columns]"
      ]
     },
     "execution_count": 72,
     "metadata": {},
     "output_type": "execute_result"
    }
   ],
   "source": [
    "dataset_not_offensive_all"
   ]
  },
  {
   "cell_type": "code",
   "execution_count": null,
   "metadata": {},
   "outputs": [],
   "source": []
  },
  {
   "cell_type": "code",
   "execution_count": 73,
   "metadata": {},
   "outputs": [],
   "source": [
    "offensive_dataset = pd.concat([dataset_offensive, dataset_not_offensive_all]).sample(frac=1).reset_index(drop=True)"
   ]
  },
  {
   "cell_type": "code",
   "execution_count": 74,
   "metadata": {},
   "outputs": [
    {
     "data": {
      "text/html": [
       "<div>\n",
       "<style scoped>\n",
       "    .dataframe tbody tr th:only-of-type {\n",
       "        vertical-align: middle;\n",
       "    }\n",
       "\n",
       "    .dataframe tbody tr th {\n",
       "        vertical-align: top;\n",
       "    }\n",
       "\n",
       "    .dataframe thead th {\n",
       "        text-align: right;\n",
       "    }\n",
       "</style>\n",
       "<table border=\"1\" class=\"dataframe\">\n",
       "  <thead>\n",
       "    <tr style=\"text-align: right;\">\n",
       "      <th></th>\n",
       "      <th>Comment</th>\n",
       "      <th>is_off</th>\n",
       "    </tr>\n",
       "  </thead>\n",
       "  <tbody>\n",
       "    <tr>\n",
       "      <th>0</th>\n",
       "      <td>برتوش ههههههه علام</td>\n",
       "      <td>1</td>\n",
       "    </tr>\n",
       "    <tr>\n",
       "      <th>1</th>\n",
       "      <td>معرفتش اعلاش حسيتها كتكدب</td>\n",
       "      <td>0</td>\n",
       "    </tr>\n",
       "    <tr>\n",
       "      <th>2</th>\n",
       "      <td>شوفوا يا برجوازيين البلاد  ل كيهربوا لفلوس لدو...</td>\n",
       "      <td>0</td>\n",
       "    </tr>\n",
       "    <tr>\n",
       "      <th>3</th>\n",
       "      <td>ليش ما يعطوهم سفري .</td>\n",
       "      <td>0</td>\n",
       "    </tr>\n",
       "    <tr>\n",
       "      <th>4</th>\n",
       "      <td>ساقاطع هذا الموقع الذي هدفه نشر الكراهية تجاه ...</td>\n",
       "      <td>0</td>\n",
       "    </tr>\n",
       "    <tr>\n",
       "      <th>...</th>\n",
       "      <td>...</td>\n",
       "      <td>...</td>\n",
       "    </tr>\n",
       "    <tr>\n",
       "      <th>15995</th>\n",
       "      <td>هل قصدك بالأسهم Binary option trading و لا الم...</td>\n",
       "      <td>0</td>\n",
       "    </tr>\n",
       "    <tr>\n",
       "      <th>15996</th>\n",
       "      <td>لاداعي لرمي الاتهماة في تغصير الامني ويجب اتوى...</td>\n",
       "      <td>0</td>\n",
       "    </tr>\n",
       "    <tr>\n",
       "      <th>15997</th>\n",
       "      <td>اتضح من الريش المتطاير  انو هادا كان سرب طيور ...</td>\n",
       "      <td>1</td>\n",
       "    </tr>\n",
       "    <tr>\n",
       "      <th>15998</th>\n",
       "      <td>اما تنظيم الدولة فامريكاوروسيا من صنعته لكى لا...</td>\n",
       "      <td>1</td>\n",
       "    </tr>\n",
       "    <tr>\n",
       "      <th>15999</th>\n",
       "      <td>الإنسانة الوحيدة اللي ممكن أتابع جميع حلقاتها ...</td>\n",
       "      <td>0</td>\n",
       "    </tr>\n",
       "  </tbody>\n",
       "</table>\n",
       "<p>16000 rows × 2 columns</p>\n",
       "</div>"
      ],
      "text/plain": [
       "                                                 Comment  is_off\n",
       "0                                     برتوش ههههههه علام       1\n",
       "1                              معرفتش اعلاش حسيتها كتكدب       0\n",
       "2      شوفوا يا برجوازيين البلاد  ل كيهربوا لفلوس لدو...       0\n",
       "3                                   ليش ما يعطوهم سفري .       0\n",
       "4      ساقاطع هذا الموقع الذي هدفه نشر الكراهية تجاه ...       0\n",
       "...                                                  ...     ...\n",
       "15995  هل قصدك بالأسهم Binary option trading و لا الم...       0\n",
       "15996  لاداعي لرمي الاتهماة في تغصير الامني ويجب اتوى...       0\n",
       "15997  اتضح من الريش المتطاير  انو هادا كان سرب طيور ...       1\n",
       "15998  اما تنظيم الدولة فامريكاوروسيا من صنعته لكى لا...       1\n",
       "15999  الإنسانة الوحيدة اللي ممكن أتابع جميع حلقاتها ...       0\n",
       "\n",
       "[16000 rows x 2 columns]"
      ]
     },
     "execution_count": 74,
     "metadata": {},
     "output_type": "execute_result"
    }
   ],
   "source": [
    "offensive_dataset"
   ]
  },
  {
   "cell_type": "code",
   "execution_count": 75,
   "metadata": {},
   "outputs": [
    {
     "data": {
      "text/plain": [
       "Comment    كضحكو على الوقت بقاو لينا غير الشيخات ها الناش...\n",
       "is_off                                                     1\n",
       "Name: 13851, dtype: object"
      ]
     },
     "execution_count": 75,
     "metadata": {},
     "output_type": "execute_result"
    }
   ],
   "source": [
    "offensive_dataset.loc[ 13851 , : ]"
   ]
  },
  {
   "cell_type": "code",
   "execution_count": null,
   "metadata": {},
   "outputs": [],
   "source": []
  },
  {
   "cell_type": "code",
   "execution_count": 76,
   "metadata": {},
   "outputs": [],
   "source": [
    "offensive_dataset.to_csv('./data/offensive_dataset.csv', index=False, encoding=\"utf-8\")"
   ]
  }
 ],
 "metadata": {
  "kernelspec": {
   "display_name": "env",
   "language": "python",
   "name": "env"
  },
  "language_info": {
   "codemirror_mode": {
    "name": "ipython",
    "version": 3
   },
   "file_extension": ".py",
   "mimetype": "text/x-python",
   "name": "python",
   "nbconvert_exporter": "python",
   "pygments_lexer": "ipython3",
   "version": "3.8.5"
  }
 },
 "nbformat": 4,
 "nbformat_minor": 4
}
