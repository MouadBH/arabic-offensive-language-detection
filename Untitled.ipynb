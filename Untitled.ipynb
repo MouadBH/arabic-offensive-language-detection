{
 "cells": [
  {
   "cell_type": "code",
   "execution_count": 2,
   "metadata": {},
   "outputs": [],
   "source": [
    "import string, re, json, pickle, warnings, random\n",
    "import pandas as pd\n",
    "import numpy as np\n",
    "import matplotlib.pyplot as plt\n",
    "import seaborn as sns\n",
    "import tensorflow as tf\n",
    "from sklearn.metrics import confusion_matrix, accuracy_score, classification_report\n",
    "# importing the wordCloud\n",
    "from wordcloud import WordCloud, STOPWORDS, ImageColorGenerator\n",
    "from bidi.algorithm import get_display\n",
    "import arabic_reshaper\n",
    "from data_preparation import take_a_shower, clean_content_aravec\n",
    "\n",
    "%matplotlib inline\n",
    "warnings.filterwarnings('ignore')"
   ]
  },
  {
   "cell_type": "code",
   "execution_count": 3,
   "metadata": {},
   "outputs": [
    {
     "data": {
      "text/html": [
       "<div>\n",
       "<style scoped>\n",
       "    .dataframe tbody tr th:only-of-type {\n",
       "        vertical-align: middle;\n",
       "    }\n",
       "\n",
       "    .dataframe tbody tr th {\n",
       "        vertical-align: top;\n",
       "    }\n",
       "\n",
       "    .dataframe thead th {\n",
       "        text-align: right;\n",
       "    }\n",
       "</style>\n",
       "<table border=\"1\" class=\"dataframe\">\n",
       "  <thead>\n",
       "    <tr style=\"text-align: right;\">\n",
       "      <th></th>\n",
       "      <th>Comment</th>\n",
       "      <th>is_off</th>\n",
       "    </tr>\n",
       "  </thead>\n",
       "  <tbody>\n",
       "    <tr>\n",
       "      <th>0</th>\n",
       "      <td>شوف حد ين*** أنت و إيران.</td>\n",
       "      <td>1</td>\n",
       "    </tr>\n",
       "    <tr>\n",
       "      <th>1</th>\n",
       "      <td>شوف تيفي قوداتها مع الجن غي بلاتي يجي من مكة</td>\n",
       "      <td>0</td>\n",
       "    </tr>\n",
       "    <tr>\n",
       "      <th>2</th>\n",
       "      <td>عجب يتفاوظون على شعوب عربية وعليهم وهىلا تعلم</td>\n",
       "      <td>0</td>\n",
       "    </tr>\n",
       "    <tr>\n",
       "      <th>3</th>\n",
       "      <td>ههههههه هاد شوف تيفي اللي حطت عليه مشا فيها</td>\n",
       "      <td>0</td>\n",
       "    </tr>\n",
       "    <tr>\n",
       "      <th>4</th>\n",
       "      <td>الرزق يأتي من حيث لا تدري 🙌🏻❤️</td>\n",
       "      <td>0</td>\n",
       "    </tr>\n",
       "  </tbody>\n",
       "</table>\n",
       "</div>"
      ],
      "text/plain": [
       "                                         Comment  is_off\n",
       "0                      شوف حد ين*** أنت و إيران.       1\n",
       "1   شوف تيفي قوداتها مع الجن غي بلاتي يجي من مكة       0\n",
       "2  عجب يتفاوظون على شعوب عربية وعليهم وهىلا تعلم       0\n",
       "3    ههههههه هاد شوف تيفي اللي حطت عليه مشا فيها       0\n",
       "4                الرزق يأتي من حيث لا تدري 🙌🏻❤️        0"
      ]
     },
     "execution_count": 3,
     "metadata": {},
     "output_type": "execute_result"
    }
   ],
   "source": [
    "data = pd.read_csv('./data/offensive_dataset.csv', encoding=\"utf-16\")\n",
    "data.head()"
   ]
  },
  {
   "cell_type": "code",
   "execution_count": 4,
   "metadata": {},
   "outputs": [
    {
     "data": {
      "text/plain": [
       "<AxesSubplot:xlabel='is_off', ylabel='count'>"
      ]
     },
     "execution_count": 4,
     "metadata": {},
     "output_type": "execute_result"
    },
    {
     "data": {
      "image/png": "[encoded data removed]",
      "text/plain": [
       "<Figure size 432x288 with 1 Axes>"
      ]
     },
     "metadata": {
      "needs_background": "light"
     },
     "output_type": "display_data"
    }
   ],
   "source": [
    "sns.countplot(x='is_off', data=data)"
   ]
  },
  {
   "cell_type": "code",
   "execution_count": 5,
   "metadata": {},
   "outputs": [
    {
     "data": {
      "text/plain": [
       "(14000, 2)"
      ]
     },
     "execution_count": 5,
     "metadata": {},
     "output_type": "execute_result"
    }
   ],
   "source": [
    "data.Comment = data.Comment.apply(take_a_shower)\n",
    "data.shape"
   ]
  },
  {
   "cell_type": "code",
   "execution_count": null,
   "metadata": {},
   "outputs": [],
   "source": []
  },
  {
   "cell_type": "code",
   "execution_count": 6,
   "metadata": {},
   "outputs": [],
   "source": [
    "from keras.preprocessing.text import one_hot\n",
    "from keras.preprocessing.sequence import pad_sequences\n",
    "from keras.models import Sequential\n",
    "from keras.layers import LSTM,Activation, Dropout, Dense,Bidirectional\n",
    "from keras.callbacks import ModelCheckpoint\n",
    "from keras.layers.embeddings import Embedding\n",
    "from sklearn.model_selection import train_test_split\n",
    "from keras.preprocessing.text import Tokenizer\n",
    "from keras.regularizers import l1,l2"
   ]
  },
  {
   "cell_type": "code",
   "execution_count": null,
   "metadata": {},
   "outputs": [],
   "source": []
  },
  {
   "cell_type": "code",
   "execution_count": 7,
   "metadata": {},
   "outputs": [
    {
     "name": "stdout",
     "output_type": "stream",
     "text": [
      "Train Set\n",
      "11756                                                     \n",
      "3710           ميمتي جري ولدك راه داز ليه لاماس يكبر توحلي\n",
      "3571     بتمام مكارم اخلاق امهاتهم وترك الفواحش ظهر وال...\n",
      "6926                                   عاصمهالخراب والغراب\n",
      "6224     نتي قلبتي كون كنتي بنت داركم كااع ميوقع ليك هد...\n",
      "                               ...                        \n",
      "5191     خوتي خاص راجل يعاشر زوجته اصلي ركعتين باش ميخر...\n",
      "13418                                                 عفوا\n",
      "5390     حرام هدا لاح الفيديو الله يفضحو شاء الله حسبي ...\n",
      "860        اسكت خيرا ياراكع لغير الله مقبل الايدي يالمروكي\n",
      "7270                     الله يكتب عليا وعليكم مكاتب الخير\n",
      "Name: Comment, Length: 11200, dtype: object \n",
      "\n",
      "2900     خسات نجس المملكه العربيه السعوديه الاسلاميه قو...\n",
      "3143     اسمع ياصحافي نيك يماك ناكت صليبي اكيد وجابتك م...\n",
      "8231     هه عيد ميلاد باللحم البرقوق والله شوف تيفي معن...\n",
      "3855             حياه انسان لحظه لاتعود الحياه بعدها قبلها\n",
      "8045     هاد القناه خاصكم الاعدام طلعت غي بالفضاءح ديال...\n",
      "                               ...                        \n",
      "5130     الاحسن تستبدل اسمك مصراوي يهودي المصريون اناس ...\n",
      "9657            كيتلوا بحال لفعه الله يعطك دقه جدي طاح ناد\n",
      "11668       بنت لحرام ولات كتحطو بوجهو ميقول حد مفراسوش هه\n",
      "12065             مقدم برنامج اكبرا قود لله حرقك انشاء لله\n",
      "10479    شكرا اعترافك بانكم اذيال ايران بالمنطقه للفتك ...\n",
      "Name: Comment, Length: 2800, dtype: object \n",
      "\n",
      "Test Set\n",
      "11756    0\n",
      "3710     0\n",
      "3571     0\n",
      "6926     1\n",
      "6224     1\n",
      "        ..\n",
      "5191     0\n",
      "13418    0\n",
      "5390     0\n",
      "860      1\n",
      "7270     1\n",
      "Name: is_off, Length: 11200, dtype: int64 \n",
      "\n",
      "2900     1\n",
      "3143     1\n",
      "8231     1\n",
      "3855     0\n",
      "8045     1\n",
      "        ..\n",
      "5130     1\n",
      "9657     1\n",
      "11668    1\n",
      "12065    1\n",
      "10479    1\n",
      "Name: is_off, Length: 2800, dtype: int64\n"
     ]
    }
   ],
   "source": [
    "x_train, x_test, y_train, y_test = train_test_split(data.Comment,data.is_off, test_size=0.20, random_state=42)\n",
    "print('Train Set')\n",
    "print(x_train, '\\n')\n",
    "print(x_test, '\\n')\n",
    "print('Test Set')\n",
    "print(y_train, '\\n')\n",
    "print(y_test)"
   ]
  },
  {
   "cell_type": "code",
   "execution_count": 8,
   "metadata": {},
   "outputs": [
    {
     "name": "stdout",
     "output_type": "stream",
     "text": [
      "[396, 579, 2383, 4726, 4727, 1073, 295, 1, 550, 3792, 1917, 1145, 4728, 1577, 1073]\n"
     ]
    }
   ],
   "source": [
    "tokenizer = Tokenizer(num_words=5000)\n",
    "tokenizer.fit_on_texts(x_train)\n",
    "\n",
    "X_train = tokenizer.texts_to_sequences(x_train)\n",
    "X_test = tokenizer.texts_to_sequences(x_test)\n",
    "print(X_train[30])"
   ]
  },
  {
   "cell_type": "code",
   "execution_count": 13,
   "metadata": {},
   "outputs": [
    {
     "name": "stdout",
     "output_type": "stream",
     "text": [
      "2618\n"
     ]
    }
   ],
   "source": [
    "max_len = 0\n",
    "for word in x_train:\n",
    "    if len(word) > max_len:\n",
    "        max_len = len(word)\n",
    "print(max_len)"
   ]
  },
  {
   "cell_type": "code",
   "execution_count": 9,
   "metadata": {},
   "outputs": [
    {
     "name": "stdout",
     "output_type": "stream",
     "text": [
      "[2409 1590  554    0    0    0    0    0    0    0    0    0    0    0\n",
      "    0    0    0    0    0    0    0    0    0    0    0    0    0    0\n",
      "    0    0    0    0    0    0    0    0    0    0    0    0    0    0\n",
      "    0    0    0    0    0    0    0    0    0    0    0    0    0    0\n",
      "    0    0    0    0    0    0    0    0    0    0    0    0    0    0\n",
      "    0    0    0    0    0    0    0    0    0    0    0    0    0    0\n",
      "    0    0    0    0    0    0    0    0    0    0    0    0    0    0\n",
      "    0    0    0    0    0    0    0    0    0    0    0    0    0    0\n",
      "    0    0    0    0    0    0    0    0    0    0    0    0    0    0\n",
      "    0    0    0    0    0    0    0    0    0    0    0    0    0    0\n",
      "    0    0    0    0    0    0    0    0    0    0    0    0    0    0\n",
      "    0    0    0    0    0    0    0    0    0    0    0    0    0    0\n",
      "    0    0    0    0    0    0    0    0    0    0    0    0    0    0\n",
      "    0    0    0    0    0    0    0    0    0    0    0    0    0    0\n",
      "    0    0    0    0    0    0    0    0    0    0    0    0    0    0\n",
      "    0    0    0    0    0    0    0    0    0    0    0    0    0    0\n",
      "    0    0    0    0    0    0    0    0    0    0    0    0    0    0\n",
      "    0    0    0    0    0    0    0    0    0    0    0    0    0    0\n",
      "    0    0    0]\n"
     ]
    }
   ],
   "source": [
    "vocab_size = len(tokenizer.word_index) + 1\n",
    "\n",
    "max_review_length=255\n",
    "\n",
    "X_train = pad_sequences(X_train, padding='post', maxlen=max_review_length)\n",
    "X_test = pad_sequences(X_test, padding='post', maxlen=max_review_length)\n",
    "print(X_train[154])"
   ]
  },
  {
   "cell_type": "code",
   "execution_count": 15,
   "metadata": {},
   "outputs": [
    {
     "data": {
      "text/plain": [
       "44531"
      ]
     },
     "execution_count": 15,
     "metadata": {},
     "output_type": "execute_result"
    }
   ],
   "source": [
    "vocab_size"
   ]
  },
  {
   "cell_type": "code",
   "execution_count": 44,
   "metadata": {},
   "outputs": [],
   "source": [
    "'''Remember that our input is a sequence of words (technically, integer word IDs) of maximum length = max_review_length, and our output is a binary sentiment \n",
    "label (0 or 1).'''\n",
    "#create the model\n",
    "top_words = 5000 #vocabulary_size = 5000\n",
    "embedding_vecor_length =32\n",
    "max_review_length = 255\n",
    "model = Sequential()\n",
    "model.add(Embedding(top_words, embedding_vecor_length, input_length=max_review_length))\n",
    "model.add(Dropout(0.6))\n",
    "model.add(LSTM(64))\n",
    "model.add(Dropout(0.5))\n",
    "model.add(Dense(1, activation='sigmoid'))"
   ]
  },
  {
   "cell_type": "code",
   "execution_count": 45,
   "metadata": {},
   "outputs": [
    {
     "name": "stdout",
     "output_type": "stream",
     "text": [
      "Model: \"sequential_3\"\n",
      "_________________________________________________________________\n",
      "Layer (type)                 Output Shape              Param #   \n",
      "=================================================================\n",
      "embedding_3 (Embedding)      (None, 255, 32)           160000    \n",
      "_________________________________________________________________\n",
      "dropout_6 (Dropout)          (None, 255, 32)           0         \n",
      "_________________________________________________________________\n",
      "lstm_3 (LSTM)                (None, 64)                24832     \n",
      "_________________________________________________________________\n",
      "dropout_7 (Dropout)          (None, 64)                0         \n",
      "_________________________________________________________________\n",
      "dense_3 (Dense)              (None, 1)                 65        \n",
      "=================================================================\n",
      "Total params: 184,897\n",
      "Trainable params: 184,897\n",
      "Non-trainable params: 0\n",
      "_________________________________________________________________\n",
      "None\n",
      "WARNING:tensorflow:`period` argument is deprecated. Please use `save_freq` to specify the frequency in number of batches seen.\n",
      "Epoch 1/50\n",
      "350/350 [==============================] - ETA: 0s - loss: 0.6933 - accuracy: 0.5035\n",
      "Epoch 00001: val_accuracy improved from -inf to 0.50571, saving model to ./bin/best_model2.hdf5\n",
      "350/350 [==============================] - 13s 36ms/step - loss: 0.6933 - accuracy: 0.5035 - val_loss: 0.6932 - val_accuracy: 0.5057\n",
      "Epoch 2/50\n",
      "349/350 [============================>.] - ETA: 0s - loss: 0.6935 - accuracy: 0.4979\n",
      "Epoch 00002: val_accuracy did not improve from 0.50571\n",
      "350/350 [==============================] - 12s 35ms/step - loss: 0.6935 - accuracy: 0.4979 - val_loss: 0.6931 - val_accuracy: 0.5057\n",
      "Epoch 3/50\n",
      "350/350 [==============================] - ETA: 0s - loss: 0.6937 - accuracy: 0.4916\n",
      "Epoch 00003: val_accuracy did not improve from 0.50571\n",
      "350/350 [==============================] - 13s 36ms/step - loss: 0.6937 - accuracy: 0.4916 - val_loss: 0.6931 - val_accuracy: 0.5057\n",
      "Epoch 4/50\n",
      "349/350 [============================>.] - ETA: 0s - loss: 0.6932 - accuracy: 0.4993\n",
      "Epoch 00004: val_accuracy did not improve from 0.50571\n",
      "350/350 [==============================] - 12s 36ms/step - loss: 0.6932 - accuracy: 0.4994 - val_loss: 0.6931 - val_accuracy: 0.5057\n",
      "Epoch 5/50\n",
      "350/350 [==============================] - ETA: 0s - loss: 0.6934 - accuracy: 0.4974\n",
      "Epoch 00005: val_accuracy did not improve from 0.50571\n",
      "350/350 [==============================] - 13s 36ms/step - loss: 0.6934 - accuracy: 0.4974 - val_loss: 0.6935 - val_accuracy: 0.4943\n",
      "Epoch 6/50\n",
      "349/350 [============================>.] - ETA: 0s - loss: 0.6933 - accuracy: 0.5037\n",
      "Epoch 00006: val_accuracy did not improve from 0.50571\n",
      "350/350 [==============================] - 12s 35ms/step - loss: 0.6933 - accuracy: 0.5043 - val_loss: 0.6931 - val_accuracy: 0.5057\n",
      "Epoch 7/50\n",
      "349/350 [============================>.] - ETA: 0s - loss: 0.6933 - accuracy: 0.5041\n",
      "Epoch 00007: val_accuracy did not improve from 0.50571\n",
      "350/350 [==============================] - 11s 32ms/step - loss: 0.6933 - accuracy: 0.5045 - val_loss: 0.6934 - val_accuracy: 0.4943\n",
      "Epoch 8/50\n",
      "349/350 [============================>.] - ETA: 0s - loss: 0.6934 - accuracy: 0.4957\n",
      "Epoch 00008: val_accuracy did not improve from 0.50571\n",
      "350/350 [==============================] - 11s 31ms/step - loss: 0.6934 - accuracy: 0.4955 - val_loss: 0.6932 - val_accuracy: 0.4943\n",
      "Epoch 9/50\n",
      "349/350 [============================>.] - ETA: 0s - loss: 0.6934 - accuracy: 0.4987\n",
      "Epoch 00009: val_accuracy did not improve from 0.50571\n",
      "350/350 [==============================] - 12s 34ms/step - loss: 0.6934 - accuracy: 0.4987 - val_loss: 0.6934 - val_accuracy: 0.4943\n",
      "Epoch 10/50\n",
      "349/350 [============================>.] - ETA: 0s - loss: 0.6933 - accuracy: 0.5004\n",
      "Epoch 00010: val_accuracy did not improve from 0.50571\n",
      "350/350 [==============================] - 13s 36ms/step - loss: 0.6933 - accuracy: 0.5003 - val_loss: 0.6932 - val_accuracy: 0.4943\n",
      "Epoch 11/50\n",
      "350/350 [==============================] - ETA: 0s - loss: 0.6934 - accuracy: 0.4996\n",
      "Epoch 00011: val_accuracy did not improve from 0.50571\n",
      "350/350 [==============================] - 13s 37ms/step - loss: 0.6934 - accuracy: 0.4996 - val_loss: 0.6933 - val_accuracy: 0.4943\n",
      "Epoch 12/50\n",
      "350/350 [==============================] - ETA: 0s - loss: 0.6934 - accuracy: 0.4921\n",
      "Epoch 00012: val_accuracy did not improve from 0.50571\n",
      "350/350 [==============================] - 12s 34ms/step - loss: 0.6934 - accuracy: 0.4921 - val_loss: 0.6931 - val_accuracy: 0.5057\n",
      "Epoch 13/50\n",
      "350/350 [==============================] - ETA: 0s - loss: 0.6933 - accuracy: 0.4955\n",
      "Epoch 00013: val_accuracy did not improve from 0.50571\n",
      "350/350 [==============================] - 14s 39ms/step - loss: 0.6933 - accuracy: 0.4955 - val_loss: 0.6931 - val_accuracy: 0.5057\n",
      "Epoch 14/50\n",
      "349/350 [============================>.] - ETA: 0s - loss: 0.6932 - accuracy: 0.5046\n",
      "Epoch 00014: val_accuracy did not improve from 0.50571\n",
      "350/350 [==============================] - 14s 40ms/step - loss: 0.6931 - accuracy: 0.5049 - val_loss: 0.6932 - val_accuracy: 0.4943\n",
      "Epoch 15/50\n",
      "349/350 [============================>.] - ETA: 0s - loss: 0.6933 - accuracy: 0.4991\n",
      "Epoch 00015: val_accuracy did not improve from 0.50571\n",
      "350/350 [==============================] - 14s 40ms/step - loss: 0.6933 - accuracy: 0.4992 - val_loss: 0.6933 - val_accuracy: 0.4943\n",
      "Epoch 16/50\n",
      "349/350 [============================>.] - ETA: 0s - loss: 0.6933 - accuracy: 0.5004\n",
      "Epoch 00016: val_accuracy did not improve from 0.50571\n",
      "350/350 [==============================] - 12s 33ms/step - loss: 0.6933 - accuracy: 0.5000 - val_loss: 0.6931 - val_accuracy: 0.5057\n",
      "Epoch 17/50\n",
      "350/350 [==============================] - ETA: 0s - loss: 0.6934 - accuracy: 0.5016\n",
      "Epoch 00017: val_accuracy did not improve from 0.50571\n",
      "350/350 [==============================] - 12s 35ms/step - loss: 0.6934 - accuracy: 0.5016 - val_loss: 0.6932 - val_accuracy: 0.4943\n",
      "Epoch 18/50\n",
      "350/350 [==============================] - ETA: 0s - loss: 0.6933 - accuracy: 0.4921\n",
      "Epoch 00018: val_accuracy did not improve from 0.50571\n",
      "350/350 [==============================] - 13s 36ms/step - loss: 0.6933 - accuracy: 0.4921 - val_loss: 0.6933 - val_accuracy: 0.4943\n",
      "Epoch 19/50\n",
      "350/350 [==============================] - ETA: 0s - loss: 0.6932 - accuracy: 0.4977\n",
      "Epoch 00019: val_accuracy did not improve from 0.50571\n",
      "350/350 [==============================] - 13s 37ms/step - loss: 0.6932 - accuracy: 0.4977 - val_loss: 0.6932 - val_accuracy: 0.4943\n",
      "Epoch 20/50\n",
      "349/350 [============================>.] - ETA: 0s - loss: 0.6933 - accuracy: 0.4952\n",
      "Epoch 00020: val_accuracy did not improve from 0.50571\n",
      "350/350 [==============================] - 14s 39ms/step - loss: 0.6933 - accuracy: 0.4954 - val_loss: 0.6931 - val_accuracy: 0.5057\n",
      "Epoch 21/50\n",
      "350/350 [==============================] - ETA: 0s - loss: 0.6934 - accuracy: 0.4906\n",
      "Epoch 00021: val_accuracy did not improve from 0.50571\n",
      "350/350 [==============================] - 15s 42ms/step - loss: 0.6934 - accuracy: 0.4906 - val_loss: 0.6932 - val_accuracy: 0.4943\n",
      "Epoch 22/50\n",
      "350/350 [==============================] - ETA: 0s - loss: 0.6933 - accuracy: 0.4903\n",
      "Epoch 00022: val_accuracy did not improve from 0.50571\n",
      "350/350 [==============================] - 12s 34ms/step - loss: 0.6933 - accuracy: 0.4903 - val_loss: 0.6931 - val_accuracy: 0.5057\n",
      "Epoch 23/50\n",
      "349/350 [============================>.] - ETA: 0s - loss: 0.6933 - accuracy: 0.4967\n",
      "Epoch 00023: val_accuracy did not improve from 0.50571\n",
      "350/350 [==============================] - 13s 39ms/step - loss: 0.6933 - accuracy: 0.4966 - val_loss: 0.6932 - val_accuracy: 0.4943\n",
      "Epoch 24/50\n",
      "350/350 [==============================] - ETA: 0s - loss: 0.6933 - accuracy: 0.4913\n",
      "Epoch 00024: val_accuracy did not improve from 0.50571\n",
      "350/350 [==============================] - 11s 32ms/step - loss: 0.6933 - accuracy: 0.4913 - val_loss: 0.6931 - val_accuracy: 0.5057\n",
      "Epoch 25/50\n",
      "349/350 [============================>.] - ETA: 0s - loss: 0.6934 - accuracy: 0.4906\n",
      "Epoch 00025: val_accuracy did not improve from 0.50571\n",
      "350/350 [==============================] - 11s 31ms/step - loss: 0.6934 - accuracy: 0.4904 - val_loss: 0.6932 - val_accuracy: 0.4943\n",
      "Epoch 26/50\n",
      "349/350 [============================>.] - ETA: 0s - loss: 0.6933 - accuracy: 0.5018\n",
      "Epoch 00026: val_accuracy did not improve from 0.50571\n",
      "350/350 [==============================] - 12s 33ms/step - loss: 0.6933 - accuracy: 0.5021 - val_loss: 0.6932 - val_accuracy: 0.4943\n",
      "Epoch 27/50\n",
      "350/350 [==============================] - ETA: 0s - loss: 0.6934 - accuracy: 0.4927\n",
      "Epoch 00027: val_accuracy did not improve from 0.50571\n",
      "350/350 [==============================] - 13s 38ms/step - loss: 0.6934 - accuracy: 0.4927 - val_loss: 0.6932 - val_accuracy: 0.4943\n",
      "Epoch 28/50\n",
      "349/350 [============================>.] - ETA: 0s - loss: 0.6932 - accuracy: 0.5002\n",
      "Epoch 00028: val_accuracy did not improve from 0.50571\n",
      "350/350 [==============================] - 14s 40ms/step - loss: 0.6932 - accuracy: 0.4998 - val_loss: 0.6931 - val_accuracy: 0.5057\n",
      "Epoch 29/50\n",
      "349/350 [============================>.] - ETA: 0s - loss: 0.6933 - accuracy: 0.4968\n",
      "Epoch 00029: val_accuracy did not improve from 0.50571\n",
      "350/350 [==============================] - 14s 39ms/step - loss: 0.6933 - accuracy: 0.4969 - val_loss: 0.6932 - val_accuracy: 0.4943\n",
      "Epoch 30/50\n",
      "350/350 [==============================] - ETA: 0s - loss: 0.6932 - accuracy: 0.5048\n",
      "Epoch 00030: val_accuracy did not improve from 0.50571\n",
      "350/350 [==============================] - 12s 34ms/step - loss: 0.6932 - accuracy: 0.5048 - val_loss: 0.6933 - val_accuracy: 0.4943\n",
      "Epoch 31/50\n",
      "350/350 [==============================] - ETA: 0s - loss: 0.6933 - accuracy: 0.4995\n",
      "Epoch 00031: val_accuracy did not improve from 0.50571\n",
      "350/350 [==============================] - 13s 38ms/step - loss: 0.6933 - accuracy: 0.4995 - val_loss: 0.6934 - val_accuracy: 0.4943\n",
      "Epoch 32/50\n",
      "349/350 [============================>.] - ETA: 0s - loss: 0.6933 - accuracy: 0.4961\n",
      "Epoch 00032: val_accuracy did not improve from 0.50571\n",
      "350/350 [==============================] - 11s 32ms/step - loss: 0.6933 - accuracy: 0.4963 - val_loss: 0.6931 - val_accuracy: 0.5057\n",
      "Epoch 33/50\n",
      "349/350 [============================>.] - ETA: 0s - loss: 0.6932 - accuracy: 0.4951\n",
      "Epoch 00033: val_accuracy did not improve from 0.50571\n",
      "350/350 [==============================] - 14s 39ms/step - loss: 0.6932 - accuracy: 0.4954 - val_loss: 0.6934 - val_accuracy: 0.4943\n",
      "Epoch 34/50\n",
      "349/350 [============================>.] - ETA: 0s - loss: 0.6933 - accuracy: 0.4950\n",
      "Epoch 00034: val_accuracy did not improve from 0.50571\n",
      "350/350 [==============================] - 14s 40ms/step - loss: 0.6933 - accuracy: 0.4952 - val_loss: 0.6933 - val_accuracy: 0.4943\n",
      "Epoch 35/50\n",
      "349/350 [============================>.] - ETA: 0s - loss: 0.6933 - accuracy: 0.4911\n",
      "Epoch 00035: val_accuracy did not improve from 0.50571\n",
      "350/350 [==============================] - 13s 38ms/step - loss: 0.6933 - accuracy: 0.4912 - val_loss: 0.6933 - val_accuracy: 0.4943\n",
      "Epoch 36/50\n",
      "349/350 [============================>.] - ETA: 0s - loss: 0.6933 - accuracy: 0.4960\n",
      "Epoch 00036: val_accuracy did not improve from 0.50571\n",
      "350/350 [==============================] - 13s 38ms/step - loss: 0.6933 - accuracy: 0.4958 - val_loss: 0.6933 - val_accuracy: 0.4943\n",
      "Epoch 37/50\n",
      "349/350 [============================>.] - ETA: 0s - loss: 0.6932 - accuracy: 0.4993\n",
      "Epoch 00037: val_accuracy did not improve from 0.50571\n",
      "350/350 [==============================] - 13s 38ms/step - loss: 0.6932 - accuracy: 0.4992 - val_loss: 0.6932 - val_accuracy: 0.4943\n",
      "Epoch 38/50\n",
      "349/350 [============================>.] - ETA: 0s - loss: 0.6932 - accuracy: 0.4949\n",
      "Epoch 00038: val_accuracy did not improve from 0.50571\n",
      "350/350 [==============================] - 14s 39ms/step - loss: 0.6932 - accuracy: 0.4948 - val_loss: 0.6932 - val_accuracy: 0.4943\n",
      "Epoch 39/50\n",
      "349/350 [============================>.] - ETA: 0s - loss: 0.6932 - accuracy: 0.5019\n",
      "Epoch 00039: val_accuracy did not improve from 0.50571\n",
      "350/350 [==============================] - 12s 35ms/step - loss: 0.6932 - accuracy: 0.5019 - val_loss: 0.6934 - val_accuracy: 0.4943\n",
      "Epoch 40/50\n",
      "349/350 [============================>.] - ETA: 0s - loss: 0.6932 - accuracy: 0.4958\n",
      "Epoch 00040: val_accuracy did not improve from 0.50571\n",
      "350/350 [==============================] - 12s 34ms/step - loss: 0.6932 - accuracy: 0.4957 - val_loss: 0.6933 - val_accuracy: 0.4943\n",
      "Epoch 41/50\n",
      "350/350 [==============================] - ETA: 0s - loss: 0.6932 - accuracy: 0.5020\n",
      "Epoch 00041: val_accuracy did not improve from 0.50571\n",
      "350/350 [==============================] - 11s 32ms/step - loss: 0.6932 - accuracy: 0.5020 - val_loss: 0.6931 - val_accuracy: 0.5057\n",
      "Epoch 42/50\n",
      "350/350 [==============================] - ETA: 0s - loss: 0.6933 - accuracy: 0.4904\n",
      "Epoch 00042: val_accuracy did not improve from 0.50571\n",
      "350/350 [==============================] - 12s 34ms/step - loss: 0.6933 - accuracy: 0.4904 - val_loss: 0.6931 - val_accuracy: 0.5057\n",
      "Epoch 43/50\n",
      "349/350 [============================>.] - ETA: 0s - loss: 0.6932 - accuracy: 0.4965\n",
      "Epoch 00043: val_accuracy did not improve from 0.50571\n",
      "350/350 [==============================] - 11s 32ms/step - loss: 0.6932 - accuracy: 0.4967 - val_loss: 0.6931 - val_accuracy: 0.5057\n",
      "Epoch 44/50\n",
      "349/350 [============================>.] - ETA: 0s - loss: 0.6932 - accuracy: 0.4899\n",
      "Epoch 00044: val_accuracy did not improve from 0.50571\n",
      "350/350 [==============================] - 15s 41ms/step - loss: 0.6932 - accuracy: 0.4902 - val_loss: 0.6931 - val_accuracy: 0.5057\n",
      "Epoch 45/50\n",
      "349/350 [============================>.] - ETA: 0s - loss: 0.6932 - accuracy: 0.4958\n",
      "Epoch 00045: val_accuracy did not improve from 0.50571\n",
      "350/350 [==============================] - 16s 47ms/step - loss: 0.6932 - accuracy: 0.4960 - val_loss: 0.6932 - val_accuracy: 0.4943\n",
      "Epoch 46/50\n",
      "350/350 [==============================] - ETA: 0s - loss: 0.6933 - accuracy: 0.4928\n",
      "Epoch 00046: val_accuracy did not improve from 0.50571\n",
      "350/350 [==============================] - 15s 43ms/step - loss: 0.6933 - accuracy: 0.4928 - val_loss: 0.6933 - val_accuracy: 0.4943\n",
      "Epoch 47/50\n",
      "349/350 [============================>.] - ETA: 0s - loss: 0.6932 - accuracy: 0.4961\n",
      "Epoch 00047: val_accuracy did not improve from 0.50571\n",
      "350/350 [==============================] - 14s 40ms/step - loss: 0.6932 - accuracy: 0.4959 - val_loss: 0.6932 - val_accuracy: 0.4943\n",
      "Epoch 48/50\n",
      "349/350 [============================>.] - ETA: 0s - loss: 0.6932 - accuracy: 0.4937\n",
      "Epoch 00048: val_accuracy did not improve from 0.50571\n",
      "350/350 [==============================] - 13s 37ms/step - loss: 0.6932 - accuracy: 0.4941 - val_loss: 0.6931 - val_accuracy: 0.5057\n",
      "Epoch 49/50\n",
      "349/350 [============================>.] - ETA: 0s - loss: 0.6933 - accuracy: 0.4972\n",
      "Epoch 00049: val_accuracy did not improve from 0.50571\n",
      "350/350 [==============================] - 14s 39ms/step - loss: 0.6933 - accuracy: 0.4971 - val_loss: 0.6932 - val_accuracy: 0.4943\n",
      "Epoch 50/50\n",
      "349/350 [============================>.] - ETA: 0s - loss: 0.6933 - accuracy: 0.4923\n",
      "Epoch 00050: val_accuracy did not improve from 0.50571\n",
      "350/350 [==============================] - 16s 46ms/step - loss: 0.6933 - accuracy: 0.4921 - val_loss: 0.6931 - val_accuracy: 0.5057\n"
     ]
    }
   ],
   "source": [
    "'''We first need to compile our model by specifying the loss function and optimizer we want to use while training, as well as any evaluation metrics \n",
    "we’d like to measure. Specify the appropriate parameters, including at least one metric ‘accuracy’.'''\n",
    "\n",
    "\n",
    "model.compile(loss='binary_crossentropy', optimizer='adam', metrics=['accuracy'])\n",
    "print(model.summary())\n",
    "\n",
    "checkpoint2 =ModelCheckpoint(\"./bin/best_model2.hdf5\", monitor='val_accuracy', verbose=1,save_best_only=True, mode='auto', period=1,save_weights_only=False)\n",
    "\n",
    "\n",
    "history=model.fit(X_train, y_train, validation_data=(X_test, y_test), epochs=50, batch_size=32,callbacks=[checkpoint2])"
   ]
  },
  {
   "cell_type": "code",
   "execution_count": 46,
   "metadata": {},
   "outputs": [
    {
     "name": "stdout",
     "output_type": "stream",
     "text": [
      "Accuracy: 50.57%\n"
     ]
    }
   ],
   "source": [
    "#Calculate Accuracy\n",
    "scores = model.evaluate(X_test, y_test, verbose=0)\n",
    "print(\"Accuracy: %.2f%%\" % (scores[1]*100))"
   ]
  },
  {
   "cell_type": "code",
   "execution_count": 47,
   "metadata": {},
   "outputs": [],
   "source": [
    "def show_train_history(train_history,train,validation):\n",
    "    plt.plot(train_history.history[train])\n",
    "    plt.plot(train_history.history[validation])\n",
    "    plt.title('Train History')\n",
    "    plt.ylabel(train)\n",
    "    plt.xlabel('Epoch')\n",
    "    plt.legend(['train', 'validation'], loc='upper left')\n",
    "    plt.show()"
   ]
  },
  {
   "cell_type": "code",
   "execution_count": 49,
   "metadata": {},
   "outputs": [
    {
     "data": {
      "image/png": "[encoded data removed]",
      "text/plain": [
       "<Figure size 432x288 with 1 Axes>"
      ]
     },
     "metadata": {
      "needs_background": "light"
     },
     "output_type": "display_data"
    }
   ],
   "source": [
    "#train loss vs validation loss\n",
    "show_train_history(history,'loss','val_loss')"
   ]
  },
  {
   "cell_type": "code",
   "execution_count": 50,
   "metadata": {},
   "outputs": [
    {
     "data": {
      "image/png": "[encoded data removed]",
      "text/plain": [
       "<Figure size 432x288 with 1 Axes>"
      ]
     },
     "metadata": {
      "needs_background": "light"
     },
     "output_type": "display_data"
    }
   ],
   "source": [
    "show_train_history(history,'accuracy','val_accuracy')"
   ]
  }
 ],
 "metadata": {
  "kernelspec": {
   "display_name": "Python 3",
   "language": "python",
   "name": "python3"
  },
  "language_info": {
   "codemirror_mode": {
    "name": "ipython",
    "version": 3
   },
   "file_extension": ".py",
   "mimetype": "text/x-python",
   "name": "python",
   "nbconvert_exporter": "python",
   "pygments_lexer": "ipython3",
   "version": "3.7.0"
  }
 },
 "nbformat": 4,
 "nbformat_minor": 4
}
