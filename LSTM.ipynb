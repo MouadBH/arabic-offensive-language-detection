{
 "cells": [
  {
   "cell_type": "code",
   "execution_count": 1,
   "metadata": {},
   "outputs": [],
   "source": [
    "import string, re, json, pickle, warnings, random\n",
    "import pandas as pd\n",
    "import numpy as np\n",
    "import matplotlib.pyplot as plt\n",
    "import seaborn as sns\n",
    "import tensorflow as tf\n",
    "from sklearn.metrics import confusion_matrix, accuracy_score, classification_report\n",
    "# importing the wordCloud\n",
    "from wordcloud import WordCloud, STOPWORDS, ImageColorGenerator\n",
    "from bidi.algorithm import get_display\n",
    "import arabic_reshaper\n",
    "from data_preparation import take_a_shower, clean_content_aravec\n",
    "\n",
    "%matplotlib inline\n",
    "warnings.filterwarnings('ignore')"
   ]
  },
  {
   "cell_type": "code",
   "execution_count": 46,
   "metadata": {},
   "outputs": [],
   "source": [
    "np.random.seed(0)"
   ]
  },
  {
   "cell_type": "code",
   "execution_count": 3,
   "metadata": {},
   "outputs": [
    {
     "data": {
      "text/html": [
       "<div>\n",
       "<style scoped>\n",
       "    .dataframe tbody tr th:only-of-type {\n",
       "        vertical-align: middle;\n",
       "    }\n",
       "\n",
       "    .dataframe tbody tr th {\n",
       "        vertical-align: top;\n",
       "    }\n",
       "\n",
       "    .dataframe thead th {\n",
       "        text-align: right;\n",
       "    }\n",
       "</style>\n",
       "<table border=\"1\" class=\"dataframe\">\n",
       "  <thead>\n",
       "    <tr style=\"text-align: right;\">\n",
       "      <th></th>\n",
       "      <th>Comment</th>\n",
       "      <th>is_off</th>\n",
       "    </tr>\n",
       "  </thead>\n",
       "  <tbody>\n",
       "    <tr>\n",
       "      <th>0</th>\n",
       "      <td>شوف حد ين*** أنت و إيران.</td>\n",
       "      <td>1</td>\n",
       "    </tr>\n",
       "    <tr>\n",
       "      <th>1</th>\n",
       "      <td>شوف تيفي قوداتها مع الجن غي بلاتي يجي من مكة</td>\n",
       "      <td>0</td>\n",
       "    </tr>\n",
       "    <tr>\n",
       "      <th>2</th>\n",
       "      <td>عجب يتفاوظون على شعوب عربية وعليهم وهىلا تعلم</td>\n",
       "      <td>0</td>\n",
       "    </tr>\n",
       "    <tr>\n",
       "      <th>3</th>\n",
       "      <td>ههههههه هاد شوف تيفي اللي حطت عليه مشا فيها</td>\n",
       "      <td>0</td>\n",
       "    </tr>\n",
       "    <tr>\n",
       "      <th>4</th>\n",
       "      <td>الرزق يأتي من حيث لا تدري 🙌🏻❤️</td>\n",
       "      <td>0</td>\n",
       "    </tr>\n",
       "  </tbody>\n",
       "</table>\n",
       "</div>"
      ],
      "text/plain": [
       "                                         Comment  is_off\n",
       "0                      شوف حد ين*** أنت و إيران.       1\n",
       "1   شوف تيفي قوداتها مع الجن غي بلاتي يجي من مكة       0\n",
       "2  عجب يتفاوظون على شعوب عربية وعليهم وهىلا تعلم       0\n",
       "3    ههههههه هاد شوف تيفي اللي حطت عليه مشا فيها       0\n",
       "4                الرزق يأتي من حيث لا تدري 🙌🏻❤️        0"
      ]
     },
     "execution_count": 3,
     "metadata": {},
     "output_type": "execute_result"
    }
   ],
   "source": [
    "data = pd.read_csv('./data/offensive_dataset.csv', encoding=\"utf-16\")\n",
    "data.head()"
   ]
  },
  {
   "cell_type": "code",
   "execution_count": 4,
   "metadata": {},
   "outputs": [
    {
     "data": {
      "text/plain": [
       "<AxesSubplot:xlabel='is_off', ylabel='count'>"
      ]
     },
     "execution_count": 4,
     "metadata": {},
     "output_type": "execute_result"
    },
    {
     "data": {
      "image/png": "[encoded data removed]",
      "text/plain": [
       "<Figure size 432x288 with 1 Axes>"
      ]
     },
     "metadata": {
      "needs_background": "light"
     },
     "output_type": "display_data"
    }
   ],
   "source": [
    "sns.countplot(x='is_off', data=data)"
   ]
  },
  {
   "cell_type": "code",
   "execution_count": 5,
   "metadata": {},
   "outputs": [
    {
     "data": {
      "text/plain": [
       "(14000, 2)"
      ]
     },
     "execution_count": 5,
     "metadata": {},
     "output_type": "execute_result"
    }
   ],
   "source": [
    "data.Comment = data.Comment.apply(take_a_shower)\n",
    "data.shape"
   ]
  },
  {
   "cell_type": "code",
   "execution_count": null,
   "metadata": {},
   "outputs": [],
   "source": []
  },
  {
   "cell_type": "code",
   "execution_count": 89,
   "metadata": {},
   "outputs": [],
   "source": [
    "from keras.preprocessing.text import one_hot\n",
    "from keras.preprocessing.sequence import pad_sequences\n",
    "from keras.models import Sequential\n",
    "from keras.layers import LSTM, Activation, Dropout, Dense,Bidirectional, SpatialDropout1D, GlobalMaxPool1D\n",
    "from keras.callbacks import ModelCheckpoint\n",
    "from keras.layers.embeddings import Embedding\n",
    "from sklearn.model_selection import train_test_split\n",
    "from keras.preprocessing.text import Tokenizer\n",
    "from keras.regularizers import l1,l2"
   ]
  },
  {
   "cell_type": "code",
   "execution_count": null,
   "metadata": {},
   "outputs": [],
   "source": []
  },
  {
   "cell_type": "code",
   "execution_count": 103,
   "metadata": {},
   "outputs": [
    {
     "name": "stdout",
     "output_type": "stream",
     "text": [
      "Train Set\n",
      "6038                                          اش هاد الزبل\n",
      "10758    السيسي جوع المصريين وخرب اقتصادهم وطفش سياحهم ...\n",
      "13882                                         الريال مدريد\n",
      "2760                           الله يعطيك الدل ماانت مدلول\n",
      "10778                                    ممكن تدعموني قنات\n",
      "                               ...                        \n",
      "5304                                     يشبه لواط الرومان\n",
      "5344     مقتل مروه الشربيني حادثه مقتل مروه الشربيني حا...\n",
      "1656     وماهي اخبار الجاش مركه جبل سنجار وماهي اخبار ا...\n",
      "10283    ربما الامام المنتظر فهوي مجوسي مثلهم يقتل المس...\n",
      "3930     الندم اشتر نفسك السوق داءمه الثمن موجود البضاء...\n",
      "Name: Comment, Length: 2520, dtype: object \n",
      "\n",
      "6038     1\n",
      "10758    1\n",
      "13882    0\n",
      "2760     1\n",
      "10778    0\n",
      "        ..\n",
      "5304     0\n",
      "5344     0\n",
      "1656     0\n",
      "10283    1\n",
      "3930     0\n",
      "Name: is_off, Length: 2520, dtype: int64 \n",
      "\n",
      "Test Set\n",
      "613      اليس التفجير بمسجد يءمه المصلين لعباده الله ال...\n",
      "8036                                                تزعجنا\n",
      "4269     اناري منتي انا مزوجه <NUM> ومنقدر ندير بحال ها...\n",
      "6065     انتي مشيتي معاه وتقولي تكرفص عليا شوفو الهضره ...\n",
      "10592    ياك قضيت الغرض واتخلصت وسبري دبري اخر كون كنت ...\n",
      "                               ...                        \n",
      "13123    بنت تقول زوين الاغنيه شي مصطلحات مكانش عليكم ت...\n",
      "3264                                  <NUM> <NUM> <NUM> 😡😡\n",
      "9845     مظاهرات تندد بحكم العسكر والشهيد اللي قتل <NUM...\n",
      "10799                                 ونعم الام ربي يفرجها\n",
      "2732                                                      \n",
      "Name: Comment, Length: 11480, dtype: object \n",
      "\n",
      "613      0\n",
      "8036     1\n",
      "4269     0\n",
      "6065     1\n",
      "10592    1\n",
      "        ..\n",
      "13123    1\n",
      "3264     0\n",
      "9845     0\n",
      "10799    0\n",
      "2732     0\n",
      "Name: is_off, Length: 11480, dtype: int64\n"
     ]
    }
   ],
   "source": [
    "x_train, x_test, y_train, y_test = train_test_split(data.Comment,data.is_off, test_size=0.18, random_state=0)\n",
    "print('Train Set')\n",
    "print(x_test, '\\n')\n",
    "print(y_test, '\\n')\n",
    "print('Test Set')\n",
    "print(x_train, '\\n')\n",
    "print(y_train)"
   ]
  },
  {
   "cell_type": "code",
   "execution_count": 104,
   "metadata": {},
   "outputs": [
    {
     "name": "stdout",
     "output_type": "stream",
     "text": [
      "number of target in train set: 11480\n",
      "number of samplse offensive class: 5742\n",
      "number of samplse non-offensive class: 5738\n"
     ]
    },
    {
     "data": {
      "image/png": "[encoded data removed]",
      "text/plain": [
       "<Figure size 432x288 with 1 Axes>"
      ]
     },
     "metadata": {},
     "output_type": "display_data"
    }
   ],
   "source": [
    "print('number of target in train set: {}'.format(len(y_train)))\n",
    "print('number of samplse offensive class: {}'.format(sum(y_train)))\n",
    "print('number of samplse non-offensive class: {}'.format(len(y_train)-sum(y_train)))\n",
    "# Pie chart, where the slices will be ordered and plotted counter-clockwise:\n",
    "labels = 'Offensive', 'Not-Offensive'\n",
    "sizes = [sum(y_train), len(y_train)-sum(y_train)]\n",
    "explode = (0, 0.1)  # only \"explode\" the 2nd slice (i.e. 'Hogs')\n",
    "\n",
    "fig1, ax1 = plt.subplots()\n",
    "ax1.pie(sizes, explode=explode, labels=labels, autopct='%1.1f%%',\n",
    "        shadow=True, startangle=90)\n",
    "ax1.axis('equal')  # Equal aspect ratio ensures that pie is drawn as a circle.\n",
    "\n",
    "plt.show()"
   ]
  },
  {
   "cell_type": "code",
   "execution_count": 105,
   "metadata": {},
   "outputs": [
    {
     "name": "stdout",
     "output_type": "stream",
     "text": [
      "number of target in test set: 2520\n",
      "number of samplse offensive class: 1258\n",
      "number of samplse non-offensive class: 1262\n"
     ]
    },
    {
     "data": {
      "image/png": "[encoded data removed]",
      "text/plain": [
       "<Figure size 432x288 with 1 Axes>"
      ]
     },
     "metadata": {},
     "output_type": "display_data"
    }
   ],
   "source": [
    "print('number of target in test set: {}'.format(len(y_test)))\n",
    "print('number of samplse offensive class: {}'.format(sum(y_test)))\n",
    "print('number of samplse non-offensive class: {}'.format(len(y_test)-sum(y_test)))\n",
    "# Pie chart, where the slices will be ordered and plotted counter-clockwise:\n",
    "labels = 'Offensive', 'Not-Offensive'\n",
    "sizes = [sum(y_test), len(y_test)-sum(y_test)]\n",
    "explode = (0, 0.1)  # only \"explode\" the 2nd slice (i.e. 'Hogs')\n",
    "\n",
    "fig1, ax1 = plt.subplots()\n",
    "ax1.pie(sizes, explode=explode, labels=labels, autopct='%1.1f%%',\n",
    "        shadow=True, startangle=90)\n",
    "ax1.axis('equal')  # Equal aspect ratio ensures that pie is drawn as a circle.\n",
    "\n",
    "plt.show()"
   ]
  },
  {
   "cell_type": "code",
   "execution_count": 205,
   "metadata": {},
   "outputs": [],
   "source": [
    "MAX_NB_WORDS = 10000\n",
    "MAX_SEQUENCE_LENGTH = 85 #176 # based on our inputs; TODO: remove outliers? dynamically calculate!\n",
    "EMBEDDING_DIM = 50 # w2v, fastText; GloVe=50"
   ]
  },
  {
   "cell_type": "code",
   "execution_count": 201,
   "metadata": {},
   "outputs": [
    {
     "name": "stdout",
     "output_type": "stream",
     "text": [
      "امثال الخونه والمرتزقه يستحقون العيش بيننا فليذهب وامثاله الجحيم\n",
      "[1356, 2435, 1357, 4792, 8845, 2435, 102, 63, 797, 8846, 4792, 8845, 6284, 1483, 560, 561]\n"
     ]
    }
   ],
   "source": [
    "tokenizer = Tokenizer(num_words=MAX_NB_WORDS)\n",
    "tokenizer.fit_on_texts(x_train)\n",
    "\n",
    "X_train = tokenizer.texts_to_sequences(x_train)\n",
    "X_test = tokenizer.texts_to_sequences(x_test)\n",
    "print(x_train[50])\n",
    "print(X_train[50])"
   ]
  },
  {
   "cell_type": "code",
   "execution_count": 202,
   "metadata": {},
   "outputs": [
    {
     "name": "stdout",
     "output_type": "stream",
     "text": [
      "[1356 2435 1357 4792 8845 2435  102   63  797 8846 4792 8845 6284 1483\n",
      "  560  561    0    0    0    0    0    0    0    0    0    0    0    0\n",
      "    0    0    0    0    0    0    0    0    0    0    0    0    0    0\n",
      "    0    0    0    0    0    0    0    0    0    0    0    0    0    0\n",
      "    0    0    0    0    0    0    0    0    0    0    0    0    0    0\n",
      "    0    0    0    0    0    0    0    0    0    0    0    0    0    0\n",
      "    0]\n"
     ]
    }
   ],
   "source": [
    "vocab_size = len(tokenizer.word_index) + 1\n",
    "\n",
    "X_train = pad_sequences(X_train, padding='post', maxlen=MAX_SEQUENCE_LENGTH)\n",
    "X_test = pad_sequences(X_test, padding='post', maxlen=MAX_SEQUENCE_LENGTH)\n",
    "print(X_train[50])"
   ]
  },
  {
   "cell_type": "code",
   "execution_count": 169,
   "metadata": {},
   "outputs": [],
   "source": [
    "model = Sequential()\n",
    "model.add(Embedding(MAX_NB_WORDS, EMBEDDING_DIM, input_length=MAX_SEQUENCE_LENGTH))\n",
    "model.add(LSTM(64))\n",
    "model.add(Dropout(0.5))\n",
    "model.add(Dense(1, activation='sigmoid'))"
   ]
  },
  {
   "cell_type": "code",
   "execution_count": 206,
   "metadata": {},
   "outputs": [],
   "source": [
    "model = Sequential()\n",
    "model.add(Embedding(MAX_NB_WORDS, EMBEDDING_DIM, input_length=MAX_SEQUENCE_LENGTH))\n",
    "model.add(SpatialDropout1D(0.2))\n",
    "model.add((LSTM(32))) #return_sequences = True\n",
    "# model.add(GlobalMaxPool1D())\n",
    "model.add(Dense(32, activation=\"sigmoid\"))\n",
    "\n",
    "model.add(Dropout(0.05))\n",
    "model.add(Dense(1, activation=\"sigmoid\"))"
   ]
  },
  {
   "cell_type": "code",
   "execution_count": 207,
   "metadata": {},
   "outputs": [
    {
     "name": "stdout",
     "output_type": "stream",
     "text": [
      "Model: \"sequential_28\"\n",
      "_________________________________________________________________\n",
      "Layer (type)                 Output Shape              Param #   \n",
      "=================================================================\n",
      "embedding_26 (Embedding)     (None, 85, 50)            500000    \n",
      "_________________________________________________________________\n",
      "spatial_dropout1d_23 (Spatia (None, 85, 50)            0         \n",
      "_________________________________________________________________\n",
      "lstm_26 (LSTM)               (None, 32)                10624     \n",
      "_________________________________________________________________\n",
      "dense_60 (Dense)             (None, 32)                1056      \n",
      "_________________________________________________________________\n",
      "dropout_23 (Dropout)         (None, 32)                0         \n",
      "_________________________________________________________________\n",
      "dense_61 (Dense)             (None, 1)                 33        \n",
      "=================================================================\n",
      "Total params: 511,713\n",
      "Trainable params: 511,713\n",
      "Non-trainable params: 0\n",
      "_________________________________________________________________\n",
      "None\n"
     ]
    }
   ],
   "source": [
    "model.compile(loss='binary_crossentropy', optimizer='adam', metrics=['accuracy'])\n",
    "print(model.summary())"
   ]
  },
  {
   "cell_type": "code",
   "execution_count": 213,
   "metadata": {},
   "outputs": [
    {
     "name": "stdout",
     "output_type": "stream",
     "text": [
      "WARNING:tensorflow:`period` argument is deprecated. Please use `save_freq` to specify the frequency in number of batches seen.\n",
      "Epoch 1/75\n",
      "287/287 [==============================] - ETA: 0s - loss: 0.1963 - accuracy: 0.9386\n",
      "Epoch 00001: val_accuracy improved from -inf to 0.77875, saving model to ./models/lstm.hdf5\n",
      "287/287 [==============================] - 5s 19ms/step - loss: 0.1963 - accuracy: 0.9386 - val_loss: 0.6101 - val_accuracy: 0.7787\n",
      "Epoch 2/75\n",
      "286/287 [============================>.] - ETA: 0s - loss: 0.1408 - accuracy: 0.9602\n",
      "Epoch 00002: val_accuracy did not improve from 0.77875\n",
      "287/287 [==============================] - 5s 19ms/step - loss: 0.1407 - accuracy: 0.9601 - val_loss: 0.6718 - val_accuracy: 0.7770\n",
      "Epoch 3/75\n",
      "285/287 [============================>.] - ETA: 0s - loss: 0.1062 - accuracy: 0.9726\n",
      "Epoch 00003: val_accuracy did not improve from 0.77875\n",
      "287/287 [==============================] - 5s 19ms/step - loss: 0.1067 - accuracy: 0.9726 - val_loss: 0.7413 - val_accuracy: 0.7652\n",
      "Epoch 4/75\n",
      "285/287 [============================>.] - ETA: 0s - loss: 0.0846 - accuracy: 0.9803\n",
      "Epoch 00004: val_accuracy did not improve from 0.77875\n",
      "287/287 [==============================] - 5s 19ms/step - loss: 0.0857 - accuracy: 0.9800 - val_loss: 0.8039 - val_accuracy: 0.7657\n",
      "Epoch 5/75\n",
      "286/287 [============================>.] - ETA: 0s - loss: 0.0776 - accuracy: 0.9815\n",
      "Epoch 00005: val_accuracy did not improve from 0.77875\n",
      "287/287 [==============================] - 5s 18ms/step - loss: 0.0774 - accuracy: 0.9816 - val_loss: 0.9061 - val_accuracy: 0.7635\n",
      "Epoch 6/75\n",
      "287/287 [==============================] - ETA: 0s - loss: 0.0682 - accuracy: 0.9848\n",
      "Epoch 00006: val_accuracy did not improve from 0.77875\n",
      "287/287 [==============================] - 5s 19ms/step - loss: 0.0682 - accuracy: 0.9848 - val_loss: 0.9617 - val_accuracy: 0.7657\n",
      "Epoch 7/75\n",
      "285/287 [============================>.] - ETA: 0s - loss: 0.0611 - accuracy: 0.9866\n",
      "Epoch 00007: val_accuracy did not improve from 0.77875\n",
      "287/287 [==============================] - 5s 19ms/step - loss: 0.0609 - accuracy: 0.9867 - val_loss: 0.9626 - val_accuracy: 0.7609\n",
      "Epoch 8/75\n",
      "286/287 [============================>.] - ETA: 0s - loss: 0.0578 - accuracy: 0.9874\n",
      "Epoch 00008: val_accuracy did not improve from 0.77875\n",
      "287/287 [==============================] - 5s 18ms/step - loss: 0.0577 - accuracy: 0.9875 - val_loss: 0.9761 - val_accuracy: 0.7565\n",
      "Epoch 9/75\n",
      "287/287 [==============================] - ETA: 0s - loss: 0.0520 - accuracy: 0.9893\n",
      "Epoch 00009: val_accuracy did not improve from 0.77875\n",
      "287/287 [==============================] - 5s 19ms/step - loss: 0.0520 - accuracy: 0.9893 - val_loss: 0.9349 - val_accuracy: 0.7666\n",
      "Epoch 10/75\n",
      "284/287 [============================>.] - ETA: 0s - loss: 0.0482 - accuracy: 0.9904\n",
      "Epoch 00010: val_accuracy did not improve from 0.77875\n",
      "287/287 [==============================] - 5s 18ms/step - loss: 0.0485 - accuracy: 0.9903 - val_loss: 0.9726 - val_accuracy: 0.7670\n",
      "Epoch 11/75\n",
      "285/287 [============================>.] - ETA: 0s - loss: 0.0455 - accuracy: 0.9905\n",
      "Epoch 00011: val_accuracy did not improve from 0.77875\n",
      "287/287 [==============================] - 5s 18ms/step - loss: 0.0456 - accuracy: 0.9904 - val_loss: 1.0157 - val_accuracy: 0.7561\n",
      "Epoch 12/75\n",
      "285/287 [============================>.] - ETA: 0s - loss: 0.0421 - accuracy: 0.9913\n",
      "Epoch 00012: val_accuracy did not improve from 0.77875\n",
      "287/287 [==============================] - 5s 18ms/step - loss: 0.0419 - accuracy: 0.9914 - val_loss: 1.1290 - val_accuracy: 0.7587\n",
      "Epoch 13/75\n",
      "286/287 [============================>.] - ETA: 0s - loss: 0.0400 - accuracy: 0.9920\n",
      "Epoch 00013: val_accuracy did not improve from 0.77875\n",
      "287/287 [==============================] - 5s 17ms/step - loss: 0.0399 - accuracy: 0.9921 - val_loss: 1.1032 - val_accuracy: 0.7618\n",
      "Epoch 14/75\n",
      "286/287 [============================>.] - ETA: 0s - loss: 0.0382 - accuracy: 0.9921\n",
      "Epoch 00014: val_accuracy did not improve from 0.77875\n",
      "287/287 [==============================] - 5s 17ms/step - loss: 0.0381 - accuracy: 0.9922 - val_loss: 1.1763 - val_accuracy: 0.7591\n",
      "Epoch 15/75\n",
      "285/287 [============================>.] - ETA: 0s - loss: 0.0378 - accuracy: 0.9925\n",
      "Epoch 00015: val_accuracy did not improve from 0.77875\n",
      "287/287 [==============================] - 5s 17ms/step - loss: 0.0376 - accuracy: 0.9926 - val_loss: 1.1487 - val_accuracy: 0.7570\n",
      "Epoch 16/75\n",
      "286/287 [============================>.] - ETA: 0s - loss: 0.0426 - accuracy: 0.9914\n",
      "Epoch 00016: val_accuracy did not improve from 0.77875\n",
      "287/287 [==============================] - 5s 17ms/step - loss: 0.0425 - accuracy: 0.9914 - val_loss: 1.1433 - val_accuracy: 0.7578\n",
      "Epoch 17/75\n",
      "284/287 [============================>.] - ETA: 0s - loss: 0.0398 - accuracy: 0.9919\n",
      "Epoch 00017: val_accuracy did not improve from 0.77875\n",
      "287/287 [==============================] - 5s 18ms/step - loss: 0.0395 - accuracy: 0.9919 - val_loss: 1.1557 - val_accuracy: 0.7605\n",
      "Epoch 18/75\n",
      "285/287 [============================>.] - ETA: 0s - loss: 0.0378 - accuracy: 0.9921\n",
      "Epoch 00018: val_accuracy did not improve from 0.77875\n",
      "287/287 [==============================] - 5s 17ms/step - loss: 0.0376 - accuracy: 0.9922 - val_loss: 1.1406 - val_accuracy: 0.7548\n",
      "Epoch 19/75\n",
      "284/287 [============================>.] - ETA: 0s - loss: 0.0337 - accuracy: 0.9931\n",
      "Epoch 00019: val_accuracy did not improve from 0.77875\n",
      "287/287 [==============================] - 5s 17ms/step - loss: 0.0334 - accuracy: 0.9931 - val_loss: 1.1938 - val_accuracy: 0.7496\n",
      "Epoch 20/75\n",
      "286/287 [============================>.] - ETA: 0s - loss: 0.0316 - accuracy: 0.9938\n",
      "Epoch 00020: val_accuracy did not improve from 0.77875\n",
      "287/287 [==============================] - 5s 17ms/step - loss: 0.0315 - accuracy: 0.9938 - val_loss: 1.1991 - val_accuracy: 0.7639\n",
      "Epoch 21/75\n",
      "285/287 [============================>.] - ETA: 0s - loss: 0.0294 - accuracy: 0.9937\n",
      "Epoch 00021: val_accuracy did not improve from 0.77875\n",
      "287/287 [==============================] - 5s 18ms/step - loss: 0.0294 - accuracy: 0.9937 - val_loss: 1.1842 - val_accuracy: 0.7565\n",
      "Epoch 22/75\n",
      "284/287 [============================>.] - ETA: 0s - loss: 0.0229 - accuracy: 0.9950\n",
      "Epoch 00022: val_accuracy did not improve from 0.77875\n",
      "287/287 [==============================] - 5s 17ms/step - loss: 0.0233 - accuracy: 0.9949 - val_loss: 1.2568 - val_accuracy: 0.7535\n",
      "Epoch 23/75\n",
      "284/287 [============================>.] - ETA: 0s - loss: 0.0215 - accuracy: 0.9956\n",
      "Epoch 00023: val_accuracy did not improve from 0.77875\n",
      "287/287 [==============================] - 5s 17ms/step - loss: 0.0214 - accuracy: 0.9956 - val_loss: 1.3199 - val_accuracy: 0.7443\n",
      "Epoch 24/75\n",
      "287/287 [==============================] - ETA: 0s - loss: 0.0221 - accuracy: 0.9941\n",
      "Epoch 00024: val_accuracy did not improve from 0.77875\n",
      "287/287 [==============================] - 5s 17ms/step - loss: 0.0221 - accuracy: 0.9941 - val_loss: 1.2786 - val_accuracy: 0.7456\n",
      "Epoch 25/75\n",
      "287/287 [==============================] - ETA: 0s - loss: 0.0206 - accuracy: 0.9949\n",
      "Epoch 00025: val_accuracy did not improve from 0.77875\n",
      "287/287 [==============================] - 5s 17ms/step - loss: 0.0206 - accuracy: 0.9949 - val_loss: 1.3480 - val_accuracy: 0.7530\n",
      "Epoch 26/75\n",
      "285/287 [============================>.] - ETA: 0s - loss: 0.0167 - accuracy: 0.9963\n",
      "Epoch 00026: val_accuracy did not improve from 0.77875\n",
      "287/287 [==============================] - 5s 17ms/step - loss: 0.0167 - accuracy: 0.9963 - val_loss: 1.3600 - val_accuracy: 0.7461\n",
      "Epoch 27/75\n",
      "286/287 [============================>.] - ETA: 0s - loss: 0.0170 - accuracy: 0.9955\n",
      "Epoch 00027: val_accuracy did not improve from 0.77875\n",
      "287/287 [==============================] - 5s 18ms/step - loss: 0.0170 - accuracy: 0.9955 - val_loss: 1.4384 - val_accuracy: 0.7570\n",
      "Epoch 28/75\n",
      "284/287 [============================>.] - ETA: 0s - loss: 0.0170 - accuracy: 0.9960\n",
      "Epoch 00028: val_accuracy did not improve from 0.77875\n",
      "287/287 [==============================] - 5s 19ms/step - loss: 0.0169 - accuracy: 0.9961 - val_loss: 1.4249 - val_accuracy: 0.7591\n",
      "Epoch 29/75\n",
      "286/287 [============================>.] - ETA: 0s - loss: 0.0169 - accuracy: 0.9960\n",
      "Epoch 00029: val_accuracy did not improve from 0.77875\n",
      "287/287 [==============================] - 5s 18ms/step - loss: 0.0169 - accuracy: 0.9960 - val_loss: 1.3733 - val_accuracy: 0.7561\n",
      "Epoch 30/75\n",
      "287/287 [==============================] - ETA: 0s - loss: 0.0179 - accuracy: 0.9953\n",
      "Epoch 00030: val_accuracy did not improve from 0.77875\n",
      "287/287 [==============================] - 5s 18ms/step - loss: 0.0179 - accuracy: 0.9953 - val_loss: 1.2849 - val_accuracy: 0.7535\n",
      "Epoch 31/75\n",
      "287/287 [==============================] - ETA: 0s - loss: 0.0152 - accuracy: 0.9962\n",
      "Epoch 00031: val_accuracy did not improve from 0.77875\n",
      "287/287 [==============================] - 5s 18ms/step - loss: 0.0152 - accuracy: 0.9962 - val_loss: 1.3947 - val_accuracy: 0.7526\n",
      "Epoch 32/75\n",
      "287/287 [==============================] - ETA: 0s - loss: 0.0149 - accuracy: 0.9965\n",
      "Epoch 00032: val_accuracy did not improve from 0.77875\n",
      "287/287 [==============================] - 5s 18ms/step - loss: 0.0149 - accuracy: 0.9965 - val_loss: 1.5036 - val_accuracy: 0.7552\n",
      "Epoch 33/75\n",
      "287/287 [==============================] - ETA: 0s - loss: 0.0160 - accuracy: 0.9955\n",
      "Epoch 00033: val_accuracy did not improve from 0.77875\n",
      "287/287 [==============================] - 5s 18ms/step - loss: 0.0160 - accuracy: 0.9955 - val_loss: 1.3164 - val_accuracy: 0.7574\n",
      "Epoch 34/75\n",
      "285/287 [============================>.] - ETA: 0s - loss: 0.0169 - accuracy: 0.9957\n",
      "Epoch 00034: val_accuracy did not improve from 0.77875\n",
      "287/287 [==============================] - 5s 18ms/step - loss: 0.0168 - accuracy: 0.9958 - val_loss: 1.6136 - val_accuracy: 0.7509\n",
      "Epoch 35/75\n",
      "285/287 [============================>.] - ETA: 0s - loss: 0.0194 - accuracy: 0.9959\n",
      "Epoch 00035: val_accuracy did not improve from 0.77875\n",
      "287/287 [==============================] - 5s 18ms/step - loss: 0.0193 - accuracy: 0.9960 - val_loss: 1.4197 - val_accuracy: 0.7522\n",
      "Epoch 36/75\n",
      "287/287 [==============================] - ETA: 0s - loss: 0.0152 - accuracy: 0.9960\n",
      "Epoch 00036: val_accuracy did not improve from 0.77875\n",
      "287/287 [==============================] - 5s 19ms/step - loss: 0.0152 - accuracy: 0.9960 - val_loss: 1.4242 - val_accuracy: 0.7448\n",
      "Epoch 37/75\n",
      "286/287 [============================>.] - ETA: 0s - loss: 0.0192 - accuracy: 0.9952\n",
      "Epoch 00037: val_accuracy did not improve from 0.77875\n",
      "287/287 [==============================] - 5s 18ms/step - loss: 0.0192 - accuracy: 0.9952 - val_loss: 1.3803 - val_accuracy: 0.7496\n",
      "Epoch 38/75\n",
      "287/287 [==============================] - ETA: 0s - loss: 0.0145 - accuracy: 0.9963\n",
      "Epoch 00038: val_accuracy did not improve from 0.77875\n",
      "287/287 [==============================] - 5s 19ms/step - loss: 0.0145 - accuracy: 0.9963 - val_loss: 1.4389 - val_accuracy: 0.7452\n",
      "Epoch 39/75\n",
      "286/287 [============================>.] - ETA: 0s - loss: 0.0138 - accuracy: 0.9964\n",
      "Epoch 00039: val_accuracy did not improve from 0.77875\n",
      "287/287 [==============================] - 6s 20ms/step - loss: 0.0138 - accuracy: 0.9964 - val_loss: 1.4669 - val_accuracy: 0.7526\n",
      "Epoch 40/75\n",
      "284/287 [============================>.] - ETA: 0s - loss: 0.0135 - accuracy: 0.9967\n",
      "Epoch 00040: val_accuracy did not improve from 0.77875\n",
      "287/287 [==============================] - 6s 20ms/step - loss: 0.0134 - accuracy: 0.9967 - val_loss: 1.5094 - val_accuracy: 0.7461\n",
      "Epoch 41/75\n",
      "285/287 [============================>.] - ETA: 0s - loss: 0.0130 - accuracy: 0.9966\n",
      "Epoch 00041: val_accuracy did not improve from 0.77875\n",
      "287/287 [==============================] - 5s 16ms/step - loss: 0.0130 - accuracy: 0.9966 - val_loss: 1.5911 - val_accuracy: 0.7461\n",
      "Epoch 42/75\n",
      "285/287 [============================>.] - ETA: 0s - loss: 0.0137 - accuracy: 0.9966\n",
      "Epoch 00042: val_accuracy did not improve from 0.77875\n",
      "287/287 [==============================] - 4s 16ms/step - loss: 0.0138 - accuracy: 0.9965 - val_loss: 1.5118 - val_accuracy: 0.7487\n",
      "Epoch 43/75\n",
      "285/287 [============================>.] - ETA: 0s - loss: 0.0124 - accuracy: 0.9962\n",
      "Epoch 00043: val_accuracy did not improve from 0.77875\n",
      "287/287 [==============================] - 5s 17ms/step - loss: 0.0124 - accuracy: 0.9962 - val_loss: 1.5660 - val_accuracy: 0.7487\n",
      "Epoch 44/75\n",
      "286/287 [============================>.] - ETA: 0s - loss: 0.0127 - accuracy: 0.9962\n",
      "Epoch 00044: val_accuracy did not improve from 0.77875\n",
      "287/287 [==============================] - 5s 17ms/step - loss: 0.0127 - accuracy: 0.9962 - val_loss: 1.6215 - val_accuracy: 0.7513\n",
      "Epoch 45/75\n",
      "286/287 [============================>.] - ETA: 0s - loss: 0.0125 - accuracy: 0.9965\n",
      "Epoch 00045: val_accuracy did not improve from 0.77875\n",
      "287/287 [==============================] - 5s 19ms/step - loss: 0.0125 - accuracy: 0.9965 - val_loss: 1.6224 - val_accuracy: 0.7478\n",
      "Epoch 46/75\n",
      "285/287 [============================>.] - ETA: 0s - loss: 0.0156 - accuracy: 0.9959\n",
      "Epoch 00046: val_accuracy did not improve from 0.77875\n",
      "287/287 [==============================] - 6s 22ms/step - loss: 0.0155 - accuracy: 0.9960 - val_loss: 1.4223 - val_accuracy: 0.7409\n",
      "Epoch 47/75\n",
      "286/287 [============================>.] - ETA: 0s - loss: 0.0155 - accuracy: 0.9957\n",
      "Epoch 00047: val_accuracy did not improve from 0.77875\n",
      "287/287 [==============================] - 6s 21ms/step - loss: 0.0154 - accuracy: 0.9958 - val_loss: 1.5272 - val_accuracy: 0.7439\n",
      "Epoch 48/75\n",
      "285/287 [============================>.] - ETA: 0s - loss: 0.0134 - accuracy: 0.9965\n",
      "Epoch 00048: val_accuracy did not improve from 0.77875\n",
      "287/287 [==============================] - 6s 22ms/step - loss: 0.0134 - accuracy: 0.9965 - val_loss: 1.5303 - val_accuracy: 0.7452\n",
      "Epoch 49/75\n",
      "287/287 [==============================] - ETA: 0s - loss: 0.0120 - accuracy: 0.9966\n",
      "Epoch 00049: val_accuracy did not improve from 0.77875\n",
      "287/287 [==============================] - 7s 23ms/step - loss: 0.0120 - accuracy: 0.9966 - val_loss: 1.5888 - val_accuracy: 0.7461\n",
      "Epoch 50/75\n",
      "287/287 [==============================] - ETA: 0s - loss: 0.0125 - accuracy: 0.9963\n",
      "Epoch 00050: val_accuracy did not improve from 0.77875\n",
      "287/287 [==============================] - 7s 24ms/step - loss: 0.0125 - accuracy: 0.9963 - val_loss: 1.6010 - val_accuracy: 0.7417\n",
      "Epoch 51/75\n",
      "286/287 [============================>.] - ETA: 0s - loss: 0.0121 - accuracy: 0.9972\n",
      "Epoch 00051: val_accuracy did not improve from 0.77875\n",
      "287/287 [==============================] - 6s 22ms/step - loss: 0.0120 - accuracy: 0.9972 - val_loss: 1.7018 - val_accuracy: 0.7430\n",
      "Epoch 52/75\n",
      "287/287 [==============================] - ETA: 0s - loss: 0.0130 - accuracy: 0.9966\n",
      "Epoch 00052: val_accuracy did not improve from 0.77875\n",
      "287/287 [==============================] - 6s 20ms/step - loss: 0.0130 - accuracy: 0.9966 - val_loss: 1.6292 - val_accuracy: 0.7465\n",
      "Epoch 53/75\n",
      "284/287 [============================>.] - ETA: 0s - loss: 0.0123 - accuracy: 0.9970\n",
      "Epoch 00053: val_accuracy did not improve from 0.77875\n",
      "287/287 [==============================] - 6s 20ms/step - loss: 0.0126 - accuracy: 0.9970 - val_loss: 1.6656 - val_accuracy: 0.7448\n",
      "Epoch 54/75\n",
      "287/287 [==============================] - ETA: 0s - loss: 0.0125 - accuracy: 0.9968\n",
      "Epoch 00054: val_accuracy did not improve from 0.77875\n",
      "287/287 [==============================] - 5s 17ms/step - loss: 0.0125 - accuracy: 0.9968 - val_loss: 1.6249 - val_accuracy: 0.7443\n",
      "Epoch 55/75\n",
      "284/287 [============================>.] - ETA: 0s - loss: 0.0122 - accuracy: 0.9965\n",
      "Epoch 00055: val_accuracy did not improve from 0.77875\n",
      "287/287 [==============================] - 5s 17ms/step - loss: 0.0124 - accuracy: 0.9964 - val_loss: 1.6530 - val_accuracy: 0.7404\n",
      "Epoch 56/75\n",
      "286/287 [============================>.] - ETA: 0s - loss: 0.0116 - accuracy: 0.9967\n",
      "Epoch 00056: val_accuracy did not improve from 0.77875\n",
      "287/287 [==============================] - 5s 19ms/step - loss: 0.0116 - accuracy: 0.9967 - val_loss: 1.6628 - val_accuracy: 0.7430\n",
      "Epoch 57/75\n",
      "285/287 [============================>.] - ETA: 0s - loss: 0.0123 - accuracy: 0.9966\n",
      "Epoch 00057: val_accuracy did not improve from 0.77875\n",
      "287/287 [==============================] - 5s 18ms/step - loss: 0.0122 - accuracy: 0.9966 - val_loss: 1.6710 - val_accuracy: 0.7430\n",
      "Epoch 58/75\n",
      "284/287 [============================>.] - ETA: 0s - loss: 0.0116 - accuracy: 0.9966\n",
      "Epoch 00058: val_accuracy did not improve from 0.77875\n",
      "287/287 [==============================] - 5s 18ms/step - loss: 0.0115 - accuracy: 0.9966 - val_loss: 1.7118 - val_accuracy: 0.7435\n",
      "Epoch 59/75\n",
      "286/287 [============================>.] - ETA: 0s - loss: 0.0125 - accuracy: 0.9966\n",
      "Epoch 00059: val_accuracy did not improve from 0.77875\n",
      "287/287 [==============================] - 5s 16ms/step - loss: 0.0125 - accuracy: 0.9966 - val_loss: 1.6728 - val_accuracy: 0.7404\n",
      "Epoch 60/75\n",
      "287/287 [==============================] - ETA: 0s - loss: 0.0119 - accuracy: 0.9971\n",
      "Epoch 00060: val_accuracy did not improve from 0.77875\n",
      "287/287 [==============================] - 5s 19ms/step - loss: 0.0119 - accuracy: 0.9971 - val_loss: 1.6934 - val_accuracy: 0.7439\n",
      "Epoch 61/75\n",
      "285/287 [============================>.] - ETA: 0s - loss: 0.0118 - accuracy: 0.9966\n",
      "Epoch 00061: val_accuracy did not improve from 0.77875\n",
      "287/287 [==============================] - 6s 20ms/step - loss: 0.0121 - accuracy: 0.9965 - val_loss: 1.7198 - val_accuracy: 0.7452\n",
      "Epoch 62/75\n",
      "286/287 [============================>.] - ETA: 0s - loss: 0.0123 - accuracy: 0.9968\n",
      "Epoch 00062: val_accuracy did not improve from 0.77875\n",
      "287/287 [==============================] - 5s 16ms/step - loss: 0.0123 - accuracy: 0.9968 - val_loss: 1.6632 - val_accuracy: 0.7356\n",
      "Epoch 63/75\n",
      "287/287 [==============================] - ETA: 0s - loss: 0.0129 - accuracy: 0.9961\n",
      "Epoch 00063: val_accuracy did not improve from 0.77875\n",
      "287/287 [==============================] - 5s 16ms/step - loss: 0.0129 - accuracy: 0.9961 - val_loss: 1.7325 - val_accuracy: 0.7391\n",
      "Epoch 64/75\n",
      "287/287 [==============================] - ETA: 0s - loss: 0.0118 - accuracy: 0.9966\n",
      "Epoch 00064: val_accuracy did not improve from 0.77875\n",
      "287/287 [==============================] - 5s 18ms/step - loss: 0.0118 - accuracy: 0.9966 - val_loss: 1.6810 - val_accuracy: 0.7391\n",
      "Epoch 65/75\n",
      "286/287 [============================>.] - ETA: 0s - loss: 0.0123 - accuracy: 0.9970\n",
      "Epoch 00065: val_accuracy did not improve from 0.77875\n",
      "287/287 [==============================] - 5s 16ms/step - loss: 0.0124 - accuracy: 0.9970 - val_loss: 1.6812 - val_accuracy: 0.7356\n",
      "Epoch 66/75\n",
      "286/287 [============================>.] - ETA: 0s - loss: 0.0117 - accuracy: 0.9967\n",
      "Epoch 00066: val_accuracy did not improve from 0.77875\n",
      "287/287 [==============================] - 6s 21ms/step - loss: 0.0120 - accuracy: 0.9966 - val_loss: 1.6936 - val_accuracy: 0.7365\n",
      "Epoch 67/75\n",
      "287/287 [==============================] - ETA: 0s - loss: 0.0116 - accuracy: 0.9968\n",
      "Epoch 00067: val_accuracy did not improve from 0.77875\n",
      "287/287 [==============================] - 6s 21ms/step - loss: 0.0116 - accuracy: 0.9968 - val_loss: 1.7255 - val_accuracy: 0.7395\n",
      "Epoch 68/75\n",
      "286/287 [============================>.] - ETA: 0s - loss: 0.0115 - accuracy: 0.9969\n",
      "Epoch 00068: val_accuracy did not improve from 0.77875\n",
      "287/287 [==============================] - 5s 17ms/step - loss: 0.0114 - accuracy: 0.9970 - val_loss: 1.7723 - val_accuracy: 0.7365\n",
      "Epoch 69/75\n",
      "286/287 [============================>.] - ETA: 0s - loss: 0.0118 - accuracy: 0.9966\n",
      "Epoch 00069: val_accuracy did not improve from 0.77875\n",
      "287/287 [==============================] - 5s 19ms/step - loss: 0.0117 - accuracy: 0.9966 - val_loss: 1.7318 - val_accuracy: 0.7378\n",
      "Epoch 70/75\n",
      "285/287 [============================>.] - ETA: 0s - loss: 0.0119 - accuracy: 0.9965\n",
      "Epoch 00070: val_accuracy did not improve from 0.77875\n",
      "287/287 [==============================] - 5s 17ms/step - loss: 0.0119 - accuracy: 0.9965 - val_loss: 1.7417 - val_accuracy: 0.7356\n",
      "Epoch 71/75\n",
      "286/287 [============================>.] - ETA: 0s - loss: 0.0118 - accuracy: 0.9969\n",
      "Epoch 00071: val_accuracy did not improve from 0.77875\n",
      "287/287 [==============================] - 4s 15ms/step - loss: 0.0117 - accuracy: 0.9970 - val_loss: 1.7695 - val_accuracy: 0.7339\n",
      "Epoch 72/75\n",
      "284/287 [============================>.] - ETA: 0s - loss: 0.0139 - accuracy: 0.9963\n",
      "Epoch 00072: val_accuracy did not improve from 0.77875\n",
      "287/287 [==============================] - 4s 15ms/step - loss: 0.0142 - accuracy: 0.9962 - val_loss: 1.7294 - val_accuracy: 0.7374\n",
      "Epoch 73/75\n",
      "286/287 [============================>.] - ETA: 0s - loss: 0.0123 - accuracy: 0.9967\n",
      "Epoch 00073: val_accuracy did not improve from 0.77875\n",
      "287/287 [==============================] - 5s 16ms/step - loss: 0.0122 - accuracy: 0.9967 - val_loss: 1.7065 - val_accuracy: 0.7378\n",
      "Epoch 74/75\n",
      "287/287 [==============================] - ETA: 0s - loss: 0.0111 - accuracy: 0.9972\n",
      "Epoch 00074: val_accuracy did not improve from 0.77875\n",
      "287/287 [==============================] - 5s 18ms/step - loss: 0.0111 - accuracy: 0.9972 - val_loss: 1.7886 - val_accuracy: 0.7348\n",
      "Epoch 75/75\n",
      "284/287 [============================>.] - ETA: 0s - loss: 0.0121 - accuracy: 0.9968\n",
      "Epoch 00075: val_accuracy did not improve from 0.77875\n",
      "287/287 [==============================] - 5s 17ms/step - loss: 0.0119 - accuracy: 0.9968 - val_loss: 1.7667 - val_accuracy: 0.7374\n"
     ]
    }
   ],
   "source": [
    "save_best_acc = ModelCheckpoint(\"./models/lstm.hdf5\", monitor='val_accuracy', verbose=1, save_best_only=True, mode='auto', period=1,save_weights_only=False)\n",
    "\n",
    "history = model.fit(X_train, np.array(y_train), validation_split=0.2, epochs=75, batch_size=32, callbacks=[save_best_acc])"
   ]
  },
  {
   "cell_type": "code",
   "execution_count": 214,
   "metadata": {},
   "outputs": [
    {
     "name": "stdout",
     "output_type": "stream",
     "text": [
      "[1.6512757539749146, 0.7523809671401978]\n",
      "Accuracy: 75.24%\n"
     ]
    }
   ],
   "source": [
    "#Calculate Accuracy\n",
    "scores = model.evaluate(X_test, np.array(y_test), verbose=0)\n",
    "print(scores)\n",
    "print(\"Accuracy: %.2f%%\" % (scores[1]*100))"
   ]
  },
  {
   "cell_type": "code",
   "execution_count": 215,
   "metadata": {},
   "outputs": [
    {
     "name": "stdout",
     "output_type": "stream",
     "text": [
      "79/79 [==============================] - 0s 5ms/step\n",
      "              precision    recall  f1-score   support\n",
      "\n",
      "           0       0.76      0.73      0.75      1262\n",
      "           1       0.74      0.77      0.76      1258\n",
      "\n",
      "    accuracy                           0.75      2520\n",
      "   macro avg       0.75      0.75      0.75      2520\n",
      "weighted avg       0.75      0.75      0.75      2520\n",
      "\n"
     ]
    }
   ],
   "source": [
    "y_pred = model.predict(X_test, batch_size=32, verbose=1)\n",
    "y_pred_bool = np.argmax(y_pred, axis=1)\n",
    "y_pred = (y_pred > 0.5)\n",
    "\n",
    "print(classification_report(np.array(y_test), y_pred))"
   ]
  },
  {
   "cell_type": "code",
   "execution_count": 68,
   "metadata": {},
   "outputs": [],
   "source": [
    "def show_train_history(train_history,train,validation):\n",
    "    plt.plot(train_history.history[train])\n",
    "    plt.plot(train_history.history[validation])\n",
    "    plt.title('Train History')\n",
    "    plt.ylabel(train)\n",
    "    plt.xlabel('Epoch')\n",
    "    plt.legend(['train', 'validation'], loc='upper left')\n",
    "    plt.show()"
   ]
  },
  {
   "cell_type": "code",
   "execution_count": 216,
   "metadata": {},
   "outputs": [
    {
     "data": {
      "image/png": "[encoded data removed]",
      "text/plain": [
       "<Figure size 432x288 with 1 Axes>"
      ]
     },
     "metadata": {},
     "output_type": "display_data"
    }
   ],
   "source": [
    "#train loss vs validation loss\n",
    "show_train_history(history,'loss','val_loss')"
   ]
  },
  {
   "cell_type": "code",
   "execution_count": 217,
   "metadata": {},
   "outputs": [
    {
     "data": {
      "image/png": "[encoded data removed]",
      "text/plain": [
       "<Figure size 432x288 with 1 Axes>"
      ]
     },
     "metadata": {},
     "output_type": "display_data"
    }
   ],
   "source": [
    "show_train_history(history,'accuracy','val_accuracy')"
   ]
  }
 ],
 "metadata": {
  "kernelspec": {
   "display_name": "env",
   "language": "python",
   "name": "env"
  },
  "language_info": {
   "codemirror_mode": {
    "name": "ipython",
    "version": 3
   },
   "file_extension": ".py",
   "mimetype": "text/x-python",
   "name": "python",
   "nbconvert_exporter": "python",
   "pygments_lexer": "ipython3",
   "version": "3.8.5"
  }
 },
 "nbformat": 4,
 "nbformat_minor": 4
}
